{
 "cells": [
  {
   "cell_type": "markdown",
   "metadata": {},
   "source": [
    "# Yocuda Discount Shopper Analysis"
   ]
  },
  {
   "cell_type": "markdown",
   "metadata": {},
   "source": [
    "#### Importing youcuda data from GCS"
   ]
  },
  {
   "cell_type": "code",
   "execution_count": 1,
   "metadata": {
    "collapsed": true
   },
   "outputs": [],
   "source": [
    "data = (spark.read.format(\"csv\").option(\"header\", \"true\").option(\"inferSchema\", \"true\").load('gs://westfield-tom/datalab/Yocuda_clean_data_Nov15_Nov17_20171214_v01_*.csv'))"
   ]
  },
  {
   "cell_type": "code",
   "execution_count": 23,
   "metadata": {
    "collapsed": true
   },
   "outputs": [],
   "source": [
    "from pyspark.sql.functions import *\n",
    "import pandas as pd"
   ]
  },
  {
   "cell_type": "markdown",
   "metadata": {},
   "source": [
    "#### Creating base data"
   ]
  },
  {
   "cell_type": "code",
   "execution_count": 14,
   "metadata": {
    "collapsed": false
   },
   "outputs": [
    {
     "name": "stdout",
     "output_type": "stream",
     "text": [
      "+--------------------+------------+--------------------+--------------------+------------------+----------+----------+---------------------+--------------------+--------+--------------------+-------------------+------------------+\n",
      "|          identifier|       brand|          categoryL1|          categoryL2|transaction_amount|product_id|item_total|item_discounts_amount|           timestamp|quantity|      transaction_id|      item_discount|   item_unit_price|\n",
      "+--------------------+------------+--------------------+--------------------+------------------+----------+----------+---------------------+--------------------+--------+--------------------+-------------------+------------------+\n",
      "|joanna.hodgetts@g...|      disney|       Toys & Games | Dolls & Accessor...|             42.96|  461/2092|      9.99|  -2.3230935754189943|2017-11-04 09:47:...|       1|20171104 / 825 / ...| 2.3230935754189943|             42.96|\n",
      "|elizabethkcook@bt...|   energizer|     Home & Kitchen | Household Supplies | 77.92999999999999|  980/3064|      7.98| -0.40857436160657007|2016-12-10 14:01:...|       2|20161210 / 4289 /...|0.40857436160657007|38.964999999999996|\n",
      "|garypitfield@btin...|   microsoft|           Software |   Business & Office| 49.99000000000001|  574/1560|     49.99|  -2.4387150279288727|2017-09-24 10:19:...|       1|20170924 / 379 / ...| 2.4387150279288727| 49.99000000000001|\n",
      "|conorrickards0@gm...|Other Brands|Arts, Crafts & Se...|       Art Supplies |             12.99|  634/2449|     12.99|                 -1.3|2017-08-11 16:00:...|       1|20170811 / 882 / ...|                1.3|             12.99|\n",
      "|lilyfairies84@gma...|Other Brands|       Toys & Games | Novelty & Gag Toys |             66.49|  631/1872|      9.99|  -2.2477124379605957|2017-11-13 16:28:...|       1|20171113 / 4373 /...| 2.2477124379605957|             66.49|\n",
      "+--------------------+------------+--------------------+--------------------+------------------+----------+----------+---------------------+--------------------+--------+--------------------+-------------------+------------------+\n",
      "only showing top 5 rows\n",
      "\n"
     ]
    }
   ],
   "source": [
    "data.registerTempTable(\"data\")\n",
    "base_data =data.selectExpr('identifier',\n",
    "                           'brandName as brand', \n",
    "                           'cat1 AS categoryL1',\n",
    "                           'cat2 AS categoryL2',\n",
    "                           'item_total_txn AS transaction_amount',\n",
    "                           'item_product_code as product_id', \n",
    "                           'item_total', \n",
    "                           'item_discounts_amount',\n",
    "                           'timestamp',\n",
    "                           'item_quantity as quantity', \n",
    "                           'transaction_id')  \\\n",
    "    .withColumn('item_discount', (col('item_discounts_amount')* -1) ) \\\n",
    "    .withColumn('item_unit_price', col('transaction_amount') / col('quantity')) \\\n",
    "  .filter((to_date(col(\"timestamp\"))>'2016-11-30') & \\\n",
    "                  (to_date(col(\"timestamp\"))<'2017-12-01') & \\\n",
    "                  (col(\"identifier\").isNotNull()) & \\\n",
    "          ## added in restriction to look at only matched categories and only Argos transactions\n",
    "                  (col(\"categoryL1\").isNotNull()) & \\\n",
    "                  (col(\"retailer_name\")==\"Argos\") & \\\n",
    "                  (col(\"item_total\")>0) & \\\n",
    "                  (col(\"item_discount\")>=0)) \n",
    "base_data.show(5)"
   ]
  },
  {
   "cell_type": "code",
   "execution_count": 15,
   "metadata": {
    "collapsed": false
   },
   "outputs": [
    {
     "data": {
      "text/plain": [
       "[('identifier', 'string'),\n",
       " ('brand', 'string'),\n",
       " ('categoryL1', 'string'),\n",
       " ('categoryL2', 'string'),\n",
       " ('transaction_amount', 'double'),\n",
       " ('product_id', 'string'),\n",
       " ('item_total', 'double'),\n",
       " ('item_discounts_amount', 'string'),\n",
       " ('timestamp', 'string'),\n",
       " ('quantity', 'string'),\n",
       " ('transaction_id', 'string'),\n",
       " ('item_discount', 'double'),\n",
       " ('item_unit_price', 'double')]"
      ]
     },
     "execution_count": 15,
     "metadata": {},
     "output_type": "execute_result"
    }
   ],
   "source": [
    "base_data.dtypes"
   ]
  },
  {
   "cell_type": "markdown",
   "metadata": {},
   "source": [
    "#### Calculating general discount metrics on user cross category L1/L2 level"
   ]
  },
  {
   "cell_type": "code",
   "execution_count": 16,
   "metadata": {
    "collapsed": false
   },
   "outputs": [
    {
     "name": "stdout",
     "output_type": "stream",
     "text": [
      "+--------------------+---------------+--------------------+-----------+------------------+------------------------+----------+--------------+-----------------+-----------------------+-------------------------+\n",
      "|          identifier|     categoryL1|          categoryL2|total_spend|    total_discount|total_transaction_amount|total_txns|total_products|discount_products|percent_discount_amount|percent_discount_products|\n",
      "+--------------------+---------------+--------------------+-----------+------------------+------------------------+----------+--------------+-----------------+-----------------------+-------------------------+\n",
      "|          .@mail.com|   Electronics |     Camera & Photo |      15.96|              7.96|                   15.96|         2|           4.0|              4.0|    0.49874686716791977|                      1.0|\n",
      "|0107tracey@gmail.com|   Electronics | Accessories & Su...|      20.98|1.4953510028653294|                  111.68|         1|           2.0|              2.0|    0.07127507163323782|                      1.0|\n",
      "|     01ruth@live.com|       Jewelry |        Jewelry Sets|      19.99| 1.032560036248301|      154.48999999999998|         1|           1.0|              1.0|    0.05165382872677844|                      1.0|\n",
      "|   0716mum@gmail.com|Home & Kitchen |           Cookware |       3.29|0.6726918281763573|       88.22999999999999|         1|           1.0|              1.0|    0.20446560126940952|                      1.0|\n",
      "|  07jgower@gmail.com|   Electronics |     Camera & Photo |      59.99|               6.0|                   59.99|         1|           1.0|              1.0|    0.10001666944490747|                      1.0|\n",
      "+--------------------+---------------+--------------------+-----------+------------------+------------------------+----------+--------------+-----------------+-----------------------+-------------------------+\n",
      "only showing top 5 rows\n",
      "\n"
     ]
    }
   ],
   "source": [
    "df1=base_data.groupBy(\"identifier\",\"categoryL1\",\"categoryL2\").agg(sum(\"item_total\").alias(\"total_spend\"),\n",
    "                                                sum(\"item_discount\").alias(\"total_discount\"),\n",
    "                                                sum(\"transaction_amount\").alias(\"total_transaction_amount\"),\n",
    "                                                countDistinct(concat(\"transaction_id\",to_date(col(\"timestamp\")))).alias(\"total_txns\"),\n",
    "                                                sum(\"quantity\").alias(\"total_products\"))\n",
    "\n",
    "df2=base_data.filter(col(\"item_discount\")>0) \\\n",
    "             .groupBy(\"identifier\",\"categoryL1\",\"categoryL2\") \\\n",
    "             .agg(sum(\"quantity\").alias(\"discount_products\"))                                                     \n",
    "\n",
    "df=df1.join(df2,[\"identifier\",\"categoryL1\",\"categoryL2\"],\"left\")\\\n",
    "      .withColumn(\"percent_discount_amount\",col(\"total_discount\")/col(\"total_spend\"))\\\n",
    "      .withColumn(\"percent_discount_products\",col(\"discount_products\")/col(\"total_products\"))\n",
    "df.show(5)"
   ]
  },
  {
   "cell_type": "markdown",
   "metadata": {},
   "source": [
    "#### Assigning percentile ranks for percent_discount_amount & percent_discount_products"
   ]
  },
  {
   "cell_type": "code",
   "execution_count": 17,
   "metadata": {
    "collapsed": false
   },
   "outputs": [
    {
     "name": "stdout",
     "output_type": "stream",
     "text": [
      "+--------------------+--------------------+-------------+-----------+--------------------+------------------------+----------+--------------+-----------------+-----------------------+-------------------------+--------------------+-------------------+\n",
      "|          identifier|          categoryL1|   categoryL2|total_spend|      total_discount|total_transaction_amount|total_txns|total_products|discount_products|percent_discount_amount|percent_discount_products|   percentile_amount|percentile_products|\n",
      "+--------------------+--------------------+-------------+-----------+--------------------+------------------------+----------+--------------+-----------------+-----------------------+-------------------------+--------------------+-------------------+\n",
      "|jaclynness@ymail.com|Health & Personal...| Bath & Body |      19.99|7.433161045625256E-4|                  268.93|         1|           1.0|              1.0|   3.718439742683970...|                      1.0|                 0.0|                0.0|\n",
      "|kirstycooper11@li...|Health & Personal...| Bath & Body |      19.99|0.001581362234000...|      126.40999999999998|         1|           1.0|              1.0|   7.910766553279015E-5|                      1.0|1.377410468319559E-4|                0.0|\n",
      "|lsnutrition@mysim...|Health & Personal...| Bath & Body |      36.98| 0.00528436696198914|                  139.96|         1|           2.0|              2.0|   1.428979708488139...|                      1.0|2.754820936639118E-4|                0.0|\n",
      "|  emma2406@gmail.com|Health & Personal...| Bath & Body |       7.49|0.001110123017637...|                   67.47|         1|           1.0|              1.0|    1.48214021046391E-4|                      1.0|4.132231404958677...|                0.0|\n",
      "|donnamarieconroy@...|Health & Personal...| Bath & Body |      24.99|0.004309363683393689|      57.989999999999995|         1|           1.0|              1.0|   1.724435247456458...|                      1.0|5.509641873278236E-4|                0.0|\n",
      "+--------------------+--------------------+-------------+-----------+--------------------+------------------------+----------+--------------+-----------------+-----------------------+-------------------------+--------------------+-------------------+\n",
      "only showing top 5 rows\n",
      "\n"
     ]
    }
   ],
   "source": [
    "from pyspark.sql.window import Window\n",
    "percentile_df = df.withColumn(\"percentile_amount\", percent_rank().over(Window.partitionBy(\"categoryL1\",\"categoryL2\") \\\n",
    "                                                                       .orderBy('percent_discount_amount'))) \\\n",
    "                  .withColumn(\"percentile_products\", percent_rank().over(Window.partitionBy(\"categoryL1\",\"categoryL2\") \\\n",
    "                                                                       .orderBy('percent_discount_products'))) \n",
    "percentile_df.show(5)"
   ]
  },
  {
   "cell_type": "markdown",
   "metadata": {},
   "source": [
    "#### Generating quantile buckets by usinf overall_rank(calculated using score)"
   ]
  },
  {
   "cell_type": "code",
   "execution_count": 18,
   "metadata": {
    "collapsed": false
   },
   "outputs": [
    {
     "name": "stdout",
     "output_type": "stream",
     "text": [
      "+--------------------+--------------------+-------------+-----------+--------------------+------------------------+----------+--------------+-----------------+-----------------------+-------------------------+--------------------+-------------------+--------------------+--------------------+----------------+\n",
      "|          identifier|          categoryL1|   categoryL2|total_spend|      total_discount|total_transaction_amount|total_txns|total_products|discount_products|percent_discount_amount|percent_discount_products|   percentile_amount|percentile_products|               score|        overall_rank|       quantiles|\n",
      "+--------------------+--------------------+-------------+-----------+--------------------+------------------------+----------+--------------+-----------------+-----------------------+-------------------------+--------------------+-------------------+--------------------+--------------------+----------------+\n",
      "|jaclynness@ymail.com|Health & Personal...| Bath & Body |      19.99|7.433161045625256E-4|                  268.93|         1|           1.0|              1.0|   3.718439742683970...|                      1.0|                 0.0|                0.0|                 0.0|                 0.0|First percentile|\n",
      "|kirstycooper11@li...|Health & Personal...| Bath & Body |      19.99|0.001581362234000...|      126.40999999999998|         1|           1.0|              1.0|   7.910766553279015E-5|                      1.0|1.377410468319559E-4|                0.0|9.641873278236914E-5|1.377410468319559E-4|First percentile|\n",
      "|lsnutrition@mysim...|Health & Personal...| Bath & Body |      36.98| 0.00528436696198914|                  139.96|         1|           2.0|              2.0|   1.428979708488139...|                      1.0|2.754820936639118E-4|                0.0|1.928374655647382...|2.754820936639118E-4|First percentile|\n",
      "|  emma2406@gmail.com|Health & Personal...| Bath & Body |       7.49|0.001110123017637...|                   67.47|         1|           1.0|              1.0|    1.48214021046391E-4|                      1.0|4.132231404958677...|                0.0|2.892561983471074E-4|4.132231404958677...|First percentile|\n",
      "|donnamarieconroy@...|Health & Personal...| Bath & Body |      24.99|0.004309363683393689|      57.989999999999995|         1|           1.0|              1.0|   1.724435247456458...|                      1.0|5.509641873278236E-4|                0.0|3.856749311294765...|5.509641873278236E-4|First percentile|\n",
      "+--------------------+--------------------+-------------+-----------+--------------------+------------------------+----------+--------------+-----------------+-----------------------+-------------------------+--------------------+-------------------+--------------------+--------------------+----------------+\n",
      "only showing top 5 rows\n",
      "\n"
     ]
    }
   ],
   "source": [
    "score=percentile_df.withColumn(\"score\",(col(\"percentile_amount\")*0.7)+(col(\"percentile_products\")*0.3))\n",
    "overall_rank = score.withColumn(\"overall_rank\", percent_rank().over(Window.partitionBy(\"categoryL1\",\"categoryL2\") \\\n",
    "                                                                       .orderBy('score'))) \n",
    "quantiles = overall_rank.withColumn('quantiles',  when(col('overall_rank') <= 0.01,\"First percentile\") \\\n",
    "                                                 .when(col('overall_rank') <= 0.02,\"Second percentile\") \\\n",
    "                                                 .when(col('overall_rank') <= 0.03,\"Third percentile\")\\\n",
    "                                                 .when(col('overall_rank') <= 0.10,\"4 to 10 percentile\") \\\n",
    "                                                 .when(col('overall_rank') <= 0.20,\"10 to 20 percentile\") \\\n",
    "                                                 .when(col('overall_rank') <= 0.40,\"20 to 40 percentile\") \\\n",
    "                                                 .when(col('overall_rank') <= 0.60,\"40 to 60 percentile\") \\\n",
    "                                                 .when(col('overall_rank') <= 0.80,\"60 to 80 percentile\") \\\n",
    "                                                 .when(col('overall_rank') <= 0.90,\"80 to 90 percentile\") \\\n",
    "                                                 .when(col('overall_rank') >= 1,\"90 to 100 percentile\") )      \n",
    "quantiles.show(5)"
   ]
  },
  {
   "cell_type": "markdown",
   "metadata": {},
   "source": [
    "#### Percentile bins"
   ]
  },
  {
   "cell_type": "code",
   "execution_count": 19,
   "metadata": {
    "collapsed": false
   },
   "outputs": [
    {
     "name": "stdout",
     "output_type": "stream",
     "text": [
      "+--------------------+-------------+--------------------+-----------+-----------------+------------------------+----------+--------------+-----------------+-----------------------+-------------------------+------------------+-------------------+------------------+------------------+--------------------+-----+--------------+\n",
      "|          categoryL1|   categoryL2|          identifier|total_spend|   total_discount|total_transaction_amount|total_txns|total_products|discount_products|percent_discount_amount|percent_discount_products| percentile_amount|percentile_products|             score|      overall_rank|           quantiles|count|percentile_bin|\n",
      "+--------------------+-------------+--------------------+-----------+-----------------+------------------------+----------+--------------+-----------------+-----------------------+-------------------------+------------------+-------------------+------------------+------------------+--------------------+-----+--------------+\n",
      "|Health & Personal...| Bath & Body |kimznj@hotmail.co.uk|      19.99| 9.99256041005614|                   40.97|         1|           1.0|              1.0|    0.49987795948254826|                      1.0|               1.0|                0.0|               0.7|               1.0|90 to 100 percentile| 7261|            10|\n",
      "|Health & Personal...| Bath & Body | janml@hotmail.co.uk|      19.99|9.991426528423311|                   27.97|         1|           1.0|              1.0|    0.49982123703968545|                      1.0| 0.999862258953168|                0.0|0.6999035812672176| 0.999862258953168|                null| 7261|            10|\n",
      "|Health & Personal...| Bath & Body |lisa_saine2010@ho...|      19.99|             9.99|                   19.99|         1|           1.0|              1.0|     0.4997498749374688|                      1.0|0.9991735537190083|                0.0|0.6994214876033058|0.9991735537190083|                null| 7261|            10|\n",
      "|Health & Personal...| Bath & Body |  roberts.l8@sky.com|      19.99|             9.99|                   19.99|         1|           1.0|              1.0|     0.4997498749374688|                      1.0|0.9991735537190083|                0.0|0.6994214876033058|0.9991735537190083|                null| 7261|            10|\n",
      "|Health & Personal...| Bath & Body |weegee2009@hotmai...|      19.99|             9.99|                   19.99|         1|           1.0|              1.0|     0.4997498749374688|                      1.0|0.9991735537190083|                0.0|0.6994214876033058|0.9991735537190083|                null| 7261|            10|\n",
      "+--------------------+-------------+--------------------+-----------+-----------------+------------------------+----------+--------------+-----------------+-----------------------+-------------------------+------------------+-------------------+------------------+------------------+--------------------+-----+--------------+\n",
      "only showing top 5 rows\n",
      "\n"
     ]
    }
   ],
   "source": [
    "xx1=quantiles.groupBy(\"categoryL1\",\"categoryL2\") \\\n",
    "             .agg(count(\"*\").alias(\"count\"))        \n",
    "  \n",
    "xx=quantiles.join(xx1,[\"categoryL1\",\"categoryL2\"],\"left\")\\\n",
    "      .withColumn(\"percentile_bin\", 11-ceil(10*((row_number().over(Window.partitionBy(\"categoryL1\",\"categoryL2\")\\\n",
    "                                                                   .orderBy(desc(\"score\"))))/col('count'))))\n",
    "xx.show(5)"
   ]
  },
  {
   "cell_type": "code",
   "execution_count": 31,
   "metadata": {
    "collapsed": false
   },
   "outputs": [
    {
     "name": "stdout",
     "output_type": "stream",
     "text": [
      "+--------------------------+\n",
      "|count(DISTINCT identifier)|\n",
      "+--------------------------+\n",
      "|                   1567554|\n",
      "+--------------------------+\n",
      "\n"
     ]
    }
   ],
   "source": [
    "xx.count()\n",
    "sum1=xx.agg(countDistinct(\"identifier\"))\n",
    "sum1.show()"
   ]
  },
  {
   "cell_type": "markdown",
   "metadata": {},
   "source": [
    "#### Stats on a category(L1,L2) cross percentile bin"
   ]
  },
  {
   "cell_type": "code",
   "execution_count": 20,
   "metadata": {
    "collapsed": false
   },
   "outputs": [
    {
     "name": "stdout",
     "output_type": "stream",
     "text": [
      "+--------------------+-------------+--------------+--------+----------+------------------+--------------+-------------------------------+----------------------+-----------------------+-------------------------+\n",
      "|          categoryL1|   categoryL2|percentile_bin|shoppers|total_txns|       total_spend|total_products|transaction_amount_pre_discount|total_discount_availed|percent_discount_amount|percent_discount_products|\n",
      "+--------------------+-------------+--------------+--------+----------+------------------+--------------+-------------------------------+----------------------+-----------------------+-------------------------+\n",
      "|Health & Personal...| Bath & Body |            10|     726|       730|12973.919999999864|         807.0|              36305.65000000037|     4365.282477122211|    0.33566470573677265|                      1.0|\n",
      "|Health & Personal...| Bath & Body |             9|     726|       732|11853.189999999882|         792.0|             32377.230000000058|    3695.9391162805414|     0.3132181863171769|                      1.0|\n",
      "|Health & Personal...| Bath & Body |             8|     726|       739|14278.569999999863|         764.0|              49010.00000000002|    3980.3410167779507|     0.2788715587243328|                      1.0|\n",
      "|Health & Personal...| Bath & Body |             7|     726|       727|16974.639999999916|         779.0|               53434.7800000001|    4085.1338315237294|    0.23699622847252128|                      1.0|\n",
      "|Health & Personal...| Bath & Body |             6|     726|       736|14100.619999999875|         790.0|              62247.63000000005|    2706.2779223564767|    0.19046407975551297|                      1.0|\n",
      "+--------------------+-------------+--------------+--------+----------+------------------+--------------+-------------------------------+----------------------+-----------------------+-------------------------+\n",
      "only showing top 5 rows\n",
      "\n"
     ]
    }
   ],
   "source": [
    "a=xx.groupBy(\"categoryL1\",\"categoryL2\",\"percentile_bin\").agg(countDistinct(\"identifier\").alias(\"shoppers\"),\n",
    "                                                             sum(\"total_txns\").alias(\"total_txns\"),\n",
    "                                                             sum(\"total_spend\").alias(\"total_spend\"),\n",
    "                                                             sum(\"total_products\").alias(\"total_products\"),\n",
    "                                                             sum(\"total_transaction_amount\").alias(\"transaction_amount_pre_discount\"),\n",
    "                                                             sum(\"total_discount\").alias(\"total_discount_availed\"),\n",
    "                                                             avg(\"percent_discount_amount\").alias(\"percent_discount_amount\"),\n",
    "                                                             avg(\"percent_discount_products\").alias(\"percent_discount_products\"))\n",
    "a.show(5)"
   ]
  },
  {
   "cell_type": "markdown",
   "metadata": {},
   "source": [
    "#### Stats on a category(L1,L2) cross overall rank"
   ]
  },
  {
   "cell_type": "code",
   "execution_count": 21,
   "metadata": {
    "collapsed": false
   },
   "outputs": [
    {
     "name": "stdout",
     "output_type": "stream",
     "text": [
      "+--------------------+-------------+--------------------+--------+----------+-----------+--------------+-------------------------------+----------------------+-----------------------+-------------------------+\n",
      "|          categoryL1|   categoryL2|        overall_rank|shoppers|total_txns|total_spend|total_products|transaction_amount_pre_discount|total_discount_availed|percent_discount_amount|percent_discount_products|\n",
      "+--------------------+-------------+--------------------+--------+----------+-----------+--------------+-------------------------------+----------------------+-----------------------+-------------------------+\n",
      "|Health & Personal...| Bath & Body |                 0.0|       1|         1|      19.99|           1.0|                         268.93|  7.433161045625256E-4|   3.718439742683970...|                      1.0|\n",
      "|Health & Personal...| Bath & Body |1.377410468319559E-4|       1|         1|      19.99|           1.0|             126.40999999999998|  0.001581362234000...|   7.910766553279015E-5|                      1.0|\n",
      "|Health & Personal...| Bath & Body |2.754820936639118E-4|       1|         1|      36.98|           2.0|                         139.96|   0.00528436696198914|   1.428979708488139...|                      1.0|\n",
      "|Health & Personal...| Bath & Body |4.132231404958677...|       1|         1|       7.49|           1.0|                          67.47|  0.001110123017637...|    1.48214021046391E-4|                      1.0|\n",
      "|Health & Personal...| Bath & Body |6.887052341597796E-4|       1|         1|      24.99|           1.0|             54.989999999999995|  0.004544462629569012|   1.818512456810329E-4|                      1.0|\n",
      "+--------------------+-------------+--------------------+--------+----------+-----------+--------------+-------------------------------+----------------------+-----------------------+-------------------------+\n",
      "only showing top 5 rows\n",
      "\n"
     ]
    }
   ],
   "source": [
    "b=xx.groupBy(\"categoryL1\",\"categoryL2\",\"overall_rank\").agg(countDistinct(\"identifier\").alias(\"shoppers\"),\n",
    "                                                             sum(\"total_txns\").alias(\"total_txns\"),\n",
    "                                                             sum(\"total_spend\").alias(\"total_spend\"),\n",
    "                                                             sum(\"total_products\").alias(\"total_products\"),\n",
    "                                                             sum(\"total_transaction_amount\").alias(\"transaction_amount_pre_discount\"),\n",
    "                                                             sum(\"total_discount\").alias(\"total_discount_availed\"),\n",
    "                                                             avg(\"percent_discount_amount\").alias(\"percent_discount_amount\"),\n",
    "                                                             avg(\"percent_discount_products\").alias(\"percent_discount_products\")) \n",
    "b.show(5)"
   ]
  }
 ],
 "metadata": {
  "kernelspec": {
   "display_name": "Python 2",
   "language": "python",
   "name": "python2"
  },
  "language_info": {
   "codemirror_mode": {
    "name": "ipython",
    "version": 2
   },
   "file_extension": ".py",
   "mimetype": "text/x-python",
   "name": "python",
   "nbconvert_exporter": "python",
   "pygments_lexer": "ipython2",
   "version": "2.7.12"
  }
 },
 "nbformat": 4,
 "nbformat_minor": 2
}
