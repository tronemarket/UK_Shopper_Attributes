{
 "cells": [
  {
   "cell_type": "markdown",
   "metadata": {},
   "source": [
    "# UK Holiday Shopper Analysis"
   ]
  },
  {
   "cell_type": "markdown",
   "metadata": {},
   "source": [
    "#### Importing yocuda data from GCS"
   ]
  },
  {
   "cell_type": "code",
   "execution_count": 13,
   "metadata": {
    "collapsed": true
   },
   "outputs": [],
   "source": [
    "from pyspark.sql.functions import *"
   ]
  },
  {
   "cell_type": "code",
   "execution_count": 14,
   "metadata": {
    "collapsed": false
   },
   "outputs": [],
   "source": [
    "data = (spark.read.format(\"csv\").option(\"header\", \"true\").option(\"inferSchema\", \"true\").load('gs://westfield-tom/datalab/Yocuda_clean_data_Nov15_Nov17_20171214_v01_*.csv'))\\\n",
    "       .filter((to_date(col(\"timestamp\"))>'2016-11-30') & (to_date(col(\"timestamp\"))<'2017-12-01'))\\\n",
    "  .selectExpr(\"identifier\",\"item_total\",\"transaction_id\",\"to_date(timestamp) as date\",\"retailer_name\")"
   ]
  },
  {
   "cell_type": "code",
   "execution_count": 16,
   "metadata": {
    "collapsed": false
   },
   "outputs": [
    {
     "data": {
      "text/plain": [
       "[('identifier', 'string'),\n",
       " ('item_total', 'double'),\n",
       " ('transaction_id', 'string'),\n",
       " ('date', 'date'),\n",
       " ('retailer_name', 'string')]"
      ]
     },
     "execution_count": 16,
     "metadata": {},
     "output_type": "execute_result"
    }
   ],
   "source": [
    "data.dtypes"
   ]
  },
  {
   "cell_type": "code",
   "execution_count": 15,
   "metadata": {
    "collapsed": false
   },
   "outputs": [
    {
     "name": "stdout",
     "output_type": "stream",
     "text": [
      "+--------------------+----------+--------------------+----------+-------------+\n",
      "|          identifier|item_total|      transaction_id|      date|retailer_name|\n",
      "+--------------------+----------+--------------------+----------+-------------+\n",
      "|                null|    -16.99|20170803 / 4329 /...|2017-08-03|        Argos|\n",
      "|                null|     69.99|20161208 / 4309 /...|2016-12-08|        Argos|\n",
      "|ginagordon13@hotm...|      5.99|20170911 / 413 / ...|2017-09-11|        Argos|\n",
      "|kirsty.reddem96@g...|     11.99|20170506 / 4221 /...|2017-05-06|        Argos|\n",
      "|                null|     28.99|20171106 / 4479 /...|2017-11-06|        Argos|\n",
      "+--------------------+----------+--------------------+----------+-------------+\n",
      "only showing top 5 rows\n",
      "\n"
     ]
    }
   ],
   "source": [
    "data.show(5)"
   ]
  },
  {
   "cell_type": "markdown",
   "metadata": {},
   "source": [
    "#### Importing UK Calendar"
   ]
  },
  {
   "cell_type": "code",
   "execution_count": 5,
   "metadata": {
    "collapsed": true
   },
   "outputs": [],
   "source": [
    "from pandas.tseries.holiday import (\n",
    "    AbstractHolidayCalendar, DateOffset, EasterMonday,\n",
    "    GoodFriday, Holiday, MO,\n",
    "    next_monday, next_monday_or_tuesday)\n",
    "class EnglandAndWalesHolidayCalendar(AbstractHolidayCalendar):\n",
    "    rules = [\n",
    "        Holiday('New Years Day', month=1, day=1, observance=next_monday),\n",
    "        GoodFriday,\n",
    "        EasterMonday,\n",
    "        Holiday('Early May bank holiday',\n",
    "                month=5, day=1, offset=DateOffset(weekday=MO(1))),\n",
    "        Holiday('Spring bank holiday',\n",
    "                month=5, day=31, offset=DateOffset(weekday=MO(-1))),\n",
    "        Holiday('Summer bank holiday',\n",
    "                month=8, day=31, offset=DateOffset(weekday=MO(-1))),\n",
    "        Holiday('Christmas Day', month=12, day=25, observance=next_monday),\n",
    "        Holiday('Boxing Day',\n",
    "                month=12, day=26, observance=next_monday_or_tuesday)\n",
    "    ]"
   ]
  },
  {
   "cell_type": "markdown",
   "metadata": {},
   "source": [
    "#### Considering (Holiday -2 days) to (Holiday + 1 day) as Holiday period "
   ]
  },
  {
   "cell_type": "code",
   "execution_count": 6,
   "metadata": {
    "collapsed": false
   },
   "outputs": [],
   "source": [
    "from pandas import DatetimeIndex, datetime\n",
    "from pandas.tseries.holiday import get_calendar\n",
    "from pyspark.sql.functions import to_date\n",
    "from datetime import timedelta\n",
    "from datetime import date\n",
    "holidays = EnglandAndWalesHolidayCalendar().holidays(start=date(2016, 11, 30),end=date(2017, 12, 1))\n",
    "holidays.tolist()\n",
    "\n",
    "list_of_holidays = sqlContext.createDataFrame(\n",
    "    [(str(x - timedelta(days = 2)),str(x - timedelta(days = 1)),str(x),str(x + timedelta(days = 1))) for x in holidays],\n",
    "    ['date_sub_2','date_sub_1','date','date_add_1']\n",
    "    )\\\n",
    ".selectExpr('to_date(date_sub_2) as date_sub_2','to_date(date_sub_1) as date_sub_1','to_date(date) as date','to_date(date_add_1) as date_add_1')"
   ]
  },
  {
   "cell_type": "markdown",
   "metadata": {},
   "source": [
    "#### Consolidating holiday dates"
   ]
  },
  {
   "cell_type": "code",
   "execution_count": 8,
   "metadata": {
    "collapsed": false
   },
   "outputs": [
    {
     "name": "stdout",
     "output_type": "stream",
     "text": [
      "+----------+-----------------+\n",
      "|      date|holiday_indicator|\n",
      "+----------+-----------------+\n",
      "|2017-04-29|                1|\n",
      "|2017-04-12|                1|\n",
      "|2017-05-27|                1|\n",
      "|2017-01-01|                1|\n",
      "|2017-04-18|                1|\n",
      "+----------+-----------------+\n",
      "only showing top 5 rows\n",
      "\n"
     ]
    },
    {
     "data": {
      "text/plain": [
       "28"
      ]
     },
     "execution_count": 8,
     "metadata": {},
     "output_type": "execute_result"
    }
   ],
   "source": [
    "from pyspark.sql.functions import lit\n",
    "\n",
    "list_of_holidays_v2 = list_of_holidays.selectExpr('date_sub_2 as date')\\\n",
    ".union(list_of_holidays.selectExpr('date_sub_1 as date'))\\\n",
    ".union(list_of_holidays.selectExpr('date as date'))\\\n",
    ".union(list_of_holidays.selectExpr('date_add_1 as date'))\\\n",
    ".distinct()\\\n",
    ".withColumn('holiday_indicator', lit(1))\n",
    "list_of_holidays_v2.show(5)\n",
    "list_of_holidays_v2.count()"
   ]
  },
  {
   "cell_type": "code",
   "execution_count": 9,
   "metadata": {
    "collapsed": false
   },
   "outputs": [
    {
     "data": {
      "text/plain": [
       "[('date', 'date'), ('holiday_indicator', 'int')]"
      ]
     },
     "execution_count": 9,
     "metadata": {},
     "output_type": "execute_result"
    }
   ],
   "source": [
    "list_of_holidays_v2.dtypes"
   ]
  },
  {
   "cell_type": "markdown",
   "metadata": {},
   "source": [
    "#### Joining the holiday dates"
   ]
  },
  {
   "cell_type": "code",
   "execution_count": 17,
   "metadata": {
    "collapsed": false
   },
   "outputs": [
    {
     "name": "stdout",
     "output_type": "stream",
     "text": [
      "+----------+--------------------+----------+------------------+-------------+-----------------+\n",
      "|      date|          identifier|item_total|    transaction_id|retailer_name|holiday_indicator|\n",
      "+----------+--------------------+----------+------------------+-------------+-----------------+\n",
      "|2017-08-11|gm.webster@hotmai...|      60.0|097752162734110817|     Halfords|             null|\n",
      "|2017-08-11|                null|       4.0|072955061411110817|     Halfords|             null|\n",
      "|2017-08-11|evans372@hotmail.com|     99.99|041452173483110817|     Halfords|             null|\n",
      "|2017-08-11|                null|       1.5|051752125006110817|     Halfords|             null|\n",
      "|2017-08-11|                null|     330.0|052053084342110817|     Halfords|             null|\n",
      "+----------+--------------------+----------+------------------+-------------+-----------------+\n",
      "only showing top 5 rows\n",
      "\n"
     ]
    }
   ],
   "source": [
    "data.registerTempTable(\"data\")\n",
    "base_data=data.join(list_of_holidays_v2,[\"date\"],\"left\")\n",
    "base_data.show(5)"
   ]
  },
  {
   "cell_type": "markdown",
   "metadata": {},
   "source": [
    "#### Calculating metrics of interest"
   ]
  },
  {
   "cell_type": "code",
   "execution_count": 18,
   "metadata": {
    "collapsed": false
   },
   "outputs": [
    {
     "name": "stdout",
     "output_type": "stream",
     "text": [
      "+--------------------+------------------+----------+--------------+------------+\n",
      "|          identifier|       total_spend|total_txns|holiday_spends|holiday_txns|\n",
      "+--------------------+------------------+----------+--------------+------------+\n",
      "|   -.tmh24@gmail.com|             13.99|         1|          null|        null|\n",
      "|-indiaismial78672...|             73.97|         1|          null|        null|\n",
      "|.j.douglas@hotmai...|             14.99|         1|          null|        null|\n",
      "|    00673@uk.mcd.com|             71.48|         1|          null|        null|\n",
      "|00blackswan7@yaho...|29.479999999999997|         1|          null|        null|\n",
      "+--------------------+------------------+----------+--------------+------------+\n",
      "only showing top 5 rows\n",
      "\n"
     ]
    },
    {
     "data": {
      "text/plain": [
       "12105105"
      ]
     },
     "execution_count": 18,
     "metadata": {},
     "output_type": "execute_result"
    }
   ],
   "source": [
    "df1=base_data.filter((col(\"identifier\").isNotNull()) & \\\n",
    "          ## added in restriction to look at only Argos transactions\n",
    "                     (col(\"retailer_name\")==\"Argos\") & \\\n",
    "                     (col(\"item_total\")>0))  \\\n",
    "            .groupBy(\"identifier\").agg(sum(\"item_total\").alias(\"total_spend\"),countDistinct(\"transaction_id\").alias(\"total_txns\"))\n",
    "\n",
    "df2=base_data.filter((col(\"identifier\").isNotNull()) & \\\n",
    "          ## added in restriction to look at only Argos transactions\n",
    "                     (col(\"retailer_name\")==\"Argos\") & \\\n",
    "                     (col(\"holiday_indicator\").isNotNull()) & \\\n",
    "                  (col(\"item_total\")>0))  \\\n",
    "            .groupBy(\"identifier\").agg(sum(\"item_total\").alias(\"holiday_spends\"),countDistinct(\"transaction_id\").alias(\"holiday_txns\"))  \n",
    "df=df1.join(df2,\"identifier\",\"left\")\n",
    "df.show(5)\n",
    "df.count()"
   ]
  },
  {
   "cell_type": "markdown",
   "metadata": {},
   "source": [
    "#### Segmenting shoppers based on the % of holiday spends and transactions"
   ]
  },
  {
   "cell_type": "code",
   "execution_count": 19,
   "metadata": {
    "collapsed": false
   },
   "outputs": [
    {
     "name": "stdout",
     "output_type": "stream",
     "text": [
      "+--------------------+------------------+----------+--------------+------------+--------------------+\n",
      "|          identifier|       total_spend|total_txns|holiday_spends|holiday_txns|     Type of shopper|\n",
      "+--------------------+------------------+----------+--------------+------------+--------------------+\n",
      "|   -.tmh24@gmail.com|             13.99|         1|          null|        null|Not a holiday sho...|\n",
      "|-indiaismial78672...|             73.97|         1|          null|        null|Not a holiday sho...|\n",
      "|.j.douglas@hotmai...|             14.99|         1|          null|        null|Not a holiday sho...|\n",
      "|    00673@uk.mcd.com|             71.48|         1|          null|        null|Not a holiday sho...|\n",
      "|00blackswan7@yaho...|29.479999999999997|         1|          null|        null|Not a holiday sho...|\n",
      "+--------------------+------------------+----------+--------------+------------+--------------------+\n",
      "only showing top 5 rows\n",
      "\n"
     ]
    }
   ],
   "source": [
    "df_final = df.withColumn('Type of shopper', when((col('holiday_txns')/col('total_txns') >= 0.6) & (col('holiday_spends')/col('total_spend') >= 0.6) ,\"Holiday Shopper\") \\\n",
    "                                                 .otherwise(\"Not a holiday shopper\"))  \n",
    "df_final.show(5)"
   ]
  },
  {
   "cell_type": "code",
   "execution_count": 20,
   "metadata": {
    "collapsed": false
   },
   "outputs": [
    {
     "name": "stdout",
     "output_type": "stream",
     "text": [
      "+--------------------+----------------------+\n",
      "|     Type of shopper|count(Type of shopper)|\n",
      "+--------------------+----------------------+\n",
      "|Not a holiday sho...|              11324749|\n",
      "|     Holiday Shopper|                780356|\n",
      "+--------------------+----------------------+\n",
      "\n"
     ]
    }
   ],
   "source": [
    "df_final.groupBy(\"Type of shopper\").agg(count(\"Type of shopper\")).show()"
   ]
  },
  {
   "cell_type": "code",
   "execution_count": 24,
   "metadata": {
    "collapsed": false
   },
   "outputs": [
    {
     "name": "stdout",
     "output_type": "stream",
     "text": [
      "+-------------------+---------------+--------------------+-----------+--------------------+---------------+\n",
      "|holiday_score_group|unique_shoppers|               spend|num_of_txns|           hol_spend|hol_num_of_txns|\n",
      "+-------------------+---------------+--------------------+-----------+--------------------+---------------+\n",
      "|                  0|          21012|3.1920018769999992E7|     418752|   1972758.739999998|          27890|\n",
      "|                  7|           3181|  1102608.1800000009|      13189|   838284.5499999997|           9866|\n",
      "|               null|       10617978|1.1330786129308734E9|   16068080|                null|           null|\n",
      "|                  6|          27397|           7045084.5|      89527|   4720962.689999998|          58791|\n",
      "|                  9|              3|   6111.039999999999|         35|             5899.58|             32|\n",
      "|                  5|         276794| 4.280748829000031E7|     602513|2.1778674120000217E7|         301516|\n",
      "|                  1|          88642|5.6409311879999995E7|     777803|   7770473.460000017|         108606|\n",
      "|                 10|         759108|5.7855390359998636E7|     804241|5.7855390359998636E7|         804241|\n",
      "|                  3|         149334| 3.589359544000009E7|     504995|1.2157977240000002E7|         168574|\n",
      "|                  8|            548|  288536.13000000006|       2908|   241472.7700000001|           2354|\n",
      "|                  2|         146400| 5.411548618000006E7|     747964|       1.257753419E7|         174026|\n",
      "|                  4|          14708|   6368138.149999996|      81631|  2650149.3299999977|          33233|\n",
      "+-------------------+---------------+--------------------+-----------+--------------------+---------------+\n",
      "\n"
     ]
    }
   ],
   "source": [
    "hol_sum1=df.withColumn('holiday_score_group', floor((col('holiday_txns')/col('total_txns'))*10)).groupBy(\"holiday_score_group\").agg(countDistinct('identifier').alias('unique_shoppers'),\\\n",
    "                                sum('total_spend').alias('spend'),\\\n",
    "                                sum('total_txns').alias('num_of_txns'),\\\n",
    "                                sum('holiday_spends').alias('hol_spend'),\\\n",
    "                                sum('holiday_txns').alias('hol_num_of_txns'))\n",
    "hol_sum1.show()"
   ]
  },
  {
   "cell_type": "code",
   "execution_count": null,
   "metadata": {
    "collapsed": true
   },
   "outputs": [],
   "source": []
  }
 ],
 "metadata": {
  "kernelspec": {
   "display_name": "Python 2",
   "language": "python",
   "name": "python2"
  },
  "language_info": {
   "codemirror_mode": {
    "name": "ipython",
    "version": 2
   },
   "file_extension": ".py",
   "mimetype": "text/x-python",
   "name": "python",
   "nbconvert_exporter": "python",
   "pygments_lexer": "ipython2",
   "version": "2.7.12"
  }
 },
 "nbformat": 4,
 "nbformat_minor": 2
}
