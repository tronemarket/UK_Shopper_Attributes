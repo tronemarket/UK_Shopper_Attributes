{
 "cells": [
  {
   "cell_type": "markdown",
   "metadata": {},
   "source": [
    "# UK Yocuda Luxury Analysis - 31st Jan,2018"
   ]
  },
  {
   "cell_type": "markdown",
   "metadata": {},
   "source": [
    "#### Importing youcuda data from GCS"
   ]
  },
  {
   "cell_type": "code",
   "execution_count": 1,
   "metadata": {
    "collapsed": true
   },
   "outputs": [],
   "source": [
    "data = (spark.read.format(\"csv\").option(\"header\", \"true\").load('gs://westfield-tom/datalab/Yocuda_clean_data_Nov15_Nov17_20171214_v01_*.csv'))"
   ]
  },
  {
   "cell_type": "code",
   "execution_count": 2,
   "metadata": {
    "collapsed": true
   },
   "outputs": [],
   "source": [
    "from pyspark.sql.functions import *"
   ]
  },
  {
   "cell_type": "markdown",
   "metadata": {},
   "source": [
    " #### Creating the data on a brand cross category level"
   ]
  },
  {
   "cell_type": "code",
   "execution_count": 3,
   "metadata": {
    "collapsed": false
   },
   "outputs": [
    {
     "name": "stdout",
     "output_type": "stream",
     "text": [
      "+--------------------+------------+--------------------+------------------+----------+----------+---------------------+--------------------+--------+--------------------+---------------+\n",
      "|          identifier|       brand|            category|transaction_amount|product_id|item_total|item_discounts_amount|           timestamp|quantity|      transaction_id|item_unit_price|\n",
      "+--------------------+------------+--------------------+------------------+----------+----------+---------------------+--------------------+--------+--------------------+---------------+\n",
      "|ginagordon13@hotm...|Other Brands|              Shoes |             49.01|  686/5483|      5.99|                 null|2017-09-11 12:52:...|       1|20170911 / 413 / ...|          49.01|\n",
      "|kirsty.reddem96@g...|      silver|            Jewelry |             19.97|  392/2374|     11.99|                 null|2017-05-06 11:49:...|       1|20170506 / 4221 /...|          19.97|\n",
      "|andrearobinson2@o...|Other Brands|     Home & Kitchen |             65.97|  875/4334|      6.49|                 null|2017-04-29 15:57:...|       1|20170429 / 265 / ...|          65.97|\n",
      "|darrenadamson@hot...|Other Brands|     Home & Kitchen |              9.99|  850/3413|      9.99|                 null|2017-02-20 09:29:...|       1|20170220 / 4371 /...|           9.99|\n",
      "|ricky.01@hotmail....|Other Brands|Patio, Lawn & Gar...|             22.97|  600/6596|      3.99|                 null|2017-01-21 10:05:...|       1|20170121 / 4177 /...|          22.97|\n",
      "+--------------------+------------+--------------------+------------------+----------+----------+---------------------+--------------------+--------+--------------------+---------------+\n",
      "only showing top 5 rows\n",
      "\n"
     ]
    }
   ],
   "source": [
    "data.registerTempTable(\"data\")\n",
    "base_data =data.selectExpr('identifier','brandName as brand', 'cat1 AS category','item_total_txn AS transaction_amount', 'item_product_code as product_id', 'item_total','item_discounts_amount', 'timestamp','item_quantity as quantity', 'transaction_id')  \\\n",
    "    .withColumn('item_unit_price', col('item_total') / col('quantity')) \\\n",
    "  .filter((to_date(col(\"timestamp\"))>'2016-11-30') & \\\n",
    "                  (to_date(col(\"timestamp\"))<'2017-12-01') & \\\n",
    "                  (col(\"identifier\").isNotNull()) & \\\n",
    "                  (col(\"retailer_name\")=='Argos') & \\\n",
    "                  (col(\"item_total\")>0)) \n",
    "base_data.show(5)  "
   ]
  },
  {
   "cell_type": "code",
   "execution_count": 21,
   "metadata": {
    "collapsed": false
   },
   "outputs": [
    {
     "name": "stdout",
     "output_type": "stream",
     "text": [
      "+--------------------------+\n",
      "|count(DISTINCT identifier)|\n",
      "+--------------------------+\n",
      "|                  12103974|\n",
      "+--------------------------+\n",
      "\n"
     ]
    }
   ],
   "source": [
    "test1 = base_data.agg(countDistinct('identifier'))\n",
    "test1.show()"
   ]
  },
  {
   "cell_type": "markdown",
   "metadata": {},
   "source": [
    "#### Exporting brand cross category level data file (csv format) into GCS"
   ]
  },
  {
   "cell_type": "code",
   "execution_count": 91,
   "metadata": {
    "collapsed": false
   },
   "outputs": [],
   "source": [
    "(base_data.coalesce(1).write.option(\"header\", \"true\").csv(\"gs://westfield-tom/datalab/brand_category_base_data\"))"
   ]
  },
  {
   "cell_type": "markdown",
   "metadata": {},
   "source": [
    "#### Calculating the brand's average price per product, min price, max price, 25th, 75th percentile"
   ]
  },
  {
   "cell_type": "code",
   "execution_count": 4,
   "metadata": {
    "collapsed": true
   },
   "outputs": [],
   "source": [
    "from pyspark.sql.window import Window \n",
    "# Creating brand level information that would be used for bucketing brands into luxury buckets\n",
    "brand_prices_percentile = base_data.select('brand','category', 'product_id', 'item_unit_price').distinct() \\\n",
    "                                    .withColumn('in_brand_percentile', percent_rank().over(Window.partitionBy(col('brand')) \\\n",
    "                                    .orderBy(col('item_unit_price')))) \n",
    "min_mean_max = brand_prices_percentile.groupBy('brand','category').agg(min('item_unit_price').alias('value_min'), \\\n",
    "                                                            max('item_unit_price').alias('value_max'), \\\n",
    "                                                            avg('item_unit_price').alias('value_mean')) \n",
    "quartile_25 = brand_prices_percentile.filter(col('in_brand_percentile') <= 0.25) \\\n",
    "                                     .groupBy('brand','category').agg(max('item_unit_price').alias('value_25')) \n",
    "quartile_50 = brand_prices_percentile.filter(col('in_brand_percentile') <= 0.5) \\\n",
    "                                     .groupBy('brand','category').agg(max('item_unit_price').alias('value_50')) \n",
    "quartile_75 = brand_prices_percentile.filter(col('in_brand_percentile') <= 0.75) \\\n",
    "                                     .groupBy('brand','category').agg(max('item_unit_price').alias('value_75')) \n",
    "brand_metrics = min_mean_max.join(quartile_25, ['brand','category'], 'left').join(quartile_50, ['brand','category'], 'left') \\\n",
    "                            .join(quartile_75, ['brand','category'], 'left')"
   ]
  },
  {
   "cell_type": "markdown",
   "metadata": {},
   "source": [
    "#### Seeing the data"
   ]
  },
  {
   "cell_type": "code",
   "execution_count": 5,
   "metadata": {
    "collapsed": false
   },
   "outputs": [
    {
     "name": "stdout",
     "output_type": "stream",
     "text": [
      "+---------------+--------------------+-------------------+------------------+------------------+-----------------+-----------------+------------------+\n",
      "|          brand|            category|          value_min|         value_max|        value_mean|         value_25|         value_50|          value_75|\n",
      "+---------------+--------------------+-------------------+------------------+------------------+-----------------+-----------------+------------------+\n",
      "|       2k Games|        Video Games |            -173.01|           1098.98| 180.3300977843792|            77.47|           124.97|230.01000000000002|\n",
      "|        Muskoka|          Furniture |            1649.99|           1874.98|1793.9666666666665|          1649.99|          1856.93|           1856.93|\n",
      "|    donna karan|            Jewelry |-60.000000000000014| 563.1800000000001|134.35552380952367|40.04999999999999|94.97999999999999|            149.99|\n",
      "|         garmin|Computers & Acces...|              -10.0|1124.7800000000002|157.26760869565206|            72.98|           129.98|184.98000000000002|\n",
      "|rubie's costume|    Office Products |              17.99|321.84000000000003| 81.76000000000002|            23.99|            23.99|             23.99|\n",
      "+---------------+--------------------+-------------------+------------------+------------------+-----------------+-----------------+------------------+\n",
      "only showing top 5 rows\n",
      "\n"
     ]
    }
   ],
   "source": [
    "brand_metrics.show(5)"
   ]
  },
  {
   "cell_type": "markdown",
   "metadata": {},
   "source": [
    "#### Exporting brand metrics data file (csv format) into GCS"
   ]
  },
  {
   "cell_type": "code",
   "execution_count": 92,
   "metadata": {
    "collapsed": true
   },
   "outputs": [],
   "source": [
    "(brand_metrics.coalesce(1).write.option(\"header\", \"true\").csv(\"gs://westfield-tom/datalab/yocuda_brand_metrics_data\"))"
   ]
  },
  {
   "cell_type": "markdown",
   "metadata": {},
   "source": [
    "#### Calcualting scores"
   ]
  },
  {
   "cell_type": "code",
   "execution_count": 6,
   "metadata": {
    "collapsed": true
   },
   "outputs": [],
   "source": [
    "luxury_scores = brand_metrics \\\n",
    ".withColumn('rank1', percent_rank().over(Window.orderBy('value_min'))) \\\n",
    ".withColumn('rank2', percent_rank().over(Window.orderBy('value_25'))) \\\n",
    ".withColumn('rank3', percent_rank().over(Window.orderBy('value_50'))) \\\n",
    ".withColumn('rank4', percent_rank().over(Window.orderBy('value_mean'))) \\\n",
    ".withColumn('rank5', percent_rank().over(Window.orderBy('value_75'))) \\\n",
    ".withColumn('rank6', percent_rank().over(Window.orderBy('value_max'))) \\\n",
    ".withColumn('final_score', (col('rank1') + col('rank2') + col('rank3') + col('rank4') + col('rank5') + col('rank6'))/6) \\\n",
    ".withColumn('percentile_rank', percent_rank().over(Window.orderBy('final_score')))"
   ]
  },
  {
   "cell_type": "markdown",
   "metadata": {},
   "source": [
    "#### Seeing the data"
   ]
  },
  {
   "cell_type": "code",
   "execution_count": 47,
   "metadata": {
    "collapsed": false
   },
   "outputs": [
    {
     "name": "stdout",
     "output_type": "stream",
     "text": [
      "+--------------------+--------------------+-------------------+\n",
      "|            category|       min_perc_rank|      max_perc_rank|\n",
      "+--------------------+--------------------+-------------------+\n",
      "|Health & Personal...|                 0.0| 0.9968012794882047|\n",
      "|        Electronics |                 0.0| 0.9860055977608957|\n",
      "|     Home & Kitchen |7.996801279488205E-4|  0.998000799680128|\n",
      "|          Furniture |0.001199520191923...| 0.9992003198720512|\n",
      "|  Sports & Outdoors |0.001599360255897641| 0.9996001599360256|\n",
      "|      Baby Products |0.001999200319872051| 0.9568172730907637|\n",
      "|Clothing & Access...|0.002798880447820...| 0.9936025589764095|\n",
      "|    Office Products |0.003598560575769692|  0.995201919232307|\n",
      "|            Jewelry |0.003998400639744102| 0.9856057576969213|\n",
      "|       Toys & Games |0.009196321471411436|  0.973610555777689|\n",
      "|Patio, Lawn & Gar...|0.009596161535385846|                1.0|\n",
      "|Computers & Acces...|0.011195521791283487| 0.9924030387844862|\n",
      "|         Automotive |0.012794882047181128| 0.9304278288684527|\n",
      "|              Shoes |0.013994402239104359| 0.9492203118752499|\n",
      "|Tools & Home Impr...| 0.01879248300679728| 0.9984006397441023|\n",
      "|       Pet Supplies | 0.01919232307077169| 0.9744102359056377|\n",
      "|Arts, Crafts & Se...|0.039184326269492205|  0.899640143942423|\n",
      "|Musical Instruments | 0.06837265093962415| 0.9932027189124351|\n",
      "|        Video Games | 0.07077169132347061| 0.9164334266293482|\n",
      "|Grocery & Gourmet...| 0.08556577369052379| 0.8652538984406237|\n",
      "|Industrial & Scie...| 0.18992403038784486| 0.9400239904038384|\n",
      "|           Software |  0.3834466213514594|  0.924030387844862|\n",
      "|              Media |  0.5377848860455817| 0.5377848860455817|\n",
      "|                null| 0.15033986405437824|0.15033986405437824|\n",
      "+--------------------+--------------------+-------------------+\n",
      "\n"
     ]
    }
   ],
   "source": [
    "brand_metrics_test = luxury_scores\\\n",
    "              .groupBy('category').agg(min('percentile_rank').alias('min_perc_rank'), \\\n",
    "                max('percentile_rank').alias('max_perc_rank'))\n",
    "brand_metrics_test.show(25)"
   ]
  },
  {
   "cell_type": "code",
   "execution_count": 7,
   "metadata": {
    "collapsed": false
   },
   "outputs": [
    {
     "name": "stdout",
     "output_type": "stream",
     "text": [
      "+---------------+--------------------+---------+---------+------------------+--------+--------+--------+------------------+-------------------+-------------------+--------------------+--------------------+--------------------+-------------------+--------------------+\n",
      "|          brand|            category|value_min|value_max|        value_mean|value_25|value_50|value_75|             rank1|              rank2|              rank3|               rank4|               rank5|               rank6|        final_score|     percentile_rank|\n",
      "+---------------+--------------------+---------+---------+------------------+--------+--------+--------+------------------+-------------------+-------------------+--------------------+--------------------+--------------------+-------------------+--------------------+\n",
      "| Bang & Olufsen|        Electronics |      0.0|      0.0|               0.0|     0.0|     0.0|     0.0|0.4962015193922431|0.07716913234706117|0.04798080767692923|                 0.0|0.026789284286285485|                 0.0|0.10802345728375316|                 0.0|\n",
      "|          Clean|Health & Personal...|      0.0|      0.0|               0.0|     0.0|     0.0|     0.0|0.4962015193922431|0.07716913234706117|0.04798080767692923|                 0.0|0.026789284286285485|                 0.0|0.10802345728375316|                 0.0|\n",
      "|         sakura|     Home & Kitchen |      0.0|    17.04|11.343333333333334|     0.0|   17.04|   17.04|0.4962015193922431|0.07716913234706117|0.08116753298680528|0.005197920831667333| 0.04638144742103159|0.011995201919232307|0.11968545914967345|7.996801279488205E-4|\n",
      "|flash furniture|          Furniture |     3.99|     3.99|              3.99|    3.99|    3.99|    3.99|0.5717712914834067|0.08836465413834466|0.05237904838064774|7.996801279488205E-4|0.028388644542183126|7.996801279488205E-4|0.12375049980007997|0.001199520191923...|\n",
      "|          Arena|  Sports & Outdoors |    18.94|    18.94|             18.94|    null|    null|    null| 0.710515793682527|                0.0|                0.0|0.019992003198720514|                 0.0|0.013994402239104359|0.12408369985339197|0.001599360255897641|\n",
      "+---------------+--------------------+---------+---------+------------------+--------+--------+--------+------------------+-------------------+-------------------+--------------------+--------------------+--------------------+-------------------+--------------------+\n",
      "only showing top 5 rows\n",
      "\n"
     ]
    }
   ],
   "source": [
    "luxury_scores.show(5)"
   ]
  },
  {
   "cell_type": "markdown",
   "metadata": {},
   "source": [
    "#### Exporting luxury scores data file (csv format) into GCS"
   ]
  },
  {
   "cell_type": "code",
   "execution_count": 93,
   "metadata": {
    "collapsed": true
   },
   "outputs": [],
   "source": [
    "(luxury_scores.coalesce(1).write.option(\"header\", \"true\").csv(\"gs://westfield-tom/datalab/yocuda_luxury_scores_data\"))"
   ]
  },
  {
   "cell_type": "code",
   "execution_count": 8,
   "metadata": {
    "collapsed": false
   },
   "outputs": [
    {
     "name": "stdout",
     "output_type": "stream",
     "text": [
      "+---------------+--------------------+--------------------+\n",
      "|          brand|            category|     percentile_rank|\n",
      "+---------------+--------------------+--------------------+\n",
      "|          Clean|Health & Personal...|                 0.0|\n",
      "| Bang & Olufsen|        Electronics |                 0.0|\n",
      "|         sakura|     Home & Kitchen |7.996801279488205E-4|\n",
      "|flash furniture|          Furniture |0.001199520191923...|\n",
      "|          Arena|  Sports & Outdoors |0.001599360255897641|\n",
      "+---------------+--------------------+--------------------+\n",
      "only showing top 5 rows\n",
      "\n"
     ]
    }
   ],
   "source": [
    "df =luxury_scores.selectExpr('brand', 'category','percentile_rank')  \n",
    "df.show(5)  "
   ]
  },
  {
   "cell_type": "markdown",
   "metadata": {},
   "source": [
    "#### Caculating user's respective luxury score"
   ]
  },
  {
   "cell_type": "code",
   "execution_count": 9,
   "metadata": {
    "collapsed": false
   },
   "outputs": [],
   "source": [
    "user_level_luxury_score = base_data.join(luxury_scores \\\n",
    "                          .withColumn('bucket_value', when(col('percentile_rank') >= 0.8,5).when(col('percentile_rank') >= 0.6,4) \\\n",
    "                          .when(col('percentile_rank') >= 0.4,3).when(col('percentile_rank') >= 0.2,2) \\\n",
    "                          .otherwise(1)).select('brand', 'category','bucket_value'), ['brand','category'], 'inner') \\\n",
    "        .select('identifier','category', 'quantity', 'bucket_value') \\\n",
    "        .withColumn('total_bucket_value', col('quantity') * col('bucket_value')) \\\n",
    "        .groupBy('identifier','category').agg(sum(col('quantity')).alias('net_quantity'), sum(col('total_bucket_value')).alias('sum_buckets')) \\\n",
    "        .withColumn('luxury_score', col('sum_buckets') / col('net_quantity')) \\\n",
    "        .select('identifier','category', 'luxury_score','net_quantity')"
   ]
  },
  {
   "cell_type": "markdown",
   "metadata": {},
   "source": [
    "#### Seeing the data"
   ]
  },
  {
   "cell_type": "code",
   "execution_count": 10,
   "metadata": {
    "collapsed": false
   },
   "outputs": [
    {
     "name": "stdout",
     "output_type": "stream",
     "text": [
      "+--------------------+---------------+------------+------------+\n",
      "|          identifier|       category|luxury_score|net_quantity|\n",
      "+--------------------+---------------+------------+------------+\n",
      "|miranda-elle@hotm...|  Toys & Games |         4.0|         3.0|\n",
      "|se_evans@hotmail....|  Toys & Games |         4.0|         1.0|\n",
      "|andrea.harwood@ym...|  Toys & Games |         3.5|         8.0|\n",
      "|shazmalik17@hotma...|  Toys & Games |         4.0|         4.0|\n",
      "|    amcmahon@sky.com|Home & Kitchen |         3.0|         1.0|\n",
      "+--------------------+---------------+------------+------------+\n",
      "only showing top 5 rows\n",
      "\n"
     ]
    }
   ],
   "source": [
    "user_level_luxury_score.show(5)"
   ]
  },
  {
   "cell_type": "code",
   "execution_count": 25,
   "metadata": {
    "collapsed": false
   },
   "outputs": [
    {
     "name": "stdout",
     "output_type": "stream",
     "text": [
      "+--------------------------+\n",
      "|count(DISTINCT identifier)|\n",
      "+--------------------------+\n",
      "|                  11224605|\n",
      "+--------------------------+\n",
      "\n"
     ]
    }
   ],
   "source": [
    "test2 = user_level_luxury_score.agg(countDistinct('identifier'))\n",
    "test2.show()"
   ]
  },
  {
   "cell_type": "code",
   "execution_count": 18,
   "metadata": {
    "collapsed": false
   },
   "outputs": [
    {
     "data": {
      "text/plain": [
       "18760140"
      ]
     },
     "execution_count": 18,
     "metadata": {},
     "output_type": "execute_result"
    }
   ],
   "source": [
    "user_level_luxury_score.count()"
   ]
  },
  {
   "cell_type": "markdown",
   "metadata": {},
   "source": [
    "## Exporting Shopper-Category level luxury scores data file (csv format) into GCS"
   ]
  },
  {
   "cell_type": "code",
   "execution_count": 28,
   "metadata": {
    "collapsed": true
   },
   "outputs": [],
   "source": [
    "(user_level_luxury_score.coalesce(1).write.option(\"header\", \"true\").csv(\"gs://westfield-tom/datalab/luxury_score_data_v1\"))"
   ]
  },
  {
   "cell_type": "markdown",
   "metadata": {},
   "source": [
    "#### Number of shoppers with different luxury scores for every category"
   ]
  },
  {
   "cell_type": "code",
   "execution_count": 11,
   "metadata": {
    "collapsed": false
   },
   "outputs": [
    {
     "name": "stdout",
     "output_type": "stream",
     "text": [
      "+--------------------+------------+---------+\n",
      "|            category|luxury_score|frequency|\n",
      "+--------------------+------------+---------+\n",
      "|Arts, Crafts & Se...|           5|    16159|\n",
      "|Arts, Crafts & Se...|           4|   117564|\n",
      "|Arts, Crafts & Se...|           3|     5805|\n",
      "|Arts, Crafts & Se...|           2|    22589|\n",
      "|Arts, Crafts & Se...|           1|       36|\n",
      "|         Automotive |           5|     4261|\n",
      "|         Automotive |           4|   216191|\n",
      "|         Automotive |           3|    14312|\n",
      "|         Automotive |           2|     3105|\n",
      "|         Automotive |           1|      258|\n",
      "+--------------------+------------+---------+\n",
      "only showing top 10 rows\n",
      "\n"
     ]
    }
   ],
   "source": [
    "frequency = user_level_luxury_score.withColumn('luxury_score', floor('luxury_score')) \\\n",
    "                       .groupBy('category','luxury_score').agg(countDistinct('identifier').alias('frequency')) \\\n",
    "                       .orderBy('category',desc('luxury_score'))\n",
    "frequency.show(10)    "
   ]
  },
  {
   "cell_type": "markdown",
   "metadata": {},
   "source": [
    "#### Exporting category cross luxury scores frequency data file (csv format) into GCS"
   ]
  },
  {
   "cell_type": "code",
   "execution_count": 96,
   "metadata": {
    "collapsed": true
   },
   "outputs": [],
   "source": [
    "(frequency.coalesce(1).write.option(\"header\", \"true\").csv(\"gs://westfield-tom/datalab/yocuda_category_luxury_score_frequency_data\"))"
   ]
  },
  {
   "cell_type": "markdown",
   "metadata": {},
   "source": [
    "#### Categorizing a shopper as Luxury / Non-luxury shopper based on the score"
   ]
  },
  {
   "cell_type": "code",
   "execution_count": 12,
   "metadata": {
    "collapsed": false
   },
   "outputs": [
    {
     "name": "stdout",
     "output_type": "stream",
     "text": [
      "+--------------------+------------+------------------+------------------+----------+----------+---------------------+--------------------+--------+--------------------+---------------+------------------+---------------+\n",
      "|          identifier|       brand|          category|transaction_amount|product_id|item_total|item_discounts_amount|           timestamp|quantity|      transaction_id|item_unit_price|      luxury_score|     luxury_ind|\n",
      "+--------------------+------------+------------------+------------------+----------+----------+---------------------+--------------------+--------+--------------------+---------------+------------------+---------------+\n",
      "|\"mike\"\"camilleri@...|Other Brands|Sports & Outdoors |             99.99|  620/9537|     99.99|                 null|2017-03-23 19:35:...|       1|20170323 / 4120 /...|          99.99|               4.0|non_lux_shopper|\n",
      "|+holliekelly93@ho...|Other Brands|      Electronics |             51.98|  503/3498|     29.99|                 null|2017-03-23 16:31:...|       1|20170323 / 671 / ...|          51.98|               4.0|non_lux_shopper|\n",
      "|,att.d.drage@gmai...|        bush|   Home & Kitchen |             39.99|  611/1577|     39.99|                 null|2017-11-17 09:14:...|       1|20171117 / 366 / ...|          39.99|               5.0|    lux_shopper|\n",
      "|     -@hotmail.co.uk|      hasbro|     Toys & Games |             19.99|  563/8879|     19.99|                 null|2016-12-21 18:37:...|       1|20161221 / 885 / ...|          19.99|               4.0|non_lux_shopper|\n",
      "|          .@mail.com|      amazon|      Electronics |             39.95|  684/4662|     39.95|                 null|2017-05-08 18:02:...|       1|20170508 / 824 / ...|          39.95|3.8421052631578947|non_lux_shopper|\n",
      "+--------------------+------------+------------------+------------------+----------+----------+---------------------+--------------------+--------+--------------------+---------------+------------------+---------------+\n",
      "only showing top 5 rows\n",
      "\n"
     ]
    }
   ],
   "source": [
    "yocuda_luxury_score = base_data.join(user_level_luxury_score.withColumn('luxury_ind', when(col('luxury_score') > 4,\"lux_shopper\") \\\n",
    "                    .otherwise(\"non_lux_shopper\")).select('identifier','category','luxury_score','luxury_ind'), \\\n",
    "                                     ['identifier','category'], 'left')\\\n",
    "                    .select('identifier','brand', 'category','transaction_amount', \\\n",
    "                            'product_id', 'item_total','item_discounts_amount', 'timestamp',\\\n",
    "                            'quantity', 'transaction_id','item_unit_price','luxury_score', 'luxury_ind') \n",
    "yocuda_luxury_score.show(5)"
   ]
  },
  {
   "cell_type": "markdown",
   "metadata": {},
   "source": [
    "#### Distribution of luxury score"
   ]
  },
  {
   "cell_type": "code",
   "execution_count": 26,
   "metadata": {
    "collapsed": false
   },
   "outputs": [
    {
     "name": "stdout",
     "output_type": "stream",
     "text": [
      "+------------+--------------------+---------------+--------------------+-----------+--------+-------------------------+\n",
      "|luxury_score|            category|unique_shoppers|               spend|num_of_txns|quantity|avg_price_purchased_prods|\n",
      "+------------+--------------------+---------------+--------------------+-----------+--------+-------------------------+\n",
      "|           3|          Furniture |          14530|   808811.7499999984|      17342| 20745.0|        38.98827428295967|\n",
      "|           3|Health & Personal...|         475710|1.5072848660000069E7|     559985|649588.0|       23.203705517959182|\n",
      "|           5|           Software |           5673|   319696.6500000002|       5747|  5792.0|       55.196244820442026|\n",
      "|           3|        Electronics |         219516|   7103918.140000129|     261553|329833.0|       21.537924161621575|\n",
      "|           3|      Baby Products |         273558|1.0463161069999909E7|     300833|335417.0|       31.194486475044226|\n",
      "|           1|  Sports & Outdoors |           2119|   34909.62000000001|       2179|  2429.0|       14.372013174145742|\n",
      "+------------+--------------------+---------------+--------------------+-----------+--------+-------------------------+\n",
      "only showing top 6 rows\n",
      "\n"
     ]
    }
   ],
   "source": [
    "sum1 =yocuda_luxury_score.withColumn('luxury_score', floor('luxury_score')).groupBy(\"luxury_score\", \"category\").agg(countDistinct('identifier').alias('unique_shoppers'),\\\n",
    "                                                        sum('item_total').alias('spend'),\\\n",
    "                                                       countDistinct('transaction_id').alias('num_of_txns'),\\\n",
    "                                                     sum('quantity').alias('quantity'))\\\n",
    "                                                     .withColumn('avg_price_purchased_prods',col('spend')/col('quantity'))\n",
    "sum1.show(6)"
   ]
  },
  {
   "cell_type": "code",
   "execution_count": 27,
   "metadata": {
    "collapsed": true
   },
   "outputs": [],
   "source": [
    "(sum1.coalesce(1).write.option(\"header\", \"true\").csv(\"gs://westfield-tom/datalab/luxury_ind_category_distribution\"))"
   ]
  },
  {
   "cell_type": "markdown",
   "metadata": {},
   "source": [
    "#### Exporting category wise user segmentation data file (csv format) into GCS"
   ]
  },
  {
   "cell_type": "code",
   "execution_count": 97,
   "metadata": {
    "collapsed": true
   },
   "outputs": [],
   "source": [
    "(yocuda_luxury_score.coalesce(1).write.option(\"header\", \"true\").csv(\"gs://westfield-tom/datalab/yocuda_category_user_segmentation_data\"))"
   ]
  },
  {
   "cell_type": "markdown",
   "metadata": {},
   "source": [
    "#### Generic metrics on a category cross luxury indicator level"
   ]
  },
  {
   "cell_type": "code",
   "execution_count": 29,
   "metadata": {
    "collapsed": false
   },
   "outputs": [
    {
     "name": "stdout",
     "output_type": "stream",
     "text": [
      "+--------------------+---------------+---------------+--------------------+-----------+---------+-------------------------+\n",
      "|            category|     luxury_ind|unique_shoppers|               spend|num_of_txns| quantity|avg_price_purchased_prods|\n",
      "+--------------------+---------------+---------------+--------------------+-----------+---------+-------------------------+\n",
      "|              Shoes |non_lux_shopper|         115670|  3193716.5399999795|     119279| 126097.0|        25.32745854381928|\n",
      "|         Automotive |    lux_shopper|           4393|           342101.34|       4612|   4699.0|        72.80300915088317|\n",
      "|              Media |non_lux_shopper|           4405|   42147.39000000003|       4458|   5431.0|        7.760521082673546|\n",
      "|Industrial & Scie...|    lux_shopper|            639|   37435.25000000002|        665|    675.0|        55.45962962962966|\n",
      "|                null|           null|        3205143|2.8235315817995405E8|    4011795|4879417.0|        57.86616683508584|\n",
      "+--------------------+---------------+---------------+--------------------+-----------+---------+-------------------------+\n",
      "only showing top 5 rows\n",
      "\n"
     ]
    }
   ],
   "source": [
    "df =yocuda_luxury_score.groupBy(\"category\",\"luxury_ind\").agg(countDistinct('identifier').alias('unique_shoppers'),\\\n",
    "                                                        sum('item_total').alias('spend'),\\\n",
    "                                                       countDistinct('transaction_id').alias('num_of_txns'),\\\n",
    "                                                     sum('quantity').alias('quantity'))\\\n",
    "                                                     .withColumn('avg_price_purchased_prods',col('spend')/col('quantity'))\n",
    "df.show(5)  "
   ]
  },
  {
   "cell_type": "markdown",
   "metadata": {},
   "source": [
    "#### Exporting category cross luxury indicator level data file (csv format) into GCS"
   ]
  },
  {
   "cell_type": "code",
   "execution_count": 104,
   "metadata": {
    "collapsed": true
   },
   "outputs": [],
   "source": [
    "(df.coalesce(1).write.option(\"header\", \"true\").csv(\"gs://westfield-tom/datalab/yocuda_category_luxury_ind_data\"))"
   ]
  },
  {
   "cell_type": "markdown",
   "metadata": {},
   "source": [
    "#### Top 5 categories by total spend"
   ]
  },
  {
   "cell_type": "code",
   "execution_count": 30,
   "metadata": {
    "collapsed": false
   },
   "outputs": [
    {
     "name": "stdout",
     "output_type": "stream",
     "text": [
      "+--------------------+--------------------+\n",
      "|            category|               spend|\n",
      "+--------------------+--------------------+\n",
      "|        Electronics | 2.840659656999931E8|\n",
      "|                null|2.8235315817999303E8|\n",
      "|     Home & Kitchen | 2.141566713099843E8|\n",
      "|       Toys & Games | 8.614666659000352E7|\n",
      "|Computers & Acces...| 8.348656677000155E7|\n",
      "+--------------------+--------------------+\n",
      "only showing top 5 rows\n",
      "\n"
     ]
    }
   ],
   "source": [
    "xx1 =base_data.groupBy(\"category\").agg(sum('item_total').alias('spend')).orderBy(desc(\"spend\"))\n",
    "xx1.show(5)  "
   ]
  },
  {
   "cell_type": "markdown",
   "metadata": {},
   "source": [
    "#### User level scores on an overall level"
   ]
  },
  {
   "cell_type": "code",
   "execution_count": 31,
   "metadata": {
    "collapsed": false
   },
   "outputs": [
    {
     "name": "stdout",
     "output_type": "stream",
     "text": [
      "+--------------------+------------+---------+--------------------+\n",
      "|          identifier|net_quantity|sum_score|overall_luxury_score|\n",
      "+--------------------+------------+---------+--------------------+\n",
      "|dianebatty77@gmai...|         1.0|      2.0|                 2.0|\n",
      "|karen_terry2000@y...|        55.0|    160.0|   2.909090909090909|\n",
      "|awhetstone@hotmai...|         1.0|      4.0|                 4.0|\n",
      "|evangelis77@gmail...|         1.0|      4.0|                 4.0|\n",
      "|giles.burden@mpsa...|         3.0|     12.0|                 4.0|\n",
      "+--------------------+------------+---------+--------------------+\n",
      "only showing top 5 rows\n",
      "\n"
     ]
    }
   ],
   "source": [
    "user_level_luxury_score_overall = user_level_luxury_score \\\n",
    "          .select('identifier','net_quantity','luxury_score') \\\n",
    "          .withColumn('total_luxury_value', col('net_quantity') * col('luxury_score')) \\\n",
    "          .groupBy('identifier').agg(sum(col('net_quantity')).alias('net_quantity'), sum(col('total_luxury_value')).alias('sum_score')) \\\n",
    "          .withColumn('overall_luxury_score', col('sum_score') / col('net_quantity')) \n",
    "user_level_luxury_score_overall.show(5)        "
   ]
  },
  {
   "cell_type": "markdown",
   "metadata": {},
   "source": [
    "## Exporting overall luxury score on a user-level data file (csv format) into GCS"
   ]
  },
  {
   "cell_type": "code",
   "execution_count": 32,
   "metadata": {
    "collapsed": true
   },
   "outputs": [],
   "source": [
    "(user_level_luxury_score_overall.coalesce(1).write.option(\"header\", \"true\").csv(\"gs://westfield-tom/datalab/yocuda_overall_luxury_score_user_data\"))"
   ]
  },
  {
   "cell_type": "markdown",
   "metadata": {},
   "source": [
    "#### Overall distribution of Luxury Scores"
   ]
  },
  {
   "cell_type": "code",
   "execution_count": 39,
   "metadata": {
    "collapsed": false
   },
   "outputs": [
    {
     "name": "stdout",
     "output_type": "stream",
     "text": [
      "+--------------------+------------+------------------+-------------------+----------+----------+---------------------+--------------------+--------+--------------------+-------------------+--------------------+--------------------+\n",
      "|          identifier|       brand|          category| transaction_amount|product_id|item_total|item_discounts_amount|           timestamp|quantity|      transaction_id|    item_unit_price|overall_luxury_score|  overall_luxury_ind|\n",
      "+--------------------+------------+------------------+-------------------+----------+----------+---------------------+--------------------+--------+--------------------+-------------------+--------------------+--------------------+\n",
      "|   -.tmh24@gmail.com|Other Brands|      Electronics |              13.99|  631/5706|     13.99|                 null|2017-05-31 08:09:...|       1|20170531 / 461 / ...|              13.99|                 4.0|overall_non_lux_s...|\n",
      "|-indiaismial78672...|Other Brands|   Home & Kitchen |              73.97|  832/2292|     17.99|                 null|2017-01-13 15:49:...|       1|20170113 / 763 / ...|              73.97|                 3.0|overall_non_lux_s...|\n",
      "|-indiaismial78672...|Other Brands|   Home & Kitchen |              73.97|  900/0104|     39.99|                 null|2017-01-13 15:49:...|       1|20170113 / 763 / ...|              73.97|                 3.0|overall_non_lux_s...|\n",
      "|-indiaismial78672...|Other Brands|   Home & Kitchen |              73.97|  830/0056|     15.99|                 null|2017-01-13 15:49:...|       1|20170113 / 763 / ...|              73.97|                 3.0|overall_non_lux_s...|\n",
      "|.j.douglas@hotmai...|Other Brands|Sports & Outdoors |-2.9999999999999982|  616/9567|     14.99|                 null|2017-07-20 10:55:...|       1|20170720 / 127 / ...|-2.9999999999999982|                 4.0|overall_non_lux_s...|\n",
      "+--------------------+------------+------------------+-------------------+----------+----------+---------------------+--------------------+--------+--------------------+-------------------+--------------------+--------------------+\n",
      "only showing top 5 rows\n",
      "\n"
     ]
    }
   ],
   "source": [
    "yocuda_luxury_score_tot = base_data.join(user_level_luxury_score_overall.withColumn('overall_luxury_ind', when(col('overall_luxury_score') > 4,\"overall_lux_shopper\") \\\n",
    "                    .otherwise(\"overall_non_lux_shopper\")).select('identifier','overall_luxury_score','overall_luxury_ind'), \\\n",
    "                                     ['identifier'], 'left')\\\n",
    "                    .select('identifier','brand', 'category','transaction_amount', \\\n",
    "                            'product_id', 'item_total','item_discounts_amount', 'timestamp',\\\n",
    "                            'quantity', 'transaction_id','item_unit_price','overall_luxury_score', 'overall_luxury_ind') \n",
    "yocuda_luxury_score_tot.show(5)"
   ]
  },
  {
   "cell_type": "code",
   "execution_count": 40,
   "metadata": {
    "collapsed": false
   },
   "outputs": [
    {
     "name": "stdout",
     "output_type": "stream",
     "text": [
      "+--------------------+---------------+--------------------+-----------+-----------+-------------------------+\n",
      "|overall_luxury_score|unique_shoppers|               spend|num_of_txns|   quantity|avg_price_purchased_prods|\n",
      "+--------------------+---------------+--------------------+-----------+-----------+-------------------------+\n",
      "|                null|         879369| 9.221364122999571E7|     916617|  1078129.0|        85.53117598171991|\n",
      "|                   5|        1202310|1.8932506316998821E8|    1344884|  1577653.0|       120.00424882403685|\n",
      "|                   1|          24674|   638062.8799999978|      27649|    41454.0|       15.392070246538278|\n",
      "|                   3|        4874789| 5.704587440808098E8|   10150848|1.9197759E7|       29.714861202331473|\n",
      "|                   2|         516608|2.5633598500002168E7|     756059|  1386273.0|       18.491017642269718|\n",
      "|                   4|        4606224| 5.485284309703792E8|    6910098|1.0189338E7|        53.83356906703647|\n",
      "+--------------------+---------------+--------------------+-----------+-----------+-------------------------+\n",
      "\n"
     ]
    }
   ],
   "source": [
    "sum2 =yocuda_luxury_score_tot.withColumn('overall_luxury_score', floor('overall_luxury_score')).groupBy(\"overall_luxury_score\").agg(countDistinct('identifier').alias('unique_shoppers'),\\\n",
    "                  sum('item_total').alias('spend'),\\\n",
    "                 countDistinct('transaction_id').alias('num_of_txns'),\\\n",
    "                 sum('quantity').alias('quantity'))\\\n",
    "                .withColumn('avg_price_purchased_prods',col('spend')/col('quantity'))\n",
    "sum2.show(6)"
   ]
  },
  {
   "cell_type": "markdown",
   "metadata": {},
   "source": [
    "### Investigating brands in an example category"
   ]
  },
  {
   "cell_type": "code",
   "execution_count": 44,
   "metadata": {
    "collapsed": false
   },
   "outputs": [],
   "source": [
    "brand_level_luxury_score = base_data.join(luxury_scores \\\n",
    "                          .withColumn('bucket_value', when(col('percentile_rank') >= 0.8,5).when(col('percentile_rank') >= 0.6,4) \\\n",
    "                          .when(col('percentile_rank') >= 0.4,3).when(col('percentile_rank') >= 0.2,2) \\\n",
    "                          .otherwise(1)).select('brand', 'category','bucket_value'), ['brand','category'], 'inner') \\\n",
    "        .select('brand','category', 'quantity', 'bucket_value', 'item_total') \\\n",
    "        .withColumn('total_bucket_value', col('quantity') * col('bucket_value')) \\\n",
    "        .groupBy('brand','category').agg(sum(col('quantity')).alias('net_quantity'), sum(col('total_bucket_value')).alias('sum_buckets'), sum(col('item_total')).alias('spend')) \\\n",
    "        .withColumn('luxury_score', col('sum_buckets') / col('net_quantity')) \\\n",
    "        .select('brand','category', 'luxury_score','net_quantity','spend')"
   ]
  },
  {
   "cell_type": "code",
   "execution_count": 45,
   "metadata": {
    "collapsed": false
   },
   "outputs": [
    {
     "name": "stdout",
     "output_type": "stream",
     "text": [
      "+---------------+--------------------+------------+------------+------------------+\n",
      "|          brand|            category|luxury_score|net_quantity|             spend|\n",
      "+---------------+--------------------+------------+------------+------------------+\n",
      "|       2k Games|        Video Games |         5.0|      7575.0| 297116.3099999689|\n",
      "|        Muskoka|          Furniture |         5.0|         3.0|           5099.97|\n",
      "|    donna karan|            Jewelry |         4.0|       177.0|15995.229999999967|\n",
      "|         garmin|Computers & Acces...|         5.0|       262.0| 23251.38000000008|\n",
      "|rubie's costume|    Office Products |         1.0|         7.0|148.92999999999998|\n",
      "|           swan|Tools & Home Impr...|         4.0|        95.0|26141.160000000033|\n",
      "|         Abacus|    Office Products |         1.0|       227.0|  2669.72999999999|\n",
      "|       Kingsley|     Home & Kitchen |         3.0|      4223.0|41443.320000000625|\n",
      "|       Sabatier|     Home & Kitchen |         4.0|      1489.0|  47218.1099999998|\n",
      "|         adidas|            Jewelry |         3.0|      8111.0|186381.70999999085|\n",
      "+---------------+--------------------+------------+------------+------------------+\n",
      "only showing top 10 rows\n",
      "\n"
     ]
    }
   ],
   "source": [
    "brand_level_luxury_score.show(10)"
   ]
  },
  {
   "cell_type": "code",
   "execution_count": 46,
   "metadata": {
    "collapsed": true
   },
   "outputs": [],
   "source": [
    "(brand_level_luxury_score.coalesce(1).write.option(\"header\", \"true\").csv(\"gs://westfield-tom/datalab/brand_level_luxury_score\"))"
   ]
  },
  {
   "cell_type": "code",
   "execution_count": null,
   "metadata": {
    "collapsed": true
   },
   "outputs": [],
   "source": []
  }
 ],
 "metadata": {
  "kernelspec": {
   "display_name": "Python 2",
   "language": "python",
   "name": "python2"
  },
  "language_info": {
   "codemirror_mode": {
    "name": "ipython",
    "version": 2
   },
   "file_extension": ".py",
   "mimetype": "text/x-python",
   "name": "python",
   "nbconvert_exporter": "python",
   "pygments_lexer": "ipython2",
   "version": "2.7.12"
  }
 },
 "nbformat": 4,
 "nbformat_minor": 2
}
