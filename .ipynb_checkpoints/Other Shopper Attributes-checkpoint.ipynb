{
 "cells": [
  {
   "cell_type": "markdown",
   "metadata": {},
   "source": [
    "# Other Shopper Attributes"
   ]
  },
  {
   "cell_type": "markdown",
   "metadata": {},
   "source": [
    "#### Importing Yocuda data from GCS"
   ]
  },
  {
   "cell_type": "code",
   "execution_count": 3,
   "metadata": {
    "collapsed": false
   },
   "outputs": [],
   "source": [
    "data = (spark.read.format(\"csv\").option(\"header\", \"true\").option(\"inferSchema\", \"true\").load('gs://westfield-tom/datalab/Yocuda_clean_data_Nov15_Nov17_20171214_v01_*.csv'))"
   ]
  },
  {
   "cell_type": "code",
   "execution_count": 4,
   "metadata": {
    "collapsed": true
   },
   "outputs": [],
   "source": [
    "from pyspark.sql.functions import *"
   ]
  },
  {
   "cell_type": "markdown",
   "metadata": {},
   "source": [
    "#### Recency"
   ]
  },
  {
   "cell_type": "code",
   "execution_count": 5,
   "metadata": {
    "collapsed": false
   },
   "outputs": [
    {
     "name": "stdout",
     "output_type": "stream",
     "text": [
      "+--------------------+--------------------+--------------------+--------------------+--------------------+-------+\n",
      "|          identifier|                cat1|                cat2|   timestamp_mx_data|   timestamp_mx_user|recency|\n",
      "+--------------------+--------------------+--------------------+--------------------+--------------------+-------+\n",
      "|    ,10euw@gmail.com|Patio, Lawn & Gar...| Grills & Outdoor...|2017-11-30 21:08:...|2017-02-06 13:58:...|    297|\n",
      "|,mark.paoace12@ho...|     Home & Kitchen |   Small Appliances |2017-11-30 22:01:...|2017-11-13 16:42:...|     17|\n",
      "|          .@mail.com|        Electronics |     Camera & Photo |2017-11-30 22:46:...|2017-07-17 18:00:...|    136|\n",
      "|          .@mail.com|        Electronics |     Camera & Photo |2017-11-30 22:46:...|2017-07-17 18:00:...|    136|\n",
      "|          .@mail.com|        Electronics |     Camera & Photo |2017-11-30 22:46:...|2017-07-17 18:00:...|    136|\n",
      "+--------------------+--------------------+--------------------+--------------------+--------------------+-------+\n",
      "only showing top 5 rows\n",
      "\n"
     ]
    }
   ],
   "source": [
    "data.registerTempTable(\"data\")\n",
    "df1 =data.selectExpr(\"identifier\",\"cat1\",\"cat2\",\"timestamp\", \"1 as ind\",\"item_total\",\"transaction_id\",\"brandName as brand\",\"item_quantity\")  \\\n",
    "    .filter((to_date(col(\"timestamp\"))>'2016-11-30') & \\\n",
    "                  (to_date(col(\"timestamp\"))<'2017-12-01') & \\\n",
    "                  (col(\"identifier\").isNotNull()) & \\\n",
    "                  (col(\"item_total\")>0) & \\\n",
    "                  (col(\"retailer_name\")=='Argos'))\\\n",
    "\n",
    "df2 =data.selectExpr(\"cat1\",\"cat2\",\"timestamp \", \"1 as ind\").filter((to_date(col(\"timestamp\"))>'2016-11-30') & \\\n",
    "                  (to_date(col(\"timestamp\"))<'2017-12-01') & \\\n",
    "                  (col(\"identifier\").isNotNull()) & \\\n",
    "                  (col(\"item_total\")>0) & \\\n",
    "                  (col(\"retailer_name\")=='Argos'))\\\n",
    ".groupBy(col(\"cat1\"),col(\"cat2\"),col(\"ind\")).agg(max(\"timestamp\").alias(\"timestamp_mx_data\"))\n",
    "\n",
    "df3 = df1.join(df2,[\"cat1\",\"cat2\",\"ind\"],\"left\")\n",
    "\n",
    "df4 =data.selectExpr(\"identifier\",\"cat1\",\"cat2\",\"timestamp\").filter((to_date(col(\"timestamp\"))>'2016-11-30') & \\\n",
    "                  (to_date(col(\"timestamp\"))<'2017-12-01') & \\\n",
    "                  (col(\"identifier\").isNotNull()) & \\\n",
    "                  (col(\"item_total\")>0) & \\\n",
    "                  (col(\"retailer_name\")=='Argos'))\\\n",
    ".groupBy(\"identifier\",\"cat1\",\"cat2\").agg(max(\"timestamp\").alias(\"timestamp_mx_user\"))\n",
    "\n",
    "df5 = df3.join(df4,[\"identifier\",\"cat1\",\"cat2\"],\"left\")\n",
    "\n",
    "df6 = df5.selectExpr(\"identifier\",\"cat1\",\"cat2\",\"timestamp_mx_data\",\"timestamp_mx_user\") \\\n",
    "         .withColumn('recency',datediff('timestamp_mx_data','timestamp_mx_user'))\n",
    "\n",
    "df6.show(5)"
   ]
  },
  {
   "cell_type": "markdown",
   "metadata": {},
   "source": [
    "#### Calculating metrics"
   ]
  },
  {
   "cell_type": "code",
   "execution_count": 6,
   "metadata": {
    "collapsed": false
   },
   "outputs": [
    {
     "name": "stdout",
     "output_type": "stream",
     "text": [
      "+--------------------+--------------------+--------------------+-----------+\n",
      "|          identifier|                cat1|                cat2|total_spend|\n",
      "+--------------------+--------------------+--------------------+-----------+\n",
      "|    ,10euw@gmail.com|Patio, Lawn & Gar...| Grills & Outdoor...|       5.99|\n",
      "|,mark.paoace12@ho...|     Home & Kitchen |   Small Appliances |      29.99|\n",
      "|          .@mail.com|        Electronics |     Camera & Photo |     109.83|\n",
      "|          .@mail.com|     Home & Kitchen |           Cookware |      39.99|\n",
      "|          .@mail.com|    Office Products | Tape Adhesives &...|      19.99|\n",
      "+--------------------+--------------------+--------------------+-----------+\n",
      "only showing top 5 rows\n",
      "\n",
      "+--------------------+--------------------+--------------------+---------+\n",
      "|          identifier|                cat1|                cat2|frequency|\n",
      "+--------------------+--------------------+--------------------+---------+\n",
      "|    ,10euw@gmail.com|Patio, Lawn & Gar...| Grills & Outdoor...|        1|\n",
      "|,mark.paoace12@ho...|     Home & Kitchen |   Small Appliances |        1|\n",
      "|          .@mail.com|        Electronics |     Camera & Photo |        7|\n",
      "|          .@mail.com|     Home & Kitchen |           Cookware |        1|\n",
      "|          .@mail.com|    Office Products | Tape Adhesives &...|        1|\n",
      "+--------------------+--------------------+--------------------+---------+\n",
      "only showing top 5 rows\n",
      "\n"
     ]
    }
   ],
   "source": [
    "total_spend = df5.selectExpr(\"identifier\",\"cat1\",\"cat2\", \"item_total\")\\\n",
    ".groupBy(col(\"identifier\"),col(\"cat1\"),col(\"cat2\")).agg(sum(\"item_total\").alias(\"total_spend\"))\n",
    "\n",
    "frequency = df5.selectExpr(\"identifier\",\"cat1\",\"cat2\", \"transaction_id\",\"timestamp\")\\\n",
    ".groupBy(col(\"identifier\"),col(\"cat1\"),col(\"cat2\")).agg(countDistinct(to_date(\"timestamp\")).alias(\"frequency\"))\n",
    "\n",
    "total_spend.show(5)\n",
    "frequency.show(5)"
   ]
  },
  {
   "cell_type": "markdown",
   "metadata": {},
   "source": [
    "#### Combining data"
   ]
  },
  {
   "cell_type": "code",
   "execution_count": 7,
   "metadata": {
    "collapsed": false
   },
   "outputs": [
    {
     "name": "stdout",
     "output_type": "stream",
     "text": [
      "+--------------------+--------------------+----------------+-----------+---------+\n",
      "|          identifier|                cat1|            cat2|total_spend|frequency|\n",
      "+--------------------+--------------------+----------------+-----------+---------+\n",
      "|                null|Health & Personal...|    Bath & Body |       null|     null|\n",
      "| \"d.hives\"\"@sky.com\"|                null|            null|       null|     null|\n",
      "|                 #-@|                null|            null|       null|     null|\n",
      "|$$joeflinter@hotm...|                null|            null|       null|     null|\n",
      "|        ''@gmail.com|Clothing & Access...| Luggage & Bags |       null|     null|\n",
      "+--------------------+--------------------+----------------+-----------+---------+\n",
      "only showing top 5 rows\n",
      "\n"
     ]
    }
   ],
   "source": [
    "overall = data.filter((to_date(col(\"timestamp\"))>'2016-11-30') & (to_date(col(\"timestamp\"))<'2017-12-01')).select(\"identifier\",\"cat1\",\"cat2\").distinct()\n",
    "\n",
    "combined = overall.join(total_spend,[\"identifier\",\"cat1\",\"cat2\"],\"left\") \\\n",
    "                        .join(frequency,[\"identifier\",\"cat1\",\"cat2\"],\"left\") \n",
    "  \n",
    "final_combined = combined.selectExpr(\"identifier\",\"cat1\",\"cat2\",\"total_spend\",\"frequency\") \n",
    "                         \n",
    "final_combined.show(5)"
   ]
  },
  {
   "cell_type": "markdown",
   "metadata": {},
   "source": [
    "#### Percentile bins - Spend & Frequency Decile Buckets"
   ]
  },
  {
   "cell_type": "code",
   "execution_count": 8,
   "metadata": {
    "collapsed": false
   },
   "outputs": [
    {
     "name": "stdout",
     "output_type": "stream",
     "text": [
      "+--------------------+-------------+--------------------+------------------+---------+-----+---------+\n",
      "|                cat1|         cat2|          identifier|       total_spend|frequency|count|spend_bin|\n",
      "+--------------------+-------------+--------------------+------------------+---------+-----+---------+\n",
      "|Health & Personal...| Bath & Body |strood.businessce...|122.93999999999998|       10|38727|       10|\n",
      "|Health & Personal...| Bath & Body | peter@shopdirect.gi|103.44999999999999|       10|38727|       10|\n",
      "|Health & Personal...| Bath & Body |notsosweet99@yaho...|50.940000000000005|       10|38727|       10|\n",
      "|Health & Personal...| Bath & Body |malinaqvi@hotmail...|119.93999999999998|       10|38727|       10|\n",
      "|Health & Personal...| Bath & Body |clarke178@btinter...| 49.93000000000001|       10|38727|       10|\n",
      "+--------------------+-------------+--------------------+------------------+---------+-----+---------+\n",
      "only showing top 5 rows\n",
      "\n"
     ]
    }
   ],
   "source": [
    "from pyspark.sql.window import Window\n",
    "xx1=final_combined.groupBy(\"cat1\",\"cat2\") \\\n",
    "             .agg(count(\"*\").alias(\"count\"))  \n",
    "\n",
    "xx=final_combined.join(xx1,[\"cat1\",\"cat2\"],\"left\")\\\n",
    "                 .withColumn(\"spend_bin\", 11-ceil(10*((row_number().over(Window.partitionBy(\"cat1\",\"cat2\")\\\n",
    "                                                                   .orderBy(desc(\"total_spend\"))))/col('count')))) \\\n",
    "                 .withColumn(\"frequency\", 11-ceil(10*((row_number().over(Window.partitionBy(\"cat1\",\"cat2\")\\\n",
    "                                                                   .orderBy(desc(\"frequency\"))))/col('count')))) \n",
    "                 \n",
    "xx.show(5)"
   ]
  },
  {
   "cell_type": "markdown",
   "metadata": {},
   "source": [
    "#### Top preferred brand"
   ]
  },
  {
   "cell_type": "code",
   "execution_count": null,
   "metadata": {
    "collapsed": false
   },
   "outputs": [
    {
     "name": "stdout",
     "output_type": "stream",
     "text": [
      "+--------------------+--------------------+--------------------+-----------+-------------------+\n",
      "|          identifier|                cat1|                cat2|total_spend|top_preferred_brand|\n",
      "+--------------------+--------------------+--------------------+-----------+-------------------+\n",
      "|    ,10euw@gmail.com|Patio, Lawn & Gar...| Grills & Outdoor...|       5.99|       Other Brands|\n",
      "|,mark.paoace12@ho...|     Home & Kitchen |   Small Appliances |      29.99|    Morphy Richards|\n",
      "|          .@mail.com|        Electronics |     Camera & Photo |       79.9|             amazon|\n",
      "|          .@mail.com|     Home & Kitchen |           Cookware |      39.99|      Russell Hobbs|\n",
      "|          .@mail.com|    Office Products | Tape Adhesives &...|      19.99|       Other Brands|\n",
      "+--------------------+--------------------+--------------------+-----------+-------------------+\n",
      "only showing top 5 rows\n",
      "\n"
     ]
    }
   ],
   "source": [
    "total_spend_by_brand = df5.selectExpr(\"identifier\",\"cat1\",\"cat2\",\"brand\", \"item_total\")\\\n",
    ".groupBy(col(\"identifier\"),col(\"cat1\"),col(\"cat2\"),col(\"brand\")).agg(sum(\"item_total\").alias(\"total_spend\")).orderBy(\"identifier\",\"brand\")\n",
    "\n",
    "row_num = total_spend_by_brand.withColumn(\"rownum\",row_number().over(Window.partitionBy(\"identifier\",\"cat1\",\"cat2\")\\\n",
    "                                                                   .orderBy(desc(\"total_spend\"))))\n",
    "top_preferred_brand = row_num.filter(col(\"rownum\")==1).selectExpr(\"identifier\",\"cat1\",\"cat2\",\"total_spend\",\n",
    "                                                                  \"brand as top_preferred_brand\")\n",
    "top_preferred_brand.show(5)"
   ]
  },
  {
   "cell_type": "markdown",
   "metadata": {},
   "source": [
    "#### Category source of volume - Sub category level spend"
   ]
  },
  {
   "cell_type": "code",
   "execution_count": null,
   "metadata": {
    "collapsed": false
   },
   "outputs": [],
   "source": [
    "total_spend = df5.selectExpr(\"identifier\",\"cat1\",\"cat2\", \"item_total\")\\\n",
    ".groupBy(col(\"identifier\"),col(\"cat1\"),col(\"cat2\")).agg(sum(\"item_total\").alias(\"total_spend\"))\n",
    "\n",
    "total_spend.show(5)"
   ]
  },
  {
   "cell_type": "markdown",
   "metadata": {},
   "source": [
    "#### Shopper - day of week spend"
   ]
  },
  {
   "cell_type": "code",
   "execution_count": null,
   "metadata": {
    "codeCollapsed": false,
    "collapsed": false
   },
   "outputs": [],
   "source": [
    "xx=df5.selectExpr(\"identifier\",\"to_date(timestamp) as date\",\"item_total\")\\\n",
    ".groupBy(\"identifier\",\"date\").agg(sum(\"item_total\").alias(\"spend\"))\n",
    "yy=xx.withColumn(\"Day_of_week\",date_format(\"date\",\"E\")).groupBy(\"identifier\",\"Day_of_week\").agg(sum(\"spend\").alias(\"spend\"))\n",
    "abc=yy.withColumn(\"rownum\",row_number().over(Window.partitionBy(\"identifier\",\"Day_of_week\")\\\n",
    "                                                                   .orderBy(desc(\"spend\"))))\n",
    "top_preferred_day = abc.filter(col(\"rownum\")==1).selectExpr(\"identifier\",\"spend\",\n",
    "                                                                  \"Day_of_week as top_preferred_day\")\n",
    "top_preferred_day.show(5)"
   ]
  },
  {
   "cell_type": "markdown",
   "metadata": {},
   "source": [
    "#### Time of day - Shopper spends"
   ]
  },
  {
   "cell_type": "code",
   "execution_count": null,
   "metadata": {
    "collapsed": false
   },
   "outputs": [],
   "source": [
    "xx=df5.selectExpr(\"identifier\",\"timestamp\",\"item_total\").withColumn(\"Timestamp\",to_timestamp(\"timestamp\", 'yyyy-MM-dd HH:mm:ss'))\\\n",
    ".groupBy(\"identifier\",\"Timestamp\").agg(sum(\"item_total\").alias(\"spend\"))\n",
    "\n",
    "yy=xx.withColumn(\"Hour_of_day\",hour(\"Timestamp\")).groupBy(\"identifier\",\"Hour_of_day\").agg(sum(\"spend\").alias(\"spend\"))\n",
    "\n",
    "zz=yy.withColumn(\"Hour_bucket\", when(((col(\"Hour_of_day\")>=8) & (col(\"Hour_of_day\")<12)),\"8AM-12 noon\")\\\n",
    "                                .when(((col(\"Hour_of_day\")>=12) & (col(\"Hour_of_day\")<17)),\"12 noon-4PM\")\\\n",
    "                                .when(((col(\"Hour_of_day\")>=17) & (col(\"Hour_of_day\")<22)),\"5PM-10PM\"))\\\n",
    ".groupBy(\"identifier\",\"Hour_bucket\").agg(sum(\"spend\").alias(\"spend\"))\n",
    "abc=zz.withColumn(\"rownum\",row_number().over(Window.partitionBy(\"identifier\",\"Hour_bucket\")\\\n",
    "                                                                   .orderBy(desc(\"spend\"))))\n",
    "top_preferred_hour_bucket = abc.filter(col(\"rownum\")==1).selectExpr(\"identifier\",\"spend\",\n",
    "                                                                  \"Hour_bucket as top_preferred_hour_bucket\")\n",
    "top_preferred_hour_bucket.show(5)"
   ]
  }
 ],
 "metadata": {
  "kernelspec": {
   "display_name": "Python 2",
   "language": "python",
   "name": "python2"
  },
  "language_info": {
   "codemirror_mode": {
    "name": "ipython",
    "version": 2
   },
   "file_extension": ".py",
   "mimetype": "text/x-python",
   "name": "python",
   "nbconvert_exporter": "python",
   "pygments_lexer": "ipython2",
   "version": "2.7.12"
  }
 },
 "nbformat": 4,
 "nbformat_minor": 2
}
