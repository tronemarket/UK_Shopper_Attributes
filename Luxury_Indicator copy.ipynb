<!DOCTYPE html>
<!-- saved from url=(0076)http://localhost:8084/notebooks/UK_Shopper_Attributes/Luxury_Indicator.ipynb -->
<html><head><meta http-equiv="Content-Type" content="text/html; charset=windows-1252">
  <meta http-equiv="X-UA-Compatible" content="IE=edge">
  <title>Luxury_Indicator</title>
  <link rel="shortcut icon" type="image/x-icon" href="http://localhost:8084/static/favicon.ico">
  <meta name="viewport" content="width=device-width, initial-scale=1.0">

  <link rel="stylesheet" href="./Luxury_Indicator_files/codemirror.css">
  <link rel="stylesheet" href="./Luxury_Indicator_files/style.min.css" type="text/css">
  <link rel="stylesheet" href="./Luxury_Indicator_files/fonts.css" type="text/css">
  <link rel="stylesheet" href="./Luxury_Indicator_files/datalab.css" type="text/css">
  <link rel="stylesheet" id="themeStylesheet" href="./Luxury_Indicator_files/custom.css" type="text/css">
  <link rel="stylesheet" href="./Luxury_Indicator_files/jquery-ui.min.css">

  <script type="text/javascript" async="" src="./Luxury_Indicator_files/analytics.js"></script><script async="" src="./Luxury_Indicator_files/gtm.js"></script><script src="./Luxury_Indicator_files/jquery.min.js"></script>
  <script type="text/javascript" src="./Luxury_Indicator_files/MathJax.js" charset="utf-8"></script>
<script type="text/javascript" charset="utf-8" async="" data-requirecontext="_" data-requiremodule="notebook/js/main.min" src="./Luxury_Indicator_files/main.min.js"></script><script type="text/javascript" charset="utf-8" async="" data-requirecontext="_" data-requiremodule="services/contents" src="./Luxury_Indicator_files/contents.js"></script><script type="text/javascript" charset="utf-8" async="" data-requirecontext="_" data-requiremodule="custom" src="./Luxury_Indicator_files/custom.js"></script><script type="text/javascript" charset="utf-8" async="" data-requirecontext="_" data-requiremodule="appbar" src="./Luxury_Indicator_files/appbar.js"></script><script type="text/javascript" charset="utf-8" async="" data-requirecontext="_" data-requiremodule="edit-app" src="./Luxury_Indicator_files/edit-app.js"></script><script type="text/javascript" charset="utf-8" async="" data-requirecontext="_" data-requiremodule="notebook-app" src="./Luxury_Indicator_files/notebook-app.js"></script><script type="text/javascript" charset="utf-8" async="" data-requirecontext="_" data-requiremodule="notebook-list" src="./Luxury_Indicator_files/notebook-list.js"></script><script type="text/javascript" charset="utf-8" async="" data-requirecontext="_" data-requiremodule="minitoolbar" src="./Luxury_Indicator_files/minitoolbar.js"></script><script type="text/javascript" charset="utf-8" async="" data-requirecontext="_" data-requiremodule="websocket" src="./Luxury_Indicator_files/websocket.js"></script><script type="text/javascript" charset="utf-8" async="" data-requirecontext="_" data-requiremodule="idle-timeout" src="./Luxury_Indicator_files/idle-timeout.js"></script><script type="text/javascript" charset="utf-8" async="" data-requirecontext="_" data-requiremodule="util" src="./Luxury_Indicator_files/util.js"></script><style type="text/css">.MathJax_Hover_Frame {border-radius: .25em; -webkit-border-radius: .25em; -moz-border-radius: .25em; -khtml-border-radius: .25em; box-shadow: 0px 0px 15px #83A; -webkit-box-shadow: 0px 0px 15px #83A; -moz-box-shadow: 0px 0px 15px #83A; -khtml-box-shadow: 0px 0px 15px #83A; border: 1px solid #A6D ! important; display: inline-block; position: absolute}
.MathJax_Menu_Button .MathJax_Hover_Arrow {position: absolute; cursor: pointer; display: inline-block; border: 2px solid #AAA; border-radius: 4px; -webkit-border-radius: 4px; -moz-border-radius: 4px; -khtml-border-radius: 4px; font-family: 'Courier New',Courier; font-size: 9px; color: #F0F0F0}
.MathJax_Menu_Button .MathJax_Hover_Arrow span {display: block; background-color: #AAA; border: 1px solid; border-radius: 3px; line-height: 0; padding: 4px}
.MathJax_Hover_Arrow:hover {color: white!important; border: 2px solid #CCC!important}
.MathJax_Hover_Arrow:hover span {background-color: #CCC!important}
</style><style type="text/css">#MathJax_About {position: fixed; left: 50%; width: auto; text-align: center; border: 3px outset; padding: 1em 2em; background-color: #DDDDDD; color: black; cursor: default; font-family: message-box; font-size: 120%; font-style: normal; text-indent: 0; text-transform: none; line-height: normal; letter-spacing: normal; word-spacing: normal; word-wrap: normal; white-space: nowrap; float: none; z-index: 201; border-radius: 15px; -webkit-border-radius: 15px; -moz-border-radius: 15px; -khtml-border-radius: 15px; box-shadow: 0px 10px 20px #808080; -webkit-box-shadow: 0px 10px 20px #808080; -moz-box-shadow: 0px 10px 20px #808080; -khtml-box-shadow: 0px 10px 20px #808080; filter: progid:DXImageTransform.Microsoft.dropshadow(OffX=2, OffY=2, Color='gray', Positive='true')}
#MathJax_About.MathJax_MousePost {outline: none}
.MathJax_Menu {position: absolute; background-color: white; color: black; width: auto; padding: 5px 0px; border: 1px solid #CCCCCC; margin: 0; cursor: default; font: menu; text-align: left; text-indent: 0; text-transform: none; line-height: normal; letter-spacing: normal; word-spacing: normal; word-wrap: normal; white-space: nowrap; float: none; z-index: 201; border-radius: 5px; -webkit-border-radius: 5px; -moz-border-radius: 5px; -khtml-border-radius: 5px; box-shadow: 0px 10px 20px #808080; -webkit-box-shadow: 0px 10px 20px #808080; -moz-box-shadow: 0px 10px 20px #808080; -khtml-box-shadow: 0px 10px 20px #808080; filter: progid:DXImageTransform.Microsoft.dropshadow(OffX=2, OffY=2, Color='gray', Positive='true')}
.MathJax_MenuItem {padding: 1px 2em; background: transparent}
.MathJax_MenuArrow {position: absolute; right: .5em; padding-top: .25em; color: #666666; font-size: .75em}
.MathJax_MenuActive .MathJax_MenuArrow {color: white}
.MathJax_MenuArrow.RTL {left: .5em; right: auto}
.MathJax_MenuCheck {position: absolute; left: .7em}
.MathJax_MenuCheck.RTL {right: .7em; left: auto}
.MathJax_MenuRadioCheck {position: absolute; left: .7em}
.MathJax_MenuRadioCheck.RTL {right: .7em; left: auto}
.MathJax_MenuLabel {padding: 1px 2em 3px 1.33em; font-style: italic}
.MathJax_MenuRule {border-top: 1px solid #DDDDDD; margin: 4px 3px}
.MathJax_MenuDisabled {color: GrayText}
.MathJax_MenuActive {background-color: #606872; color: white}
.MathJax_MenuDisabled:focus, .MathJax_MenuLabel:focus {background-color: #E8E8E8}
.MathJax_ContextMenu:focus {outline: none}
.MathJax_ContextMenu .MathJax_MenuItem:focus {outline: none}
#MathJax_AboutClose {top: .2em; right: .2em}
.MathJax_Menu .MathJax_MenuClose {top: -10px; left: -10px}
.MathJax_MenuClose {position: absolute; cursor: pointer; display: inline-block; border: 2px solid #AAA; border-radius: 18px; -webkit-border-radius: 18px; -moz-border-radius: 18px; -khtml-border-radius: 18px; font-family: 'Courier New',Courier; font-size: 24px; color: #F0F0F0}
.MathJax_MenuClose span {display: block; background-color: #AAA; border: 1.5px solid; border-radius: 18px; -webkit-border-radius: 18px; -moz-border-radius: 18px; -khtml-border-radius: 18px; line-height: 0; padding: 8px 0 6px}
.MathJax_MenuClose:hover {color: white!important; border: 2px solid #CCC!important}
.MathJax_MenuClose:hover span {background-color: #CCC!important}
.MathJax_MenuClose:hover:focus {outline: none}
</style><style type="text/css">.MathJax_Preview .MJXf-math {color: inherit!important}
</style><style type="text/css">.MJX_Assistive_MathML {position: absolute!important; top: 0; left: 0; clip: rect(1px, 1px, 1px, 1px); padding: 1px 0 0 0!important; border: 0!important; height: 1px!important; width: 1px!important; overflow: hidden!important; display: block!important}
.MJX_Assistive_MathML.MJX_Assistive_MathML_Block {width: 100%!important}
</style><style type="text/css">#MathJax_Zoom {position: absolute; background-color: #F0F0F0; overflow: auto; display: block; z-index: 301; padding: .5em; border: 1px solid black; margin: 0; font-weight: normal; font-style: normal; text-align: left; text-indent: 0; text-transform: none; line-height: normal; letter-spacing: normal; word-spacing: normal; word-wrap: normal; white-space: nowrap; float: none; -webkit-box-sizing: content-box; -moz-box-sizing: content-box; box-sizing: content-box; box-shadow: 5px 5px 15px #AAAAAA; -webkit-box-shadow: 5px 5px 15px #AAAAAA; -moz-box-shadow: 5px 5px 15px #AAAAAA; -khtml-box-shadow: 5px 5px 15px #AAAAAA; filter: progid:DXImageTransform.Microsoft.dropshadow(OffX=2, OffY=2, Color='gray', Positive='true')}
#MathJax_ZoomOverlay {position: absolute; left: 0; top: 0; z-index: 300; display: inline-block; width: 100%; height: 100%; border: 0; padding: 0; margin: 0; background-color: white; opacity: 0; filter: alpha(opacity=0)}
#MathJax_ZoomFrame {position: relative; display: inline-block; height: 0; width: 0}
#MathJax_ZoomEventTrap {position: absolute; left: 0; top: 0; z-index: 302; display: inline-block; border: 0; padding: 0; margin: 0; background-color: white; opacity: 0; filter: alpha(opacity=0)}
</style><style type="text/css">.MathJax_Preview {color: #888}
#MathJax_Message {position: fixed; left: 1em; bottom: 1.5em; background-color: #E6E6E6; border: 1px solid #959595; margin: 0px; padding: 2px 8px; z-index: 102; color: black; font-size: 80%; width: auto; white-space: nowrap}
#MathJax_MSIE_Frame {position: absolute; top: 0; left: 0; width: 0px; z-index: 101; border: 0px; margin: 0px; padding: 0px}
.MathJax_Error {color: #CC0000; font-style: italic}
</style><style type="text/css">.MJXp-script {font-size: .8em}
.MJXp-right {-webkit-transform-origin: right; -moz-transform-origin: right; -ms-transform-origin: right; -o-transform-origin: right; transform-origin: right}
.MJXp-bold {font-weight: bold}
.MJXp-italic {font-style: italic}
.MJXp-scr {font-family: MathJax_Script,'Times New Roman',Times,STIXGeneral,serif}
.MJXp-frak {font-family: MathJax_Fraktur,'Times New Roman',Times,STIXGeneral,serif}
.MJXp-sf {font-family: MathJax_SansSerif,'Times New Roman',Times,STIXGeneral,serif}
.MJXp-cal {font-family: MathJax_Caligraphic,'Times New Roman',Times,STIXGeneral,serif}
.MJXp-mono {font-family: MathJax_Typewriter,'Times New Roman',Times,STIXGeneral,serif}
.MJXp-largeop {font-size: 150%}
.MJXp-largeop.MJXp-int {vertical-align: -.2em}
.MJXp-math {display: inline-block; line-height: 1.2; text-indent: 0; font-family: 'Times New Roman',Times,STIXGeneral,serif; white-space: nowrap; border-collapse: collapse}
.MJXp-display {display: block; text-align: center; margin: 1em 0}
.MJXp-math span {display: inline-block}
.MJXp-box {display: block!important; text-align: center}
.MJXp-box:after {content: " "}
.MJXp-rule {display: block!important; margin-top: .1em}
.MJXp-char {display: block!important}
.MJXp-mo {margin: 0 .15em}
.MJXp-mfrac {margin: 0 .125em; vertical-align: .25em}
.MJXp-denom {display: inline-table!important; width: 100%}
.MJXp-denom > * {display: table-row!important}
.MJXp-surd {vertical-align: top}
.MJXp-surd > * {display: block!important}
.MJXp-script-box > *  {display: table!important; height: 50%}
.MJXp-script-box > * > * {display: table-cell!important; vertical-align: top}
.MJXp-script-box > *:last-child > * {vertical-align: bottom}
.MJXp-script-box > * > * > * {display: block!important}
.MJXp-mphantom {visibility: hidden}
.MJXp-munderover {display: inline-table!important}
.MJXp-over {display: inline-block!important; text-align: center}
.MJXp-over > * {display: block!important}
.MJXp-munderover > * {display: table-row!important}
.MJXp-mtable {vertical-align: .25em; margin: 0 .125em}
.MJXp-mtable > * {display: inline-table!important; vertical-align: middle}
.MJXp-mtr {display: table-row!important}
.MJXp-mtd {display: table-cell!important; text-align: center; padding: .5em 0 0 .5em}
.MJXp-mtr > .MJXp-mtd:first-child {padding-left: 0}
.MJXp-mtr:first-child > .MJXp-mtd {padding-top: 0}
.MJXp-mlabeledtr {display: table-row!important}
.MJXp-mlabeledtr > .MJXp-mtd:first-child {padding-left: 0}
.MJXp-mlabeledtr:first-child > .MJXp-mtd {padding-top: 0}
.MJXp-merror {background-color: #FFFF88; color: #CC0000; border: 1px solid #CC0000; padding: 1px 3px; font-style: normal; font-size: 90%}
.MJXp-scale0 {-webkit-transform: scaleX(.0); -moz-transform: scaleX(.0); -ms-transform: scaleX(.0); -o-transform: scaleX(.0); transform: scaleX(.0)}
.MJXp-scale1 {-webkit-transform: scaleX(.1); -moz-transform: scaleX(.1); -ms-transform: scaleX(.1); -o-transform: scaleX(.1); transform: scaleX(.1)}
.MJXp-scale2 {-webkit-transform: scaleX(.2); -moz-transform: scaleX(.2); -ms-transform: scaleX(.2); -o-transform: scaleX(.2); transform: scaleX(.2)}
.MJXp-scale3 {-webkit-transform: scaleX(.3); -moz-transform: scaleX(.3); -ms-transform: scaleX(.3); -o-transform: scaleX(.3); transform: scaleX(.3)}
.MJXp-scale4 {-webkit-transform: scaleX(.4); -moz-transform: scaleX(.4); -ms-transform: scaleX(.4); -o-transform: scaleX(.4); transform: scaleX(.4)}
.MJXp-scale5 {-webkit-transform: scaleX(.5); -moz-transform: scaleX(.5); -ms-transform: scaleX(.5); -o-transform: scaleX(.5); transform: scaleX(.5)}
.MJXp-scale6 {-webkit-transform: scaleX(.6); -moz-transform: scaleX(.6); -ms-transform: scaleX(.6); -o-transform: scaleX(.6); transform: scaleX(.6)}
.MJXp-scale7 {-webkit-transform: scaleX(.7); -moz-transform: scaleX(.7); -ms-transform: scaleX(.7); -o-transform: scaleX(.7); transform: scaleX(.7)}
.MJXp-scale8 {-webkit-transform: scaleX(.8); -moz-transform: scaleX(.8); -ms-transform: scaleX(.8); -o-transform: scaleX(.8); transform: scaleX(.8)}
.MJXp-scale9 {-webkit-transform: scaleX(.9); -moz-transform: scaleX(.9); -ms-transform: scaleX(.9); -o-transform: scaleX(.9); transform: scaleX(.9)}
.MathJax_PHTML .noError {vertical-align: ; font-size: 90%; text-align: left; color: black; padding: 1px 3px; border: 1px solid}
</style><script type="text/javascript" charset="utf-8" async="" data-requirecontext="_" data-requiremodule="nbextensions/jupyter-js-widgets/extension" src="./Luxury_Indicator_files/extension.js"></script><style type="text/css">.MathJax_Display {text-align: center; margin: 0; position: relative; display: block!important; text-indent: 0; max-width: none; max-height: none; min-width: 0; min-height: 0; width: 100%}
.MathJax .merror {background-color: #FFFF88; color: #CC0000; border: 1px solid #CC0000; padding: 1px 3px; font-style: normal; font-size: 90%}
.MathJax .MJX-monospace {font-family: monospace}
.MathJax .MJX-sans-serif {font-family: sans-serif}
#MathJax_Tooltip {background-color: InfoBackground; color: InfoText; border: 1px solid black; box-shadow: 2px 2px 5px #AAAAAA; -webkit-box-shadow: 2px 2px 5px #AAAAAA; -moz-box-shadow: 2px 2px 5px #AAAAAA; -khtml-box-shadow: 2px 2px 5px #AAAAAA; filter: progid:DXImageTransform.Microsoft.dropshadow(OffX=2, OffY=2, Color='gray', Positive='true'); padding: 3px 4px; z-index: 401; position: absolute; left: 0; top: 0; width: auto; height: auto; display: none}
.MathJax {display: inline; font-style: normal; font-weight: normal; line-height: normal; font-size: 100%; font-size-adjust: none; text-indent: 0; text-align: left; text-transform: none; letter-spacing: normal; word-spacing: normal; word-wrap: normal; white-space: nowrap; float: none; direction: ltr; max-width: none; max-height: none; min-width: 0; min-height: 0; border: 0; padding: 0; margin: 0}
.MathJax:focus, body :focus .MathJax {display: inline-table}
.MathJax img, .MathJax nobr, .MathJax a {border: 0; padding: 0; margin: 0; max-width: none; max-height: none; min-width: 0; min-height: 0; vertical-align: 0; line-height: normal; text-decoration: none}
img.MathJax_strut {border: 0!important; padding: 0!important; margin: 0!important; vertical-align: 0!important}
.MathJax span {display: inline; position: static; border: 0; padding: 0; margin: 0; vertical-align: 0; line-height: normal; text-decoration: none}
.MathJax nobr {white-space: nowrap!important}
.MathJax img {display: inline!important; float: none!important}
.MathJax * {transition: none; -webkit-transition: none; -moz-transition: none; -ms-transition: none; -o-transition: none}
.MathJax_Processing {visibility: hidden; position: fixed; width: 0; height: 0; overflow: hidden}
.MathJax_Processed {display: none!important}
.MathJax_ExBox {display: block!important; overflow: hidden; width: 1px; height: 60ex; min-height: 0; max-height: none}
.MathJax .MathJax_EmBox {display: block!important; overflow: hidden; width: 1px; height: 60em; min-height: 0; max-height: none}
.MathJax .MathJax_HitBox {cursor: text; background: white; opacity: 0; filter: alpha(opacity=0)}
.MathJax .MathJax_HitBox * {filter: none; opacity: 1; background: transparent}
#MathJax_Tooltip * {filter: none; opacity: 1; background: transparent}
@font-face {font-family: MathJax_Blank; src: url('about:blank')}
.MathJax .noError {vertical-align: ; font-size: 90%; text-align: left; color: black; padding: 1px 3px; border: 1px solid}
</style><style type="text/css">/*
 +------------------------------------------+
 | widget-area                              |
 |  +--------+---------------------------+  |
 |  | prompt | widget-subarea            |  |
 |  |        | +-----------------------+ |  |
 |  |        | |         widget        | |  |
 |  |        | +-----------------------+ |  |
 |  |        | +-----------------------+ |  |
 |  |        | |         widget        | |  |
 |  |        | +-----------------------+ |  |
 |  +--------+---------------------------+  |
 +------------------------------------------+
*/

.widget-area {
	page-break-inside : avoid;
    display: -webkit-box;
    display: -ms-flexbox;
    display: flex;
    -webkit-box-orient: horizontal;
    -webkit-box-direction: normal;
        -ms-flex-direction: row;
            flex-direction: row;
    -webkit-box-align: stretch;
        -ms-flex-align: stretch;
            align-items: stretch;
}

.widget-area.connection-problems .prompt:after {
    content: "\F127"; /* chain-broken */
    font-family: "FontAwesome";
    color: #d9534f;
    top: 3px;
    padding: 3px;
}

.widget-area .widget-subarea {
    min-width: 0px;
    padding: 0.4em 0 0.4em 0;
    display: -webkit-box;
    display: -ms-flexbox;
    display: flex;
    -webkit-box-flex: 2;
        -ms-flex: 2;
            flex: 2;
    -webkit-box-align: start;
        -ms-flex-align: start;
            align-items: flex-start;
    -webkit-box-orient: vertical;
    -webkit-box-direction: normal;
        -ms-flex-direction: column;
            flex-direction: column;
    -webkit-box-align: stretch;
        -ms-flex-align: stretch;
            align-items: stretch;
    box-sizing: border-box;
    -moz-box-sizing: border-box;
    -webkit-box-sizing: border-box;
}
</style><style type="text/css">/*-----------------------------------------------------------------------------
| Copyright (c) 2014-2016, PhosphorJS Contributors
|
| Distributed under the terms of the BSD 3-Clause License.
|
| The full license is in the file LICENSE, distributed with this software.
|----------------------------------------------------------------------------*/


/*-----------------------------------------------------------------------------
| dom/cursor
|----------------------------------------------------------------------------*/


body.p-mod-override-cursor * {
  cursor: inherit !important;
}


/*-----------------------------------------------------------------------------
| ui/widget
|----------------------------------------------------------------------------*/


.p-Widget {
  box-sizing: border-box;
  position: relative;
  overflow: hidden;
  cursor: default;
}


.p-Widget.p-mod-hidden {
  display: none;
}


/*-----------------------------------------------------------------------------
| ui/commandpalette
|----------------------------------------------------------------------------*/


.p-CommandPalette {
  display: -webkit-box;
  display: -ms-flexbox;
  display: flex;
  -webkit-box-orient: vertical;
  -webkit-box-direction: normal;
      -ms-flex-direction: column;
          flex-direction: column;
  -webkit-user-select: none;
  -moz-user-select: none;
  -ms-user-select: none;
  user-select: none;
}


.p-CommandPalette-search {
  -webkit-box-flex: 0;
      -ms-flex: 0 0 auto;
          flex: 0 0 auto;
}


.p-CommandPalette-content {
  -webkit-box-flex: 1;
      -ms-flex: 1 1 auto;
          flex: 1 1 auto;
  margin: 0;
  padding: 0;
  min-height: 0;
  overflow: auto;
  list-style-type: none;
}


.p-CommandPalette-header {
  overflow: hidden;
  white-space: nowrap;
  text-overflow: ellipsis;
  text-transform: capitalize;
}


.p-CommandPalette-itemShortcut {
  float: right;
}


.p-CommandPalette-itemLabel {
  overflow: hidden;
  white-space: nowrap;
  text-overflow: ellipsis;
}


/*-----------------------------------------------------------------------------
| ui/menu
|----------------------------------------------------------------------------*/


.p-Menu {
  position: absolute;
  white-space: nowrap;
  overflow-x: hidden;
  overflow-y: auto;
  outline: none;
  -webkit-user-select: none;
  -moz-user-select: none;
  -ms-user-select: none;
  user-select: none;
}


.p-Menu-content {
  margin: 0;
  padding: 0;
  display: table;
  list-style-type: none;
}


.p-Menu-item {
  display: table-row;
}


.p-Menu-item.p-mod-hidden {
  display: none;
}


.p-Menu-itemIcon,
.p-Menu-itemSubmenuIcon {
  display: table-cell;
  text-align: center;
}


.p-Menu-itemLabel {
  display: table-cell;
  text-align: left;
}


.p-Menu-itemShortcut {
  display: table-cell;
  text-align: right;
}


/*-----------------------------------------------------------------------------
| ui/menubar
|----------------------------------------------------------------------------*/


.p-MenuBar {
  outline: none;
  -webkit-user-select: none;
  -moz-user-select: none;
  -ms-user-select: none;
  user-select: none;
}


.p-MenuBar-content {
  margin: 0;
  padding: 0;
  display: -webkit-box;
  display: -ms-flexbox;
  display: flex;
  -webkit-box-orient: horizontal;
  -webkit-box-direction: normal;
      -ms-flex-direction: row;
          flex-direction: row;
  list-style-type: none;
}


.p-MenuBar-item {
  box-sizing: border-box;
}


.p-MenuBar-itemIcon,
.p-MenuBar-itemLabel {
  display: inline-block;
}


/*-----------------------------------------------------------------------------
| ui/splitpanel
|----------------------------------------------------------------------------*/


.p-SplitPanel-child {
  z-index: 0;
}


.p-SplitPanel-handle {
  z-index: 1;
}


.p-SplitPanel-handle.p-mod-hidden {
  display: none;
}


.p-SplitPanel-handle:after {
  position: absolute;
  top: 0;
  left: 0;
  width: 100%;
  height: 100%;
  content: '';
}


.p-SplitPanel.p-mod-horizontal > .p-SplitPanel-handle {
  cursor: ew-resize;
}


.p-SplitPanel.p-mod-vertical > .p-SplitPanel-handle {
  cursor: ns-resize;
}


.p-SplitPanel.p-mod-horizontal > .p-SplitPanel-handle:after {
  left: 50%;
  min-width: 8px;
  -webkit-transform: translateX(-50%);
          transform: translateX(-50%);
}


.p-SplitPanel.p-mod-vertical > .p-SplitPanel-handle:after {
  top: 50%;
  min-height: 8px;
  -webkit-transform: translateY(-50%);
          transform: translateY(-50%);
}


/*-----------------------------------------------------------------------------
| ui/tabbar
|----------------------------------------------------------------------------*/


.p-TabBar {
  display: -webkit-box;
  display: -ms-flexbox;
  display: flex;
  -webkit-user-select: none;
  -moz-user-select: none;
  -ms-user-select: none;
  user-select: none;
}


.p-TabBar.p-mod-horizontal {
  -webkit-box-orient: horizontal;
  -webkit-box-direction: normal;
      -ms-flex-direction: row;
          flex-direction: row;
}


.p-TabBar.p-mod-vertical {
  -webkit-box-orient: vertical;
  -webkit-box-direction: normal;
      -ms-flex-direction: column;
          flex-direction: column;
}


.p-TabBar-content {
  margin: 0;
  padding: 0;
  display: -webkit-box;
  display: -ms-flexbox;
  display: flex;
  -webkit-box-flex: 1;
      -ms-flex: 1 1 auto;
          flex: 1 1 auto;
  list-style-type: none;
}


.p-TabBar.p-mod-horizontal > .p-TabBar-content {
  -webkit-box-orient: horizontal;
  -webkit-box-direction: normal;
      -ms-flex-direction: row;
          flex-direction: row;
}


.p-TabBar.p-mod-vertical > .p-TabBar-content {
  -webkit-box-orient: vertical;
  -webkit-box-direction: normal;
      -ms-flex-direction: column;
          flex-direction: column;
}


.p-TabBar-tab {
  display: -webkit-box;
  display: -ms-flexbox;
  display: flex;
  -webkit-box-orient: horizontal;
  -webkit-box-direction: normal;
      -ms-flex-direction: row;
          flex-direction: row;
  box-sizing: border-box;
  overflow: hidden;
}


.p-TabBar-tabIcon,
.p-TabBar-tabCloseIcon {
  -webkit-box-flex: 0;
      -ms-flex: 0 0 auto;
          flex: 0 0 auto;
}


.p-TabBar-tabLabel {
  -webkit-box-flex: 1;
      -ms-flex: 1 1 auto;
          flex: 1 1 auto;
  overflow: hidden;
  white-space: nowrap;
}


.p-TabBar-tab.p-mod-hidden {
  display: none;
}


.p-TabBar.p-mod-dragging .p-TabBar-tab {
  position: relative;
}


.p-TabBar.p-mod-horizontal.p-mod-dragging .p-TabBar-tab {
  left: 0;
  transition: left 150ms ease;
}


.p-TabBar.p-mod-vertical.p-mod-dragging .p-TabBar-tab {
  top: 0;
  transition: top 150ms ease;
}


.p-TabBar.p-mod-dragging .p-TabBar-tab.p-mod-dragging {
  transition: none;
}


/*-----------------------------------------------------------------------------
| ui/tabpanel
|----------------------------------------------------------------------------*/


.p-TabPanel-tabBar {
  z-index: 1;
}


.p-TabPanel-stackedPanel {
  z-index: 0;
}


/*-----------------------------------------------------------------------------
| ui/dockpanel
|----------------------------------------------------------------------------*/


.p-DockPanel {
  z-index: 0;
}


.p-DockPanel-widget {
  z-index: 0;
}


.p-DockPanel-tabBar {
  z-index: 1;
}


.p-DockPanel-handle {
  z-index: 2;
}


.p-DockPanel-handle.p-mod-hidden {
  display: none;
}


.p-DockPanel-handle:after {
  position: absolute;
  top: 0;
  left: 0;
  width: 100%;
  height: 100%;
  content: '';
}


.p-DockPanel-handle.p-mod-horizontal {
  cursor: ew-resize;
}


.p-DockPanel-handle.p-mod-vertical {
  cursor: ns-resize;
}


.p-DockPanel-handle.p-mod-horizontal:after {
  left: 50%;
  min-width: 8px;
  -webkit-transform: translateX(-50%);
          transform: translateX(-50%);
}


.p-DockPanel-handle.p-mod-vertical:after {
  top: 50%;
  min-height: 8px;
  -webkit-transform: translateY(-50%);
          transform: translateY(-50%);
}


.p-DockPanel-overlay {
  z-index: 3;
  box-sizing: border-box;
  pointer-events: none;
}


.p-DockPanel-overlay.p-mod-hidden {
  display: none;
}
</style><style type="text/css">/* Copyright (c) Jupyter Development Team.
 * Distributed under the terms of the Modified BSD License.
 */

/* We import all of these together in a single css file because the Webpack
loader sees only one file at a time. This allows postcss to see the variable
definitions when they are used. */

/*-----------------------------------------------------------------------------
| Copyright (c) Jupyter Development Team.
| Distributed under the terms of the Modified BSD License.
|----------------------------------------------------------------------------*/

/**
 * The material design colors are adapted from google-material-color v1.2.6
 * https://github.com/danlevan/google-material-color
 * https://github.com/danlevan/google-material-color/blob/f67ca5f4028b2f1b34862f64b0ca67323f91b088/dist/palette.var.css
 *
 * The license for the material design color CSS variables is as follows (see
 * https://github.com/danlevan/google-material-color/blob/f67ca5f4028b2f1b34862f64b0ca67323f91b088/LICENSE)
 *
 * The MIT License (MIT)
 *
 * Copyright (c) 2014 Dan Le Van
 *
 * Permission is hereby granted, free of charge, to any person obtaining a copy
 * of this software and associated documentation files (the "Software"), to deal
 * in the Software without restriction, including without limitation the rights
 * to use, copy, modify, merge, publish, distribute, sublicense, and/or sell
 * copies of the Software, and to permit persons to whom the Software is
 * furnished to do so, subject to the following conditions:
 *
 * The above copyright notice and this permission notice shall be included in
 * all copies or substantial portions of the Software.
 *
 * THE SOFTWARE IS PROVIDED "AS IS", WITHOUT WARRANTY OF ANY KIND, EXPRESS OR
 * IMPLIED, INCLUDING BUT NOT LIMITED TO THE WARRANTIES OF MERCHANTABILITY,
 * FITNESS FOR A PARTICULAR PURPOSE AND NONINFRINGEMENT. IN NO EVENT SHALL THE
 * AUTHORS OR COPYRIGHT HOLDERS BE LIABLE FOR ANY CLAIM, DAMAGES OR OTHER
 * LIABILITY, WHETHER IN AN ACTION OF CONTRACT, TORT OR OTHERWISE, ARISING FROM,
 * OUT OF OR IN CONNECTION WITH THE SOFTWARE OR THE USE OR OTHER DEALINGS IN THE
 * SOFTWARE.
 */

/*
The following CSS variables define the main, public API for styling JupyterLab.
These variables should be used by all plugins wherever possible. In other
words, plugins should not define custom colors, sizes, etc unless absolutely
necessary. This enables users to change the visual theme of JupyterLab
by changing these variables.

Many variables appear in an ordered sequence (0,1,2,3). These sequences
are designed to work well together, so for example, `--jp-border-color1` should
be used with `--jp-layout-color1`. The numbers have the following meanings:

* 0: super-primary, reserved for special emphasis
* 1: primary, most important under normal situations
* 2: secondary, next most important under normal situations
* 3: tertiary, next most important under normal situations

Throughout JupyterLab, we are mostly following principles from Google's
Material Design when selecting colors. We are not, however, following 
all of MD as it is not optimized for dense, information rich UIs.
*/

:root {

  /* Borders
  
  The following variables, specify the visual styling of borders in JupyterLab.
   */

  /* UI Fonts
  
  The UI font CSS variables are used for the typography all of the JupyterLab
  user interface elements that are not directly user generated content.
  */ /* Base font size */ /* Ensures px perfect FontAwesome icons */

  /* Use these font colors against the corresponding main layout colors.
     In a light theme, these go from dark to light.
  */
  
  /* Use these against the brand/accent/warn/error colors.
     These will typically go from light to darker, in both a dark and light theme
   */

  /* Content Fonts
  
  Content font variables are used for typography of user generated content.
  */ /* Base font size */

  /* Layout
  
  The following are the main layout colors use in JupyterLab. In a light
  theme these would go from light to dark.
  */

  /* Brand/accent */

  /* State colors (warn, error, success, info) */

}

/* Copyright (c) Jupyter Development Team.
 * Distributed under the terms of the Modified BSD License.
 */

/*
 * We assume that the CSS variables in
 * https://github.com/jupyterlab/jupyterlab/blob/master/src/default-theme/variables.css
 * have been defined.
 */

:root { /* margin between inline elements */

    /* From Material Design Lite */
}

.jupyter-widgets {
    margin: 2px;
    box-sizing: border-box;
    color: black;
    overflow: visible;
}

.jp-Output-result > .jupyter-widgets {
    margin-left: 0;
    margin-right: 0;
}

/* vbox and hbox */

.widget-inline-hbox {
    /* Horizontal widgets */
    box-sizing: border-box;
    display: -webkit-box;
    display: -ms-flexbox;
    display: flex;
    -webkit-box-orient: horizontal;
    -webkit-box-direction: normal;
        -ms-flex-direction: row;
            flex-direction: row;
    -webkit-box-align: baseline;
        -ms-flex-align: baseline;
            align-items: baseline;
}

.widget-inline-vbox {
    /* Vertical Widgets */
    box-sizing: border-box;
    display: -webkit-box;
    display: -ms-flexbox;
    display: flex;
    -webkit-box-orient: vertical;
    -webkit-box-direction: normal;
        -ms-flex-direction: column;
            flex-direction: column;
    -webkit-box-align: stretch;
        -ms-flex-align: stretch;
            align-items: stretch;
}

.widget-box {
    box-sizing: border-box;
    display: -webkit-box;
    display: -ms-flexbox;
    display: flex;
    margin: 0;
}

.widget-hbox {
    -webkit-box-orient: horizontal;
    -webkit-box-direction: normal;
        -ms-flex-direction: row;
            flex-direction: row;
}

.widget-vbox {
    -webkit-box-orient: vertical;
    -webkit-box-direction: normal;
        -ms-flex-direction: column;
            flex-direction: column;
}

/* General Button Styling */

.jupyter-button {
    padding: 0;
    display: inline-block;
    white-space: nowrap;
    overflow: hidden;
    text-overflow: ellipsis;
    text-align: center;
    font-size: 13px;
    cursor: pointer;

    height: 28px;
    border: 0px solid;
    line-height: 28px;
    box-shadow: none;

    color: rgba(0, 0, 0, .87);
    background-color: #EEEEEE;
    border-color: #E0E0E0;
    border: none;
}

.jupyter-button i.fa {
    margin-right: 4px;
    pointer-events: none;
}

.jupyter-button:empty:before {
    content: "\200B"; /* zero-width space */
}

.jupyter-button i.fa.center {
    margin-right: 0;
}

.jupyter-button:hover, .jupyter-button:focus {
    /* MD Lite 2dp shadow */
    box-shadow: 0 2px 2px 0 rgba(0, 0, 0, .14),
                0 3px 1px -2px rgba(0, 0, 0, .2),
                0 1px 5px 0 rgba(0, 0, 0, .12);
}

.jupyter-button:active, .jupyter-button.mod-active {
    /* MD Lite 4dp shadow */
    box-shadow: 0 4px 5px 0 rgba(0, 0, 0, .14),
                0 1px 10px 0 rgba(0, 0, 0, .12),
                0 2px 4px -1px rgba(0, 0, 0, .2);
    color: rgba(0, 0, 0, .87);
    background-color: #BDBDBD;
}

.jupyter-button:focus {
    outline: 1px solid #64B5F6;
}

/* Button "Primary" Styling */

.jupyter-button.mod-primary {
    color: rgba(255, 255, 255, 1.0);
    background-color: #2196F3;
}

.jupyter-button.mod-primary.mod-active {
    color: rgba(255, 255, 255, 1);
    background-color: #1976D2;
}

.jupyter-button.mod-primary:active {
    color: rgba(255, 255, 255, 1);
    background-color: #1976D2;
}

/* Button "Success" Styling */

.jupyter-button.mod-success {
    color: rgba(255, 255, 255, 1.0);
    background-color: #4CAF50;
}

.jupyter-button.mod-success.mod-active {
    color: rgba(255, 255, 255, 1);
    background-color: #388E3C;
 }

.jupyter-button.mod-success:active {
    color: rgba(255, 255, 255, 1);
    background-color: #388E3C;
 }

/* Button "Info" Styling */

.jupyter-button.mod-info {
    color: rgba(255, 255, 255, 1.0);
    background-color: #00BCD4;
}

.jupyter-button.mod-info.mod-active {
    color: rgba(255, 255, 255, 1);
    background-color: #0097A7;
}

.jupyter-button.mod-info:active {
    color: rgba(255, 255, 255, 1);
    background-color: #0097A7;
}

/* Button "Warning" Styling */

.jupyter-button.mod-warning {
    color: rgba(255, 255, 255, 1.0);
    background-color: #FF9800;
}

.jupyter-button.mod-warning.mod-active {
    color: rgba(255, 255, 255, 1);
    background-color: #F57C00;
}

.jupyter-button.mod-warning:active {
    color: rgba(255, 255, 255, 1);
    background-color: #F57C00;
}

/* Button "Danger" Styling */

.jupyter-button.mod-danger {
    color: rgba(255, 255, 255, 1.0);
    background-color: #F44336;
}

.jupyter-button.mod-danger.mod-active {
    color: rgba(255, 255, 255, 1);
    background-color: #D32F2F;
}

.jupyter-button.mod-danger:active {
    color: rgba(255, 255, 255, 1);
    background-color: #D32F2F;
}

/* Widget Button*/

.widget-button, .widget-toggle-button {
    width: 148px;
}

/* Widget Label Styling */

.widget-label {
    /* Label */
    color: black;
    font-size: 13px;
    overflow: hidden;
    text-overflow: ellipsis;
    white-space: nowrap;
    line-height: 28px;
    max-width: 300px;
}

.jupyter-widgets.widget-label {
    width: 72px;
}

.widget-inline-hbox .widget-label {
    /* Horizontal Widget Label */
    color: black;
    text-align: right;
    margin-right: 4px;
    max-width: 148px;
    min-width: 80px;
    -ms-flex-negative: 0;
        flex-shrink: 0;
}

.widget-inline-vbox .widget-label {
    /* Vertical Widget Label */
    color: black;
    text-align: center;
}

/* Widget Readout Styling */

.widget-readout {
    color: black;
    font-size: 13px;
    height: 28px;
    line-height: 28px;
    margin-left: 4px;
    overflow: hidden;
    white-space: nowrap;
    text-align: center;
}

.widget-readout.overflow {
    /* Overflowing Readout */

    /* From Material Design Lite
        shadow-key-umbra-opacity: 0.2;
        shadow-key-penumbra-opacity: 0.14;
        shadow-ambient-shadow-opacity: 0.12;
     */

    box-shadow: 0 2px 2px 0 rgba(0, 0, 0, .2),
                0 3px 1px -2px rgba(0, 0, 0, .14),
                0 1px 5px 0 rgba(0, 0, 0, .12);
}

.widget-inline-hbox .widget-readout {
    /* Horizontal Readout */
    text-align: center;
    max-width: 148px;
    min-width: 72px;
    margin-left: 4px;
}

.widget-inline-vbox .widget-readout {
    /* Vertical Readout */
    margin-top: 4px;
}

/* Widget Checkbox Styling */

.widget-checkbox {
    width: 148px;
    height: 28px;
    line-height: 28px;
    -webkit-box-pack: justify;
        -ms-flex-pack: justify;
            justify-content: space-between;
}

.widget-checkbox input[type="checkbox"] {
    margin: 0px 4px 0px 4px;
    line-height: 28px;
    font-size: large;
    -webkit-box-flex: 1;
        -ms-flex-positive: 1;
            flex-grow: 1;
    -ms-flex-negative: 0;
        flex-shrink: 0;
    -ms-flex-item-align: center;
        -ms-grid-row-align: center;
        align-self: center;
}

/* Widget Valid Styling */

.widget-valid {
    height: 28px;
    line-height: 28px;
    width: 148px;
    font-size: 13px;
}

.widget-valid i:before {
    height: 28px;
    line-height: 28px;
    margin-right: 4px;
    margin-left: 4px;

    /* from the fa class in FontAwesome: https://github.com/FortAwesome/Font-Awesome/blob/49100c7c3a7b58d50baa71efef11af41a66b03d3/css/font-awesome.css#L14 */
    display: inline-block;
    font: normal normal normal 14px/1 FontAwesome;
    font-size: inherit;
    text-rendering: auto;
    -webkit-font-smoothing: antialiased;
    -moz-osx-font-smoothing: grayscale;
}

.widget-valid.mod-valid i:before {
    content: "\F00C";
    color: green;
}

.widget-valid.mod-invalid i:before {
    content: "\F00D";
    color: red;
}

.widget-valid.mod-valid .widget-valid-readout {
    display: none;
}

/* Widget Text and TextArea Stying */

.widget-textarea, .widget-text {
    width: 300px;
}

.widget-text input[type="text"] {
    height: 28px;
    line-height: 28px;
}

.widget-text input[type="text"], .widget-textarea textarea {
    box-sizing: border-box;
    border: 1px solid #9E9E9E;
    background-color: white;
    color: rgba(0, 0, 0, .87);
    font-size: 13px;
    padding: 4px 8px;
    -webkit-box-flex: 1;
        -ms-flex-positive: 1;
            flex-grow: 1;
    min-width: 0; /* This makes it possible for the flexbox to shrink this input */
    -ms-flex-negative: 1;
        flex-shrink: 1;
    outline: none !important;
    line-height: 1.5;
}

.widget-textarea textarea {
    height: inherit;
    width: inherit;
}

.widget-text input:focus, .widget-textarea textarea:focus {
    border-color: #64B5F6;
}

/* Widget Slider */

.widget-slider .ui-slider {
    /* Slider Track */
    border: 1px solid #BDBDBD;
    background: #BDBDBD;
    box-sizing: border-box;
    position: relative;
    border-radius: 0px;
}

.widget-slider .ui-slider .ui-slider-handle {
    /* Slider Handle */
    outline: none !important; /* focused slider handles are colored - see below */
    position: absolute;
    background-color: white;
    border: 1px solid #9E9E9E;
    box-sizing: border-box;
    z-index: 1;
    background-image: none; /* Override jquery-ui */
}

/* Override jquery-ui */

.widget-slider .ui-slider .ui-slider-handle:hover, .widget-slider .ui-slider .ui-slider-handle:focus {
    background-color: #2196F3;
    border: 1px solid #2196F3;
}

.widget-slider .ui-slider .ui-slider-handle:active {
    background-color: #2196F3;
    border-color: #2196F3;
    z-index: 2;
    -webkit-transform: scale(1.2);
            transform: scale(1.2);
}

.widget-slider  .ui-slider .ui-slider-range {
    /* Interval between the two specified value of a double slider */
    position: absolute;
    background: #2196F3;
    z-index: 0;
}

/* Shapes of Slider Handles */

.widget-hslider .ui-slider .ui-slider-handle {
    width: 16px;
    height: 16px;
    margin-top: -7px;
    margin-left: -7px;
    border-radius: 50%;
    top: 0;
}

.widget-vslider .ui-slider .ui-slider-handle {
    width: 16px;
    height: 16px;
    margin-bottom: -7px;
    margin-left: -7px;
    border-radius: 50%;
    left: 0;
}

.widget-hslider .ui-slider .ui-slider-range {
    height: 8px;
    margin-top: -3px;
}

.widget-vslider .ui-slider .ui-slider-range {
    width: 8px;
    margin-left: -3px;
}

/* Horizontal Slider */

.widget-hslider {
    width: 300px;
    height: 28px;
    line-height: 28px;
}

.widgets-slider .slider-container {
    overflow: visible;
}

.widget-hslider .slider-container {
    height: 28px;
    margin-left: 6px;
    margin-right: 6px;
    -ms-flex-item-align: stretch;
        -ms-grid-row-align: stretch;
        align-self: stretch;
    -webkit-box-flex: 1;
        -ms-flex: 1 1 148px;
            flex: 1 1 148px;
}

.widget-hslider .ui-slider {
    /* Inner, invisible slide div */
    height: 4px;
    margin-top: 12px;
    width: 100%;
}

/* Vertical Slider */

.widget-vbox .widget-label {
    height: 28px;
    line-height: 28px;
}

.widget-vslider {
    /* Vertical Slider */
    height: 200px;
    width: 72px;
}

.widget-vslider .slider-container {
    -webkit-box-flex: 1;
        -ms-flex: 1 1 148px;
            flex: 1 1 148px;
    margin-left: auto;
    margin-right: auto;
    margin-bottom: 6px;
    margin-top: 6px;
}

.widget-vslider .ui-slider {
    /* Inner, invisible slide div */
    width: 4px;
    height: 100%;
    margin-left: auto;
    margin-right: auto;
}

/* Widget Progress Styling */

.progress-bar {
    transition: none;
}

.progress-bar {
    height: 28px;
}

.progress-bar {
    background-color: #2196F3;
}

.progress-bar-success {
    background-color: #4CAF50;
}

.progress-bar-info {
    background-color: #00BCD4;
}

.progress-bar-warning {
    background-color: #FF9800;
}

.progress-bar-danger {
    background-color: #F44336;
}

.progress {
    background-color: #EEEEEE;
    border: none;
    box-shadow: none;
}

/* Horisontal Progress */

.widget-hprogress {
    /* Progress Bar */
    height: 28px;
    line-height: 28px;
    width: 300px;
}

.widget-hprogress .progress {
    -webkit-box-flex: 1;
        -ms-flex-positive: 1;
            flex-grow: 1;
    height: 20px;
    margin-top: auto;
    margin-bottom: auto;
}

/* Vertical Progress */

.widget-vprogress {
    height: 200px;
    width: 72px;
}

.widget-vprogress .progress {
    -webkit-box-flex: 1;
        -ms-flex-positive: 1;
            flex-grow: 1;
    width: 20px;
    margin-left: auto;
    margin-right: auto;
    margin-bottom: 0;
}

/* Select Widget Styling */

.widget-select {
    width: 300px;
    height: 28px;
    line-height: 28px;
}

.widget-select select {
    border: 1px solid #9E9E9E;
    border-radius: 0;
    height: 28px;
    -webkit-box-flex: 1;
        -ms-flex: 1 1 148px;
            flex: 1 1 148px;
    min-width: 0; /* This makes it possible for the flexbox to shrink this input */
    box-sizing: border-box;
    outline: none !important;
    box-shadow: none;
    background-color: white;
    color: rgba(0, 0, 0, .87);
    font-size: 13px;
    vertical-align: top;
    padding-left: 8px;
	appearance: none;
	-webkit-appearance: none;
	-moz-appearance: none;
    background-repeat: no-repeat;
	background-size: 20px;
	background-position: right center;
    background-image: url("data:image/svg+xml;base64,PD94bWwgdmVyc2lvbj0iMS4wIiBlbmNvZGluZz0idXRmLTgiPz4KPCEtLSBHZW5lcmF0b3I6IEFkb2JlIElsbHVzdHJhdG9yIDE5LjIuMSwgU1ZHIEV4cG9ydCBQbHVnLUluIC4gU1ZHIFZlcnNpb246IDYuMDAgQnVpbGQgMCkgIC0tPgo8c3ZnIHZlcnNpb249IjEuMSIgaWQ9IkxheWVyXzEiIHhtbG5zPSJodHRwOi8vd3d3LnczLm9yZy8yMDAwL3N2ZyIgeG1sbnM6eGxpbms9Imh0dHA6Ly93d3cudzMub3JnLzE5OTkveGxpbmsiIHg9IjBweCIgeT0iMHB4IgoJIHZpZXdCb3g9IjAgMCAxOCAxOCIgc3R5bGU9ImVuYWJsZS1iYWNrZ3JvdW5kOm5ldyAwIDAgMTggMTg7IiB4bWw6c3BhY2U9InByZXNlcnZlIj4KPHN0eWxlIHR5cGU9InRleHQvY3NzIj4KCS5zdDB7ZmlsbDpub25lO30KPC9zdHlsZT4KPHBhdGggZD0iTTUuMiw1LjlMOSw5LjdsMy44LTMuOGwxLjIsMS4ybC00LjksNWwtNC45LTVMNS4yLDUuOXoiLz4KPHBhdGggY2xhc3M9InN0MCIgZD0iTTAtMC42aDE4djE4SDBWLTAuNnoiLz4KPC9zdmc+Cg");
}

.widget-select select:focus {
    border-color: #64B5F6;
}

/* To disable the dotted border in Firefox around select controls.
   See http://stackoverflow.com/a/18853002 */

.widget-select select:-moz-focusring {
    color: transparent;
    text-shadow: 0 0 0 #000;
}

.widget-select select option:checked {
    color: rgba(0, 0, 0, 1.0);
    background: white repeat url("data:image/gif;base64,R0lGO...");
}

/* Select Multiple */

.widget-select-multiple {
    width: 300px;
    line-height: 28px;
}

.widget-select-multiple select {
    border: 1px solid #9E9E9E;
    background-color: white;
    color: rgba(0, 0, 0, .87);
    font-size: 13px;
    -webkit-box-flex: 1;
        -ms-flex: 1 1 148px;
            flex: 1 1 148px;
    outline: none !important;
    overflow: auto;
}

.widget-select-multiple select:focus {
    border-color: #64B5F6;
}

.widget-select-multiple select option:checked {
    color: rgba(0, 0, 0, 1.0);
    background: white repeat url("data:image/gif;base64,R0lGO...");
}

.wiget-select-multiple select option {
    padding-left: 4px;
    line-height: 28px;
    /* line-height doesn't work on some browsers for select options */
    padding-top: 21.5px;
    padding-bottom: 21.5px;
}

/* Toggle Buttons Styling */

.widget-toggle-buttons {
    line-height: 28px;
}

.widget-toggle-buttons .widget-toggle-button {
    margin-left: 2px;
    margin-right: 2px;
}

/* Radio Buttons Styling */

.widget-radio {
    width: 300px;
    line-height: 28px;
}

.widget-radio-box {
    display: -webkit-box;
    display: -ms-flexbox;
    display: flex;
    -webkit-box-orient: vertical;
    -webkit-box-direction: normal;
        -ms-flex-direction: column;
            flex-direction: column;
    -webkit-box-align: stretch;
        -ms-flex-align: stretch;
            align-items: stretch;
    box-sizing: border-box;
    -webkit-box-flex: 1;
        -ms-flex-positive: 1;
            flex-grow: 1;
}

.widget-radio-box label {
    height: 28px;
    line-height: 28px;
    font-size: 13px;
}

.widget-radio-box input {
    height: 28px;
    line-height: 28px;
    margin: 0 4px 0 4px;
    float: left;
}

/* Color Picker Styling */

.widget-colorpicker {
    width: 300px;
    height: 28px;
    line-height: 28px;
}

.widget-colorpicker > .widget-colorpicker-input {
    -webkit-box-flex: 1;
        -ms-flex-positive: 1;
            flex-grow: 1;
    -ms-flex-negative: 1;
        flex-shrink: 1;
    min-width: 72px;
}

.widget-colorpicker input[type="color"] {
    width: 28px;
    height: 28px;
    padding: 0 2px; /* make the color square actually square on Chrome on OS X */
    background: white;
    color: rgba(0, 0, 0, .87);
    border: 1px solid #9E9E9E;
    border-left: none;
    -webkit-box-flex: 0;
        -ms-flex-positive: 0;
            flex-grow: 0;
    -ms-flex-negative: 0;
        flex-shrink: 0;
    box-sizing: border-box;
    -ms-flex-item-align: stretch;
        -ms-grid-row-align: stretch;
        align-self: stretch;
    outline: none !important;
}

.widget-colorpicker.concise input[type="color"] {
    border-left: 1px solid #9E9E9E;
}

.widget-colorpicker input[type="color"]:focus, .widget-colorpicker input[type="text"]:focus {
    border-color: #64B5F6;
}

.widget-colorpicker input[type="text"] {
    -webkit-box-flex: 1;
        -ms-flex-positive: 1;
            flex-grow: 1;
    outline: none !important;
    height: 28px;
    line-height: 28px;
    background: white;
    color: rgba(0, 0, 0, .87);
    border: 1px solid #9E9E9E;
    font-size: 13px;
    padding: 4px 8px;
    min-width: 0; /* This makes it possible for the flexbox to shrink this input */
    -ms-flex-negative: 1;
        flex-shrink: 1;
    box-sizing: border-box;
}

/* Date Picker Styling */

.widget-datepicker {
    width: 300px;
    height: 28px;
    line-height: 28px;
}

.widget-datepicker input[type="date"] {
    -webkit-box-flex: 1;
        -ms-flex-positive: 1;
            flex-grow: 1;
    -ms-flex-negative: 1;
        flex-shrink: 1;
    min-width: 0; /* This makes it possible for the flexbox to shrink this input */
    outline: none !important;
    height: 28px;
    border: 1px solid #9E9E9E;
    background-color: white;
    color: rgba(0, 0, 0, .87);
    font-size: 13px;
    padding: 4px 8px;
    box-sizing: border-box;
}

.widget-datepicker input[type="date"]:focus {
    border-color: #64B5F6;
}

/* Play Widget */

.widget-play {
    min-width: 148px;
    display: -webkit-box;
    display: -ms-flexbox;
    display: flex;
    -webkit-box-pack: justify;
        -ms-flex-pack: justify;
            justify-content: space-between;
}

.widget-play .jupyter-button {
    min-width: 45.33333px;
    text-align: center;
}

/* Tab Widget */

.jupyter-widgets .p-TabBar {
    overflow-x: visible;
    overflow-y: visible;
}

.jupyter-widgets.widget-tab .p-TabBar.p-mod-horizontal > .p-TabBar-content {
    -webkit-box-align: end;
        -ms-flex-align: end;
            align-items: flex-end;
    margin-bottom: 0;
}

.jupyter-widgets.widget-tab .widget-tab-contents {
    width: 100%;
    box-sizing: border-box;
    margin: 0;
    background: white;
    color: rgba(0, 0, 0, .87);
    border: 1px solid #9E9E9E;
    padding: 15px;
}

.jupyter-widgets.widget-tab .widget-tab-contents .widget-tab-child.p-mod-hidden {
    display: none !important;
}

.jupyter-widgets.widget-tab .widget-tab-bar.p-TabBar {
    font: 13px Helvetica, Arial, sans-serif;
}

.jupyter-widgets.widget-tab .p-TabBar-tab {
    -webkit-box-flex: 0;
        -ms-flex: 0 1 144px;
            flex: 0 1 144px;
    min-width: 35px;
    min-height: 25px;
    line-height: 24px;
    margin-left: -1px;
    padding: 0px 10px;
    background: #EEEEEE;
    color: rgba(0, 0, 0, .54);
    border: 1px solid #9E9E9E;
    border-bottom: none;
    position: relative;
}

.jupyter-widgets.widget-tab .p-TabBar-tab.p-mod-current {
    color: rgba(0, 0, 0, 1.0);
    /* We want the background to match the tab content background */
    background: white;
    min-height: 26px;
    -webkit-transform: translateY(1px);
            transform: translateY(1px);
}

.jupyter-widgets.widget-tab .p-TabBar-tab.p-mod-current:before {
    position: absolute;
    top: -1px;
    left: -1px;
    content: '';
    height: 2px;
    width: calc(100% + 2 * 1px);
    background: #2196F3;
}

.jupyter-widgets.widget-tab .p-TabBar-tab:first-child {
    margin-left: 0;
}

.jupyter-widgets.widget-tab .p-TabBar-tab:hover:not(.p-mod-current) {
    background: white;
    color: rgba(0, 0, 0, .87);
}

.jupyter-widgets.widget-tab.p-mod-closable > .p-TabBar-tabCloseIcon {
    margin-left: 4px;
}

.jupyter-widgets.widget-tab.p-mod-closable > .p-TabBar-tabCloseIcon:before {
    font-family: FontAwesome;
    content: '\F00D'; /* close */
}

.jupyter-widgets.widget-tab .p-TabBar-tabIcon,
.jupyter-widgets.widget-tab .p-TabBar-tabLabel,
.jupyter-widgets.widget-tab .p-TabBar-tabCloseIcon {
    line-height: 24px;
}

/* Accordion Widget */

.p-Collapse {
    display: -webkit-box;
    display: -ms-flexbox;
    display: flex;
    -webkit-box-orient: vertical;
    -webkit-box-direction: normal;
        -ms-flex-direction: column;
            flex-direction: column;
    -webkit-box-align: stretch;
        -ms-flex-align: stretch;
            align-items: stretch;
}

.p-Collapse-header {
    padding: 4px;
    cursor: pointer;
    color: rgba(0, 0, 0, .54);
    background-color: #EEEEEE;
    border: 1px solid #9E9E9E;
    padding: 10px 15px;
    font-weight: bold;
}

.p-Collapse-header:hover {
    background-color: white;
    color: rgba(0, 0, 0, .87);
}

.p-Collapse-open .p-Collapse-header {
    background-color: white;
    color: rgba(0, 0, 0, 1.0);
    cursor: default;
    border-bottom: none;
}

.p-Collapse .p-Collapse-header::before {
    content: '\F0DA\A0';  /* caret-right, non-breaking space */
    display: inline-block;
    font: normal normal normal 14px/1 FontAwesome;
    font-size: inherit;
    text-rendering: auto;
    -webkit-font-smoothing: antialiased;
    -moz-osx-font-smoothing: grayscale;
}

.p-Collapse-open .p-Collapse-header::before {
    content: '\F0D7\A0'; /* caret-down, non-breaking space */
}

.p-Collapse-contents {
    padding: 15px;
    background-color: white;
    color: rgba(0, 0, 0, .87);
    border-left: 1px solid #9E9E9E;
    border-right: 1px solid #9E9E9E;
    border-bottom: 1px solid #9E9E9E;
}

.p-Accordion {
    display: -webkit-box;
    display: -ms-flexbox;
    display: flex;
    -webkit-box-orient: vertical;
    -webkit-box-direction: normal;
        -ms-flex-direction: column;
            flex-direction: column;
    -webkit-box-align: stretch;
        -ms-flex-align: stretch;
            align-items: stretch;
}

.p-Accordion .p-Collapse {
    margin-bottom: 0;
}

.p-Accordion .p-Collapse + .p-Collapse {
    margin-top: 4px;
}

/* HTML widget */

.widget-html, .widget-htmlmath {
    font-size: 13px;
}
</style></head>
<body class="notebook_app command_mode" data-project="" data-base-url="/" data-ws-url="" data-notebook-name="Luxury_Indicator.ipynb" data-notebook-path="UK_Shopper_Attributes/Luxury_Indicator.ipynb" data-feedback-id="" data-version-id="1.2.20180205" data-signed-in="true" data-user-id="anonymous" data-account="704525661406-7e3lf4b5t0qmq4i4svqbormum1btpqfg@developer.gserviceaccount.com" data-reporting-enabled="true" data-project-hash="undefined" data-proxy-web-sockets="false" style=""><div style="visibility: hidden; overflow: hidden; position: absolute; top: 0px; height: 1px; width: auto; padding: 0px; border: 0px; margin: 0px; text-align: left; text-indent: 0px; text-transform: none; line-height: normal; letter-spacing: normal; word-spacing: normal;"><div id="MathJax_Hidden"></div></div><div id="MathJax_Message" style="display: none;"></div>

  <script>
     window.datalab = {};
  </script>
  <script src="./Luxury_Indicator_files/config_local.js"></script>
  <script src="./Luxury_Indicator_files/sample_notebooks.js"></script>
  <script>
    var reportingEnabled = (document.body.getAttribute('data-reporting-enabled') == 'true');
    if (reportingEnabled) {
      // Snippet to initialize the Google Tag Manager, which provides anonymized usage reporting
      (function(w,d,s,l,i){w[l]=w[l]||[];w[l].push({'gtm.start':
      new Date().getTime(),event:'gtm.js'});var f=d.getElementsByTagName(s)[0],
      j=d.createElement(s),dl=l!='dataLayer'?'&l='+l:'';j.async=true;j.src=
      '//www.googletagmanager.com/gtm.js?id='+i+dl;f.parentNode.insertBefore(j,f);
      })(window,document,'script','dataLayer',window.datalab.gtmAccount);
      // End Google Tag Manager

      var signedIn = (document.body.getAttribute('data-signed-in') == 'true');
      var projectHash = document.body.getAttribute('data-project-hash');
      var notebookPath = document.body.getAttribute('data-notebook-path');

      var tutorialName = '';
      if (window.datalab.knownTutorials.indexOf(notebookPath) >= 0) {
         tutorialName = notebookPath;
      }

      var event = {
        'event': 'concordEvent',
        'pagePath': '/virtual/datalab/openNotebook',
        'eventType': 'datalab',
        'eventName': 'openNotebook',
        'projectNumber': projectHash,
        'metadata': 'signedIn=' + signedIn + ',tutorialName=' + tutorialName,
      }
      window.dataLayer = window.dataLayer || [];
      window.dataLayer.push(event);
    }
  </script>

  <div id="app">
    <div id="appBar">


  


  <span id="logo" class="nav navbar-brand pull-left">
    <a id="homeLink"><img id="logoImg" alt="Google Cloud DataLab" style="" src="./Luxury_Indicator_files/logo.png"></a>
  </span>
  <span id="save_widget" class="pull-left save_widget">
    <button class="toolbar-btn" title="Rename notebook"><span id="notebook_name" class="filename">Luxury_Indicator</span></button>
    <span class="autosave_status">(autosaved)</span>
  </span>
  <div class="btn-toolbar pull-right right-toolbar">
    <div id="ungitButton" class="btn-group">
      <button title="Open ungit on the notebooks repository" class="toolbar-btn">
        <span class="fa fa-code-fork"></span>
      </button>
    </div>
    <div id="sessionsButton" class="btn-group">
      <button title="Running Sessions" class="toolbar-btn">
        <i class="material-icons">playlist_play</i>
      </button>
    </div>
    <div id="navigationButton" class="btn-group" style="">
      <button title="Navigation" class="toolbar-btn">
        <i class="material-icons">bookmark</i>
      </button>
    </div>
    <div id="helpButton" class="btn-group">
      <button class="toolbar-btn" data-toggle="dropdown" title="Help Links">
        <i class="material-icons">help_outline</i>
      </button>
      <ul class="dropdown-menu dropdown-menu-right" style="width: 200px">
        <li><a id="showHelpLink" style="" href="http://localhost:8084/notebooks/UK_Shopper_Attributes/Luxury_Indicator.ipynb#">Show Help</a></li>
        <li><a id="keyboardHelpLink" style="" href="http://localhost:8084/notebooks/UK_Shopper_Attributes/Luxury_Indicator.ipynb#">Keyboard Shortcuts</a></li>
        <li><a id="markdownHelpLink" style="" href="http://localhost:8084/notebooks/UK_Shopper_Attributes/Luxury_Indicator.ipynb#">Markdown Syntax</a></li>
        <li id="notebookHelpDivider" class="divider" style=""></li>
        <li><a id="samplesLink" target="_blank"><span>Samples and Tutorials</span></a></li>
        <li class="divider"></li>
        <li><a href="https://cloud.google.com/bigquery/what-is-bigquery" target="_blank"><span>BigQuery</span></a></li>
        <li><a href="https://cloud.google.com/storage/docs/overview" target="_blank"><span>Cloud Storage</span></a></li>
        <li class="divider"></li>
        <li><a href="http://googledatalab.github.io/pydatalab/" target="_blank"><span>Datalab API</span></a></li>
        <li><a href="https://developers.google.com/chart/" target="_blank"><span>Google Charts</span></a></li>
        <li><a href="http://matplotlib.org/contents.html" target="_blank"><span>Matplotlib</span></a></li>
        <li><a href="http://docs.scipy.org/doc/numpy/reference/" target="_blank"><span>Numpy</span></a></li>
        <li><a href="http://pandas.pydata.org/pandas-docs/stable/" target="_blank"><span>Pandas</span></a></li>
        <li><a href="http://scikit-learn.org/stable/" target="_blank"><span>SciKit-Learn</span></a></li>
        <li><a href="http://tensorflow.org/" target="_blank"><span>TensorFlow</span></a></li>
      </ul>
    </div>
    <div id="accountDropdown" class="btn-group">
      <button id="accountDropdownButton" title="Account" class="toolbar-btn">
        <i class="material-icons">account_circle</i>
      </button>
      <div class="dropdown-menu dropdown-menu-right" style="min-width: 250px;">
        <div id="signInButton" style="display:none">
          <button title="Sign In" class="btn btn-success" style="width: 100%; float: none">Sign In</button>
        </div>
        <div id="signOutGroup" style="">
          <label id="usernameLabel" style="padding:0 0 10px 0">Signed in as 704525661406-7e3lf4b5t0qmq4i4svqbormum1btpqfg@developer.gserviceaccount.com</label>
          <label id="projectLabel" style="display:none; padding:0 0 10px 0"></label>
          <button id="signOutButton" title="Sign Out" class="btn btn-danger" style="display:none; width: 100%; float: none">Sign Out</button>
        </div>
        <div id="stopVmGroup" style="">
          <hr>
          <div>
            This Datalab instance is hosted in a Google Cloud VM: <span id="vmName" style="font-weight: bold">datascience-offshore-m</span>
          </div>
          <div>
            <a href="javascript:manageVm()">Click here to manage the VM</a>
          </div>
          <button id="stopVmButton" title="Stop VM" class="btn btn-danger" style="width: 100%; float: none">Stop VM</button>
        </div>
        <li><a id="idleTimeoutEnabledButton" title="Disable idle timeout" href="http://localhost:8084/notebooks/UK_Shopper_Attributes/Luxury_Indicator.ipynb#" style="display:none;">
          <i class="material-icons">timer</i>
          <span id="idleTimeoutDetails">(Idle timout enabled)</span>
        </a></li>
        <li><a id="idleTimeoutDisabledButton" title="Enable idle timeout" href="http://localhost:8084/notebooks/UK_Shopper_Attributes/Luxury_Indicator.ipynb#" style="display:none;">
          <i class="material-icons">timer_off</i>
          Idle timeout is disabled
        </a></li>
        <hr>
        <li><a id="settingsButton" href="http://localhost:8084/notebooks/UK_Shopper_Attributes/Luxury_Indicator.ipynb#">Settings</a></li>
        <li><a id="aboutButton" href="http://localhost:8084/notebooks/UK_Shopper_Attributes/Luxury_Indicator.ipynb#">About Datalab</a></li>
        <li><a id="feedbackButton" href="http://localhost:8084/notebooks/UK_Shopper_Attributes/Luxury_Indicator.ipynb#">Feedback</a></li>
      </div>
    </div>
  </div>


</div>
    <div id="site" style="height: 849px; display: block;">
    <div id="appContent">
      <div id="toolbarArea">
        <div id="mainToolbar">
          <div class="btn-toolbar pull-left">
            <div class="btn-group">
              <button type="button" class="toolbar-btn" data-toggle="dropdown" title="Notebook commands">
                <i class="material-icons">book</i> Notebook
                <span class="caret"></span>
              </button>
              <ul class="dropdown-menu">
                <li id="saveButton"><a href="http://localhost:8084/notebooks/UK_Shopper_Attributes/Luxury_Indicator.ipynb#">Save and Checkpoint</a></li>
                <li id="saveCopyButton"><a href="http://localhost:8084/notebooks/UK_Shopper_Attributes/Luxury_Indicator.ipynb#">Save copy</a></li>
                <li id="renameButton"><a href="http://localhost:8084/notebooks/UK_Shopper_Attributes/Luxury_Indicator.ipynb#">Rename...</a></li>
                <li class="divider"></li>
                <li id="restoreButton" class="dropdown-submenu"><a href="http://localhost:8084/notebooks/UK_Shopper_Attributes/Luxury_Indicator.ipynb#">Revert to Checkpoint</a>
                  <ul class="dropdown-menu"><li><a href="http://localhost:8084/notebooks/UK_Shopper_Attributes/Luxury_Indicator.ipynb#">Monday, February 12, 2018 5:05 PM</a></li></ul>
                </li>
                <li class="divider"></li>
                <li id="downloadButton"><a href="http://localhost:8084/notebooks/UK_Shopper_Attributes/Luxury_Indicator.ipynb#">Download</a></li>
                <li class="divider"></li>
                <li id="convertHTMLButton"><a href="http://localhost:8084/notebooks/UK_Shopper_Attributes/Luxury_Indicator.ipynb#">Convert to HTML</a></li>
                <li id="convertPythonButton"><a href="http://localhost:8084/notebooks/UK_Shopper_Attributes/Luxury_Indicator.ipynb#">Convert to Python</a></li>
              </ul>
            </div>
            <div class="btn-group">
              <button id="addCodeCellButton" type="button" class="toolbar-btn" title="Append a new code cell">
                <i class="material-icons">add_box</i>
                <i class="material-icons">code</i>
                <span class="toolbar-text">Add Code</span>
              </button>
              <button id="addMarkdownCellButton" type="button" class="toolbar-btn" title="Append a new markdown cell">
                <i class="material-icons">add_box</i>
                <i class="material-icons">text_fields</i>
                <span class="toolbar-text">Add Markdown</span>
              </button>
              <button id="deleteCellButton" type="button" class="toolbar-btn" title="Delete the selected cell">
                <i class="material-icons">clear</i>
                <span class="toolbar-text">Delete</span>
              </button>
              <button id="moveCellUpButton" type="button" class="toolbar-btn" title="Move the selected cell up">
                <i class="material-icons">arrow_upward</i>
                <span class="toolbar-text">Move Up</span>
              </button>
              <button id="moveCellDownButton" type="button" class="toolbar-btn" title="Move the selected cell down">
                <i class="material-icons">arrow_downward</i>
                <span class="toolbar-text">Move Down</span>
              </button>
            </div>
            <div class="btn-group">
              <button id="runButton" type="button" class="toolbar-btn" title="Run the selected cell">
                <i class="material-icons">play_arrow</i> Run
              </button>
              <button type="button" class="toolbar-btn dropdown-toggle" data-toggle="dropdown">
                <span class="caret"></span>
              </button>
              <ul class="dropdown-menu">
                <li id="runAllButton"><a href="http://localhost:8084/notebooks/UK_Shopper_Attributes/Luxury_Indicator.ipynb#">Run all Cells</a></li>
                <li id="runToButton"><a href="http://localhost:8084/notebooks/UK_Shopper_Attributes/Luxury_Indicator.ipynb#">Run to this Cell</a></li>
                <li id="runFromButton"><a href="http://localhost:8084/notebooks/UK_Shopper_Attributes/Luxury_Indicator.ipynb#">Run from this Cell</a></li>
              </ul>
            </div>
            <div class="btn-group">
              <button id="clearButton" type="button" class="toolbar-btn" title="Clear outputs of the selected cell">
                <i class="material-icons">check_box_outline_blank</i> Clear
              </button>
              <button type="button" class="toolbar-btn dropdown-toggle" data-toggle="dropdown">
                <span class="caret"></span>
              </button>
              <ul class="dropdown-menu">
                <li id="clearAllButton"><a href="http://localhost:8084/notebooks/UK_Shopper_Attributes/Luxury_Indicator.ipynb#">Clear all Cells</a></li>
              </ul>
            </div>
            <div class="btn-group">
              <button id="resetSessionButton" type="button" class="toolbar-btn" title="Restart the current notebook session">
                <i id="kernel_indicator_icon" class="kernel_idle_icon" title="Kernel Idle"></i> Reset
                <span class="toolbar-text">Session</span>
              </button>
              <button type="button" class="toolbar-btn dropdown-toggle" data-toggle="dropdown">
                <span class="caret"></span>
              </button>
              <ul class="dropdown-menu">
                <li id="interruptKernelButton"><a href="http://localhost:8084/notebooks/UK_Shopper_Attributes/Luxury_Indicator.ipynb#">Interrupt Execution</a></li>
              </ul>
            </div>
            <div class="btn-group" id="kernel_picker_menu">
              <button id="kernelSelectorButton" type="button" data-toggle="dropdown" class="toolbar-btn" title="Select kernel">
                <i class="material-icons">track_changes</i>
                <span class="toolbar-text">Kernel: </span>
                <span id="currentKernelName">python2</span>
                <span class="caret"></span>
              </button>
              <ul class="dropdown-menu" id="kernelSelectorDropdown">
          <li>
            <a href="http://localhost:8084/notebooks/UK_Shopper_Attributes/Luxury_Indicator.ipynb#" onclick="datalab.set_kernel(&#39;python3&#39;)">
              python3
            </a>
          </li>
          
          <li>
            <a href="http://localhost:8084/notebooks/UK_Shopper_Attributes/Luxury_Indicator.ipynb#" onclick="datalab.set_kernel(&#39;python2&#39;)">
              python2
            </a>
          </li>
          </ul>
            </div>
            <!-- The next div and its contents are for ipywidgets. They insert their own menu before #help_menu -->
            <div class="btn-group" id="help_menu_container">
              <li class="dropdown"><a href="http://localhost:8084/notebooks/UK_Shopper_Attributes/Luxury_Indicator.ipynb#" data-toggle="dropdown" class="dropdown-toggle">Widgets</a><ul id="widget-submenu" class="dropdown-menu"><li title="Save the notebook with the widget state information for static rendering"><a href="http://localhost:8084/notebooks/UK_Shopper_Attributes/Luxury_Indicator.ipynb#">Save Notebook with Widgets</a></li><li title="Download the widget state as a JSON file"><a href="http://localhost:8084/notebooks/UK_Shopper_Attributes/Luxury_Indicator.ipynb#">Download Widget State</a></li><li title="Embed interactive widgets"><a href="http://localhost:8084/notebooks/UK_Shopper_Attributes/Luxury_Indicator.ipynb#">Embed Widgets</a></li></ul></li><div>
                <div id="help_menu">
                </div>
              </div>
            </div>
          </div>
          <div class="btn-toolbar pull-right">
             <div id="sidebarToolbar" class="btn-group" style="">
               <button id="hideSidebarButton" type="button" class="toolbar-btn" title="Toggle sidebar on/off">
                 <i class="material-icons">keyboard_arrow_down</i>
               </button>
             </div>
           </div>
        </div>
      </div>
      <div id="contentArea">
        <div id="mainArea">
          <div id="mainContent" class="container notebookMainContent">
            <div id="ipython-main-app">
              <div id="notebook_panel" style="position: relative">
                <div id="notebook" tabindex="-1"><div class="container" id="notebook-container"><div class="cell text_cell rendered unselected" tabindex="2"><div class="prompt input_prompt"></div><div class="inner_cell"><div class="ctb_hideshow"><div class="celltoolbar"></div></div><div class="input_area"><div class="CodeMirror cm-s-default CodeMirror-wrap"><div style="overflow: hidden; position: relative; width: 3px; height: 0px; top: 6px; left: 6px;"><textarea autocorrect="off" autocapitalize="off" spellcheck="false" tabindex="0" style="position: absolute; padding: 0px; width: 1000px; height: 1em; outline: none;"></textarea></div><div class="CodeMirror-vscrollbar" cm-not-content="true" style="bottom: 0px; min-width: 18px;"><div style="min-width: 1px; height: 0px;"></div></div><div class="CodeMirror-hscrollbar" cm-not-content="true" style=""><div style="height: 100%; min-height: 1px; width: 0px;"></div></div><div class="CodeMirror-scrollbar-filler" cm-not-content="true"></div><div class="CodeMirror-gutter-filler" cm-not-content="true"></div><div class="CodeMirror-scroll" tabindex="-1"><div class="CodeMirror-sizer" style="margin-left: 0px; padding-right: 0px; padding-bottom: 0px; margin-bottom: 0px; border-right-width: 30px; min-height: 33px;"><div style="position: relative; top: 0px;"><div class="CodeMirror-lines"><div style="position: relative; outline: none;"><div class="CodeMirror-measure"></div><div class="CodeMirror-measure"></div><div style="position: relative; z-index: 1;"></div><div class="CodeMirror-cursors"><div class="CodeMirror-cursor" style="left: 0px; top: 0px; height: 21px;">&nbsp;</div></div><div class="CodeMirror-code"><pre class=" CodeMirror-line "><span style="padding-right: 0.1px;"><span class="cm-header cm-header-1"># UK Yocuda Luxury Analysis - 31st Jan,2018</span></span></pre></div></div></div></div></div><div style="position: absolute; height: 30px; width: 1px; top: 33px;"></div><div class="CodeMirror-gutters" style="display: none; height: 63px;"></div></div></div></div><div class="text_cell_render rendered_html" tabindex="-1"><h1 id="UK-Yocuda-Luxury-Analysis---31st-Jan,2018">UK Yocuda Luxury Analysis - 31st Jan,2018<a class="anchor-link" href="http://localhost:8084/notebooks/UK_Shopper_Attributes/Luxury_Indicator.ipynb#UK-Yocuda-Luxury-Analysis---31st-Jan,2018">�</a></h1>
</div></div></div><div class="cell text_cell unselected rendered" tabindex="2"><div class="prompt input_prompt"></div><div class="inner_cell"><div class="ctb_hideshow"><div class="celltoolbar"></div></div><div class="input_area"><div class="CodeMirror cm-s-default CodeMirror-wrap"><div style="overflow: hidden; position: relative; width: 3px; height: 0px; top: 6px; left: 6px;"><textarea autocorrect="off" autocapitalize="off" spellcheck="false" tabindex="0" style="position: absolute; padding: 0px; width: 1000px; height: 1em; outline: none;"></textarea></div><div class="CodeMirror-vscrollbar" cm-not-content="true" style="bottom: 0px; min-width: 18px;"><div style="min-width: 1px; height: 0px;"></div></div><div class="CodeMirror-hscrollbar" cm-not-content="true" style=""><div style="height: 100%; min-height: 1px; width: 0px;"></div></div><div class="CodeMirror-scrollbar-filler" cm-not-content="true"></div><div class="CodeMirror-gutter-filler" cm-not-content="true"></div><div class="CodeMirror-scroll" tabindex="-1"><div class="CodeMirror-sizer" style="margin-left: 0px; padding-right: 0px; padding-bottom: 0px; margin-bottom: 0px; border-right-width: 30px; min-height: 33px;"><div style="position: relative; top: 0px;"><div class="CodeMirror-lines"><div style="position: relative; outline: none;"><div class="CodeMirror-measure"></div><div class="CodeMirror-measure"></div><div style="position: relative; z-index: 1;"></div><div class="CodeMirror-cursors"><div class="CodeMirror-cursor" style="left: 0px; top: 0px; height: 21px;">&nbsp;</div></div><div class="CodeMirror-code"><pre class=" CodeMirror-line "><span style="padding-right: 0.1px;"><span class="cm-header cm-header-4">#### Importing youcuda data from GCS</span></span></pre></div></div></div></div></div><div style="position: absolute; height: 30px; width: 1px; top: 33px;"></div><div class="CodeMirror-gutters" style="display: none; height: 63px;"></div></div></div></div><div class="text_cell_render rendered_html" tabindex="-1"><h4 id="Importing-youcuda-data-from-GCS">Importing youcuda data from GCS<a class="anchor-link" href="http://localhost:8084/notebooks/UK_Shopper_Attributes/Luxury_Indicator.ipynb#Importing-youcuda-data-from-GCS">�</a></h4>
</div></div></div><div class="cell code_cell rendered session completed unselected" tabindex="2"><div class="dropdown minitoolbar"><button class="btn btn-default dropdown-toggle minitoolbar-toggle" data-toggle="dropdown"><i class="material-icons">menu</i></button><ul class="dropdown-menu"><li><a href="http://localhost:8084/notebooks/UK_Shopper_Attributes/Luxury_Indicator.ipynb#"><i class="material-icons glyph-run-cell" style="padding-right: 10px;">play_arrow</i><span class="title-run-cell">Run</span></a></li><li><a href="http://localhost:8084/notebooks/UK_Shopper_Attributes/Luxury_Indicator.ipynb#"><i class="material-icons glyph-clear-cell" style="padding-right: 10px;">check_box_outline_blank</i><span class="title-clear-cell">Clear</span></a></li><li><a href="http://localhost:8084/notebooks/UK_Shopper_Attributes/Luxury_Indicator.ipynb#"><i class="material-icons glyph-collapse-cell" style="padding-right: 10px;">vertical_align_top</i><span class="title-collapse-cell">Collapse</span></a></li><li><a href="http://localhost:8084/notebooks/UK_Shopper_Attributes/Luxury_Indicator.ipynb#"><i class="material-icons glyph-collapse-code" style="padding-right: 10px;">code</i><span class="title-collapse-code">Hide Code</span></a></li></ul></div><div class="input"><div class="prompt input_prompt"></div><div class="inner_cell"><div class="ctb_hideshow"><div class="celltoolbar"></div></div><div class="input_area"><div class="CodeMirror cm-s-ipython"><div style="overflow: hidden; position: relative; width: 3px; height: 0px; top: 6px; left: 778px;"><textarea autocorrect="off" autocapitalize="off" spellcheck="false" tabindex="0" style="position: absolute; padding: 0px; width: 1000px; height: 1em; outline: none;"></textarea></div><div class="CodeMirror-vscrollbar" cm-not-content="true" style="min-width: 18px;"><div style="min-width: 1px; height: 0px;"></div></div><div class="CodeMirror-hscrollbar" cm-not-content="true" style=""><div style="height: 100%; min-height: 1px; width: 0px;"></div></div><div class="CodeMirror-scrollbar-filler" cm-not-content="true"></div><div class="CodeMirror-gutter-filler" cm-not-content="true"></div><div class="CodeMirror-scroll" tabindex="-1" draggable="false"><div class="CodeMirror-sizer" style="margin-left: 34px; min-width: 1281px; margin-bottom: 0px; border-right-width: 30px; min-height: 33px; padding-right: 0px; padding-bottom: 0px;"><div style="position: relative; top: 0px;"><div class="CodeMirror-lines"><div style="position: relative; outline: none;"><div class="CodeMirror-measure"><div class="CodeMirror-linenumber CodeMirror-gutter-elt"><div>1</div></div></div><div class="CodeMirror-measure"></div><div style="position: relative; z-index: 1;"></div><div class="CodeMirror-cursors" style=""><div class="CodeMirror-cursor" style="left: 738px; top: 0px; height: 21px;">&nbsp;</div></div><div class="CodeMirror-code"><div style="position: relative;"><div class="CodeMirror-gutter-wrapper" style="left: -34px;"><div class="CodeMirror-linenumber CodeMirror-gutter-elt" style="left: 0px; width: 21px;">1</div></div><pre class=" CodeMirror-line "><span style="padding-right: 0.1px;"><span class="cm-variable">data</span> = (<span class="cm-variable">spark</span>.<span class="cm-variable">read</span>.<span class="cm-builtin">format</span>(<span class="cm-string">"csv"</span>).<span class="cm-variable">option</span>(<span class="cm-string">"header"</span>, <span class="cm-string">"true"</span>).<span class="cm-variable">load</span>(<span class="cm-string">'gs://westfield-tom/datalab/Yocuda_clean_data_Nov15_Nov17_20171214_v01_*.csv'</span>))</span></pre></div></div></div></div></div></div><div style="position: absolute; height: 30px; width: 1px; top: 33px;"></div><div class="CodeMirror-gutters" style="height: 63px;"><div class="CodeMirror-gutter CodeMirror-linenumbers" style="width: 33px;"></div></div></div></div></div></div></div><div class="widget-area" style="display: none;"><div class="prompt"><button class="close">�</button></div><div class="widget-subarea jp-Output-result"></div></div><div class="output_wrapper"><div class="out_prompt_overlay prompt" title="click to scroll output; double click to hide" style="display: none;"></div><div class="output" style=""></div><div class="btn btn-default output_collapsed" title="click to expand output" style="display: none;">. . .</div></div><div class="cellPlaceholder btn btn-default" title="Uncollapse cell"></div></div><div class="cell code_cell rendered session unselected completed" tabindex="2"><div class="dropdown minitoolbar"><button class="btn btn-default dropdown-toggle minitoolbar-toggle" data-toggle="dropdown"><i class="material-icons">menu</i></button><ul class="dropdown-menu"><li><a href="http://localhost:8084/notebooks/UK_Shopper_Attributes/Luxury_Indicator.ipynb#"><i class="material-icons glyph-run-cell" style="padding-right: 10px;">play_arrow</i><span class="title-run-cell">Run</span></a></li><li><a href="http://localhost:8084/notebooks/UK_Shopper_Attributes/Luxury_Indicator.ipynb#"><i class="material-icons glyph-clear-cell" style="padding-right: 10px;">check_box_outline_blank</i><span class="title-clear-cell">Clear</span></a></li><li><a href="http://localhost:8084/notebooks/UK_Shopper_Attributes/Luxury_Indicator.ipynb#"><i class="material-icons glyph-collapse-cell" style="padding-right: 10px;">vertical_align_top</i><span class="title-collapse-cell">Collapse</span></a></li><li><a href="http://localhost:8084/notebooks/UK_Shopper_Attributes/Luxury_Indicator.ipynb#"><i class="material-icons glyph-collapse-code" style="padding-right: 10px;">code</i><span class="title-collapse-code">Hide Code</span></a></li></ul></div><div class="input"><div class="prompt input_prompt"></div><div class="inner_cell"><div class="ctb_hideshow"><div class="celltoolbar"></div></div><div class="input_area"><div class="CodeMirror cm-s-ipython"><div style="overflow: hidden; position: relative; width: 3px; height: 0px; top: 6px; left: 355px;"><textarea autocorrect="off" autocapitalize="off" spellcheck="false" tabindex="0" style="position: absolute; padding: 0px; width: 1000px; height: 1em; outline: none;"></textarea></div><div class="CodeMirror-vscrollbar" cm-not-content="true" style="min-width: 18px;"><div style="min-width: 1px; height: 0px;"></div></div><div class="CodeMirror-hscrollbar" cm-not-content="true" style=""><div style="height: 100%; min-height: 1px; width: 0px;"></div></div><div class="CodeMirror-scrollbar-filler" cm-not-content="true"></div><div class="CodeMirror-gutter-filler" cm-not-content="true"></div><div class="CodeMirror-scroll" tabindex="-1"><div class="CodeMirror-sizer" style="margin-left: 34px; min-width: 318px; margin-bottom: 0px; border-right-width: 30px; min-height: 33px; padding-right: 0px; padding-bottom: 0px;"><div style="position: relative; top: 0px;"><div class="CodeMirror-lines"><div style="position: relative; outline: none;"><div class="CodeMirror-measure"><div class="CodeMirror-linenumber CodeMirror-gutter-elt"><div>1</div></div></div><div class="CodeMirror-measure"></div><div style="position: relative; z-index: 1;"></div><div class="CodeMirror-cursors" style="visibility: hidden;"><div class="CodeMirror-cursor" style="left: 315px; top: 0px; height: 21px;">&nbsp;</div></div><div class="CodeMirror-code"><div style="position: relative;"><div class="CodeMirror-gutter-wrapper" style="left: -34px;"><div class="CodeMirror-linenumber CodeMirror-gutter-elt" style="left: 0px; width: 21px;">1</div></div><pre class=" CodeMirror-line "><span style="padding-right: 0.1px;"><span class="cm-keyword">from</span> <span class="cm-variable">pyspark</span>.<span class="cm-variable">sql</span>.<span class="cm-variable">functions</span> <span class="cm-keyword">import</span> <span class="cm-operator">*</span></span></pre></div></div></div></div></div></div><div style="position: absolute; height: 30px; width: 1px; top: 33px;"></div><div class="CodeMirror-gutters" style="height: 63px;"><div class="CodeMirror-gutter CodeMirror-linenumbers" style="width: 33px;"></div></div></div></div></div></div></div><div class="widget-area" style="display: none;"><div class="prompt"><button class="close">�</button></div><div class="widget-subarea jp-Output-result"></div></div><div class="output_wrapper"><div class="out_prompt_overlay prompt" title="click to scroll output; double click to hide" style="display: none;"></div><div class="output" style=""></div><div class="btn btn-default output_collapsed" title="click to expand output" style="display: none;">. . .</div></div><div class="cellPlaceholder btn btn-default" title="Uncollapse cell"></div></div><div class="cell text_cell rendered unselected" tabindex="2"><div class="prompt input_prompt"></div><div class="inner_cell"><div class="ctb_hideshow"><div class="celltoolbar"></div></div><div class="input_area"><div class="CodeMirror cm-s-default CodeMirror-wrap"><div style="overflow: hidden; position: relative; width: 3px; height: 0px; top: 6px; left: 6px;"><textarea autocorrect="off" autocapitalize="off" spellcheck="false" tabindex="0" style="position: absolute; padding: 0px; width: 1000px; height: 1em; outline: none;"></textarea></div><div class="CodeMirror-vscrollbar" cm-not-content="true" style="bottom: 0px; min-width: 18px;"><div style="min-width: 1px; height: 0px;"></div></div><div class="CodeMirror-hscrollbar" cm-not-content="true" style=""><div style="height: 100%; min-height: 1px; width: 0px;"></div></div><div class="CodeMirror-scrollbar-filler" cm-not-content="true"></div><div class="CodeMirror-gutter-filler" cm-not-content="true"></div><div class="CodeMirror-scroll" tabindex="-1"><div class="CodeMirror-sizer" style="margin-left: 0px; padding-right: 0px; padding-bottom: 0px; margin-bottom: 0px; border-right-width: 30px; min-height: 33px;"><div style="position: relative; top: 0px;"><div class="CodeMirror-lines"><div style="position: relative; outline: none;"><div class="CodeMirror-measure"></div><div class="CodeMirror-measure"></div><div style="position: relative; z-index: 1;"></div><div class="CodeMirror-cursors"><div class="CodeMirror-cursor" style="left: 0px; top: 0px; height: 21px;">&nbsp;</div></div><div class="CodeMirror-code"><pre class=" CodeMirror-line "><span style="padding-right: 0.1px;"> <span class="cm-header cm-header-4">#### Creating the data on a brand cross category level</span></span></pre></div></div></div></div></div><div style="position: absolute; height: 30px; width: 1px; top: 33px;"></div><div class="CodeMirror-gutters" style="display: none; height: 63px;"></div></div></div></div><div class="text_cell_render rendered_html" tabindex="-1"><h4 id="Creating-the-data-on-a-brand-cross-category-level">Creating the data on a brand cross category level<a class="anchor-link" href="http://localhost:8084/notebooks/UK_Shopper_Attributes/Luxury_Indicator.ipynb#Creating-the-data-on-a-brand-cross-category-level">�</a></h4>
</div></div></div><div class="cell code_cell rendered session completed selected" tabindex="2"><div class="dropdown minitoolbar"><button class="btn btn-default dropdown-toggle minitoolbar-toggle" data-toggle="dropdown"><i class="material-icons">menu</i></button><ul class="dropdown-menu"><li><a href="http://localhost:8084/notebooks/UK_Shopper_Attributes/Luxury_Indicator.ipynb#"><i class="material-icons glyph-run-cell" style="padding-right: 10px;">play_arrow</i><span class="title-run-cell">Run</span></a></li><li><a href="http://localhost:8084/notebooks/UK_Shopper_Attributes/Luxury_Indicator.ipynb#"><i class="material-icons glyph-clear-cell" style="padding-right: 10px;">check_box_outline_blank</i><span class="title-clear-cell">Clear</span></a></li><li><a href="http://localhost:8084/notebooks/UK_Shopper_Attributes/Luxury_Indicator.ipynb#"><i class="material-icons glyph-collapse-cell" style="padding-right: 10px;">vertical_align_top</i><span class="title-collapse-cell">Collapse</span></a></li><li><a href="http://localhost:8084/notebooks/UK_Shopper_Attributes/Luxury_Indicator.ipynb#"><i class="material-icons glyph-collapse-code" style="padding-right: 10px;">code</i><span class="title-collapse-code">Hide Code</span></a></li></ul></div><div class="input"><div class="prompt input_prompt"></div><div class="inner_cell"><div class="ctb_hideshow"><div class="celltoolbar"></div></div><div class="input_area"><div class="CodeMirror cm-s-ipython"><div style="overflow: hidden; position: relative; width: 3px; height: 0px; top: 69px; left: 463px;"><textarea autocorrect="off" autocapitalize="off" spellcheck="false" tabindex="0" style="position: absolute; padding: 0px; width: 1000px; height: 1em; outline: none;"></textarea></div><div class="CodeMirror-vscrollbar" cm-not-content="true" style="min-width: 18px;"><div style="min-width: 1px; height: 0px;"></div></div><div class="CodeMirror-hscrollbar" cm-not-content="true" style="display: block; right: 0px; left: 34px;"><div style="height: 100%; min-height: 1px; width: 2298px;"></div></div><div class="CodeMirror-scrollbar-filler" cm-not-content="true"></div><div class="CodeMirror-gutter-filler" cm-not-content="true"></div><div class="CodeMirror-scroll" tabindex="-1"><div class="CodeMirror-sizer" style="margin-left: 34px; min-width: 2298px; margin-bottom: 0px; border-right-width: 30px; min-height: 201px; padding-right: 0px; padding-bottom: 0px;"><div style="position: relative; top: 0px;"><div class="CodeMirror-lines"><div style="position: relative; outline: none;"><div class="CodeMirror-measure"><div class="CodeMirror-linenumber CodeMirror-gutter-elt"><div>9</div></div></div><div class="CodeMirror-measure"></div><div style="position: relative; z-index: 1;"></div><div class="CodeMirror-cursors" style=""><div class="CodeMirror-cursor" style="left: 423px; top: 63px; height: 21px;">&nbsp;</div></div><div class="CodeMirror-code" style=""><div style="position: relative;"><div class="CodeMirror-gutter-wrapper" style="left: -34px;"><div class="CodeMirror-linenumber CodeMirror-gutter-elt" style="left: 0px; width: 21px;">1</div></div><pre class=" CodeMirror-line "><span style="padding-right: 0.1px;"><span class="cm-variable">data</span>.<span class="cm-variable">registerTempTable</span>(<span class="cm-string">"data"</span>)</span></pre></div><div style="position: relative;"><div class="CodeMirror-gutter-wrapper" style="left: -34px;"><div class="CodeMirror-linenumber CodeMirror-gutter-elt" style="left: 0px; width: 21px;">2</div></div><pre class=" CodeMirror-line "><span style="padding-right: 0.1px;"><span class="cm-variable">base_data</span> =<span class="cm-variable">data</span>.<span class="cm-variable">selectExpr</span>(<span class="cm-string">'identifier'</span>,<span class="cm-string">'brandName as brand'</span>, <span class="cm-string">'cat1 AS category'</span>,<span class="cm-string">'item_total_txn AS transaction_amount'</span>, <span class="cm-string">'item_product_code as product_id'</span>, <span class="cm-string">'item_total'</span>,<span class="cm-string">'item_discounts_amount'</span>, <span class="cm-string">'timestamp'</span>,<span class="cm-string">'item_quantity as quantity'</span>, <span class="cm-string">'transaction_id'</span>)  <span class="cm-error">\</span></span></pre></div><div style="position: relative;"><div class="CodeMirror-gutter-wrapper" style="left: -34px;"><div class="CodeMirror-linenumber CodeMirror-gutter-elt" style="left: 0px; width: 21px;">3</div></div><pre class=" CodeMirror-line "><span style="padding-right: 0.1px;">    .<span class="cm-variable">withColumn</span>(<span class="cm-string">'item_unit_price'</span>, <span class="cm-variable">col</span>(<span class="cm-string">'transaction_amount'</span>) <span class="cm-operator">/</span> <span class="cm-variable">col</span>(<span class="cm-string">'quantity'</span>)) <span class="cm-error">\</span></span></pre></div><div style="position: relative;"><div class="CodeMirror-gutter-wrapper" style="left: -34px;"><div class="CodeMirror-linenumber CodeMirror-gutter-elt" style="left: 0px; width: 21px;">4</div></div><pre class=" CodeMirror-line "><span style="padding-right: 0.1px;">  .<span class="cm-builtin">filter</span>((<span class="cm-variable">to_date</span>(<span class="cm-variable">col</span>(<span class="cm-string">"timestamp"</span>))<span class="cm-operator">&gt;</span><span class="cm-string">'2016-11-30'</span>) <span class="cm-operator">&amp;</span> <span class="cm-error">\</span></span></pre></div><div style="position: relative;"><div class="CodeMirror-gutter-wrapper" style="left: -34px;"><div class="CodeMirror-linenumber CodeMirror-gutter-elt" style="left: 0px; width: 21px;">5</div></div><pre class=" CodeMirror-line "><span style="padding-right: 0.1px;">                  (<span class="cm-variable">to_date</span>(<span class="cm-variable">col</span>(<span class="cm-string">"timestamp"</span>))<span class="cm-operator">&lt;</span><span class="cm-string">'2017-12-01'</span>) <span class="cm-operator">&amp;</span> <span class="cm-error">\</span></span></pre></div><div style="position: relative;"><div class="CodeMirror-gutter-wrapper" style="left: -34px;"><div class="CodeMirror-linenumber CodeMirror-gutter-elt" style="left: 0px; width: 21px;">6</div></div><pre class=" CodeMirror-line "><span style="padding-right: 0.1px;">                  (<span class="cm-variable">col</span>(<span class="cm-string">"identifier"</span>).<span class="cm-variable">isNotNull</span>()) <span class="cm-operator">&amp;</span> <span class="cm-error">\</span></span></pre></div><div style="position: relative;"><div class="CodeMirror-gutter-wrapper" style="left: -34px;"><div class="CodeMirror-linenumber CodeMirror-gutter-elt" style="left: 0px; width: 21px;">7</div></div><pre class=" CodeMirror-line "><span style="padding-right: 0.1px;">                  (<span class="cm-variable">col</span>(<span class="cm-string">"retailer_name"</span>)<span class="cm-operator">==</span><span class="cm-string">'Argos'</span>) <span class="cm-operator">&amp;</span> <span class="cm-error">\</span></span></pre></div><div style="position: relative;"><div class="CodeMirror-gutter-wrapper" style="left: -34px;"><div class="CodeMirror-linenumber CodeMirror-gutter-elt" style="left: 0px; width: 21px;">8</div></div><pre class=" CodeMirror-line "><span style="padding-right: 0.1px;">                  (<span class="cm-variable">col</span>(<span class="cm-string">"item_total"</span>)<span class="cm-operator">&gt;</span><span class="cm-number">0</span>)) </span></pre></div><div style="position: relative;"><div class="CodeMirror-gutter-wrapper" style="left: -34px;"><div class="CodeMirror-linenumber CodeMirror-gutter-elt" style="left: 0px; width: 21px;">9</div></div><pre class=" CodeMirror-line "><span style="padding-right: 0.1px;"><span class="cm-variable">base_data</span>.<span class="cm-variable">show</span>(<span class="cm-number">5</span>)  </span></pre></div><div style="position: relative; display: none;"><div class="CodeMirror-gutter-wrapper" style="left: -5px;"><div class="CodeMirror-linenumber CodeMirror-gutter-elt" style="left: 0px; width: 21px;">4</div></div><pre class=" CodeMirror-line "><span style="padding-right: 0.1px;">  .<span class="cm-builtin">filter</span>((<span class="cm-variable">to_date</span>(<span class="cm-variable">col</span>(<span class="cm-string">"timestamp"</span>))<span class="cm-operator">&gt;</span><span class="cm-string">'2016-11-30'</span>) <span class="cm-operator">&amp;</span> <span class="cm-error">\</span></span></pre></div></div></div></div></div></div><div style="position: absolute; height: 30px; width: 1px; top: 201px;"></div><div class="CodeMirror-gutters" style="height: 231px; left: 0px;"><div class="CodeMirror-gutter CodeMirror-linenumbers" style="width: 33px;"></div></div></div></div></div></div></div><div class="widget-area" style="display: none;"><div class="prompt"><button class="close">�</button></div><div class="widget-subarea jp-Output-result"></div></div><div class="output_wrapper"><div class="out_prompt_overlay prompt" title="click to scroll output; double click to hide" style="display: block;"></div><div class="output" style=""><div class="output_area"><div class="prompt"></div><div class="output_subarea output_text output_stream output_stdout"><pre>+--------------------+------------+--------------------+------------------+----------+----------+---------------------+--------------------+--------+--------------------+---------------+
|          identifier|       brand|            category|transaction_amount|product_id|item_total|item_discounts_amount|           timestamp|quantity|      transaction_id|item_unit_price|
+--------------------+------------+--------------------+------------------+----------+----------+---------------------+--------------------+--------+--------------------+---------------+
|ginagordon13@hotm...|Other Brands|              Shoes |             49.01|  686/5483|      5.99|                 null|2017-09-11 12:52:...|       1|20170911 / 413 / ...|          49.01|
|kirsty.reddem96@g...|      silver|            Jewelry |             19.97|  392/2374|     11.99|                 null|2017-05-06 11:49:...|       1|20170506 / 4221 /...|          19.97|
|andrearobinson2@o...|Other Brands|     Home &amp; Kitchen |             65.97|  875/4334|      6.49|                 null|2017-04-29 15:57:...|       1|20170429 / 265 / ...|          65.97|
|darrenadamson@hot...|Other Brands|     Home &amp; Kitchen |              9.99|  850/3413|      9.99|                 null|2017-02-20 09:29:...|       1|20170220 / 4371 /...|           9.99|
|ricky.01@hotmail....|Other Brands|Patio, Lawn &amp; Gar...|             22.97|  600/6596|      3.99|                 null|2017-01-21 10:05:...|       1|20170121 / 4177 /...|          22.97|
+--------------------+------------+--------------------+------------------+----------+----------+---------------------+--------------------+--------+--------------------+---------------+
only showing top 5 rows

</pre></div></div></div><div class="btn btn-default output_collapsed" title="click to expand output" style="display: none;">. . .</div></div><div class="cellPlaceholder btn btn-default" title="Uncollapse cell"></div></div><div class="cell code_cell rendered session completed unselected" tabindex="2"><div class="dropdown minitoolbar"><button class="btn btn-default dropdown-toggle minitoolbar-toggle" data-toggle="dropdown"><i class="material-icons">menu</i></button><ul class="dropdown-menu"><li><a href="http://localhost:8084/notebooks/UK_Shopper_Attributes/Luxury_Indicator.ipynb#"><i class="material-icons glyph-run-cell" style="padding-right: 10px;">play_arrow</i><span class="title-run-cell">Run</span></a></li><li><a href="http://localhost:8084/notebooks/UK_Shopper_Attributes/Luxury_Indicator.ipynb#"><i class="material-icons glyph-clear-cell" style="padding-right: 10px;">check_box_outline_blank</i><span class="title-clear-cell">Clear</span></a></li><li><a href="http://localhost:8084/notebooks/UK_Shopper_Attributes/Luxury_Indicator.ipynb#"><i class="material-icons glyph-collapse-cell" style="padding-right: 10px;">vertical_align_top</i><span class="title-collapse-cell">Collapse</span></a></li><li><a href="http://localhost:8084/notebooks/UK_Shopper_Attributes/Luxury_Indicator.ipynb#"><i class="material-icons glyph-collapse-code" style="padding-right: 10px;">code</i><span class="title-collapse-code">Hide Code</span></a></li></ul></div><div class="input"><div class="prompt input_prompt"></div><div class="inner_cell"><div class="ctb_hideshow"><div class="celltoolbar"></div></div><div class="input_area"><div class="CodeMirror cm-s-ipython"><div style="overflow: hidden; position: relative; width: 3px; height: 0px; top: 6px; left: 490px;"><textarea autocorrect="off" autocapitalize="off" spellcheck="false" tabindex="0" style="position: absolute; padding: 0px; width: 1000px; height: 1em; outline: none;"></textarea></div><div class="CodeMirror-vscrollbar" cm-not-content="true" style="min-width: 18px;"><div style="min-width: 1px; height: 0px;"></div></div><div class="CodeMirror-hscrollbar" cm-not-content="true" style=""><div style="height: 100%; min-height: 1px; width: 0px;"></div></div><div class="CodeMirror-scrollbar-filler" cm-not-content="true"></div><div class="CodeMirror-gutter-filler" cm-not-content="true"></div><div class="CodeMirror-scroll" tabindex="-1" draggable="false"><div class="CodeMirror-sizer" style="margin-left: 34px; min-width: 453px; margin-bottom: 0px; border-right-width: 30px; min-height: 54px; padding-right: 0px; padding-bottom: 0px;"><div style="position: relative; top: 0px;"><div class="CodeMirror-lines"><div style="position: relative; outline: none;"><div class="CodeMirror-measure"><div class="CodeMirror-linenumber CodeMirror-gutter-elt"><div>2</div></div></div><div class="CodeMirror-measure"></div><div style="position: relative; z-index: 1;"></div><div class="CodeMirror-cursors" style=""><div class="CodeMirror-cursor" style="left: 450px; top: 0px; height: 21px;">&nbsp;</div></div><div class="CodeMirror-code"><div style="position: relative;"><div class="CodeMirror-gutter-wrapper" style="left: -34px;"><div class="CodeMirror-linenumber CodeMirror-gutter-elt" style="left: 0px; width: 21px;">1</div></div><pre class=" CodeMirror-line "><span style="padding-right: 0.1px;"><span class="cm-variable">test1</span> = <span class="cm-variable">base_data</span>.<span class="cm-variable">agg</span>(<span class="cm-variable">countDistinct</span>(<span class="cm-string">'identifier'</span>))</span></pre></div><div style="position: relative;"><div class="CodeMirror-gutter-wrapper" style="left: -34px;"><div class="CodeMirror-linenumber CodeMirror-gutter-elt" style="left: 0px; width: 21px;">2</div></div><pre class=" CodeMirror-line "><span style="padding-right: 0.1px;"><span class="cm-variable">test1</span>.<span class="cm-variable">show</span>()</span></pre></div></div></div></div></div></div><div style="position: absolute; height: 30px; width: 1px; top: 54px;"></div><div class="CodeMirror-gutters" style="height: 84px;"><div class="CodeMirror-gutter CodeMirror-linenumbers" style="width: 33px;"></div></div></div></div></div></div></div><div class="widget-area" style="display: none;"><div class="prompt"><button class="close">�</button></div><div class="widget-subarea jp-Output-result"></div></div><div class="output_wrapper"><div class="out_prompt_overlay prompt" title="click to scroll output; double click to hide" style="display: block;"></div><div class="output" style=""><div class="output_area"><div class="prompt"></div><div class="output_subarea output_text output_stream output_stdout"><pre>+--------------------------+
|count(DISTINCT identifier)|
+--------------------------+
|                  12103974|
+--------------------------+

</pre></div></div></div><div class="btn btn-default output_collapsed" title="click to expand output" style="display: none;">. . .</div></div><div class="cellPlaceholder btn btn-default" title="Uncollapse cell"></div></div><div class="cell text_cell rendered unselected" tabindex="2"><div class="prompt input_prompt"></div><div class="inner_cell"><div class="ctb_hideshow"><div class="celltoolbar"></div></div><div class="input_area"><div class="CodeMirror cm-s-default CodeMirror-wrap"><div style="overflow: hidden; position: relative; width: 3px; height: 0px; top: 6px; left: 6px;"><textarea autocorrect="off" autocapitalize="off" spellcheck="false" tabindex="0" style="position: absolute; padding: 0px; width: 1000px; height: 1em; outline: none;"></textarea></div><div class="CodeMirror-vscrollbar" cm-not-content="true" style="bottom: 0px; min-width: 18px;"><div style="min-width: 1px; height: 0px;"></div></div><div class="CodeMirror-hscrollbar" cm-not-content="true" style=""><div style="height: 100%; min-height: 1px; width: 0px;"></div></div><div class="CodeMirror-scrollbar-filler" cm-not-content="true"></div><div class="CodeMirror-gutter-filler" cm-not-content="true"></div><div class="CodeMirror-scroll" tabindex="-1"><div class="CodeMirror-sizer" style="margin-left: 0px; padding-right: 0px; padding-bottom: 0px; margin-bottom: 0px; border-right-width: 30px; min-height: 33px;"><div style="position: relative; top: 0px;"><div class="CodeMirror-lines"><div style="position: relative; outline: none;"><div class="CodeMirror-measure"></div><div class="CodeMirror-measure"></div><div style="position: relative; z-index: 1;"></div><div class="CodeMirror-cursors"><div class="CodeMirror-cursor" style="left: 0px; top: 0px; height: 21px;">&nbsp;</div></div><div class="CodeMirror-code"><pre class=" CodeMirror-line "><span style="padding-right: 0.1px;"><span class="cm-header cm-header-4">#### Exporting brand cross category level data file (csv format) into GCS</span></span></pre></div></div></div></div></div><div style="position: absolute; height: 30px; width: 1px; top: 33px;"></div><div class="CodeMirror-gutters" style="display: none; height: 63px;"></div></div></div></div><div class="text_cell_render rendered_html" tabindex="-1"><h4 id="Exporting-brand-cross-category-level-data-file-(csv-format)-into-GCS">Exporting brand cross category level data file (csv format) into GCS<a class="anchor-link" href="http://localhost:8084/notebooks/UK_Shopper_Attributes/Luxury_Indicator.ipynb#Exporting-brand-cross-category-level-data-file-(csv-format)-into-GCS">�</a></h4>
</div></div></div><div class="cell code_cell rendered completed unselected" tabindex="2"><div class="dropdown minitoolbar"><button class="btn btn-default dropdown-toggle minitoolbar-toggle" data-toggle="dropdown"><i class="material-icons">menu</i></button><ul class="dropdown-menu"><li><a href="http://localhost:8084/notebooks/UK_Shopper_Attributes/Luxury_Indicator.ipynb#"><i class="material-icons glyph-run-cell" style="padding-right: 10px;">play_arrow</i><span class="title-run-cell">Run</span></a></li><li><a href="http://localhost:8084/notebooks/UK_Shopper_Attributes/Luxury_Indicator.ipynb#"><i class="material-icons glyph-clear-cell" style="padding-right: 10px;">check_box_outline_blank</i><span class="title-clear-cell">Clear</span></a></li><li><a href="http://localhost:8084/notebooks/UK_Shopper_Attributes/Luxury_Indicator.ipynb#"><i class="material-icons glyph-collapse-cell" style="padding-right: 10px;">vertical_align_top</i><span class="title-collapse-cell">Collapse</span></a></li><li><a href="http://localhost:8084/notebooks/UK_Shopper_Attributes/Luxury_Indicator.ipynb#"><i class="material-icons glyph-collapse-code" style="padding-right: 10px;">code</i><span class="title-collapse-code">Hide Code</span></a></li></ul></div><div class="input"><div class="prompt input_prompt"></div><div class="inner_cell"><div class="ctb_hideshow"><div class="celltoolbar"></div></div><div class="input_area"><div class="CodeMirror cm-s-ipython"><div style="overflow: hidden; position: relative; width: 3px; height: 0px; top: 6px; left: 1057px;"><textarea autocorrect="off" autocapitalize="off" spellcheck="false" tabindex="0" style="position: absolute; padding: 0px; width: 1000px; height: 1em; outline: none;"></textarea></div><div class="CodeMirror-vscrollbar" cm-not-content="true" style="min-width: 18px;"><div style="min-width: 1px; height: 0px;"></div></div><div class="CodeMirror-hscrollbar" cm-not-content="true" style="right: 0px; left: 34px;"><div style="height: 100%; min-height: 1px; width: 0px;"></div></div><div class="CodeMirror-scrollbar-filler" cm-not-content="true"></div><div class="CodeMirror-gutter-filler" cm-not-content="true"></div><div class="CodeMirror-scroll" tabindex="-1"><div class="CodeMirror-sizer" style="margin-left: 34px; min-width: 1020px; margin-bottom: 0px; border-right-width: 30px; min-height: 33px; padding-right: 0px; padding-bottom: 0px;"><div style="position: relative; top: 0px;"><div class="CodeMirror-lines"><div style="position: relative; outline: none;"><div class="CodeMirror-measure"><pre>x</pre></div><div class="CodeMirror-measure"></div><div style="position: relative; z-index: 1;"></div><div class="CodeMirror-cursors" style=""><div class="CodeMirror-cursor" style="left: 1017px; top: 0px; height: 21px;">&nbsp;</div></div><div class="CodeMirror-code"><div style="position: relative;"><div class="CodeMirror-gutter-wrapper" style="left: -34px;"><div class="CodeMirror-linenumber CodeMirror-gutter-elt" style="left: 0px; width: 21px;">1</div></div><pre class=" CodeMirror-line "><span style="padding-right: 0.1px;">(<span class="cm-variable">base_data</span>.<span class="cm-variable">coalesce</span>(<span class="cm-number">1</span>).<span class="cm-variable">write</span>.<span class="cm-variable">option</span>(<span class="cm-string">"header"</span>, <span class="cm-string">"true"</span>).<span class="cm-variable">csv</span>(<span class="cm-string">"gs://westfield-tom/datalab/brand_category_base_data"</span>))</span></pre></div></div></div></div></div></div><div style="position: absolute; height: 30px; width: 1px; top: 33px;"></div><div class="CodeMirror-gutters" style="height: 63px; left: 0px;"><div class="CodeMirror-gutter CodeMirror-linenumbers" style="width: 33px;"></div></div></div></div></div></div></div><div class="widget-area" style="display: none;"><div class="prompt"><button class="close">�</button></div><div class="widget-subarea jp-Output-result"></div></div><div class="output_wrapper"><div class="out_prompt_overlay prompt" title="click to expand output; double click to hide output" style="display: block;"></div><div class="output" style=""></div><div class="btn btn-default output_collapsed" title="click to expand output" style="display: none;">. . .</div></div><div class="cellPlaceholder btn btn-default" title="Uncollapse cell"></div></div><div class="cell text_cell unselected rendered" tabindex="2"><div class="prompt input_prompt"></div><div class="inner_cell"><div class="ctb_hideshow"><div class="celltoolbar"></div></div><div class="input_area"><div class="CodeMirror cm-s-default CodeMirror-wrap"><div style="overflow: hidden; position: relative; width: 3px; height: 0px; top: 6px; left: 6px;"><textarea autocorrect="off" autocapitalize="off" spellcheck="false" tabindex="0" style="position: absolute; padding: 0px; width: 1000px; height: 1em; outline: none;"></textarea></div><div class="CodeMirror-vscrollbar" cm-not-content="true" style="bottom: 0px; min-width: 18px;"><div style="min-width: 1px; height: 0px;"></div></div><div class="CodeMirror-hscrollbar" cm-not-content="true" style=""><div style="height: 100%; min-height: 1px; width: 0px;"></div></div><div class="CodeMirror-scrollbar-filler" cm-not-content="true"></div><div class="CodeMirror-gutter-filler" cm-not-content="true"></div><div class="CodeMirror-scroll" tabindex="-1"><div class="CodeMirror-sizer" style="margin-left: 0px; padding-right: 0px; padding-bottom: 0px; margin-bottom: 0px; border-right-width: 30px; min-height: 33px;"><div style="position: relative; top: 0px;"><div class="CodeMirror-lines"><div style="position: relative; outline: none;"><div class="CodeMirror-measure"></div><div class="CodeMirror-measure"></div><div style="position: relative; z-index: 1;"></div><div class="CodeMirror-cursors"><div class="CodeMirror-cursor" style="left: 0px; top: 0px; height: 21px;">&nbsp;</div></div><div class="CodeMirror-code"><pre class=" CodeMirror-line "><span style="padding-right: 0.1px;"><span class="cm-header cm-header-4">#### Calculating the brand's average price per product, min price, max price, 25th, 75th percentile</span></span></pre></div></div></div></div></div><div style="position: absolute; height: 30px; width: 1px; top: 33px;"></div><div class="CodeMirror-gutters" style="display: none; height: 63px;"></div></div></div></div><div class="text_cell_render rendered_html" tabindex="-1"><h4 id="Calculating-the-brand&#39;s-average-price-per-product,-min-price,-max-price,-25th,-75th-percentile">Calculating the brand's average price per product, min price, max price, 25th, 75th percentile<a class="anchor-link" href="http://localhost:8084/notebooks/UK_Shopper_Attributes/Luxury_Indicator.ipynb#Calculating-the-brand&#39;s-average-price-per-product,-min-price,-max-price,-25th,-75th-percentile">�</a></h4>
</div></div></div><div class="cell code_cell rendered session completed unselected" tabindex="2"><div class="dropdown minitoolbar"><button class="btn btn-default dropdown-toggle minitoolbar-toggle" data-toggle="dropdown"><i class="material-icons">menu</i></button><ul class="dropdown-menu"><li><a href="http://localhost:8084/notebooks/UK_Shopper_Attributes/Luxury_Indicator.ipynb#"><i class="material-icons glyph-run-cell" style="padding-right: 10px;">play_arrow</i><span class="title-run-cell">Run</span></a></li><li><a href="http://localhost:8084/notebooks/UK_Shopper_Attributes/Luxury_Indicator.ipynb#"><i class="material-icons glyph-clear-cell" style="padding-right: 10px;">check_box_outline_blank</i><span class="title-clear-cell">Clear</span></a></li><li><a href="http://localhost:8084/notebooks/UK_Shopper_Attributes/Luxury_Indicator.ipynb#"><i class="material-icons glyph-collapse-cell" style="padding-right: 10px;">vertical_align_top</i><span class="title-collapse-cell">Collapse</span></a></li><li><a href="http://localhost:8084/notebooks/UK_Shopper_Attributes/Luxury_Indicator.ipynb#"><i class="material-icons glyph-collapse-code" style="padding-right: 10px;">code</i><span class="title-collapse-code">Hide Code</span></a></li></ul></div><div class="input"><div class="prompt input_prompt"></div><div class="inner_cell"><div class="ctb_hideshow"><div class="celltoolbar"></div></div><div class="input_area"><div class="CodeMirror cm-s-ipython"><div style="overflow: hidden; position: relative; width: 3px; height: 0px; top: 132px; left: 850px;"><textarea autocorrect="off" autocapitalize="off" spellcheck="false" tabindex="0" style="position: absolute; padding: 0px; width: 1000px; height: 1em; outline: none;"></textarea></div><div class="CodeMirror-vscrollbar" cm-not-content="true" style="min-width: 18px; bottom: 0px;"><div style="min-width: 1px; height: 0px;"></div></div><div class="CodeMirror-hscrollbar" cm-not-content="true" style=""><div style="height: 100%; min-height: 1px; width: 0px;"></div></div><div class="CodeMirror-scrollbar-filler" cm-not-content="true"></div><div class="CodeMirror-gutter-filler" cm-not-content="true"></div><div class="CodeMirror-scroll" tabindex="-1"><div class="CodeMirror-sizer" style="margin-left: 34px; min-width: 1137px; margin-bottom: 0px; border-right-width: 30px; min-height: 348px; padding-right: 0px; padding-bottom: 0px;"><div style="position: relative; top: 0px;"><div class="CodeMirror-lines"><div style="position: relative; outline: none;"><div class="CodeMirror-measure"><pre>x</pre></div><div class="CodeMirror-measure"></div><div style="position: relative; z-index: 1;"><div class="CodeMirror-selected" style="position: absolute; left: 738px; top: 126px; width: 72px; height: 21px;"></div></div><div class="CodeMirror-cursors" style=""></div><div class="CodeMirror-code" style=""><div style="position: relative;"><div class="CodeMirror-gutter-wrapper" style="left: -34px;"><div class="CodeMirror-linenumber CodeMirror-gutter-elt" style="left: 0px; width: 21px;">1</div></div><pre class=" CodeMirror-line "><span style="padding-right: 0.1px;"><span class="cm-keyword">from</span> <span class="cm-variable">pyspark</span>.<span class="cm-variable">sql</span>.<span class="cm-variable">window</span> <span class="cm-keyword">import</span> <span class="cm-variable">Window</span> </span></pre></div><div style="position: relative;"><div class="CodeMirror-gutter-wrapper" style="left: -34px;"><div class="CodeMirror-linenumber CodeMirror-gutter-elt" style="left: 0px; width: 21px;">2</div></div><pre class=" CodeMirror-line "><span style="padding-right: 0.1px;"><span class="cm-comment"># Creating brand level information that would be used for bucketing brands into luxury buckets</span></span></pre></div><div style="position: relative;"><div class="CodeMirror-gutter-wrapper" style="left: -34px;"><div class="CodeMirror-linenumber CodeMirror-gutter-elt" style="left: 0px; width: 21px;">3</div></div><pre class=" CodeMirror-line "><span style="padding-right: 0.1px;"><span class="cm-variable">brand_prices_percentile</span> = <span class="cm-variable">base_data</span>.<span class="cm-variable">select</span>(<span class="cm-string">'brand'</span>,<span class="cm-string">'category'</span>, <span class="cm-string">'product_id'</span>, <span class="cm-string">'item_unit_price'</span>).<span class="cm-variable">distinct</span>() <span class="cm-error">\</span></span></pre></div><div style="position: relative;"><div class="CodeMirror-gutter-wrapper" style="left: -34px;"><div class="CodeMirror-linenumber CodeMirror-gutter-elt" style="left: 0px; width: 21px;">4</div></div><pre class=" CodeMirror-line "><span style="padding-right: 0.1px;">                                    .<span class="cm-variable">withColumn</span>(<span class="cm-string">'in_brand_percentile'</span>, <span class="cm-variable">percent_rank</span>().<span class="cm-variable">over</span>(<span class="cm-variable">Window</span>.<span class="cm-variable">partitionBy</span>(<span class="cm-variable">col</span>(<span class="cm-string">'brand'</span>)) <span class="cm-error">\</span></span></pre></div><div style="position: relative;"><div class="CodeMirror-gutter-wrapper" style="left: -34px;"><div class="CodeMirror-linenumber CodeMirror-gutter-elt" style="left: 0px; width: 21px;">5</div></div><pre class=" CodeMirror-line "><span style="padding-right: 0.1px;">                                    .<span class="cm-variable">orderBy</span>(<span class="cm-variable">col</span>(<span class="cm-string">'item_unit_price'</span>)))) </span></pre></div><div style="position: relative;"><div class="CodeMirror-gutter-wrapper" style="left: -34px;"><div class="CodeMirror-linenumber CodeMirror-gutter-elt" style="left: 0px; width: 21px;">6</div></div><pre class=" CodeMirror-line "><span style="padding-right: 0.1px;"><span class="cm-variable">min_mean_max</span> = <span class="cm-variable">brand_prices_percentile</span>.<span class="cm-variable">groupBy</span>(<span class="cm-string">'brand'</span>,<span class="cm-string">'category'</span>).<span class="cm-variable">agg</span>(<span class="cm-builtin">min</span>(<span class="cm-string">'item_unit_price'</span>).<span class="cm-variable">alias</span>(<span class="cm-string">'value_min'</span>), <span class="cm-error">\</span></span></pre></div><div style="position: relative;"><div class="CodeMirror-gutter-wrapper" style="left: -34px;"><div class="CodeMirror-linenumber CodeMirror-gutter-elt" style="left: 0px; width: 21px;">7</div></div><pre class=" CodeMirror-line "><span style="padding-right: 0.1px;">                                                            <span class="cm-builtin">max</span>(<span class="cm-string">'item_unit_price'</span>).<span class="cm-variable">alias</span>(<span class="cm-string">'value_max'</span>), <span class="cm-error">\</span></span></pre></div><div style="position: relative;"><div class="CodeMirror-gutter-wrapper" style="left: -34px;"><div class="CodeMirror-linenumber CodeMirror-gutter-elt" style="left: 0px; width: 21px;">8</div></div><pre class=" CodeMirror-line "><span style="padding-right: 0.1px;">                                                            <span class="cm-variable">avg</span>(<span class="cm-string">'item_unit_price'</span>).<span class="cm-variable">alias</span>(<span class="cm-string">'value_mean'</span>)) </span></pre></div><div style="position: relative;"><div class="CodeMirror-gutter-wrapper" style="left: -34px;"><div class="CodeMirror-linenumber CodeMirror-gutter-elt" style="left: 0px; width: 21px;">9</div></div><pre class=" CodeMirror-line "><span style="padding-right: 0.1px;"><span class="cm-variable">quartile_25</span> = <span class="cm-variable">brand_prices_percentile</span>.<span class="cm-builtin">filter</span>(<span class="cm-variable">col</span>(<span class="cm-string">'in_brand_percentile'</span>) <span class="cm-operator">&lt;=</span> <span class="cm-number">0.25</span>) <span class="cm-error">\</span></span></pre></div><div style="position: relative;"><div class="CodeMirror-gutter-wrapper" style="left: -34px;"><div class="CodeMirror-linenumber CodeMirror-gutter-elt" style="left: 0px; width: 21px;">10</div></div><pre class=" CodeMirror-line "><span style="padding-right: 0.1px;">                                     .<span class="cm-variable">groupBy</span>(<span class="cm-string">'brand'</span>,<span class="cm-string">'category'</span>).<span class="cm-variable">agg</span>(<span class="cm-builtin">max</span>(<span class="cm-string">'item_unit_price'</span>).<span class="cm-variable">alias</span>(<span class="cm-string">'value_25'</span>)) </span></pre></div><div style="position: relative;"><div class="CodeMirror-gutter-wrapper" style="left: -34px;"><div class="CodeMirror-linenumber CodeMirror-gutter-elt" style="left: 0px; width: 21px;">11</div></div><pre class=" CodeMirror-line "><span style="padding-right: 0.1px;"><span class="cm-variable">quartile_50</span> = <span class="cm-variable">brand_prices_percentile</span>.<span class="cm-builtin">filter</span>(<span class="cm-variable">col</span>(<span class="cm-string">'in_brand_percentile'</span>) <span class="cm-operator">&lt;=</span> <span class="cm-number">0.5</span>) <span class="cm-error">\</span></span></pre></div><div style="position: relative;"><div class="CodeMirror-gutter-wrapper" style="left: -34px;"><div class="CodeMirror-linenumber CodeMirror-gutter-elt" style="left: 0px; width: 21px;">12</div></div><pre class=" CodeMirror-line "><span style="padding-right: 0.1px;">                                     .<span class="cm-variable">groupBy</span>(<span class="cm-string">'brand'</span>,<span class="cm-string">'category'</span>).<span class="cm-variable">agg</span>(<span class="cm-builtin">max</span>(<span class="cm-string">'item_unit_price'</span>).<span class="cm-variable">alias</span>(<span class="cm-string">'value_50'</span>)) </span></pre></div><div style="position: relative;"><div class="CodeMirror-gutter-wrapper" style="left: -34px;"><div class="CodeMirror-linenumber CodeMirror-gutter-elt" style="left: 0px; width: 21px;">13</div></div><pre class=" CodeMirror-line "><span style="padding-right: 0.1px;"><span class="cm-variable">quartile_75</span> = <span class="cm-variable">brand_prices_percentile</span>.<span class="cm-builtin">filter</span>(<span class="cm-variable">col</span>(<span class="cm-string">'in_brand_percentile'</span>) <span class="cm-operator">&lt;=</span> <span class="cm-number">0.75</span>) <span class="cm-error">\</span></span></pre></div><div style="position: relative;"><div class="CodeMirror-gutter-wrapper" style="left: -34px;"><div class="CodeMirror-linenumber CodeMirror-gutter-elt" style="left: 0px; width: 21px;">14</div></div><pre class=" CodeMirror-line "><span style="padding-right: 0.1px;">                                     .<span class="cm-variable">groupBy</span>(<span class="cm-string">'brand'</span>,<span class="cm-string">'category'</span>).<span class="cm-variable">agg</span>(<span class="cm-builtin">max</span>(<span class="cm-string">'item_unit_price'</span>).<span class="cm-variable">alias</span>(<span class="cm-string">'value_75'</span>)) </span></pre></div><div style="position: relative;"><div class="CodeMirror-gutter-wrapper" style="left: -34px;"><div class="CodeMirror-linenumber CodeMirror-gutter-elt" style="left: 0px; width: 21px;">15</div></div><pre class=" CodeMirror-line "><span style="padding-right: 0.1px;"><span class="cm-variable">brand_metrics</span> = <span class="cm-variable">min_mean_max</span>.<span class="cm-variable">join</span>(<span class="cm-variable">quartile_25</span>, [<span class="cm-string">'brand'</span>,<span class="cm-string">'category'</span>], <span class="cm-string">'left'</span>).<span class="cm-variable">join</span>(<span class="cm-variable">quartile_50</span>, [<span class="cm-string">'brand'</span>,<span class="cm-string">'category'</span>], <span class="cm-string">'left'</span>) <span class="cm-error">\</span></span></pre></div><div style="position: relative;"><div class="CodeMirror-gutter-wrapper" style="left: -34px;"><div class="CodeMirror-linenumber CodeMirror-gutter-elt" style="left: 0px; width: 21px;">16</div></div><pre class=" CodeMirror-line "><span style="padding-right: 0.1px;">                            .<span class="cm-variable">join</span>(<span class="cm-variable">quartile_75</span>, [<span class="cm-string">'brand'</span>,<span class="cm-string">'category'</span>], <span class="cm-string">'left'</span>)</span></pre></div></div></div></div></div></div><div style="position: absolute; height: 30px; width: 1px; top: 348px;"></div><div class="CodeMirror-gutters" style="height: 378px;"><div class="CodeMirror-gutter CodeMirror-linenumbers" style="width: 33px;"></div></div></div></div></div></div></div><div class="widget-area" style="display: none;"><div class="prompt"><button class="close">�</button></div><div class="widget-subarea jp-Output-result"></div></div><div class="output_wrapper"><div class="out_prompt_overlay prompt" title="click to scroll output; double click to hide" style="display: none;"></div><div class="output" style=""></div><div class="btn btn-default output_collapsed" title="click to expand output" style="display: none;">. . .</div></div><div class="cellPlaceholder btn btn-default" title="Uncollapse cell"></div></div><div class="cell text_cell rendered unselected" tabindex="2"><div class="prompt input_prompt"></div><div class="inner_cell"><div class="ctb_hideshow"><div class="celltoolbar"></div></div><div class="input_area"><div class="CodeMirror cm-s-default CodeMirror-wrap"><div style="overflow: hidden; position: relative; width: 3px; height: 0px; top: 6px; left: 6px;"><textarea autocorrect="off" autocapitalize="off" spellcheck="false" tabindex="0" style="position: absolute; padding: 0px; width: 1000px; height: 1em; outline: none;"></textarea></div><div class="CodeMirror-vscrollbar" cm-not-content="true" style="bottom: 0px; min-width: 18px;"><div style="min-width: 1px; height: 0px;"></div></div><div class="CodeMirror-hscrollbar" cm-not-content="true" style=""><div style="height: 100%; min-height: 1px; width: 0px;"></div></div><div class="CodeMirror-scrollbar-filler" cm-not-content="true"></div><div class="CodeMirror-gutter-filler" cm-not-content="true"></div><div class="CodeMirror-scroll" tabindex="-1"><div class="CodeMirror-sizer" style="margin-left: 0px; padding-right: 0px; padding-bottom: 0px; margin-bottom: 0px; border-right-width: 30px; min-height: 33px;"><div style="position: relative; top: 0px;"><div class="CodeMirror-lines"><div style="position: relative; outline: none;"><div class="CodeMirror-measure"></div><div class="CodeMirror-measure"></div><div style="position: relative; z-index: 1;"></div><div class="CodeMirror-cursors"><div class="CodeMirror-cursor" style="left: 0px; top: 0px; height: 21px;">&nbsp;</div></div><div class="CodeMirror-code"><pre class=" CodeMirror-line "><span style="padding-right: 0.1px;"><span class="cm-header cm-header-4">#### Seeing the data</span></span></pre></div></div></div></div></div><div style="position: absolute; height: 30px; width: 1px; top: 33px;"></div><div class="CodeMirror-gutters" style="display: none; height: 63px;"></div></div></div></div><div class="text_cell_render rendered_html" tabindex="-1"><h4 id="Seeing-the-data">Seeing the data<a class="anchor-link" href="http://localhost:8084/notebooks/UK_Shopper_Attributes/Luxury_Indicator.ipynb#Seeing-the-data">�</a></h4>
</div></div></div><div class="cell code_cell rendered session completed unselected" tabindex="2"><div class="dropdown minitoolbar"><button class="btn btn-default dropdown-toggle minitoolbar-toggle" data-toggle="dropdown"><i class="material-icons">menu</i></button><ul class="dropdown-menu"><li><a href="http://localhost:8084/notebooks/UK_Shopper_Attributes/Luxury_Indicator.ipynb#"><i class="material-icons glyph-run-cell" style="padding-right: 10px;">play_arrow</i><span class="title-run-cell">Run</span></a></li><li><a href="http://localhost:8084/notebooks/UK_Shopper_Attributes/Luxury_Indicator.ipynb#"><i class="material-icons glyph-clear-cell" style="padding-right: 10px;">check_box_outline_blank</i><span class="title-clear-cell">Clear</span></a></li><li><a href="http://localhost:8084/notebooks/UK_Shopper_Attributes/Luxury_Indicator.ipynb#"><i class="material-icons glyph-collapse-cell" style="padding-right: 10px;">vertical_align_top</i><span class="title-collapse-cell">Collapse</span></a></li><li><a href="http://localhost:8084/notebooks/UK_Shopper_Attributes/Luxury_Indicator.ipynb#"><i class="material-icons glyph-collapse-code" style="padding-right: 10px;">code</i><span class="title-collapse-code">Hide Code</span></a></li></ul></div><div class="input"><div class="prompt input_prompt"></div><div class="inner_cell"><div class="ctb_hideshow"><div class="celltoolbar"></div></div><div class="input_area"><div class="CodeMirror cm-s-ipython"><div style="overflow: hidden; position: relative; width: 3px; height: 0px; top: 6px; left: 157px;"><textarea autocorrect="off" autocapitalize="off" spellcheck="false" tabindex="0" style="position: absolute; padding: 0px; width: 1000px; height: 1em; outline: none;"></textarea></div><div class="CodeMirror-vscrollbar" cm-not-content="true" style="min-width: 18px;"><div style="min-width: 1px; height: 0px;"></div></div><div class="CodeMirror-hscrollbar" cm-not-content="true" style=""><div style="height: 100%; min-height: 1px; width: 0px;"></div></div><div class="CodeMirror-scrollbar-filler" cm-not-content="true"></div><div class="CodeMirror-gutter-filler" cm-not-content="true"></div><div class="CodeMirror-scroll" tabindex="-1"><div class="CodeMirror-sizer" style="margin-left: 34px; min-width: 192px; margin-bottom: 0px; border-right-width: 30px; min-height: 33px; padding-right: 0px; padding-bottom: 0px;"><div style="position: relative; top: 0px;"><div class="CodeMirror-lines"><div style="position: relative; outline: none;"><div class="CodeMirror-measure"><pre>x</pre></div><div class="CodeMirror-measure"></div><div style="position: relative; z-index: 1;"><div class="CodeMirror-selected" style="position: absolute; left: 0px; top: 0px; width: 117px; height: 21px;"></div></div><div class="CodeMirror-cursors" style=""></div><div class="CodeMirror-code"><div style="position: relative;"><div class="CodeMirror-gutter-wrapper" style="left: -34px;"><div class="CodeMirror-linenumber CodeMirror-gutter-elt" style="left: 0px; width: 21px;">1</div></div><pre class=" CodeMirror-line "><span style="padding-right: 0.1px;"><span class="cm-variable">brand_metrics</span>.<span class="cm-variable">show</span>(<span class="cm-number">5</span>)</span></pre></div></div></div></div></div></div><div style="position: absolute; height: 30px; width: 1px; top: 33px;"></div><div class="CodeMirror-gutters" style="height: 63px;"><div class="CodeMirror-gutter CodeMirror-linenumbers" style="width: 33px;"></div></div></div></div></div></div></div><div class="widget-area" style="display: none;"><div class="prompt"><button class="close">�</button></div><div class="widget-subarea jp-Output-result"></div></div><div class="output_wrapper"><div class="out_prompt_overlay prompt" title="click to scroll output; double click to hide" style="display: block;"></div><div class="output" style=""><div class="output_area"><div class="prompt"></div><div class="output_subarea output_text output_stream output_stdout"><pre>+---------------+--------------------+-------------------+------------------+------------------+-----------------+-----------------+------------------+
|          brand|            category|          value_min|         value_max|        value_mean|         value_25|         value_50|          value_75|
+---------------+--------------------+-------------------+------------------+------------------+-----------------+-----------------+------------------+
|       2k Games|        Video Games |            -173.01|           1098.98| 180.3300977843792|            77.47|           124.97|230.01000000000002|
|        Muskoka|          Furniture |            1649.99|           1874.98|1793.9666666666665|          1649.99|          1856.93|           1856.93|
|    donna karan|            Jewelry |-60.000000000000014| 563.1800000000001|134.35552380952367|40.04999999999999|94.97999999999999|            149.99|
|         garmin|Computers &amp; Acces...|              -10.0|1124.7800000000002|157.26760869565206|            72.98|           129.98|184.98000000000002|
|rubie's costume|    Office Products |              17.99|321.84000000000003| 81.76000000000002|            23.99|            23.99|             23.99|
+---------------+--------------------+-------------------+------------------+------------------+-----------------+-----------------+------------------+
only showing top 5 rows

</pre></div></div></div><div class="btn btn-default output_collapsed" title="click to expand output" style="display: none;">. . .</div></div><div class="cellPlaceholder btn btn-default" title="Uncollapse cell"></div></div><div class="cell text_cell rendered unselected" tabindex="2"><div class="prompt input_prompt"></div><div class="inner_cell"><div class="ctb_hideshow"><div class="celltoolbar"></div></div><div class="input_area"><div class="CodeMirror cm-s-default CodeMirror-wrap"><div style="overflow: hidden; position: relative; width: 3px; height: 0px; top: 6px; left: 6px;"><textarea autocorrect="off" autocapitalize="off" spellcheck="false" tabindex="0" style="position: absolute; padding: 0px; width: 1000px; height: 1em; outline: none;"></textarea></div><div class="CodeMirror-vscrollbar" cm-not-content="true" style="bottom: 0px; min-width: 18px;"><div style="min-width: 1px; height: 0px;"></div></div><div class="CodeMirror-hscrollbar" cm-not-content="true" style=""><div style="height: 100%; min-height: 1px; width: 0px;"></div></div><div class="CodeMirror-scrollbar-filler" cm-not-content="true"></div><div class="CodeMirror-gutter-filler" cm-not-content="true"></div><div class="CodeMirror-scroll" tabindex="-1"><div class="CodeMirror-sizer" style="margin-left: 0px; padding-right: 0px; padding-bottom: 0px; margin-bottom: 0px; border-right-width: 30px; min-height: 33px;"><div style="position: relative; top: 0px;"><div class="CodeMirror-lines"><div style="position: relative; outline: none;"><div class="CodeMirror-measure"></div><div class="CodeMirror-measure"></div><div style="position: relative; z-index: 1;"></div><div class="CodeMirror-cursors"><div class="CodeMirror-cursor" style="left: 0px; top: 0px; height: 21px;">&nbsp;</div></div><div class="CodeMirror-code"><pre class=" CodeMirror-line "><span style="padding-right: 0.1px;"><span class="cm-header cm-header-4">#### Exporting brand metrics data file (csv format) into GCS</span></span></pre></div></div></div></div></div><div style="position: absolute; height: 30px; width: 1px; top: 33px;"></div><div class="CodeMirror-gutters" style="display: none; height: 63px;"></div></div></div></div><div class="text_cell_render rendered_html" tabindex="-1"><h4 id="Exporting-brand-metrics-data-file-(csv-format)-into-GCS">Exporting brand metrics data file (csv format) into GCS<a class="anchor-link" href="http://localhost:8084/notebooks/UK_Shopper_Attributes/Luxury_Indicator.ipynb#Exporting-brand-metrics-data-file-(csv-format)-into-GCS">�</a></h4>
</div></div></div><div class="cell code_cell rendered completed unselected" tabindex="2"><div class="dropdown minitoolbar"><button class="btn btn-default dropdown-toggle minitoolbar-toggle" data-toggle="dropdown"><i class="material-icons">menu</i></button><ul class="dropdown-menu"><li><a href="http://localhost:8084/notebooks/UK_Shopper_Attributes/Luxury_Indicator.ipynb#"><i class="material-icons glyph-run-cell" style="padding-right: 10px;">play_arrow</i><span class="title-run-cell">Run</span></a></li><li><a href="http://localhost:8084/notebooks/UK_Shopper_Attributes/Luxury_Indicator.ipynb#"><i class="material-icons glyph-clear-cell" style="padding-right: 10px;">check_box_outline_blank</i><span class="title-clear-cell">Clear</span></a></li><li><a href="http://localhost:8084/notebooks/UK_Shopper_Attributes/Luxury_Indicator.ipynb#"><i class="material-icons glyph-collapse-cell" style="padding-right: 10px;">vertical_align_top</i><span class="title-collapse-cell">Collapse</span></a></li><li><a href="http://localhost:8084/notebooks/UK_Shopper_Attributes/Luxury_Indicator.ipynb#"><i class="material-icons glyph-collapse-code" style="padding-right: 10px;">code</i><span class="title-collapse-code">Hide Code</span></a></li></ul></div><div class="input"><div class="prompt input_prompt"></div><div class="inner_cell"><div class="ctb_hideshow"><div class="celltoolbar"></div></div><div class="input_area"><div class="CodeMirror cm-s-ipython"><div style="overflow: hidden; position: relative; width: 3px; height: 0px; top: 6px; left: 841px;"><textarea autocorrect="off" autocapitalize="off" spellcheck="false" tabindex="0" style="position: absolute; padding: 0px; width: 1000px; height: 1em; outline: none;"></textarea></div><div class="CodeMirror-vscrollbar" cm-not-content="true" style="min-width: 18px;"><div style="min-width: 1px; height: 0px;"></div></div><div class="CodeMirror-hscrollbar" cm-not-content="true" style="right: 0px; left: 34px;"><div style="height: 100%; min-height: 1px; width: 0px;"></div></div><div class="CodeMirror-scrollbar-filler" cm-not-content="true"></div><div class="CodeMirror-gutter-filler" cm-not-content="true"></div><div class="CodeMirror-scroll" tabindex="-1"><div class="CodeMirror-sizer" style="margin-left: 34px; min-width: 1065px; margin-bottom: 0px; border-right-width: 30px; min-height: 33px; padding-right: 0px; padding-bottom: 0px;"><div style="position: relative; top: 0px;"><div class="CodeMirror-lines"><div style="position: relative; outline: none;"><div class="CodeMirror-measure"><pre>x</pre></div><div class="CodeMirror-measure"></div><div style="position: relative; z-index: 1;"></div><div class="CodeMirror-cursors" style=""><div class="CodeMirror-cursor" style="left: 801px; top: 0px; height: 21px;">&nbsp;</div></div><div class="CodeMirror-code"><div style="position: relative;"><div class="CodeMirror-gutter-wrapper" style="left: -34px;"><div class="CodeMirror-linenumber CodeMirror-gutter-elt" style="left: 0px; width: 21px;">1</div></div><pre class=" CodeMirror-line "><span style="padding-right: 0.1px;">(<span class="cm-variable">brand_metrics</span>.<span class="cm-variable">coalesce</span>(<span class="cm-number">1</span>).<span class="cm-variable">write</span>.<span class="cm-variable">option</span>(<span class="cm-string">"header"</span>, <span class="cm-string">"true"</span>).<span class="cm-variable">csv</span>(<span class="cm-string">"gs://westfield-tom/datalab/yocuda_brand_metrics_data"</span>))</span></pre></div></div></div></div></div></div><div style="position: absolute; height: 30px; width: 1px; top: 33px;"></div><div class="CodeMirror-gutters" style="height: 63px;"><div class="CodeMirror-gutter CodeMirror-linenumbers" style="width: 33px;"></div></div></div></div></div></div></div><div class="widget-area" style="display: none;"><div class="prompt"><button class="close">�</button></div><div class="widget-subarea jp-Output-result"></div></div><div class="output_wrapper"><div class="out_prompt_overlay prompt" title="click to expand output; double click to hide output" style="display: none;"></div><div class="output" style="display: none;"></div><div class="btn btn-default output_collapsed" title="click to expand output" style="display: none;">. . .</div></div><div class="cellPlaceholder btn btn-default" title="Uncollapse cell"></div></div><div class="cell text_cell unselected rendered" tabindex="2"><div class="prompt input_prompt"></div><div class="inner_cell"><div class="ctb_hideshow"><div class="celltoolbar"></div></div><div class="input_area"><div class="CodeMirror cm-s-default CodeMirror-wrap"><div style="overflow: hidden; position: relative; width: 3px; height: 0px; top: 6px; left: 6px;"><textarea autocorrect="off" autocapitalize="off" spellcheck="false" tabindex="0" style="position: absolute; padding: 0px; width: 1000px; height: 1em; outline: none;"></textarea></div><div class="CodeMirror-vscrollbar" cm-not-content="true" style="bottom: 0px; min-width: 18px;"><div style="min-width: 1px; height: 0px;"></div></div><div class="CodeMirror-hscrollbar" cm-not-content="true" style=""><div style="height: 100%; min-height: 1px; width: 0px;"></div></div><div class="CodeMirror-scrollbar-filler" cm-not-content="true"></div><div class="CodeMirror-gutter-filler" cm-not-content="true"></div><div class="CodeMirror-scroll" tabindex="-1"><div class="CodeMirror-sizer" style="margin-left: 0px; padding-right: 0px; padding-bottom: 0px; margin-bottom: 0px; border-right-width: 30px; min-height: 33px;"><div style="position: relative; top: 0px;"><div class="CodeMirror-lines"><div style="position: relative; outline: none;"><div class="CodeMirror-measure"></div><div class="CodeMirror-measure"></div><div style="position: relative; z-index: 1;"></div><div class="CodeMirror-cursors"><div class="CodeMirror-cursor" style="left: 0px; top: 0px; height: 21px;">&nbsp;</div></div><div class="CodeMirror-code"><pre class=" CodeMirror-line "><span style="padding-right: 0.1px;"><span class="cm-header cm-header-4">#### Calcualting scores</span></span></pre></div></div></div></div></div><div style="position: absolute; height: 30px; width: 1px; top: 33px;"></div><div class="CodeMirror-gutters" style="display: none; height: 63px;"></div></div></div></div><div class="text_cell_render rendered_html" tabindex="-1"><h4 id="Calcualting-scores">Calcualting scores<a class="anchor-link" href="http://localhost:8084/notebooks/UK_Shopper_Attributes/Luxury_Indicator.ipynb#Calcualting-scores">�</a></h4>
</div></div></div><div class="cell code_cell rendered session completed unselected" tabindex="2"><div class="dropdown minitoolbar"><button class="btn btn-default dropdown-toggle minitoolbar-toggle" data-toggle="dropdown"><i class="material-icons">menu</i></button><ul class="dropdown-menu"><li><a href="http://localhost:8084/notebooks/UK_Shopper_Attributes/Luxury_Indicator.ipynb#"><i class="material-icons glyph-run-cell" style="padding-right: 10px;">play_arrow</i><span class="title-run-cell">Run</span></a></li><li><a href="http://localhost:8084/notebooks/UK_Shopper_Attributes/Luxury_Indicator.ipynb#"><i class="material-icons glyph-clear-cell" style="padding-right: 10px;">check_box_outline_blank</i><span class="title-clear-cell">Clear</span></a></li><li><a href="http://localhost:8084/notebooks/UK_Shopper_Attributes/Luxury_Indicator.ipynb#"><i class="material-icons glyph-collapse-cell" style="padding-right: 10px;">vertical_align_top</i><span class="title-collapse-cell">Collapse</span></a></li><li><a href="http://localhost:8084/notebooks/UK_Shopper_Attributes/Luxury_Indicator.ipynb#"><i class="material-icons glyph-collapse-code" style="padding-right: 10px;">code</i><span class="title-collapse-code">Hide Code</span></a></li></ul></div><div class="input"><div class="prompt input_prompt"></div><div class="inner_cell"><div class="ctb_hideshow"><div class="celltoolbar"></div></div><div class="input_area"><div class="CodeMirror cm-s-ipython"><div style="overflow: hidden; position: relative; width: 3px; height: 0px; top: 6px; left: 121px;"><textarea autocorrect="off" autocapitalize="off" spellcheck="false" tabindex="0" style="position: absolute; padding: 0px; width: 1000px; height: 1em; outline: none;"></textarea></div><div class="CodeMirror-vscrollbar" cm-not-content="true" style="min-width: 18px;"><div style="min-width: 1px; height: 0px;"></div></div><div class="CodeMirror-hscrollbar" cm-not-content="true" style=""><div style="height: 100%; min-height: 1px; width: 0px;"></div></div><div class="CodeMirror-scrollbar-filler" cm-not-content="true"></div><div class="CodeMirror-gutter-filler" cm-not-content="true"></div><div class="CodeMirror-scroll" tabindex="-1"><div class="CodeMirror-sizer" style="margin-left: 34px; min-width: 1092px; margin-bottom: 0px; border-right-width: 30px; min-height: 201px; padding-right: 0px; padding-bottom: 0px;"><div style="position: relative; top: 0px;"><div class="CodeMirror-lines"><div style="position: relative; outline: none;"><div class="CodeMirror-measure"><div class="CodeMirror-linenumber CodeMirror-gutter-elt"><div>9</div></div></div><div class="CodeMirror-measure"></div><div style="position: relative; z-index: 1;"></div><div class="CodeMirror-cursors" style=""><div class="CodeMirror-cursor" style="left: 81px; top: 0px; height: 21px;">&nbsp;</div></div><div class="CodeMirror-code" style=""><div style="position: relative;"><div class="CodeMirror-gutter-wrapper" style="left: -34px;"><div class="CodeMirror-linenumber CodeMirror-gutter-elt" style="left: 0px; width: 21px;">1</div></div><pre class=" CodeMirror-line "><span style="padding-right: 0.1px;"><span class="cm-variable">luxury_scores</span> = <span class="cm-variable">brand_metrics</span> <span class="cm-error">\</span></span></pre></div><div style="position: relative;"><div class="CodeMirror-gutter-wrapper" style="left: -34px;"><div class="CodeMirror-linenumber CodeMirror-gutter-elt" style="left: 0px; width: 21px;">2</div></div><pre class=" CodeMirror-line "><span style="padding-right: 0.1px;">.<span class="cm-variable">withColumn</span>(<span class="cm-string">'rank1'</span>, <span class="cm-variable">percent_rank</span>().<span class="cm-variable">over</span>(<span class="cm-variable">Window</span>.<span class="cm-variable">orderBy</span>(<span class="cm-string">'value_min'</span>))) <span class="cm-error">\</span></span></pre></div><div style="position: relative;"><div class="CodeMirror-gutter-wrapper" style="left: -34px;"><div class="CodeMirror-linenumber CodeMirror-gutter-elt" style="left: 0px; width: 21px;">3</div></div><pre class=" CodeMirror-line "><span style="padding-right: 0.1px;">.<span class="cm-variable">withColumn</span>(<span class="cm-string">'rank2'</span>, <span class="cm-variable">percent_rank</span>().<span class="cm-variable">over</span>(<span class="cm-variable">Window</span>.<span class="cm-variable">orderBy</span>(<span class="cm-string">'value_25'</span>))) <span class="cm-error">\</span></span></pre></div><div style="position: relative;"><div class="CodeMirror-gutter-wrapper" style="left: -34px;"><div class="CodeMirror-linenumber CodeMirror-gutter-elt" style="left: 0px; width: 21px;">4</div></div><pre class=" CodeMirror-line "><span style="padding-right: 0.1px;">.<span class="cm-variable">withColumn</span>(<span class="cm-string">'rank3'</span>, <span class="cm-variable">percent_rank</span>().<span class="cm-variable">over</span>(<span class="cm-variable">Window</span>.<span class="cm-variable">orderBy</span>(<span class="cm-string">'value_50'</span>))) <span class="cm-error">\</span></span></pre></div><div style="position: relative;"><div class="CodeMirror-gutter-wrapper" style="left: -34px;"><div class="CodeMirror-linenumber CodeMirror-gutter-elt" style="left: 0px; width: 21px;">5</div></div><pre class=" CodeMirror-line "><span style="padding-right: 0.1px;">.<span class="cm-variable">withColumn</span>(<span class="cm-string">'rank4'</span>, <span class="cm-variable">percent_rank</span>().<span class="cm-variable">over</span>(<span class="cm-variable">Window</span>.<span class="cm-variable">orderBy</span>(<span class="cm-string">'value_mean'</span>))) <span class="cm-error">\</span></span></pre></div><div style="position: relative;"><div class="CodeMirror-gutter-wrapper" style="left: -34px;"><div class="CodeMirror-linenumber CodeMirror-gutter-elt" style="left: 0px; width: 21px;">6</div></div><pre class=" CodeMirror-line "><span style="padding-right: 0.1px;">.<span class="cm-variable">withColumn</span>(<span class="cm-string">'rank5'</span>, <span class="cm-variable">percent_rank</span>().<span class="cm-variable">over</span>(<span class="cm-variable">Window</span>.<span class="cm-variable">orderBy</span>(<span class="cm-string">'value_75'</span>))) <span class="cm-error">\</span></span></pre></div><div style="position: relative;"><div class="CodeMirror-gutter-wrapper" style="left: -34px;"><div class="CodeMirror-linenumber CodeMirror-gutter-elt" style="left: 0px; width: 21px;">7</div></div><pre class=" CodeMirror-line "><span style="padding-right: 0.1px;">.<span class="cm-variable">withColumn</span>(<span class="cm-string">'rank6'</span>, <span class="cm-variable">percent_rank</span>().<span class="cm-variable">over</span>(<span class="cm-variable">Window</span>.<span class="cm-variable">orderBy</span>(<span class="cm-string">'value_max'</span>))) <span class="cm-error">\</span></span></pre></div><div style="position: relative;"><div class="CodeMirror-gutter-wrapper" style="left: -34px;"><div class="CodeMirror-linenumber CodeMirror-gutter-elt" style="left: 0px; width: 21px;">8</div></div><pre class=" CodeMirror-line "><span style="padding-right: 0.1px;">.<span class="cm-variable">withColumn</span>(<span class="cm-string">'final_score'</span>, (<span class="cm-variable">col</span>(<span class="cm-string">'rank1'</span>) <span class="cm-operator">+</span> <span class="cm-variable">col</span>(<span class="cm-string">'rank2'</span>) <span class="cm-operator">+</span> <span class="cm-variable">col</span>(<span class="cm-string">'rank3'</span>) <span class="cm-operator">+</span> <span class="cm-variable">col</span>(<span class="cm-string">'rank4'</span>) <span class="cm-operator">+</span> <span class="cm-variable">col</span>(<span class="cm-string">'rank5'</span>) <span class="cm-operator">+</span> <span class="cm-variable">col</span>(<span class="cm-string">'rank6'</span>))<span class="cm-operator">/</span><span class="cm-number">6</span>) <span class="cm-error">\</span></span></pre></div><div style="position: relative;"><div class="CodeMirror-gutter-wrapper" style="left: -34px;"><div class="CodeMirror-linenumber CodeMirror-gutter-elt" style="left: 0px; width: 21px;">9</div></div><pre class=" CodeMirror-line "><span style="padding-right: 0.1px;">.<span class="cm-variable">withColumn</span>(<span class="cm-string">'percentile_rank'</span>, <span class="cm-variable">percent_rank</span>().<span class="cm-variable">over</span>(<span class="cm-variable">Window</span>.<span class="cm-variable">orderBy</span>(<span class="cm-string">'final_score'</span>)))</span></pre></div></div></div></div></div></div><div style="position: absolute; height: 30px; width: 1px; top: 201px;"></div><div class="CodeMirror-gutters" style="height: 231px;"><div class="CodeMirror-gutter CodeMirror-linenumbers" style="width: 33px;"></div></div></div></div></div></div></div><div class="widget-area" style="display: none;"><div class="prompt"><button class="close">�</button></div><div class="widget-subarea jp-Output-result"></div></div><div class="output_wrapper"><div class="out_prompt_overlay prompt" title="click to scroll output; double click to hide" style="display: none;"></div><div class="output" style=""></div><div class="btn btn-default output_collapsed" title="click to expand output" style="display: none;">. . .</div></div><div class="cellPlaceholder btn btn-default" title="Uncollapse cell"></div></div><div class="cell text_cell rendered unselected" tabindex="2"><div class="prompt input_prompt"></div><div class="inner_cell"><div class="ctb_hideshow"><div class="celltoolbar"></div></div><div class="input_area"><div class="CodeMirror cm-s-default CodeMirror-wrap"><div style="overflow: hidden; position: relative; width: 3px; height: 0px; top: 6px; left: 6px;"><textarea autocorrect="off" autocapitalize="off" spellcheck="false" tabindex="0" style="position: absolute; padding: 0px; width: 1000px; height: 1em; outline: none;"></textarea></div><div class="CodeMirror-vscrollbar" cm-not-content="true" style="bottom: 0px; min-width: 18px;"><div style="min-width: 1px; height: 0px;"></div></div><div class="CodeMirror-hscrollbar" cm-not-content="true" style=""><div style="height: 100%; min-height: 1px; width: 0px;"></div></div><div class="CodeMirror-scrollbar-filler" cm-not-content="true"></div><div class="CodeMirror-gutter-filler" cm-not-content="true"></div><div class="CodeMirror-scroll" tabindex="-1"><div class="CodeMirror-sizer" style="margin-left: 0px; padding-right: 0px; padding-bottom: 0px; margin-bottom: 0px; border-right-width: 30px; min-height: 33px;"><div style="position: relative; top: 0px;"><div class="CodeMirror-lines"><div style="position: relative; outline: none;"><div class="CodeMirror-measure"></div><div class="CodeMirror-measure"></div><div style="position: relative; z-index: 1;"></div><div class="CodeMirror-cursors"><div class="CodeMirror-cursor" style="left: 0px; top: 0px; height: 21px;">&nbsp;</div></div><div class="CodeMirror-code"><pre class=" CodeMirror-line "><span style="padding-right: 0.1px;"><span class="cm-header cm-header-4">#### Seeing the data</span></span></pre></div></div></div></div></div><div style="position: absolute; height: 30px; width: 1px; top: 33px;"></div><div class="CodeMirror-gutters" style="display: none; height: 63px;"></div></div></div></div><div class="text_cell_render rendered_html" tabindex="-1"><h4 id="Seeing-the-data">Seeing the data<a class="anchor-link" href="http://localhost:8084/notebooks/UK_Shopper_Attributes/Luxury_Indicator.ipynb#Seeing-the-data">�</a></h4>
</div></div></div><div class="cell code_cell rendered session unselected completed" tabindex="2"><div class="dropdown minitoolbar"><button class="btn btn-default dropdown-toggle minitoolbar-toggle" data-toggle="dropdown"><i class="material-icons">menu</i></button><ul class="dropdown-menu"><li><a href="http://localhost:8084/notebooks/UK_Shopper_Attributes/Luxury_Indicator.ipynb#"><i class="material-icons glyph-run-cell" style="padding-right: 10px;">play_arrow</i><span class="title-run-cell">Run</span></a></li><li><a href="http://localhost:8084/notebooks/UK_Shopper_Attributes/Luxury_Indicator.ipynb#"><i class="material-icons glyph-clear-cell" style="padding-right: 10px;">check_box_outline_blank</i><span class="title-clear-cell">Clear</span></a></li><li><a href="http://localhost:8084/notebooks/UK_Shopper_Attributes/Luxury_Indicator.ipynb#"><i class="material-icons glyph-collapse-cell" style="padding-right: 10px;">vertical_align_top</i><span class="title-collapse-cell">Collapse</span></a></li><li><a href="http://localhost:8084/notebooks/UK_Shopper_Attributes/Luxury_Indicator.ipynb#"><i class="material-icons glyph-collapse-code" style="padding-right: 10px;">code</i><span class="title-collapse-code">Hide Code</span></a></li></ul></div><div class="input"><div class="prompt input_prompt"></div><div class="inner_cell"><div class="ctb_hideshow"><div class="celltoolbar"></div></div><div class="input_area"><div class="CodeMirror cm-s-ipython"><div style="overflow: hidden; position: relative; width: 3px; height: 0px; top: 69px; left: 283px;"><textarea autocorrect="off" autocapitalize="off" spellcheck="false" tabindex="0" style="position: absolute; padding: 0px; width: 1000px; height: 1em; outline: none;"></textarea></div><div class="CodeMirror-vscrollbar" cm-not-content="true" style="min-width: 18px;"><div style="min-width: 1px; height: 0px;"></div></div><div class="CodeMirror-hscrollbar" cm-not-content="true" style=""><div style="height: 100%; min-height: 1px; width: 0px;"></div></div><div class="CodeMirror-scrollbar-filler" cm-not-content="true"></div><div class="CodeMirror-gutter-filler" cm-not-content="true"></div><div class="CodeMirror-scroll" tabindex="-1"><div class="CodeMirror-sizer" style="margin-left: 34px; min-width: 786px; margin-bottom: 0px; border-right-width: 30px; min-height: 96px; padding-right: 0px; padding-bottom: 0px;"><div style="position: relative; top: 0px;"><div class="CodeMirror-lines"><div style="position: relative; outline: none;"><div class="CodeMirror-measure"><pre><span>xxxxxxxxxx</span></pre></div><div class="CodeMirror-measure"></div><div style="position: relative; z-index: 1;"></div><div class="CodeMirror-cursors" style=""><div class="CodeMirror-cursor" style="left: 243px; top: 63px; height: 21px;">&nbsp;</div></div><div class="CodeMirror-code"><div style="position: relative;"><div class="CodeMirror-gutter-wrapper" style="left: -34px;"><div class="CodeMirror-linenumber CodeMirror-gutter-elt" style="left: 0px; width: 21px;">1</div></div><pre class=" CodeMirror-line "><span style="padding-right: 0.1px;"><span class="cm-variable">brand_metrics_test</span> = <span class="cm-variable">luxury_scores</span><span class="cm-error">\</span></span></pre></div><div style="position: relative;"><div class="CodeMirror-gutter-wrapper" style="left: -34px;"><div class="CodeMirror-linenumber CodeMirror-gutter-elt" style="left: 0px; width: 21px;">2</div></div><pre class=" CodeMirror-line "><span style="padding-right: 0.1px;">              .<span class="cm-variable">groupBy</span>(<span class="cm-string">'category'</span>).<span class="cm-variable">agg</span>(<span class="cm-builtin">min</span>(<span class="cm-string">'percentile_rank'</span>).<span class="cm-variable">alias</span>(<span class="cm-string">'min_perc_rank'</span>), <span class="cm-error">\</span></span></pre></div><div style="position: relative;"><div class="CodeMirror-gutter-wrapper" style="left: -34px;"><div class="CodeMirror-linenumber CodeMirror-gutter-elt" style="left: 0px; width: 21px;">3</div></div><pre class=" CodeMirror-line "><span style="padding-right: 0.1px;">                <span class="cm-builtin">max</span>(<span class="cm-string">'percentile_rank'</span>).<span class="cm-variable">alias</span>(<span class="cm-string">'max_perc_rank'</span>))</span></pre></div><div style="position: relative;"><div class="CodeMirror-gutter-wrapper" style="left: -34px;"><div class="CodeMirror-linenumber CodeMirror-gutter-elt" style="left: 0px; width: 21px;">4</div></div><pre class=" CodeMirror-line "><span style="padding-right: 0.1px;"><span class="cm-variable">brand_metrics_test</span>.<span class="cm-variable">show</span>(<span class="cm-number">25</span>)</span></pre></div></div></div></div></div></div><div style="position: absolute; height: 30px; width: 1px; top: 96px;"></div><div class="CodeMirror-gutters" style="height: 126px;"><div class="CodeMirror-gutter CodeMirror-linenumbers" style="width: 33px;"></div></div></div></div></div></div></div><div class="widget-area" style="display: none;"><div class="prompt"><button class="close">�</button></div><div class="widget-subarea jp-Output-result"></div></div><div class="output_wrapper"><div class="out_prompt_overlay prompt" title="click to scroll output; double click to hide" style="display: block;"></div><div class="output" style=""><div class="output_area"><div class="prompt"></div><div class="output_subarea output_text output_stream output_stdout"><pre>+--------------------+--------------------+-------------------+
|            category|       min_perc_rank|      max_perc_rank|
+--------------------+--------------------+-------------------+
|Health &amp; Personal...|                 0.0| 0.9968012794882047|
|        Electronics |                 0.0| 0.9860055977608957|
|     Home &amp; Kitchen |7.996801279488205E-4|  0.998000799680128|
|          Furniture |0.001199520191923...| 0.9992003198720512|
|  Sports &amp; Outdoors |0.001599360255897641| 0.9996001599360256|
|      Baby Products |0.001999200319872051| 0.9568172730907637|
|Clothing &amp; Access...|0.002798880447820...| 0.9936025589764095|
|    Office Products |0.003598560575769692|  0.995201919232307|
|            Jewelry |0.003998400639744102| 0.9856057576969213|
|       Toys &amp; Games |0.009196321471411436|  0.973610555777689|
|Patio, Lawn &amp; Gar...|0.009596161535385846|                1.0|
|Computers &amp; Acces...|0.011195521791283487| 0.9924030387844862|
|         Automotive |0.012794882047181128| 0.9304278288684527|
|              Shoes |0.013994402239104359| 0.9492203118752499|
|Tools &amp; Home Impr...| 0.01879248300679728| 0.9984006397441023|
|       Pet Supplies | 0.01919232307077169| 0.9744102359056377|
|Arts, Crafts &amp; Se...|0.039184326269492205|  0.899640143942423|
|Musical Instruments | 0.06837265093962415| 0.9932027189124351|
|        Video Games | 0.07077169132347061| 0.9164334266293482|
|Grocery &amp; Gourmet...| 0.08556577369052379| 0.8652538984406237|
|Industrial &amp; Scie...| 0.18992403038784486| 0.9400239904038384|
|           Software |  0.3834466213514594|  0.924030387844862|
|              Media |  0.5377848860455817| 0.5377848860455817|
|                null| 0.15033986405437824|0.15033986405437824|
+--------------------+--------------------+-------------------+

</pre></div></div></div><div class="btn btn-default output_collapsed" title="click to expand output" style="display: none;">. . .</div></div><div class="cellPlaceholder btn btn-default" title="Uncollapse cell"></div></div><div class="cell code_cell rendered session completed unselected" tabindex="2"><div class="dropdown minitoolbar"><button class="btn btn-default dropdown-toggle minitoolbar-toggle" data-toggle="dropdown"><i class="material-icons">menu</i></button><ul class="dropdown-menu"><li><a href="http://localhost:8084/notebooks/UK_Shopper_Attributes/Luxury_Indicator.ipynb#"><i class="material-icons glyph-run-cell" style="padding-right: 10px;">play_arrow</i><span class="title-run-cell">Run</span></a></li><li><a href="http://localhost:8084/notebooks/UK_Shopper_Attributes/Luxury_Indicator.ipynb#"><i class="material-icons glyph-clear-cell" style="padding-right: 10px;">check_box_outline_blank</i><span class="title-clear-cell">Clear</span></a></li><li><a href="http://localhost:8084/notebooks/UK_Shopper_Attributes/Luxury_Indicator.ipynb#"><i class="material-icons glyph-collapse-cell" style="padding-right: 10px;">vertical_align_top</i><span class="title-collapse-cell">Collapse</span></a></li><li><a href="http://localhost:8084/notebooks/UK_Shopper_Attributes/Luxury_Indicator.ipynb#"><i class="material-icons glyph-collapse-code" style="padding-right: 10px;">code</i><span class="title-collapse-code">Hide Code</span></a></li></ul></div><div class="input"><div class="prompt input_prompt"></div><div class="inner_cell"><div class="ctb_hideshow"><div class="celltoolbar"></div></div><div class="input_area"><div class="CodeMirror cm-s-ipython"><div style="overflow: hidden; position: relative; width: 3px; height: 0px; top: 6px; left: 229px;"><textarea autocorrect="off" autocapitalize="off" spellcheck="false" tabindex="0" style="position: absolute; padding: 0px; width: 1000px; height: 1em; outline: none;"></textarea></div><div class="CodeMirror-vscrollbar" cm-not-content="true" style="min-width: 18px;"><div style="min-width: 1px; height: 0px;"></div></div><div class="CodeMirror-hscrollbar" cm-not-content="true" style=""><div style="height: 100%; min-height: 1px; width: 0px;"></div></div><div class="CodeMirror-scrollbar-filler" cm-not-content="true"></div><div class="CodeMirror-gutter-filler" cm-not-content="true"></div><div class="CodeMirror-scroll" tabindex="-1"><div class="CodeMirror-sizer" style="margin-left: 34px; min-width: 192px; margin-bottom: 0px; border-right-width: 30px; min-height: 33px; padding-right: 0px; padding-bottom: 0px;"><div style="position: relative; top: 0px;"><div class="CodeMirror-lines"><div style="position: relative; outline: none;"><div class="CodeMirror-measure"><div class="CodeMirror-linenumber CodeMirror-gutter-elt"><div>1</div></div></div><div class="CodeMirror-measure"></div><div style="position: relative; z-index: 1;"></div><div class="CodeMirror-cursors" style=""><div class="CodeMirror-cursor" style="left: 189px; top: 0px; height: 21px;">&nbsp;</div></div><div class="CodeMirror-code"><div style="position: relative;"><div class="CodeMirror-gutter-wrapper" style="left: -34px;"><div class="CodeMirror-linenumber CodeMirror-gutter-elt" style="left: 0px; width: 21px;">1</div></div><pre class=" CodeMirror-line "><span style="padding-right: 0.1px;"><span class="cm-variable">luxury_scores</span>.<span class="cm-variable">show</span>(<span class="cm-number">5</span>)</span></pre></div></div></div></div></div></div><div style="position: absolute; height: 30px; width: 1px; top: 33px;"></div><div class="CodeMirror-gutters" style="height: 63px;"><div class="CodeMirror-gutter CodeMirror-linenumbers" style="width: 33px;"></div></div></div></div></div></div></div><div class="widget-area" style="display: none;"><div class="prompt"><button class="close">�</button></div><div class="widget-subarea jp-Output-result"></div></div><div class="output_wrapper"><div class="out_prompt_overlay prompt" title="click to scroll output; double click to hide" style="display: block;"></div><div class="output" style=""><div class="output_area"><div class="prompt"></div><div class="output_subarea output_text output_stream output_stdout"><pre>+---------------+--------------------+---------+---------+------------------+--------+--------+--------+------------------+-------------------+-------------------+--------------------+--------------------+--------------------+-------------------+--------------------+
|          brand|            category|value_min|value_max|        value_mean|value_25|value_50|value_75|             rank1|              rank2|              rank3|               rank4|               rank5|               rank6|        final_score|     percentile_rank|
+---------------+--------------------+---------+---------+------------------+--------+--------+--------+------------------+-------------------+-------------------+--------------------+--------------------+--------------------+-------------------+--------------------+
| Bang &amp; Olufsen|        Electronics |      0.0|      0.0|               0.0|     0.0|     0.0|     0.0|0.4962015193922431|0.07716913234706117|0.04798080767692923|                 0.0|0.026789284286285485|                 0.0|0.10802345728375316|                 0.0|
|          Clean|Health &amp; Personal...|      0.0|      0.0|               0.0|     0.0|     0.0|     0.0|0.4962015193922431|0.07716913234706117|0.04798080767692923|                 0.0|0.026789284286285485|                 0.0|0.10802345728375316|                 0.0|
|         sakura|     Home &amp; Kitchen |      0.0|    17.04|11.343333333333334|     0.0|   17.04|   17.04|0.4962015193922431|0.07716913234706117|0.08116753298680528|0.005197920831667333| 0.04638144742103159|0.011995201919232307|0.11968545914967345|7.996801279488205E-4|
|flash furniture|          Furniture |     3.99|     3.99|              3.99|    3.99|    3.99|    3.99|0.5717712914834067|0.08836465413834466|0.05237904838064774|7.996801279488205E-4|0.028388644542183126|7.996801279488205E-4|0.12375049980007997|0.001199520191923...|
|          Arena|  Sports &amp; Outdoors |    18.94|    18.94|             18.94|    null|    null|    null| 0.710515793682527|                0.0|                0.0|0.019992003198720514|                 0.0|0.013994402239104359|0.12408369985339197|0.001599360255897641|
+---------------+--------------------+---------+---------+------------------+--------+--------+--------+------------------+-------------------+-------------------+--------------------+--------------------+--------------------+-------------------+--------------------+
only showing top 5 rows

</pre></div></div></div><div class="btn btn-default output_collapsed" title="click to expand output" style="display: none;">. . .</div></div><div class="cellPlaceholder btn btn-default" title="Uncollapse cell"></div></div><div class="cell text_cell rendered unselected" tabindex="2"><div class="prompt input_prompt"></div><div class="inner_cell"><div class="ctb_hideshow"><div class="celltoolbar"></div></div><div class="input_area"><div class="CodeMirror cm-s-default CodeMirror-wrap"><div style="overflow: hidden; position: relative; width: 3px; height: 0px; top: 6px; left: 6px;"><textarea autocorrect="off" autocapitalize="off" spellcheck="false" tabindex="0" style="position: absolute; padding: 0px; width: 1000px; height: 1em; outline: none;"></textarea></div><div class="CodeMirror-vscrollbar" cm-not-content="true" style="bottom: 0px; min-width: 18px;"><div style="min-width: 1px; height: 0px;"></div></div><div class="CodeMirror-hscrollbar" cm-not-content="true" style=""><div style="height: 100%; min-height: 1px; width: 0px;"></div></div><div class="CodeMirror-scrollbar-filler" cm-not-content="true"></div><div class="CodeMirror-gutter-filler" cm-not-content="true"></div><div class="CodeMirror-scroll" tabindex="-1"><div class="CodeMirror-sizer" style="margin-left: 0px; padding-right: 0px; padding-bottom: 0px; margin-bottom: 0px; border-right-width: 30px; min-height: 33px;"><div style="position: relative; top: 0px;"><div class="CodeMirror-lines"><div style="position: relative; outline: none;"><div class="CodeMirror-measure"></div><div class="CodeMirror-measure"></div><div style="position: relative; z-index: 1;"></div><div class="CodeMirror-cursors"><div class="CodeMirror-cursor" style="left: 0px; top: 0px; height: 21px;">&nbsp;</div></div><div class="CodeMirror-code"><pre class=" CodeMirror-line "><span style="padding-right: 0.1px;"><span class="cm-header cm-header-4">#### Exporting luxury scores data file (csv format) into GCS</span></span></pre></div></div></div></div></div><div style="position: absolute; height: 30px; width: 1px; top: 33px;"></div><div class="CodeMirror-gutters" style="display: none; height: 63px;"></div></div></div></div><div class="text_cell_render rendered_html" tabindex="-1"><h4 id="Exporting-luxury-scores-data-file-(csv-format)-into-GCS">Exporting luxury scores data file (csv format) into GCS<a class="anchor-link" href="http://localhost:8084/notebooks/UK_Shopper_Attributes/Luxury_Indicator.ipynb#Exporting-luxury-scores-data-file-(csv-format)-into-GCS">�</a></h4>
</div></div></div><div class="cell code_cell rendered completed unselected" tabindex="2"><div class="dropdown minitoolbar"><button class="btn btn-default dropdown-toggle minitoolbar-toggle" data-toggle="dropdown"><i class="material-icons">menu</i></button><ul class="dropdown-menu"><li><a href="http://localhost:8084/notebooks/UK_Shopper_Attributes/Luxury_Indicator.ipynb#"><i class="material-icons glyph-run-cell" style="padding-right: 10px;">play_arrow</i><span class="title-run-cell">Run</span></a></li><li><a href="http://localhost:8084/notebooks/UK_Shopper_Attributes/Luxury_Indicator.ipynb#"><i class="material-icons glyph-clear-cell" style="padding-right: 10px;">check_box_outline_blank</i><span class="title-clear-cell">Clear</span></a></li><li><a href="http://localhost:8084/notebooks/UK_Shopper_Attributes/Luxury_Indicator.ipynb#"><i class="material-icons glyph-collapse-cell" style="padding-right: 10px;">vertical_align_top</i><span class="title-collapse-cell">Collapse</span></a></li><li><a href="http://localhost:8084/notebooks/UK_Shopper_Attributes/Luxury_Indicator.ipynb#"><i class="material-icons glyph-collapse-code" style="padding-right: 10px;">code</i><span class="title-collapse-code">Hide Code</span></a></li></ul></div><div class="input"><div class="prompt input_prompt"></div><div class="inner_cell"><div class="ctb_hideshow"><div class="celltoolbar"></div></div><div class="input_area"><div class="CodeMirror cm-s-ipython"><div style="overflow: hidden; position: relative; width: 3px; height: 0px; top: 6px; left: 850px;"><textarea autocorrect="off" autocapitalize="off" spellcheck="false" tabindex="0" style="position: absolute; padding: 0px; width: 1000px; height: 1em; outline: none;"></textarea></div><div class="CodeMirror-vscrollbar" cm-not-content="true" style="min-width: 18px;"><div style="min-width: 1px; height: 0px;"></div></div><div class="CodeMirror-hscrollbar" cm-not-content="true" style="right: 0px; left: 34px;"><div style="height: 100%; min-height: 1px; width: 0px;"></div></div><div class="CodeMirror-scrollbar-filler" cm-not-content="true"></div><div class="CodeMirror-gutter-filler" cm-not-content="true"></div><div class="CodeMirror-scroll" tabindex="-1"><div class="CodeMirror-sizer" style="margin-left: 34px; min-width: 1065px; margin-bottom: 0px; border-right-width: 30px; min-height: 33px; padding-right: 0px; padding-bottom: 0px;"><div style="position: relative; top: 0px;"><div class="CodeMirror-lines"><div style="position: relative; outline: none;"><div class="CodeMirror-measure"><pre>x</pre></div><div class="CodeMirror-measure"></div><div style="position: relative; z-index: 1;"></div><div class="CodeMirror-cursors" style=""><div class="CodeMirror-cursor" style="left: 810px; top: 0px; height: 21px;">&nbsp;</div></div><div class="CodeMirror-code"><div style="position: relative;"><div class="CodeMirror-gutter-wrapper" style="left: -34px;"><div class="CodeMirror-linenumber CodeMirror-gutter-elt" style="left: 0px; width: 21px;">1</div></div><pre class=" CodeMirror-line "><span style="padding-right: 0.1px;">(<span class="cm-variable">luxury_scores</span>.<span class="cm-variable">coalesce</span>(<span class="cm-number">1</span>).<span class="cm-variable">write</span>.<span class="cm-variable">option</span>(<span class="cm-string">"header"</span>, <span class="cm-string">"true"</span>).<span class="cm-variable">csv</span>(<span class="cm-string">"gs://westfield-tom/datalab/yocuda_luxury_scores_data"</span>))</span></pre></div></div></div></div></div></div><div style="position: absolute; height: 30px; width: 1px; top: 33px;"></div><div class="CodeMirror-gutters" style="height: 63px;"><div class="CodeMirror-gutter CodeMirror-linenumbers" style="width: 33px;"></div></div></div></div></div></div></div><div class="widget-area" style="display: none;"><div class="prompt"><button class="close">�</button></div><div class="widget-subarea jp-Output-result"></div></div><div class="output_wrapper"><div class="out_prompt_overlay prompt" title="click to expand output; double click to hide output" style="display: none;"></div><div class="output" style="display: none;"></div><div class="btn btn-default output_collapsed" title="click to expand output" style="display: none;">. . .</div></div><div class="cellPlaceholder btn btn-default" title="Uncollapse cell"></div></div><div class="cell code_cell rendered session completed unselected" tabindex="2"><div class="dropdown minitoolbar"><button class="btn btn-default dropdown-toggle minitoolbar-toggle" data-toggle="dropdown"><i class="material-icons">menu</i></button><ul class="dropdown-menu"><li><a href="http://localhost:8084/notebooks/UK_Shopper_Attributes/Luxury_Indicator.ipynb#"><i class="material-icons glyph-run-cell" style="padding-right: 10px;">play_arrow</i><span class="title-run-cell">Run</span></a></li><li><a href="http://localhost:8084/notebooks/UK_Shopper_Attributes/Luxury_Indicator.ipynb#"><i class="material-icons glyph-clear-cell" style="padding-right: 10px;">check_box_outline_blank</i><span class="title-clear-cell">Clear</span></a></li><li><a href="http://localhost:8084/notebooks/UK_Shopper_Attributes/Luxury_Indicator.ipynb#"><i class="material-icons glyph-collapse-cell" style="padding-right: 10px;">vertical_align_top</i><span class="title-collapse-cell">Collapse</span></a></li><li><a href="http://localhost:8084/notebooks/UK_Shopper_Attributes/Luxury_Indicator.ipynb#"><i class="material-icons glyph-collapse-code" style="padding-right: 10px;">code</i><span class="title-collapse-code">Hide Code</span></a></li></ul></div><div class="input"><div class="prompt input_prompt"></div><div class="inner_cell"><div class="ctb_hideshow"><div class="celltoolbar"></div></div><div class="input_area"><div class="CodeMirror cm-s-ipython"><div style="overflow: hidden; position: relative; width: 3px; height: 0px; top: 27px; left: 148px;"><textarea autocorrect="off" autocapitalize="off" spellcheck="false" tabindex="0" style="position: absolute; padding: 0px; width: 1000px; height: 1em; outline: none;"></textarea></div><div class="CodeMirror-vscrollbar" cm-not-content="true" style="min-width: 18px;"><div style="min-width: 1px; height: 0px;"></div></div><div class="CodeMirror-hscrollbar" cm-not-content="true" style=""><div style="height: 100%; min-height: 1px; width: 0px;"></div></div><div class="CodeMirror-scrollbar-filler" cm-not-content="true"></div><div class="CodeMirror-gutter-filler" cm-not-content="true"></div><div class="CodeMirror-scroll" tabindex="-1"><div class="CodeMirror-sizer" style="margin-left: 34px; min-width: 624px; margin-bottom: 0px; border-right-width: 30px; min-height: 54px; padding-right: 0px; padding-bottom: 0px;"><div style="position: relative; top: 0px;"><div class="CodeMirror-lines"><div style="position: relative; outline: none;"><div class="CodeMirror-measure"><div class="CodeMirror-linenumber CodeMirror-gutter-elt"><div>2</div></div></div><div class="CodeMirror-measure"></div><div style="position: relative; z-index: 1;"></div><div class="CodeMirror-cursors" style=""><div class="CodeMirror-cursor" style="left: 108px; top: 21px; height: 21px;">&nbsp;</div></div><div class="CodeMirror-code"><div style="position: relative;"><div class="CodeMirror-gutter-wrapper" style="left: -34px;"><div class="CodeMirror-linenumber CodeMirror-gutter-elt" style="left: 0px; width: 21px;">1</div></div><pre class=" CodeMirror-line "><span style="padding-right: 0.1px;"><span class="cm-variable">df</span> =<span class="cm-variable">luxury_scores</span>.<span class="cm-variable">selectExpr</span>(<span class="cm-string">'brand'</span>, <span class="cm-string">'category'</span>,<span class="cm-string">'percentile_rank'</span>)  </span></pre></div><div style="position: relative;"><div class="CodeMirror-gutter-wrapper" style="left: -34px;"><div class="CodeMirror-linenumber CodeMirror-gutter-elt" style="left: 0px; width: 21px;">2</div></div><pre class=" CodeMirror-line "><span style="padding-right: 0.1px;"><span class="cm-variable">df</span>.<span class="cm-variable">show</span>(<span class="cm-number">5</span>)  </span></pre></div></div></div></div></div></div><div style="position: absolute; height: 30px; width: 1px; top: 54px;"></div><div class="CodeMirror-gutters" style="height: 84px;"><div class="CodeMirror-gutter CodeMirror-linenumbers" style="width: 33px;"></div></div></div></div></div></div></div><div class="widget-area" style="display: none;"><div class="prompt"><button class="close">�</button></div><div class="widget-subarea jp-Output-result"></div></div><div class="output_wrapper"><div class="out_prompt_overlay prompt" title="click to scroll output; double click to hide" style="display: block;"></div><div class="output" style=""><div class="output_area"><div class="prompt"></div><div class="output_subarea output_text output_stream output_stdout"><pre>+---------------+--------------------+--------------------+
|          brand|            category|     percentile_rank|
+---------------+--------------------+--------------------+
|          Clean|Health &amp; Personal...|                 0.0|
| Bang &amp; Olufsen|        Electronics |                 0.0|
|         sakura|     Home &amp; Kitchen |7.996801279488205E-4|
|flash furniture|          Furniture |0.001199520191923...|
|          Arena|  Sports &amp; Outdoors |0.001599360255897641|
+---------------+--------------------+--------------------+
only showing top 5 rows

</pre></div></div></div><div class="btn btn-default output_collapsed" title="click to expand output" style="display: none;">. . .</div></div><div class="cellPlaceholder btn btn-default" title="Uncollapse cell"></div></div><div class="cell text_cell rendered unselected" tabindex="2"><div class="prompt input_prompt"></div><div class="inner_cell"><div class="ctb_hideshow"><div class="celltoolbar"></div></div><div class="input_area"><div class="CodeMirror cm-s-default CodeMirror-wrap"><div style="overflow: hidden; position: relative; width: 3px; height: 0px; top: 6px; left: 6px;"><textarea autocorrect="off" autocapitalize="off" spellcheck="false" tabindex="0" style="position: absolute; padding: 0px; width: 1000px; height: 1em; outline: none;"></textarea></div><div class="CodeMirror-vscrollbar" cm-not-content="true" style="bottom: 0px; min-width: 18px;"><div style="min-width: 1px; height: 0px;"></div></div><div class="CodeMirror-hscrollbar" cm-not-content="true" style=""><div style="height: 100%; min-height: 1px; width: 0px;"></div></div><div class="CodeMirror-scrollbar-filler" cm-not-content="true"></div><div class="CodeMirror-gutter-filler" cm-not-content="true"></div><div class="CodeMirror-scroll" tabindex="-1"><div class="CodeMirror-sizer" style="margin-left: 0px; padding-right: 0px; padding-bottom: 0px; margin-bottom: 0px; border-right-width: 30px; min-height: 33px;"><div style="position: relative; top: 0px;"><div class="CodeMirror-lines"><div style="position: relative; outline: none;"><div class="CodeMirror-measure"></div><div class="CodeMirror-measure"></div><div style="position: relative; z-index: 1;"></div><div class="CodeMirror-cursors"><div class="CodeMirror-cursor" style="left: 0px; top: 0px; height: 21px;">&nbsp;</div></div><div class="CodeMirror-code"><pre class=" CodeMirror-line "><span style="padding-right: 0.1px;"><span class="cm-header cm-header-4">#### Caculating user's respective luxury score</span></span></pre></div></div></div></div></div><div style="position: absolute; height: 30px; width: 1px; top: 33px;"></div><div class="CodeMirror-gutters" style="display: none; height: 63px;"></div></div></div></div><div class="text_cell_render rendered_html" tabindex="-1"><h4 id="Caculating-user&#39;s-respective-luxury-score">Caculating user's respective luxury score<a class="anchor-link" href="http://localhost:8084/notebooks/UK_Shopper_Attributes/Luxury_Indicator.ipynb#Caculating-user&#39;s-respective-luxury-score">�</a></h4>
</div></div></div><div class="cell code_cell rendered session completed unselected" tabindex="2"><div class="dropdown minitoolbar"><button class="btn btn-default dropdown-toggle minitoolbar-toggle" data-toggle="dropdown"><i class="material-icons">menu</i></button><ul class="dropdown-menu"><li><a href="http://localhost:8084/notebooks/UK_Shopper_Attributes/Luxury_Indicator.ipynb#"><i class="material-icons glyph-run-cell" style="padding-right: 10px;">play_arrow</i><span class="title-run-cell">Run</span></a></li><li><a href="http://localhost:8084/notebooks/UK_Shopper_Attributes/Luxury_Indicator.ipynb#"><i class="material-icons glyph-clear-cell" style="padding-right: 10px;">check_box_outline_blank</i><span class="title-clear-cell">Clear</span></a></li><li><a href="http://localhost:8084/notebooks/UK_Shopper_Attributes/Luxury_Indicator.ipynb#"><i class="material-icons glyph-collapse-cell" style="padding-right: 10px;">vertical_align_top</i><span class="title-collapse-cell">Collapse</span></a></li><li><a href="http://localhost:8084/notebooks/UK_Shopper_Attributes/Luxury_Indicator.ipynb#"><i class="material-icons glyph-collapse-code" style="padding-right: 10px;">code</i><span class="title-collapse-code">Hide Code</span></a></li></ul></div><div class="input"><div class="prompt input_prompt"></div><div class="inner_cell"><div class="ctb_hideshow"><div class="celltoolbar"></div></div><div class="input_area"><div class="CodeMirror cm-s-ipython"><div style="overflow: hidden; position: relative; width: 3px; height: 0px; top: 132px; left: 283px;"><textarea autocorrect="off" autocapitalize="off" spellcheck="false" tabindex="0" style="position: absolute; padding: 0px; width: 1000px; height: 1em; outline: none;"></textarea></div><div class="CodeMirror-vscrollbar" cm-not-content="true" style="min-width: 18px;"><div style="min-width: 1px; height: 0px;"></div></div><div class="CodeMirror-hscrollbar" cm-not-content="true" style=""><div style="height: 100%; min-height: 1px; width: 0px;"></div></div><div class="CodeMirror-scrollbar-filler" cm-not-content="true"></div><div class="CodeMirror-gutter-filler" cm-not-content="true"></div><div class="CodeMirror-scroll" tabindex="-1" draggable="false"><div class="CodeMirror-sizer" style="margin-left: 34px; min-width: 1299px; margin-bottom: 0px; border-right-width: 30px; min-height: 201px; padding-right: 0px; padding-bottom: 0px;"><div style="position: relative; top: 0px;"><div class="CodeMirror-lines"><div style="position: relative; outline: none;"><div class="CodeMirror-measure"><div class="CodeMirror-linenumber CodeMirror-gutter-elt"><div>9</div></div></div><div class="CodeMirror-measure"></div><div style="position: relative; z-index: 1;"></div><div class="CodeMirror-cursors" style="visibility: hidden;"><div class="CodeMirror-cursor" style="left: 243px; top: 126px; height: 21px;">&nbsp;</div></div><div class="CodeMirror-code" style=""><div style="position: relative;"><div class="CodeMirror-gutter-wrapper" style="left: -34px;"><div class="CodeMirror-linenumber CodeMirror-gutter-elt" style="left: 0px; width: 21px;">1</div></div><pre class=" CodeMirror-line "><span style="padding-right: 0.1px;"><span class="cm-variable">user_level_luxury_score</span> = <span class="cm-variable">base_data</span>.<span class="cm-variable">join</span>(<span class="cm-variable">luxury_scores</span> <span class="cm-error">\</span></span></pre></div><div style="position: relative;"><div class="CodeMirror-gutter-wrapper" style="left: -34px;"><div class="CodeMirror-linenumber CodeMirror-gutter-elt" style="left: 0px; width: 21px;">2</div></div><pre class=" CodeMirror-line "><span style="padding-right: 0.1px;">                          .<span class="cm-variable">withColumn</span>(<span class="cm-string">'bucket_value'</span>, <span class="cm-variable">when</span>(<span class="cm-variable">col</span>(<span class="cm-string">'percentile_rank'</span>) <span class="cm-operator">&gt;=</span> <span class="cm-number">0.8</span>,<span class="cm-number">5</span>).<span class="cm-variable">when</span>(<span class="cm-variable">col</span>(<span class="cm-string">'percentile_rank'</span>) <span class="cm-operator">&gt;=</span> <span class="cm-number">0.6</span>,<span class="cm-number">4</span>) <span class="cm-error">\</span></span></pre></div><div style="position: relative;"><div class="CodeMirror-gutter-wrapper" style="left: -34px;"><div class="CodeMirror-linenumber CodeMirror-gutter-elt" style="left: 0px; width: 21px;">3</div></div><pre class=" CodeMirror-line "><span style="padding-right: 0.1px;">                          .<span class="cm-variable">when</span>(<span class="cm-variable">col</span>(<span class="cm-string">'percentile_rank'</span>) <span class="cm-operator">&gt;=</span> <span class="cm-number">0.4</span>,<span class="cm-number">3</span>).<span class="cm-variable">when</span>(<span class="cm-variable">col</span>(<span class="cm-string">'percentile_rank'</span>) <span class="cm-operator">&gt;=</span> <span class="cm-number">0.2</span>,<span class="cm-number">2</span>) <span class="cm-error">\</span></span></pre></div><div style="position: relative;"><div class="CodeMirror-gutter-wrapper" style="left: -34px;"><div class="CodeMirror-linenumber CodeMirror-gutter-elt" style="left: 0px; width: 21px;">4</div></div><pre class=" CodeMirror-line "><span style="padding-right: 0.1px;">                          .<span class="cm-variable">otherwise</span>(<span class="cm-number">1</span>)).<span class="cm-variable">select</span>(<span class="cm-string">'brand'</span>, <span class="cm-string">'category'</span>,<span class="cm-string">'bucket_value'</span>), [<span class="cm-string">'brand'</span>,<span class="cm-string">'category'</span>], <span class="cm-string">'inner'</span>) <span class="cm-error">\</span></span></pre></div><div style="position: relative;"><div class="CodeMirror-gutter-wrapper" style="left: -34px;"><div class="CodeMirror-linenumber CodeMirror-gutter-elt" style="left: 0px; width: 21px;">5</div></div><pre class=" CodeMirror-line "><span style="padding-right: 0.1px;">        .<span class="cm-variable">select</span>(<span class="cm-string">'identifier'</span>,<span class="cm-string">'category'</span>, <span class="cm-string">'quantity'</span>, <span class="cm-string">'bucket_value'</span>) <span class="cm-error">\</span></span></pre></div><div style="position: relative;"><div class="CodeMirror-gutter-wrapper" style="left: -34px;"><div class="CodeMirror-linenumber CodeMirror-gutter-elt" style="left: 0px; width: 21px;">6</div></div><pre class=" CodeMirror-line "><span style="padding-right: 0.1px;">        .<span class="cm-variable">withColumn</span>(<span class="cm-string">'total_bucket_value'</span>, <span class="cm-variable">col</span>(<span class="cm-string">'quantity'</span>) <span class="cm-operator">*</span> <span class="cm-variable">col</span>(<span class="cm-string">'bucket_value'</span>)) <span class="cm-error">\</span></span></pre></div><div style="position: relative;"><div class="CodeMirror-gutter-wrapper" style="left: -34px;"><div class="CodeMirror-linenumber CodeMirror-gutter-elt" style="left: 0px; width: 21px;">7</div></div><pre class=" CodeMirror-line "><span style="padding-right: 0.1px;">        .<span class="cm-variable">groupBy</span>(<span class="cm-string">'identifier'</span>,<span class="cm-string">'category'</span>).<span class="cm-variable">agg</span>(<span class="cm-builtin">sum</span>(<span class="cm-variable">col</span>(<span class="cm-string">'quantity'</span>)).<span class="cm-variable">alias</span>(<span class="cm-string">'net_quantity'</span>), <span class="cm-builtin">sum</span>(<span class="cm-variable">col</span>(<span class="cm-string">'total_bucket_value'</span>)).<span class="cm-variable">alias</span>(<span class="cm-string">'sum_buckets'</span>)) <span class="cm-error">\</span></span></pre></div><div style="position: relative;"><div class="CodeMirror-gutter-wrapper" style="left: -34px;"><div class="CodeMirror-linenumber CodeMirror-gutter-elt" style="left: 0px; width: 21px;">8</div></div><pre class=" CodeMirror-line "><span style="padding-right: 0.1px;">        .<span class="cm-variable">withColumn</span>(<span class="cm-string">'luxury_score'</span>, <span class="cm-variable">col</span>(<span class="cm-string">'sum_buckets'</span>) <span class="cm-operator">/</span> <span class="cm-variable">col</span>(<span class="cm-string">'net_quantity'</span>)) <span class="cm-error">\</span></span></pre></div><div style="position: relative;"><div class="CodeMirror-gutter-wrapper" style="left: -34px;"><div class="CodeMirror-linenumber CodeMirror-gutter-elt" style="left: 0px; width: 21px;">9</div></div><pre class=" CodeMirror-line "><span style="padding-right: 0.1px;">        .<span class="cm-variable">select</span>(<span class="cm-string">'identifier'</span>,<span class="cm-string">'category'</span>, <span class="cm-string">'luxury_score'</span>,<span class="cm-string">'net_quantity'</span>)</span></pre></div></div></div></div></div></div><div style="position: absolute; height: 30px; width: 1px; top: 201px;"></div><div class="CodeMirror-gutters" style="height: 231px;"><div class="CodeMirror-gutter CodeMirror-linenumbers" style="width: 33px;"></div></div></div></div></div></div></div><div class="widget-area" style="display: none;"><div class="prompt"><button class="close">�</button></div><div class="widget-subarea jp-Output-result"></div></div><div class="output_wrapper"><div class="out_prompt_overlay prompt" title="click to scroll output; double click to hide" style="display: block;"></div><div class="output" style=""></div><div class="btn btn-default output_collapsed" title="click to expand output" style="display: none;">. . .</div></div><div class="cellPlaceholder btn btn-default" title="Uncollapse cell"></div></div><div class="cell text_cell rendered unselected" tabindex="2"><div class="prompt input_prompt"></div><div class="inner_cell"><div class="ctb_hideshow"><div class="celltoolbar"></div></div><div class="input_area"><div class="CodeMirror cm-s-default CodeMirror-wrap"><div style="overflow: hidden; position: relative; width: 3px; height: 0px; top: 6px; left: 6px;"><textarea autocorrect="off" autocapitalize="off" spellcheck="false" tabindex="0" style="position: absolute; padding: 0px; width: 1000px; height: 1em; outline: none;"></textarea></div><div class="CodeMirror-vscrollbar" cm-not-content="true" style="bottom: 0px; min-width: 18px;"><div style="min-width: 1px; height: 0px;"></div></div><div class="CodeMirror-hscrollbar" cm-not-content="true" style=""><div style="height: 100%; min-height: 1px; width: 0px;"></div></div><div class="CodeMirror-scrollbar-filler" cm-not-content="true"></div><div class="CodeMirror-gutter-filler" cm-not-content="true"></div><div class="CodeMirror-scroll" tabindex="-1"><div class="CodeMirror-sizer" style="margin-left: 0px; padding-right: 0px; padding-bottom: 0px; margin-bottom: 0px; border-right-width: 30px; min-height: 33px;"><div style="position: relative; top: 0px;"><div class="CodeMirror-lines"><div style="position: relative; outline: none;"><div class="CodeMirror-measure"></div><div class="CodeMirror-measure"></div><div style="position: relative; z-index: 1;"></div><div class="CodeMirror-cursors"><div class="CodeMirror-cursor" style="left: 0px; top: 0px; height: 21px;">&nbsp;</div></div><div class="CodeMirror-code"><pre class=" CodeMirror-line "><span style="padding-right: 0.1px;"><span class="cm-header cm-header-4">#### Seeing the data</span></span></pre></div></div></div></div></div><div style="position: absolute; height: 30px; width: 1px; top: 33px;"></div><div class="CodeMirror-gutters" style="display: none; height: 63px;"></div></div></div></div><div class="text_cell_render rendered_html" tabindex="-1"><h4 id="Seeing-the-data">Seeing the data<a class="anchor-link" href="http://localhost:8084/notebooks/UK_Shopper_Attributes/Luxury_Indicator.ipynb#Seeing-the-data">�</a></h4>
</div></div></div><div class="cell code_cell rendered session completed unselected" tabindex="2"><div class="dropdown minitoolbar"><button class="btn btn-default dropdown-toggle minitoolbar-toggle" data-toggle="dropdown"><i class="material-icons">menu</i></button><ul class="dropdown-menu"><li><a href="http://localhost:8084/notebooks/UK_Shopper_Attributes/Luxury_Indicator.ipynb#"><i class="material-icons glyph-run-cell" style="padding-right: 10px;">play_arrow</i><span class="title-run-cell">Run</span></a></li><li><a href="http://localhost:8084/notebooks/UK_Shopper_Attributes/Luxury_Indicator.ipynb#"><i class="material-icons glyph-clear-cell" style="padding-right: 10px;">check_box_outline_blank</i><span class="title-clear-cell">Clear</span></a></li><li><a href="http://localhost:8084/notebooks/UK_Shopper_Attributes/Luxury_Indicator.ipynb#"><i class="material-icons glyph-collapse-cell" style="padding-right: 10px;">vertical_align_top</i><span class="title-collapse-cell">Collapse</span></a></li><li><a href="http://localhost:8084/notebooks/UK_Shopper_Attributes/Luxury_Indicator.ipynb#"><i class="material-icons glyph-collapse-code" style="padding-right: 10px;">code</i><span class="title-collapse-code">Hide Code</span></a></li></ul></div><div class="input"><div class="prompt input_prompt"></div><div class="inner_cell"><div class="ctb_hideshow"><div class="celltoolbar"></div></div><div class="input_area"><div class="CodeMirror cm-s-ipython"><div style="overflow: hidden; position: relative; width: 3px; height: 0px; top: 6px; left: 211px;"><textarea autocorrect="off" autocapitalize="off" spellcheck="false" tabindex="0" style="position: absolute; padding: 0px; width: 1000px; height: 1em; outline: none;"></textarea></div><div class="CodeMirror-vscrollbar" cm-not-content="true" style="min-width: 18px;"><div style="min-width: 1px; height: 0px;"></div></div><div class="CodeMirror-hscrollbar" cm-not-content="true" style=""><div style="height: 100%; min-height: 1px; width: 0px;"></div></div><div class="CodeMirror-scrollbar-filler" cm-not-content="true"></div><div class="CodeMirror-gutter-filler" cm-not-content="true"></div><div class="CodeMirror-scroll" tabindex="-1" draggable="false"><div class="CodeMirror-sizer" style="margin-left: 34px; min-width: 282px; margin-bottom: 0px; border-right-width: 30px; min-height: 33px; padding-right: 0px; padding-bottom: 0px;"><div style="position: relative; top: 0px;"><div class="CodeMirror-lines"><div style="position: relative; outline: none;"><div class="CodeMirror-measure"><div class="CodeMirror-linenumber CodeMirror-gutter-elt"><div>1</div></div></div><div class="CodeMirror-measure"></div><div style="position: relative; z-index: 1;"></div><div class="CodeMirror-cursors" style="visibility: hidden;"><div class="CodeMirror-cursor" style="left: 171px; top: 0px; height: 21px;">&nbsp;</div></div><div class="CodeMirror-code"><div style="position: relative;"><div class="CodeMirror-gutter-wrapper" style="left: -34px;"><div class="CodeMirror-linenumber CodeMirror-gutter-elt" style="left: 0px; width: 21px;">1</div></div><pre class=" CodeMirror-line "><span style="padding-right: 0.1px;"><span class="cm-variable">user_level_luxury_score</span>.<span class="cm-variable">show</span>(<span class="cm-number">5</span>)</span></pre></div></div></div></div></div></div><div style="position: absolute; height: 30px; width: 1px; top: 33px;"></div><div class="CodeMirror-gutters" style="height: 63px;"><div class="CodeMirror-gutter CodeMirror-linenumbers" style="width: 33px;"></div></div></div></div></div></div></div><div class="widget-area" style="display: none;"><div class="prompt"><button class="close">�</button></div><div class="widget-subarea jp-Output-result"></div></div><div class="output_wrapper"><div class="out_prompt_overlay prompt" title="click to scroll output; double click to hide" style="display: block;"></div><div class="output" style=""><div class="output_area"><div class="prompt"></div><div class="output_subarea output_text output_stream output_stdout"><pre>+--------------------+---------------+------------+------------+
|          identifier|       category|luxury_score|net_quantity|
+--------------------+---------------+------------+------------+
|miranda-elle@hotm...|  Toys &amp; Games |         4.0|         3.0|
|se_evans@hotmail....|  Toys &amp; Games |         4.0|         1.0|
|andrea.harwood@ym...|  Toys &amp; Games |         3.5|         8.0|
|shazmalik17@hotma...|  Toys &amp; Games |         4.0|         4.0|
|    amcmahon@sky.com|Home &amp; Kitchen |         3.0|         1.0|
+--------------------+---------------+------------+------------+
only showing top 5 rows

</pre></div></div></div><div class="btn btn-default output_collapsed" title="click to expand output" style="display: none;">. . .</div></div><div class="cellPlaceholder btn btn-default" title="Uncollapse cell"></div></div><div class="cell code_cell rendered session completed unselected" tabindex="2"><div class="dropdown minitoolbar"><button class="btn btn-default dropdown-toggle minitoolbar-toggle" data-toggle="dropdown"><i class="material-icons">menu</i></button><ul class="dropdown-menu"><li><a href="http://localhost:8084/notebooks/UK_Shopper_Attributes/Luxury_Indicator.ipynb#"><i class="material-icons glyph-run-cell" style="padding-right: 10px;">play_arrow</i><span class="title-run-cell">Run</span></a></li><li><a href="http://localhost:8084/notebooks/UK_Shopper_Attributes/Luxury_Indicator.ipynb#"><i class="material-icons glyph-clear-cell" style="padding-right: 10px;">check_box_outline_blank</i><span class="title-clear-cell">Clear</span></a></li><li><a href="http://localhost:8084/notebooks/UK_Shopper_Attributes/Luxury_Indicator.ipynb#"><i class="material-icons glyph-collapse-cell" style="padding-right: 10px;">vertical_align_top</i><span class="title-collapse-cell">Collapse</span></a></li><li><a href="http://localhost:8084/notebooks/UK_Shopper_Attributes/Luxury_Indicator.ipynb#"><i class="material-icons glyph-collapse-code" style="padding-right: 10px;">code</i><span class="title-collapse-code">Hide Code</span></a></li></ul></div><div class="input"><div class="prompt input_prompt"></div><div class="inner_cell"><div class="ctb_hideshow"><div class="celltoolbar"></div></div><div class="input_area"><div class="CodeMirror cm-s-ipython"><div style="overflow: hidden; position: relative; width: 3px; height: 0px; top: 27px; left: 148px;"><textarea autocorrect="off" autocapitalize="off" spellcheck="false" tabindex="0" style="position: absolute; padding: 0px; width: 1000px; height: 1em; outline: none;"></textarea></div><div class="CodeMirror-vscrollbar" cm-not-content="true" style="min-width: 18px;"><div style="min-width: 1px; height: 0px;"></div></div><div class="CodeMirror-hscrollbar" cm-not-content="true" style=""><div style="height: 100%; min-height: 1px; width: 0px;"></div></div><div class="CodeMirror-scrollbar-filler" cm-not-content="true"></div><div class="CodeMirror-gutter-filler" cm-not-content="true"></div><div class="CodeMirror-scroll" tabindex="-1"><div class="CodeMirror-sizer" style="margin-left: 34px; min-width: 579px; margin-bottom: 0px; border-right-width: 30px; min-height: 54px; padding-right: 0px; padding-bottom: 0px;"><div style="position: relative; top: 0px;"><div class="CodeMirror-lines"><div style="position: relative; outline: none;"><div class="CodeMirror-measure"><div class="CodeMirror-linenumber CodeMirror-gutter-elt"><div>2</div></div></div><div class="CodeMirror-measure"></div><div style="position: relative; z-index: 1;"></div><div class="CodeMirror-cursors" style="visibility: hidden;"><div class="CodeMirror-cursor" style="left: 108px; top: 21px; height: 21px;">&nbsp;</div></div><div class="CodeMirror-code"><div style="position: relative;"><div class="CodeMirror-gutter-wrapper" style="left: -34px;"><div class="CodeMirror-linenumber CodeMirror-gutter-elt" style="left: 0px; width: 21px;">1</div></div><pre class=" CodeMirror-line "><span style="padding-right: 0.1px;"><span class="cm-variable">test2</span> = <span class="cm-variable">user_level_luxury_score</span>.<span class="cm-variable">agg</span>(<span class="cm-variable">countDistinct</span>(<span class="cm-string">'identifier'</span>))</span></pre></div><div style="position: relative;"><div class="CodeMirror-gutter-wrapper" style="left: -34px;"><div class="CodeMirror-linenumber CodeMirror-gutter-elt" style="left: 0px; width: 21px;">2</div></div><pre class=" CodeMirror-line "><span style="padding-right: 0.1px;"><span class="cm-variable">test2</span>.<span class="cm-variable">show</span>()</span></pre></div></div></div></div></div></div><div style="position: absolute; height: 30px; width: 1px; top: 54px;"></div><div class="CodeMirror-gutters" style="height: 84px;"><div class="CodeMirror-gutter CodeMirror-linenumbers" style="width: 33px;"></div></div></div></div></div></div></div><div class="widget-area" style="display: none;"><div class="prompt"><button class="close">�</button></div><div class="widget-subarea jp-Output-result"></div></div><div class="output_wrapper"><div class="out_prompt_overlay prompt" title="click to scroll output; double click to hide" style="display: block;"></div><div class="output" style=""><div class="output_area"><div class="prompt"></div><div class="output_subarea output_text output_stream output_stdout"><pre>+--------------------------+
|count(DISTINCT identifier)|
+--------------------------+
|                  11224605|
+--------------------------+

</pre></div></div></div><div class="btn btn-default output_collapsed" title="click to expand output" style="display: none;">. . .</div></div><div class="cellPlaceholder btn btn-default" title="Uncollapse cell"></div></div><div class="cell code_cell rendered session completed unselected" tabindex="2"><div class="dropdown minitoolbar"><button class="btn btn-default dropdown-toggle minitoolbar-toggle" data-toggle="dropdown"><i class="material-icons">menu</i></button><ul class="dropdown-menu"><li><a href="http://localhost:8084/notebooks/UK_Shopper_Attributes/Luxury_Indicator.ipynb#"><i class="material-icons glyph-run-cell" style="padding-right: 10px;">play_arrow</i><span class="title-run-cell">Run</span></a></li><li><a href="http://localhost:8084/notebooks/UK_Shopper_Attributes/Luxury_Indicator.ipynb#"><i class="material-icons glyph-clear-cell" style="padding-right: 10px;">check_box_outline_blank</i><span class="title-clear-cell">Clear</span></a></li><li><a href="http://localhost:8084/notebooks/UK_Shopper_Attributes/Luxury_Indicator.ipynb#"><i class="material-icons glyph-collapse-cell" style="padding-right: 10px;">vertical_align_top</i><span class="title-collapse-cell">Collapse</span></a></li><li><a href="http://localhost:8084/notebooks/UK_Shopper_Attributes/Luxury_Indicator.ipynb#"><i class="material-icons glyph-collapse-code" style="padding-right: 10px;">code</i><span class="title-collapse-code">Hide Code</span></a></li></ul></div><div class="input"><div class="prompt input_prompt"></div><div class="inner_cell"><div class="ctb_hideshow"><div class="celltoolbar"></div></div><div class="input_area"><div class="CodeMirror cm-s-ipython"><div style="overflow: hidden; position: relative; width: 3px; height: 0px; top: 6px; left: 319px;"><textarea autocorrect="off" autocapitalize="off" spellcheck="false" tabindex="0" style="position: absolute; padding: 0px; width: 1000px; height: 1em; outline: none;"></textarea></div><div class="CodeMirror-vscrollbar" cm-not-content="true" style="min-width: 18px;"><div style="min-width: 1px; height: 0px;"></div></div><div class="CodeMirror-hscrollbar" cm-not-content="true" style=""><div style="height: 100%; min-height: 1px; width: 0px;"></div></div><div class="CodeMirror-scrollbar-filler" cm-not-content="true"></div><div class="CodeMirror-gutter-filler" cm-not-content="true"></div><div class="CodeMirror-scroll" tabindex="-1"><div class="CodeMirror-sizer" style="margin-left: 34px; min-width: 282px; margin-bottom: 0px; border-right-width: 30px; min-height: 33px; padding-right: 0px; padding-bottom: 0px;"><div style="position: relative; top: 0px;"><div class="CodeMirror-lines"><div style="position: relative; outline: none;"><div class="CodeMirror-measure"><div class="CodeMirror-linenumber CodeMirror-gutter-elt"><div>1</div></div></div><div class="CodeMirror-measure"></div><div style="position: relative; z-index: 1;"></div><div class="CodeMirror-cursors" style=""><div class="CodeMirror-cursor" style="left: 279px; top: 0px; height: 21px;">&nbsp;</div></div><div class="CodeMirror-code"><div style="position: relative;"><div class="CodeMirror-gutter-wrapper" style="left: -34px;"><div class="CodeMirror-linenumber CodeMirror-gutter-elt" style="left: 0px; width: 21px;">1</div></div><pre class=" CodeMirror-line "><span style="padding-right: 0.1px;"><span class="cm-variable">user_level_luxury_score</span>.<span class="cm-variable">count</span>()</span></pre></div></div></div></div></div></div><div style="position: absolute; height: 30px; width: 1px; top: 33px;"></div><div class="CodeMirror-gutters" style="height: 63px;"><div class="CodeMirror-gutter CodeMirror-linenumbers" style="width: 33px;"></div></div></div></div></div></div></div><div class="widget-area" style="display: none;"><div class="prompt"><button class="close">�</button></div><div class="widget-subarea jp-Output-result"></div></div><div class="output_wrapper"><div class="out_prompt_overlay prompt" title="click to scroll output; double click to hide" style="display: block;"></div><div class="output" style=""><div class="output_area"><div class="prompt output_prompt">Out[18]:</div><div class="output_subarea output_text output_result"><pre>18760140</pre></div></div></div><div class="btn btn-default output_collapsed" title="click to expand output" style="display: none;">. . .</div></div><div class="cellPlaceholder btn btn-default" title="Uncollapse cell"></div></div><div class="cell text_cell rendered unselected" tabindex="2"><div class="prompt input_prompt"></div><div class="inner_cell"><div class="ctb_hideshow"><div class="celltoolbar"></div></div><div class="input_area"><div class="CodeMirror cm-s-default CodeMirror-wrap"><div style="overflow: hidden; position: relative; width: 3px; height: 0px; top: 6px; left: 276px;"><textarea autocorrect="off" autocapitalize="off" spellcheck="false" tabindex="0" style="position: absolute; padding: 0px; width: 1000px; height: 1em; outline: none;"></textarea></div><div class="CodeMirror-vscrollbar" cm-not-content="true" style="bottom: 0px; min-width: 18px;"><div style="min-width: 1px; height: 0px;"></div></div><div class="CodeMirror-hscrollbar" cm-not-content="true" style=""><div style="height: 100%; min-height: 1px; width: 0px;"></div></div><div class="CodeMirror-scrollbar-filler" cm-not-content="true"></div><div class="CodeMirror-gutter-filler" cm-not-content="true"></div><div class="CodeMirror-scroll" tabindex="-1"><div class="CodeMirror-sizer" style="margin-left: 0px; padding-right: 0px; padding-bottom: 0px; margin-bottom: 0px; border-right-width: 30px; min-height: 33px;"><div style="position: relative; top: 0px;"><div class="CodeMirror-lines"><div style="position: relative; outline: none;"><div class="CodeMirror-measure"><pre><span>xxxxxxxxxx</span></pre></div><div class="CodeMirror-measure"></div><div style="position: relative; z-index: 1;"></div><div class="CodeMirror-cursors" style="visibility: hidden;"><div class="CodeMirror-cursor" style="left: 270px; top: 0px; height: 21px;">&nbsp;</div></div><div class="CodeMirror-code"><pre class=" CodeMirror-line "><span style="padding-right: 0.1px;"><span class="cm-header cm-header-2">## Exporting Shopper-Category level luxury scores data file (csv format) into GCS</span></span></pre></div></div></div></div></div><div style="position: absolute; height: 30px; width: 1px; top: 33px;"></div><div class="CodeMirror-gutters" style="display: none; height: 63px;"></div></div></div></div><div class="text_cell_render rendered_html" tabindex="-1"><h2 id="Exporting-Shopper-Category-level-luxury-scores-data-file-(csv-format)-into-GCS">Exporting Shopper-Category level luxury scores data file (csv format) into GCS<a class="anchor-link" href="http://localhost:8084/notebooks/UK_Shopper_Attributes/Luxury_Indicator.ipynb#Exporting-Shopper-Category-level-luxury-scores-data-file-(csv-format)-into-GCS">�</a></h2>
</div></div></div><div class="cell code_cell rendered session completed unselected" tabindex="2"><div class="dropdown minitoolbar"><button class="btn btn-default dropdown-toggle minitoolbar-toggle" data-toggle="dropdown"><i class="material-icons">menu</i></button><ul class="dropdown-menu"><li><a href="http://localhost:8084/notebooks/UK_Shopper_Attributes/Luxury_Indicator.ipynb#"><i class="material-icons glyph-run-cell" style="padding-right: 10px;">play_arrow</i><span class="title-run-cell">Run</span></a></li><li><a href="http://localhost:8084/notebooks/UK_Shopper_Attributes/Luxury_Indicator.ipynb#"><i class="material-icons glyph-clear-cell" style="padding-right: 10px;">check_box_outline_blank</i><span class="title-clear-cell">Clear</span></a></li><li><a href="http://localhost:8084/notebooks/UK_Shopper_Attributes/Luxury_Indicator.ipynb#"><i class="material-icons glyph-collapse-cell" style="padding-right: 10px;">vertical_align_top</i><span class="title-collapse-cell">Collapse</span></a></li><li><a href="http://localhost:8084/notebooks/UK_Shopper_Attributes/Luxury_Indicator.ipynb#"><i class="material-icons glyph-collapse-code" style="padding-right: 10px;">code</i><span class="title-collapse-code">Hide Code</span></a></li></ul></div><div class="input"><div class="prompt input_prompt"></div><div class="inner_cell"><div class="ctb_hideshow"><div class="celltoolbar"></div></div><div class="input_area"><div class="CodeMirror cm-s-ipython"><div style="overflow: hidden; position: relative; width: 3px; height: 0px; top: 6px; left: 193px;"><textarea autocorrect="off" autocapitalize="off" spellcheck="false" tabindex="0" style="position: absolute; padding: 0px; width: 1000px; height: 1em; outline: none;"></textarea></div><div class="CodeMirror-vscrollbar" cm-not-content="true" style="min-width: 18px;"><div style="min-width: 1px; height: 0px;"></div></div><div class="CodeMirror-hscrollbar" cm-not-content="true" style="right: 0px; left: 34px;"><div style="height: 100%; min-height: 1px; width: 0px;"></div></div><div class="CodeMirror-scrollbar-filler" cm-not-content="true"></div><div class="CodeMirror-gutter-filler" cm-not-content="true"></div><div class="CodeMirror-scroll" tabindex="-1"><div class="CodeMirror-sizer" style="margin-left: 34px; min-width: 1110px; margin-bottom: 0px; border-right-width: 30px; min-height: 33px; padding-right: 0px; padding-bottom: 0px;"><div style="position: relative; top: 0px;"><div class="CodeMirror-lines"><div style="position: relative; outline: none;"><div class="CodeMirror-measure"><div class="CodeMirror-linenumber CodeMirror-gutter-elt"><div>1</div></div></div><div class="CodeMirror-measure"></div><div style="position: relative; z-index: 1;"></div><div class="CodeMirror-cursors" style="visibility: hidden;"><div class="CodeMirror-cursor" style="left: 153px; top: 0px; height: 21px;">&nbsp;</div></div><div class="CodeMirror-code"><div style="position: relative;"><div class="CodeMirror-gutter-wrapper" style="left: -34px;"><div class="CodeMirror-linenumber CodeMirror-gutter-elt" style="left: 0px; width: 21px;">1</div></div><pre class=" CodeMirror-line "><span style="padding-right: 0.1px;">(<span class="cm-variable">user_level_luxury_score</span>.<span class="cm-variable">coalesce</span>(<span class="cm-number">1</span>).<span class="cm-variable">write</span>.<span class="cm-variable">option</span>(<span class="cm-string">"header"</span>, <span class="cm-string">"true"</span>).<span class="cm-variable">csv</span>(<span class="cm-string">"gs://westfield-tom/datalab/luxury_score_data_v1"</span>))</span></pre></div></div></div></div></div></div><div style="position: absolute; height: 30px; width: 1px; top: 33px;"></div><div class="CodeMirror-gutters" style="height: 63px;"><div class="CodeMirror-gutter CodeMirror-linenumbers" style="width: 33px;"></div></div></div></div></div></div></div><div class="widget-area" style="display: none;"><div class="prompt"><button class="close">�</button></div><div class="widget-subarea jp-Output-result"></div></div><div class="output_wrapper"><div class="out_prompt_overlay prompt" title="click to scroll output; double click to hide" style="display: none;"></div><div class="output" style=""></div><div class="btn btn-default output_collapsed" title="click to expand output" style="display: none;">. . .</div></div><div class="cellPlaceholder btn btn-default" title="Uncollapse cell"></div></div><div class="cell text_cell rendered unselected" tabindex="2"><div class="prompt input_prompt"></div><div class="inner_cell"><div class="ctb_hideshow"><div class="celltoolbar"></div></div><div class="input_area"><div class="CodeMirror cm-s-default CodeMirror-wrap"><div style="overflow: hidden; position: relative; width: 3px; height: 0px; top: 6px; left: 6px;"><textarea autocorrect="off" autocapitalize="off" spellcheck="false" tabindex="0" style="position: absolute; padding: 0px; width: 1000px; height: 1em; outline: none;"></textarea></div><div class="CodeMirror-vscrollbar" cm-not-content="true" style="bottom: 0px; min-width: 18px;"><div style="min-width: 1px; height: 0px;"></div></div><div class="CodeMirror-hscrollbar" cm-not-content="true" style=""><div style="height: 100%; min-height: 1px; width: 0px;"></div></div><div class="CodeMirror-scrollbar-filler" cm-not-content="true"></div><div class="CodeMirror-gutter-filler" cm-not-content="true"></div><div class="CodeMirror-scroll" tabindex="-1"><div class="CodeMirror-sizer" style="margin-left: 0px; padding-right: 0px; padding-bottom: 0px; margin-bottom: 0px; border-right-width: 30px; min-height: 33px;"><div style="position: relative; top: 0px;"><div class="CodeMirror-lines"><div style="position: relative; outline: none;"><div class="CodeMirror-measure"></div><div class="CodeMirror-measure"></div><div style="position: relative; z-index: 1;"></div><div class="CodeMirror-cursors"><div class="CodeMirror-cursor" style="left: 0px; top: 0px; height: 21px;">&nbsp;</div></div><div class="CodeMirror-code"><pre class=" CodeMirror-line "><span style="padding-right: 0.1px;"><span class="cm-header cm-header-4">#### Number of shoppers with different luxury scores for every category</span></span></pre></div></div></div></div></div><div style="position: absolute; height: 30px; width: 1px; top: 33px;"></div><div class="CodeMirror-gutters" style="display: none; height: 63px;"></div></div></div></div><div class="text_cell_render rendered_html" tabindex="-1"><h4 id="Number-of-shoppers-with-different-luxury-scores-for-every-category">Number of shoppers with different luxury scores for every category<a class="anchor-link" href="http://localhost:8084/notebooks/UK_Shopper_Attributes/Luxury_Indicator.ipynb#Number-of-shoppers-with-different-luxury-scores-for-every-category">�</a></h4>
</div></div></div><div class="cell code_cell rendered session completed unselected" tabindex="2"><div class="dropdown minitoolbar"><button class="btn btn-default dropdown-toggle minitoolbar-toggle" data-toggle="dropdown"><i class="material-icons">menu</i></button><ul class="dropdown-menu"><li><a href="http://localhost:8084/notebooks/UK_Shopper_Attributes/Luxury_Indicator.ipynb#"><i class="material-icons glyph-run-cell" style="padding-right: 10px;">play_arrow</i><span class="title-run-cell">Run</span></a></li><li><a href="http://localhost:8084/notebooks/UK_Shopper_Attributes/Luxury_Indicator.ipynb#"><i class="material-icons glyph-clear-cell" style="padding-right: 10px;">check_box_outline_blank</i><span class="title-clear-cell">Clear</span></a></li><li><a href="http://localhost:8084/notebooks/UK_Shopper_Attributes/Luxury_Indicator.ipynb#"><i class="material-icons glyph-collapse-cell" style="padding-right: 10px;">vertical_align_top</i><span class="title-collapse-cell">Collapse</span></a></li><li><a href="http://localhost:8084/notebooks/UK_Shopper_Attributes/Luxury_Indicator.ipynb#"><i class="material-icons glyph-collapse-code" style="padding-right: 10px;">code</i><span class="title-collapse-code">Hide Code</span></a></li></ul></div><div class="input"><div class="prompt input_prompt"></div><div class="inner_cell"><div class="ctb_hideshow"><div class="celltoolbar"></div></div><div class="input_area"><div class="CodeMirror cm-s-ipython"><div style="overflow: hidden; position: relative; width: 3px; height: 0px; top: 27px; left: 904px;"><textarea autocorrect="off" autocapitalize="off" spellcheck="false" tabindex="0" style="position: absolute; padding: 0px; width: 1000px; height: 1em; outline: none;"></textarea></div><div class="CodeMirror-vscrollbar" cm-not-content="true" style="min-width: 18px;"><div style="min-width: 1px; height: 0px;"></div></div><div class="CodeMirror-hscrollbar" cm-not-content="true" style=""><div style="height: 100%; min-height: 1px; width: 0px;"></div></div><div class="CodeMirror-scrollbar-filler" cm-not-content="true"></div><div class="CodeMirror-gutter-filler" cm-not-content="true"></div><div class="CodeMirror-scroll" tabindex="-1" draggable="false"><div class="CodeMirror-sizer" style="margin-left: 34px; min-width: 1011px; margin-bottom: 0px; border-right-width: 30px; min-height: 96px; padding-right: 0px; padding-bottom: 0px;"><div style="position: relative; top: 0px;"><div class="CodeMirror-lines"><div style="position: relative; outline: none;"><div class="CodeMirror-measure"><pre>x</pre></div><div class="CodeMirror-measure"></div><div style="position: relative; z-index: 1;"></div><div class="CodeMirror-cursors" style="visibility: hidden;"><div class="CodeMirror-cursor" style="left: 864px; top: 21px; height: 21px;">&nbsp;</div></div><div class="CodeMirror-code"><div style="position: relative;"><div class="CodeMirror-gutter-wrapper" style="left: -34px;"><div class="CodeMirror-linenumber CodeMirror-gutter-elt" style="left: 0px; width: 21px;">1</div></div><pre class=" CodeMirror-line "><span style="padding-right: 0.1px;"><span class="cm-variable">frequency</span> = <span class="cm-variable">user_level_luxury_score</span>.<span class="cm-variable">withColumn</span>(<span class="cm-string">'luxury_score'</span>, <span class="cm-variable">floor</span>(<span class="cm-string">'luxury_score'</span>)) <span class="cm-error">\</span></span></pre></div><div style="position: relative;"><div class="CodeMirror-gutter-wrapper" style="left: -34px;"><div class="CodeMirror-linenumber CodeMirror-gutter-elt" style="left: 0px; width: 21px;">2</div></div><pre class=" CodeMirror-line "><span style="padding-right: 0.1px;">                       .<span class="cm-variable">groupBy</span>(<span class="cm-string">'category'</span>,<span class="cm-string">'luxury_score'</span>).<span class="cm-variable">agg</span>(<span class="cm-variable">countDistinct</span>(<span class="cm-string">'identifier'</span>).<span class="cm-variable">alias</span>(<span class="cm-string">'frequency'</span>)) <span class="cm-error">\</span></span></pre></div><div style="position: relative;"><div class="CodeMirror-gutter-wrapper" style="left: -34px;"><div class="CodeMirror-linenumber CodeMirror-gutter-elt" style="left: 0px; width: 21px;">3</div></div><pre class=" CodeMirror-line "><span style="padding-right: 0.1px;">                       .<span class="cm-variable">orderBy</span>(<span class="cm-string">'category'</span>,<span class="cm-variable">desc</span>(<span class="cm-string">'luxury_score'</span>))</span></pre></div><div style="position: relative;"><div class="CodeMirror-gutter-wrapper" style="left: -34px;"><div class="CodeMirror-linenumber CodeMirror-gutter-elt" style="left: 0px; width: 21px;">4</div></div><pre class=" CodeMirror-line "><span style="padding-right: 0.1px;"><span class="cm-variable">frequency</span>.<span class="cm-variable">show</span>(<span class="cm-number">10</span>)    </span></pre></div></div></div></div></div></div><div style="position: absolute; height: 30px; width: 1px; top: 96px;"></div><div class="CodeMirror-gutters" style="height: 126px;"><div class="CodeMirror-gutter CodeMirror-linenumbers" style="width: 33px;"></div></div></div></div></div></div></div><div class="widget-area" style="display: none;"><div class="prompt"><button class="close">�</button></div><div class="widget-subarea jp-Output-result"></div></div><div class="output_wrapper"><div class="out_prompt_overlay prompt" title="click to scroll output; double click to hide" style="display: block;"></div><div class="output" style=""><div class="output_area"><div class="prompt"></div><div class="output_subarea output_text output_stream output_stdout"><pre>+--------------------+------------+---------+
|            category|luxury_score|frequency|
+--------------------+------------+---------+
|Arts, Crafts &amp; Se...|           5|    16159|
|Arts, Crafts &amp; Se...|           4|   117564|
|Arts, Crafts &amp; Se...|           3|     5805|
|Arts, Crafts &amp; Se...|           2|    22589|
|Arts, Crafts &amp; Se...|           1|       36|
|         Automotive |           5|     4261|
|         Automotive |           4|   216191|
|         Automotive |           3|    14312|
|         Automotive |           2|     3105|
|         Automotive |           1|      258|
+--------------------+------------+---------+
only showing top 10 rows

</pre></div></div></div><div class="btn btn-default output_collapsed" title="click to expand output" style="display: none;">. . .</div></div><div class="cellPlaceholder btn btn-default" title="Uncollapse cell"></div></div><div class="cell text_cell rendered unselected" tabindex="2"><div class="prompt input_prompt"></div><div class="inner_cell"><div class="ctb_hideshow"><div class="celltoolbar"></div></div><div class="input_area"><div class="CodeMirror cm-s-default CodeMirror-wrap"><div style="overflow: hidden; position: relative; width: 3px; height: 0px; top: 6px; left: 6px;"><textarea autocorrect="off" autocapitalize="off" spellcheck="false" tabindex="0" style="position: absolute; padding: 0px; width: 1000px; height: 1em; outline: none;"></textarea></div><div class="CodeMirror-vscrollbar" cm-not-content="true" style="bottom: 0px; min-width: 18px;"><div style="min-width: 1px; height: 0px;"></div></div><div class="CodeMirror-hscrollbar" cm-not-content="true" style=""><div style="height: 100%; min-height: 1px; width: 0px;"></div></div><div class="CodeMirror-scrollbar-filler" cm-not-content="true"></div><div class="CodeMirror-gutter-filler" cm-not-content="true"></div><div class="CodeMirror-scroll" tabindex="-1"><div class="CodeMirror-sizer" style="margin-left: 0px; padding-right: 0px; padding-bottom: 0px; margin-bottom: 0px; border-right-width: 30px; min-height: 33px;"><div style="position: relative; top: 0px;"><div class="CodeMirror-lines"><div style="position: relative; outline: none;"><div class="CodeMirror-measure"></div><div class="CodeMirror-measure"></div><div style="position: relative; z-index: 1;"></div><div class="CodeMirror-cursors"><div class="CodeMirror-cursor" style="left: 0px; top: 0px; height: 21px;">&nbsp;</div></div><div class="CodeMirror-code"><pre class=" CodeMirror-line "><span style="padding-right: 0.1px;"><span class="cm-header cm-header-4">#### Exporting category cross luxury scores frequency data file (csv format) into GCS</span></span></pre></div></div></div></div></div><div style="position: absolute; height: 30px; width: 1px; top: 33px;"></div><div class="CodeMirror-gutters" style="display: none; height: 63px;"></div></div></div></div><div class="text_cell_render rendered_html" tabindex="-1"><h4 id="Exporting-category-cross-luxury-scores-frequency-data-file-(csv-format)-into-GCS">Exporting category cross luxury scores frequency data file (csv format) into GCS<a class="anchor-link" href="http://localhost:8084/notebooks/UK_Shopper_Attributes/Luxury_Indicator.ipynb#Exporting-category-cross-luxury-scores-frequency-data-file-(csv-format)-into-GCS">�</a></h4>
</div></div></div><div class="cell code_cell rendered completed unselected" tabindex="2"><div class="dropdown minitoolbar"><button class="btn btn-default dropdown-toggle minitoolbar-toggle" data-toggle="dropdown"><i class="material-icons">menu</i></button><ul class="dropdown-menu"><li><a href="http://localhost:8084/notebooks/UK_Shopper_Attributes/Luxury_Indicator.ipynb#"><i class="material-icons glyph-run-cell" style="padding-right: 10px;">play_arrow</i><span class="title-run-cell">Run</span></a></li><li><a href="http://localhost:8084/notebooks/UK_Shopper_Attributes/Luxury_Indicator.ipynb#"><i class="material-icons glyph-clear-cell" style="padding-right: 10px;">check_box_outline_blank</i><span class="title-clear-cell">Clear</span></a></li><li><a href="http://localhost:8084/notebooks/UK_Shopper_Attributes/Luxury_Indicator.ipynb#"><i class="material-icons glyph-collapse-cell" style="padding-right: 10px;">vertical_align_top</i><span class="title-collapse-cell">Collapse</span></a></li><li><a href="http://localhost:8084/notebooks/UK_Shopper_Attributes/Luxury_Indicator.ipynb#"><i class="material-icons glyph-collapse-code" style="padding-right: 10px;">code</i><span class="title-collapse-code">Hide Code</span></a></li></ul></div><div class="input"><div class="prompt input_prompt"></div><div class="inner_cell"><div class="ctb_hideshow"><div class="celltoolbar"></div></div><div class="input_area"><div class="CodeMirror cm-s-ipython"><div style="overflow: hidden; position: relative; width: 3px; height: 0px; top: 6px; left: 841px;"><textarea autocorrect="off" autocapitalize="off" spellcheck="false" tabindex="0" style="position: absolute; padding: 0px; width: 1000px; height: 1em; outline: none;"></textarea></div><div class="CodeMirror-vscrollbar" cm-not-content="true" style="min-width: 18px;"><div style="min-width: 1px; height: 0px;"></div></div><div class="CodeMirror-hscrollbar" cm-not-content="true" style="right: 0px; left: 34px;"><div style="height: 100%; min-height: 1px; width: 0px;"></div></div><div class="CodeMirror-scrollbar-filler" cm-not-content="true"></div><div class="CodeMirror-gutter-filler" cm-not-content="true"></div><div class="CodeMirror-scroll" tabindex="-1"><div class="CodeMirror-sizer" style="margin-left: 34px; min-width: 1191px; margin-bottom: 0px; border-right-width: 30px; min-height: 33px; padding-right: 0px; padding-bottom: 0px;"><div style="position: relative; top: 0px;"><div class="CodeMirror-lines"><div style="position: relative; outline: none;"><div class="CodeMirror-measure"><div class="CodeMirror-linenumber CodeMirror-gutter-elt"><div>1</div></div></div><div class="CodeMirror-measure"></div><div style="position: relative; z-index: 1;"></div><div class="CodeMirror-cursors" style="visibility: hidden;"><div class="CodeMirror-cursor" style="left: 801px; top: 0px; height: 21px;">&nbsp;</div></div><div class="CodeMirror-code"><div style="position: relative;"><div class="CodeMirror-gutter-wrapper" style="left: -34px;"><div class="CodeMirror-linenumber CodeMirror-gutter-elt" style="left: 0px; width: 21px;">1</div></div><pre class=" CodeMirror-line "><span style="padding-right: 0.1px;">(<span class="cm-variable">frequency</span>.<span class="cm-variable">coalesce</span>(<span class="cm-number">1</span>).<span class="cm-variable">write</span>.<span class="cm-variable">option</span>(<span class="cm-string">"header"</span>, <span class="cm-string">"true"</span>).<span class="cm-variable">csv</span>(<span class="cm-string">"gs://westfield-tom/datalab/yocuda_category_luxury_score_frequency_data"</span>))</span></pre></div></div></div></div></div></div><div style="position: absolute; height: 30px; width: 1px; top: 33px;"></div><div class="CodeMirror-gutters" style="height: 63px;"><div class="CodeMirror-gutter CodeMirror-linenumbers" style="width: 33px;"></div></div></div></div></div></div></div><div class="widget-area" style="display: none;"><div class="prompt"><button class="close">�</button></div><div class="widget-subarea jp-Output-result"></div></div><div class="output_wrapper"><div class="out_prompt_overlay prompt" title="click to expand output; double click to hide output" style="display: none;"></div><div class="output" style="display: none;"></div><div class="btn btn-default output_collapsed" title="click to expand output" style="display: none;">. . .</div></div><div class="cellPlaceholder btn btn-default" title="Uncollapse cell"></div></div><div class="cell text_cell unselected rendered" tabindex="2"><div class="prompt input_prompt"></div><div class="inner_cell"><div class="ctb_hideshow"><div class="celltoolbar"></div></div><div class="input_area"><div class="CodeMirror cm-s-default CodeMirror-wrap"><div style="overflow: hidden; position: relative; width: 3px; height: 0px; top: 6px; left: 6px;"><textarea autocorrect="off" autocapitalize="off" spellcheck="false" tabindex="0" style="position: absolute; padding: 0px; width: 1000px; height: 1em; outline: none;"></textarea></div><div class="CodeMirror-vscrollbar" cm-not-content="true" style="bottom: 0px; min-width: 18px;"><div style="min-width: 1px; height: 0px;"></div></div><div class="CodeMirror-hscrollbar" cm-not-content="true" style=""><div style="height: 100%; min-height: 1px; width: 0px;"></div></div><div class="CodeMirror-scrollbar-filler" cm-not-content="true"></div><div class="CodeMirror-gutter-filler" cm-not-content="true"></div><div class="CodeMirror-scroll" tabindex="-1"><div class="CodeMirror-sizer" style="margin-left: 0px; padding-right: 0px; padding-bottom: 0px; margin-bottom: 0px; border-right-width: 30px; min-height: 33px;"><div style="position: relative; top: 0px;"><div class="CodeMirror-lines"><div style="position: relative; outline: none;"><div class="CodeMirror-measure"></div><div class="CodeMirror-measure"></div><div style="position: relative; z-index: 1;"></div><div class="CodeMirror-cursors"><div class="CodeMirror-cursor" style="left: 0px; top: 0px; height: 21px;">&nbsp;</div></div><div class="CodeMirror-code"><pre class=" CodeMirror-line "><span style="padding-right: 0.1px;"><span class="cm-header cm-header-4">#### Categorizing a shopper as Luxury / Non-luxury shopper based on the score</span></span></pre></div></div></div></div></div><div style="position: absolute; height: 30px; width: 1px; top: 33px;"></div><div class="CodeMirror-gutters" style="display: none; height: 63px;"></div></div></div></div><div class="text_cell_render rendered_html" tabindex="-1"><h4 id="Categorizing-a-shopper-as-Luxury-/-Non-luxury-shopper-based-on-the-score">Categorizing a shopper as Luxury / Non-luxury shopper based on the score<a class="anchor-link" href="http://localhost:8084/notebooks/UK_Shopper_Attributes/Luxury_Indicator.ipynb#Categorizing-a-shopper-as-Luxury-/-Non-luxury-shopper-based-on-the-score">�</a></h4>
</div></div></div><div class="cell code_cell rendered session completed unselected" tabindex="2"><div class="dropdown minitoolbar"><button class="btn btn-default dropdown-toggle minitoolbar-toggle" data-toggle="dropdown"><i class="material-icons">menu</i></button><ul class="dropdown-menu"><li><a href="http://localhost:8084/notebooks/UK_Shopper_Attributes/Luxury_Indicator.ipynb#"><i class="material-icons glyph-run-cell" style="padding-right: 10px;">play_arrow</i><span class="title-run-cell">Run</span></a></li><li><a href="http://localhost:8084/notebooks/UK_Shopper_Attributes/Luxury_Indicator.ipynb#"><i class="material-icons glyph-clear-cell" style="padding-right: 10px;">check_box_outline_blank</i><span class="title-clear-cell">Clear</span></a></li><li><a href="http://localhost:8084/notebooks/UK_Shopper_Attributes/Luxury_Indicator.ipynb#"><i class="material-icons glyph-collapse-cell" style="padding-right: 10px;">vertical_align_top</i><span class="title-collapse-cell">Collapse</span></a></li><li><a href="http://localhost:8084/notebooks/UK_Shopper_Attributes/Luxury_Indicator.ipynb#"><i class="material-icons glyph-collapse-code" style="padding-right: 10px;">code</i><span class="title-collapse-code">Hide Code</span></a></li></ul></div><div class="input"><div class="prompt input_prompt"></div><div class="inner_cell"><div class="ctb_hideshow"><div class="celltoolbar"></div></div><div class="input_area"><div class="CodeMirror cm-s-ipython"><div style="overflow: hidden; position: relative; width: 3px; height: 0px; top: 69px; left: 175px;"><textarea autocorrect="off" autocapitalize="off" spellcheck="false" tabindex="0" style="position: absolute; padding: 0px; width: 1000px; height: 1em; outline: none;"></textarea></div><div class="CodeMirror-vscrollbar" cm-not-content="true" style="min-width: 18px;"><div style="min-width: 1px; height: 0px;"></div></div><div class="CodeMirror-hscrollbar" cm-not-content="true" style=""><div style="height: 100%; min-height: 1px; width: 0px;"></div></div><div class="CodeMirror-scrollbar-filler" cm-not-content="true"></div><div class="CodeMirror-gutter-filler" cm-not-content="true"></div><div class="CodeMirror-scroll" tabindex="-1" draggable="false"><div class="CodeMirror-sizer" style="margin-left: 34px; min-width: 1182px; margin-bottom: 0px; border-right-width: 30px; min-height: 159px; padding-right: 0px; padding-bottom: 0px;"><div style="position: relative; top: 0px;"><div class="CodeMirror-lines"><div style="position: relative; outline: none;"><div class="CodeMirror-measure"><div class="CodeMirror-linenumber CodeMirror-gutter-elt"><div>7</div></div></div><div class="CodeMirror-measure"></div><div style="position: relative; z-index: 1;"></div><div class="CodeMirror-cursors" style=""><div class="CodeMirror-cursor" style="left: 135px; top: 63px; height: 21px;">&nbsp;</div></div><div class="CodeMirror-code" style=""><div style="position: relative;"><div class="CodeMirror-gutter-wrapper" style="left: -34px;"><div class="CodeMirror-linenumber CodeMirror-gutter-elt" style="left: 0px; width: 21px;">1</div></div><pre class=" CodeMirror-line "><span style="padding-right: 0.1px;"><span class="cm-variable">yocuda_luxury_score</span> = <span class="cm-variable">base_data</span>.<span class="cm-variable">join</span>(<span class="cm-variable">user_level_luxury_score</span>.<span class="cm-variable">withColumn</span>(<span class="cm-string">'luxury_ind'</span>, <span class="cm-variable">when</span>(<span class="cm-variable">col</span>(<span class="cm-string">'luxury_score'</span>) <span class="cm-operator">&gt;</span> <span class="cm-number">4</span>,<span class="cm-string">"lux_shopper"</span>) <span class="cm-error">\</span></span></pre></div><div style="position: relative;"><div class="CodeMirror-gutter-wrapper" style="left: -34px;"><div class="CodeMirror-linenumber CodeMirror-gutter-elt" style="left: 0px; width: 21px;">2</div></div><pre class=" CodeMirror-line "><span style="padding-right: 0.1px;">                    .<span class="cm-variable">otherwise</span>(<span class="cm-string">"non_lux_shopper"</span>)).<span class="cm-variable">select</span>(<span class="cm-string">'identifier'</span>,<span class="cm-string">'category'</span>,<span class="cm-string">'luxury_score'</span>,<span class="cm-string">'luxury_ind'</span>), <span class="cm-error">\</span></span></pre></div><div style="position: relative;"><div class="CodeMirror-gutter-wrapper" style="left: -34px;"><div class="CodeMirror-linenumber CodeMirror-gutter-elt" style="left: 0px; width: 21px;">3</div></div><pre class=" CodeMirror-line "><span style="padding-right: 0.1px;">                                     [<span class="cm-string">'identifier'</span>,<span class="cm-string">'category'</span>], <span class="cm-string">'left'</span>)<span class="cm-error">\</span></span></pre></div><div style="position: relative;"><div class="CodeMirror-gutter-wrapper" style="left: -34px;"><div class="CodeMirror-linenumber CodeMirror-gutter-elt" style="left: 0px; width: 21px;">4</div></div><pre class=" CodeMirror-line "><span style="padding-right: 0.1px;">                    .<span class="cm-variable">select</span>(<span class="cm-string">'identifier'</span>,<span class="cm-string">'brand'</span>, <span class="cm-string">'category'</span>,<span class="cm-string">'transaction_amount'</span>, <span class="cm-error">\</span></span></pre></div><div style="position: relative;"><div class="CodeMirror-gutter-wrapper" style="left: -34px;"><div class="CodeMirror-linenumber CodeMirror-gutter-elt" style="left: 0px; width: 21px;">5</div></div><pre class=" CodeMirror-line "><span style="padding-right: 0.1px;">                            <span class="cm-string">'product_id'</span>, <span class="cm-string">'item_total'</span>,<span class="cm-string">'item_discounts_amount'</span>, <span class="cm-string">'timestamp'</span>,<span class="cm-error">\</span></span></pre></div><div style="position: relative;"><div class="CodeMirror-gutter-wrapper" style="left: -34px;"><div class="CodeMirror-linenumber CodeMirror-gutter-elt" style="left: 0px; width: 21px;">6</div></div><pre class=" CodeMirror-line "><span style="padding-right: 0.1px;">                            <span class="cm-string">'quantity'</span>, <span class="cm-string">'transaction_id'</span>,<span class="cm-string">'item_unit_price'</span>,<span class="cm-string">'luxury_score'</span>, <span class="cm-string">'luxury_ind'</span>) </span></pre></div><div style="position: relative;"><div class="CodeMirror-gutter-wrapper" style="left: -34px;"><div class="CodeMirror-linenumber CodeMirror-gutter-elt" style="left: 0px; width: 21px;">7</div></div><pre class=" CodeMirror-line "><span style="padding-right: 0.1px;"><span class="cm-variable">yocuda_luxury_score</span>.<span class="cm-variable">show</span>(<span class="cm-number">5</span>)</span></pre></div></div></div></div></div></div><div style="position: absolute; height: 30px; width: 1px; top: 159px;"></div><div class="CodeMirror-gutters" style="height: 189px;"><div class="CodeMirror-gutter CodeMirror-linenumbers" style="width: 33px;"></div></div></div></div></div></div></div><div class="widget-area" style="display: none;"><div class="prompt"><button class="close">�</button></div><div class="widget-subarea jp-Output-result"></div></div><div class="output_wrapper"><div class="out_prompt_overlay prompt" title="click to scroll output; double click to hide" style="display: block;"></div><div class="output" style=""><div class="output_area"><div class="prompt"></div><div class="output_subarea output_text output_stream output_stdout"><pre>+--------------------+------------+------------------+------------------+----------+----------+---------------------+--------------------+--------+--------------------+---------------+------------------+---------------+
|          identifier|       brand|          category|transaction_amount|product_id|item_total|item_discounts_amount|           timestamp|quantity|      transaction_id|item_unit_price|      luxury_score|     luxury_ind|
+--------------------+------------+------------------+------------------+----------+----------+---------------------+--------------------+--------+--------------------+---------------+------------------+---------------+
|"mike""camilleri@...|Other Brands|Sports &amp; Outdoors |             99.99|  620/9537|     99.99|                 null|2017-03-23 19:35:...|       1|20170323 / 4120 /...|          99.99|               4.0|non_lux_shopper|
|+holliekelly93@ho...|Other Brands|      Electronics |             51.98|  503/3498|     29.99|                 null|2017-03-23 16:31:...|       1|20170323 / 671 / ...|          51.98|               4.0|non_lux_shopper|
|,att.d.drage@gmai...|        bush|   Home &amp; Kitchen |             39.99|  611/1577|     39.99|                 null|2017-11-17 09:14:...|       1|20171117 / 366 / ...|          39.99|               5.0|    lux_shopper|
|     -@hotmail.co.uk|      hasbro|     Toys &amp; Games |             19.99|  563/8879|     19.99|                 null|2016-12-21 18:37:...|       1|20161221 / 885 / ...|          19.99|               4.0|non_lux_shopper|
|          .@mail.com|      amazon|      Electronics |             39.95|  684/4662|     39.95|                 null|2017-05-08 18:02:...|       1|20170508 / 824 / ...|          39.95|3.8421052631578947|non_lux_shopper|
+--------------------+------------+------------------+------------------+----------+----------+---------------------+--------------------+--------+--------------------+---------------+------------------+---------------+
only showing top 5 rows

</pre></div></div></div><div class="btn btn-default output_collapsed" title="click to expand output" style="display: none;">. . .</div></div><div class="cellPlaceholder btn btn-default" title="Uncollapse cell"></div></div><div class="cell text_cell rendered unselected" tabindex="2"><div class="dropdown minitoolbar"><button class="btn btn-default dropdown-toggle minitoolbar-toggle" data-toggle="dropdown"><i class="material-icons">menu</i></button><ul class="dropdown-menu"><li><a href="http://localhost:8084/notebooks/UK_Shopper_Attributes/Luxury_Indicator.ipynb#"><i class="material-icons glyph-run-cell" style="padding-right: 10px;">play_arrow</i><span class="title-run-cell">Run</span></a></li><li><a href="http://localhost:8084/notebooks/UK_Shopper_Attributes/Luxury_Indicator.ipynb#"><i class="material-icons glyph-clear-cell" style="padding-right: 10px;">check_box_outline_blank</i><span class="title-clear-cell">Clear</span></a></li><li><a href="http://localhost:8084/notebooks/UK_Shopper_Attributes/Luxury_Indicator.ipynb#"><i class="material-icons glyph-collapse-cell" style="padding-right: 10px;">vertical_align_top</i><span class="title-collapse-cell">Collapse</span></a></li><li><a href="http://localhost:8084/notebooks/UK_Shopper_Attributes/Luxury_Indicator.ipynb#"><i class="material-icons glyph-collapse-code" style="padding-right: 10px;">code</i><span class="title-collapse-code">Hide Code</span></a></li></ul></div><div class="prompt input_prompt"></div><div class="inner_cell"><div class="ctb_hideshow"><div class="celltoolbar"></div></div><div class="input_area"><div class="CodeMirror cm-s-default CodeMirror-wrap"><div style="overflow: hidden; position: relative; width: 3px; height: 0px; top: 6px; left: 42px;"><textarea autocorrect="off" autocapitalize="off" spellcheck="false" tabindex="0" style="position: absolute; padding: 0px; width: 1000px; height: 1em; outline: none;"></textarea></div><div class="CodeMirror-vscrollbar" cm-not-content="true" style="min-width: 18px;"><div style="min-width: 1px; height: 0px;"></div></div><div class="CodeMirror-hscrollbar" cm-not-content="true" style=""><div style="height: 100%; min-height: 1px; width: 0px;"></div></div><div class="CodeMirror-scrollbar-filler" cm-not-content="true"></div><div class="CodeMirror-gutter-filler" cm-not-content="true"></div><div class="CodeMirror-scroll" tabindex="-1"><div class="CodeMirror-sizer" style="margin-left: 0px; margin-bottom: 0px; border-right-width: 30px; min-height: 33px; padding-right: 0px; padding-bottom: 0px;"><div style="position: relative; top: 0px;"><div class="CodeMirror-lines"><div style="position: relative; outline: none;"><div class="CodeMirror-measure"><pre><span>xxxxxxxxxx</span></pre></div><div class="CodeMirror-measure"></div><div style="position: relative; z-index: 1;"></div><div class="CodeMirror-cursors" style=""><div class="CodeMirror-cursor" style="left: 36px; top: 0px; height: 21px;">&nbsp;</div></div><div class="CodeMirror-code"><pre class=" CodeMirror-line "><span style="padding-right: 0.1px;"><span class="cm-header cm-header-4">#### Distribution of luxury score</span></span></pre></div></div></div></div></div><div style="position: absolute; height: 30px; width: 1px; top: 33px;"></div><div class="CodeMirror-gutters" style="display: none; height: 63px;"></div></div></div></div><div class="text_cell_render rendered_html" tabindex="-1"><h4 id="Distribution-of-luxury-score">Distribution of luxury score<a class="anchor-link" href="http://localhost:8084/notebooks/UK_Shopper_Attributes/Luxury_Indicator.ipynb#Distribution-of-luxury-score">�</a></h4>
</div></div><div class="cellPlaceholder btn btn-default" title="Uncollapse cell"></div></div><div class="cell code_cell rendered session completed unselected" tabindex="2"><div class="dropdown minitoolbar"><button class="btn btn-default dropdown-toggle minitoolbar-toggle" data-toggle="dropdown"><i class="material-icons">menu</i></button><ul class="dropdown-menu"><li><a href="http://localhost:8084/notebooks/UK_Shopper_Attributes/Luxury_Indicator.ipynb#"><i class="material-icons glyph-run-cell" style="padding-right: 10px;">play_arrow</i><span class="title-run-cell">Run</span></a></li><li><a href="http://localhost:8084/notebooks/UK_Shopper_Attributes/Luxury_Indicator.ipynb#"><i class="material-icons glyph-clear-cell" style="padding-right: 10px;">check_box_outline_blank</i><span class="title-clear-cell">Clear</span></a></li><li><a href="http://localhost:8084/notebooks/UK_Shopper_Attributes/Luxury_Indicator.ipynb#"><i class="material-icons glyph-collapse-cell" style="padding-right: 10px;">vertical_align_top</i><span class="title-collapse-cell">Collapse</span></a></li><li><a href="http://localhost:8084/notebooks/UK_Shopper_Attributes/Luxury_Indicator.ipynb#"><i class="material-icons glyph-collapse-code" style="padding-right: 10px;">code</i><span class="title-collapse-code">Hide Code</span></a></li></ul></div><div class="input"><div class="prompt input_prompt"></div><div class="inner_cell"><div class="ctb_hideshow"><div class="celltoolbar"></div></div><div class="input_area"><div class="CodeMirror cm-s-ipython"><div style="overflow: hidden; position: relative; width: 3px; height: 0px; top: 6px; left: 852px;"><textarea autocorrect="off" autocapitalize="off" spellcheck="false" tabindex="0" style="position: absolute; padding: 0px; width: 1000px; height: 1em; outline: none;"></textarea></div><div class="CodeMirror-vscrollbar" cm-not-content="true" style="min-width: 18px;"><div style="min-width: 1px; height: 0px;"></div></div><div class="CodeMirror-hscrollbar" cm-not-content="true" style="display: block; right: 0px; left: 34px;"><div style="height: 100%; min-height: 1px; width: 1533px;"></div></div><div class="CodeMirror-scrollbar-filler" cm-not-content="true"></div><div class="CodeMirror-gutter-filler" cm-not-content="true"></div><div class="CodeMirror-scroll" tabindex="-1" draggable="false"><div class="CodeMirror-sizer" style="margin-left: 34px; min-width: 1533px; margin-bottom: 0px; border-right-width: 30px; min-height: 138px; padding-right: 0px; padding-bottom: 0px;"><div style="position: relative; top: 0px;"><div class="CodeMirror-lines"><div style="position: relative; outline: none;"><div class="CodeMirror-measure"><pre>x</pre></div><div class="CodeMirror-measure"></div><div style="position: relative; z-index: 1;"><div class="CodeMirror-selected" style="position: absolute; left: 999px; top: 0px; width: 36px; height: 21px;"></div></div><div class="CodeMirror-cursors" style="visibility: hidden;"></div><div class="CodeMirror-code" style=""><div style="position: relative;"><div class="CodeMirror-gutter-wrapper" style="left: 189px;"><div class="CodeMirror-linenumber CodeMirror-gutter-elt" style="left: 0px; width: 21px;">1</div></div><pre class=" CodeMirror-line "><span style="padding-right: 0.1px;"><span class="cm-variable">sum1</span> =<span class="cm-variable">yocuda_luxury_score</span>.<span class="cm-variable">withColumn</span>(<span class="cm-string">'luxury_score'</span>, <span class="cm-variable">floor</span>(<span class="cm-string">'luxury_score'</span>)).<span class="cm-variable">groupBy</span>(<span class="cm-string">"luxury_score"</span>, <span class="cm-string">"category"</span>).<span class="cm-variable">agg</span>(<span class="cm-variable">countDistinct</span>(<span class="cm-string">'identifier'</span>).<span class="cm-variable">alias</span>(<span class="cm-string">'unique_shoppers'</span>),<span class="cm-error">\</span></span></pre></div><div style="position: relative;"><div class="CodeMirror-gutter-wrapper" style="left: 189px;"><div class="CodeMirror-linenumber CodeMirror-gutter-elt" style="left: 0px; width: 21px;">2</div></div><pre class=" CodeMirror-line "><span style="padding-right: 0.1px;">                                                        <span class="cm-builtin">sum</span>(<span class="cm-string">'item_total'</span>).<span class="cm-variable">alias</span>(<span class="cm-string">'spend'</span>),<span class="cm-error">\</span></span></pre></div><div style="position: relative;"><div class="CodeMirror-gutter-wrapper" style="left: 189px;"><div class="CodeMirror-linenumber CodeMirror-gutter-elt" style="left: 0px; width: 21px;">3</div></div><pre class=" CodeMirror-line "><span style="padding-right: 0.1px;">                                                       <span class="cm-variable">countDistinct</span>(<span class="cm-string">'transaction_id'</span>).<span class="cm-variable">alias</span>(<span class="cm-string">'num_of_txns'</span>),<span class="cm-error">\</span></span></pre></div><div style="position: relative;"><div class="CodeMirror-gutter-wrapper" style="left: 189px;"><div class="CodeMirror-linenumber CodeMirror-gutter-elt" style="left: 0px; width: 21px;">4</div></div><pre class=" CodeMirror-line "><span style="padding-right: 0.1px;">                                                     <span class="cm-builtin">sum</span>(<span class="cm-string">'quantity'</span>).<span class="cm-variable">alias</span>(<span class="cm-string">'quantity'</span>))<span class="cm-error">\</span></span></pre></div><div style="position: relative;"><div class="CodeMirror-gutter-wrapper" style="left: 189px;"><div class="CodeMirror-linenumber CodeMirror-gutter-elt" style="left: 0px; width: 21px;">5</div></div><pre class=" CodeMirror-line "><span style="padding-right: 0.1px;">                                                     .<span class="cm-variable">withColumn</span>(<span class="cm-string">'avg_price_purchased_prods'</span>,<span class="cm-variable">col</span>(<span class="cm-string">'spend'</span>)<span class="cm-operator">/</span><span class="cm-variable">col</span>(<span class="cm-string">'quantity'</span>))</span></pre></div><div style="position: relative;"><div class="CodeMirror-gutter-wrapper" style="left: 189px;"><div class="CodeMirror-linenumber CodeMirror-gutter-elt" style="left: 0px; width: 21px;">6</div></div><pre class=" CodeMirror-line "><span style="padding-right: 0.1px;"><span class="cm-variable">sum1</span>.<span class="cm-variable">show</span>(<span class="cm-number">6</span>)</span></pre></div><div style="position: relative; display: none;"><div class="CodeMirror-gutter-wrapper" style="left: -34px;"><div class="CodeMirror-linenumber CodeMirror-gutter-elt" style="left: 0px; width: 21px;">4</div></div><pre class=" CodeMirror-line "><span style="padding-right: 0.1px;">                                                     <span class="cm-builtin">sum</span>(<span class="cm-string">'quantity'</span>).<span class="cm-variable">alias</span>(<span class="cm-string">'quantity'</span>))<span class="cm-error">\</span></span></pre></div></div></div></div></div></div><div style="position: absolute; height: 30px; width: 1px; top: 138px;"></div><div class="CodeMirror-gutters" style="height: 168px; left: 223px;"><div class="CodeMirror-gutter CodeMirror-linenumbers" style="width: 33px;"></div></div></div></div></div></div></div><div class="widget-area" style="display: none;"><div class="prompt"><button class="close">�</button></div><div class="widget-subarea jp-Output-result"></div></div><div class="output_wrapper"><div class="out_prompt_overlay prompt" title="click to scroll output; double click to hide" style="display: block;"></div><div class="output" style=""><div class="output_area"><div class="prompt"></div><div class="output_subarea output_text output_stream output_stdout"><pre>+------------+--------------------+---------------+--------------------+-----------+--------+-------------------------+
|luxury_score|            category|unique_shoppers|               spend|num_of_txns|quantity|avg_price_purchased_prods|
+------------+--------------------+---------------+--------------------+-----------+--------+-------------------------+
|           3|          Furniture |          14530|   808811.7499999984|      17342| 20745.0|        38.98827428295967|
|           3|Health &amp; Personal...|         475710|1.5072848660000069E7|     559985|649588.0|       23.203705517959182|
|           5|           Software |           5673|   319696.6500000002|       5747|  5792.0|       55.196244820442026|
|           3|        Electronics |         219516|   7103918.140000129|     261553|329833.0|       21.537924161621575|
|           3|      Baby Products |         273558|1.0463161069999909E7|     300833|335417.0|       31.194486475044226|
|           1|  Sports &amp; Outdoors |           2119|   34909.62000000001|       2179|  2429.0|       14.372013174145742|
+------------+--------------------+---------------+--------------------+-----------+--------+-------------------------+
only showing top 6 rows

</pre></div></div></div><div class="btn btn-default output_collapsed" title="click to expand output" style="display: none;">. . .</div></div><div class="cellPlaceholder btn btn-default" title="Uncollapse cell"></div></div><div class="cell code_cell rendered session completed unselected" tabindex="2"><div class="dropdown minitoolbar"><button class="btn btn-default dropdown-toggle minitoolbar-toggle" data-toggle="dropdown"><i class="material-icons">menu</i></button><ul class="dropdown-menu"><li><a href="http://localhost:8084/notebooks/UK_Shopper_Attributes/Luxury_Indicator.ipynb#"><i class="material-icons glyph-run-cell" style="padding-right: 10px;">play_arrow</i><span class="title-run-cell">Run</span></a></li><li><a href="http://localhost:8084/notebooks/UK_Shopper_Attributes/Luxury_Indicator.ipynb#"><i class="material-icons glyph-clear-cell" style="padding-right: 10px;">check_box_outline_blank</i><span class="title-clear-cell">Clear</span></a></li><li><a href="http://localhost:8084/notebooks/UK_Shopper_Attributes/Luxury_Indicator.ipynb#"><i class="material-icons glyph-collapse-cell" style="padding-right: 10px;">vertical_align_top</i><span class="title-collapse-cell">Collapse</span></a></li><li><a href="http://localhost:8084/notebooks/UK_Shopper_Attributes/Luxury_Indicator.ipynb#"><i class="material-icons glyph-collapse-code" style="padding-right: 10px;">code</i><span class="title-collapse-code">Hide Code</span></a></li></ul></div><div class="input"><div class="prompt input_prompt"></div><div class="inner_cell"><div class="ctb_hideshow"><div class="celltoolbar"></div></div><div class="input_area"><div class="CodeMirror cm-s-ipython"><div style="overflow: hidden; position: relative; width: 3px; height: 0px; top: 6px; left: 607px;"><textarea autocorrect="off" autocapitalize="off" spellcheck="false" tabindex="0" style="position: absolute; padding: 0px; width: 1000px; height: 1em; outline: none;"></textarea></div><div class="CodeMirror-vscrollbar" cm-not-content="true" style="min-width: 18px;"><div style="min-width: 1px; height: 0px;"></div></div><div class="CodeMirror-hscrollbar" cm-not-content="true" style=""><div style="height: 100%; min-height: 1px; width: 0px;"></div></div><div class="CodeMirror-scrollbar-filler" cm-not-content="true"></div><div class="CodeMirror-gutter-filler" cm-not-content="true"></div><div class="CodeMirror-scroll" tabindex="-1" draggable="false"><div class="CodeMirror-sizer" style="margin-left: 34px; min-width: 1047px; margin-bottom: 0px; border-right-width: 30px; min-height: 33px; padding-right: 0px; padding-bottom: 0px;"><div style="position: relative; top: 0px;"><div class="CodeMirror-lines"><div style="position: relative; outline: none;"><div class="CodeMirror-measure"><div class="CodeMirror-linenumber CodeMirror-gutter-elt"><div>1</div></div></div><div class="CodeMirror-measure"></div><div style="position: relative; z-index: 1;"></div><div class="CodeMirror-cursors" style=""><div class="CodeMirror-cursor" style="left: 567px; top: 0px; height: 21px;">&nbsp;</div></div><div class="CodeMirror-code"><div style="position: relative;"><div class="CodeMirror-gutter-wrapper" style="left: -34px;"><div class="CodeMirror-linenumber CodeMirror-gutter-elt" style="left: 0px; width: 21px;">1</div></div><pre class=" CodeMirror-line "><span style="padding-right: 0.1px;">(<span class="cm-variable">sum1</span>.<span class="cm-variable">coalesce</span>(<span class="cm-number">1</span>).<span class="cm-variable">write</span>.<span class="cm-variable">option</span>(<span class="cm-string">"header"</span>, <span class="cm-string">"true"</span>).<span class="cm-variable">csv</span>(<span class="cm-string">"gs://westfield-tom/datalab/luxury_ind_category_distribution"</span>))</span></pre></div></div></div></div></div></div><div style="position: absolute; height: 30px; width: 1px; top: 33px;"></div><div class="CodeMirror-gutters" style="height: 63px;"><div class="CodeMirror-gutter CodeMirror-linenumbers" style="width: 33px;"></div></div></div></div></div></div></div><div class="widget-area" style="display: none;"><div class="prompt"><button class="close">�</button></div><div class="widget-subarea jp-Output-result"></div></div><div class="output_wrapper"><div class="out_prompt_overlay prompt" title="click to scroll output; double click to hide" style="display: none;"></div><div class="output" style=""></div><div class="btn btn-default output_collapsed" title="click to expand output" style="display: none;">. . .</div></div><div class="cellPlaceholder btn btn-default" title="Uncollapse cell"></div></div><div class="cell text_cell rendered unselected" tabindex="2"><div class="prompt input_prompt"></div><div class="inner_cell"><div class="ctb_hideshow"><div class="celltoolbar"></div></div><div class="input_area"><div class="CodeMirror cm-s-default CodeMirror-wrap"><div style="overflow: hidden; position: relative; width: 3px; height: 0px; top: 6px; left: 6px;"><textarea autocorrect="off" autocapitalize="off" spellcheck="false" tabindex="0" style="position: absolute; padding: 0px; width: 1000px; height: 1em; outline: none;"></textarea></div><div class="CodeMirror-vscrollbar" cm-not-content="true" style="bottom: 0px; min-width: 18px;"><div style="min-width: 1px; height: 0px;"></div></div><div class="CodeMirror-hscrollbar" cm-not-content="true" style=""><div style="height: 100%; min-height: 1px; width: 0px;"></div></div><div class="CodeMirror-scrollbar-filler" cm-not-content="true"></div><div class="CodeMirror-gutter-filler" cm-not-content="true"></div><div class="CodeMirror-scroll" tabindex="-1"><div class="CodeMirror-sizer" style="margin-left: 0px; padding-right: 0px; padding-bottom: 0px; margin-bottom: 0px; border-right-width: 30px; min-height: 33px;"><div style="position: relative; top: 0px;"><div class="CodeMirror-lines"><div style="position: relative; outline: none;"><div class="CodeMirror-measure"></div><div class="CodeMirror-measure"></div><div style="position: relative; z-index: 1;"></div><div class="CodeMirror-cursors"><div class="CodeMirror-cursor" style="left: 0px; top: 0px; height: 21px;">&nbsp;</div></div><div class="CodeMirror-code"><pre class=" CodeMirror-line "><span style="padding-right: 0.1px;"><span class="cm-header cm-header-4">#### Exporting category wise user segmentation data file (csv format) into GCS</span></span></pre></div></div></div></div></div><div style="position: absolute; height: 30px; width: 1px; top: 33px;"></div><div class="CodeMirror-gutters" style="display: none; height: 63px;"></div></div></div></div><div class="text_cell_render rendered_html" tabindex="-1"><h4 id="Exporting-category-wise-user-segmentation-data-file-(csv-format)-into-GCS">Exporting category wise user segmentation data file (csv format) into GCS<a class="anchor-link" href="http://localhost:8084/notebooks/UK_Shopper_Attributes/Luxury_Indicator.ipynb#Exporting-category-wise-user-segmentation-data-file-(csv-format)-into-GCS">�</a></h4>
</div></div></div><div class="cell code_cell rendered completed unselected" tabindex="2"><div class="dropdown minitoolbar"><button class="btn btn-default dropdown-toggle minitoolbar-toggle" data-toggle="dropdown"><i class="material-icons">menu</i></button><ul class="dropdown-menu"><li><a href="http://localhost:8084/notebooks/UK_Shopper_Attributes/Luxury_Indicator.ipynb#"><i class="material-icons glyph-run-cell" style="padding-right: 10px;">play_arrow</i><span class="title-run-cell">Run</span></a></li><li><a href="http://localhost:8084/notebooks/UK_Shopper_Attributes/Luxury_Indicator.ipynb#"><i class="material-icons glyph-clear-cell" style="padding-right: 10px;">check_box_outline_blank</i><span class="title-clear-cell">Clear</span></a></li><li><a href="http://localhost:8084/notebooks/UK_Shopper_Attributes/Luxury_Indicator.ipynb#"><i class="material-icons glyph-collapse-cell" style="padding-right: 10px;">vertical_align_top</i><span class="title-collapse-cell">Collapse</span></a></li><li><a href="http://localhost:8084/notebooks/UK_Shopper_Attributes/Luxury_Indicator.ipynb#"><i class="material-icons glyph-collapse-code" style="padding-right: 10px;">code</i><span class="title-collapse-code">Hide Code</span></a></li></ul></div><div class="input"><div class="prompt input_prompt"></div><div class="inner_cell"><div class="ctb_hideshow"><div class="celltoolbar"></div></div><div class="input_area"><div class="CodeMirror cm-s-ipython"><div style="overflow: hidden; position: relative; width: 3px; height: 0px; top: 6px; left: 904px;"><textarea autocorrect="off" autocapitalize="off" spellcheck="false" tabindex="0" style="position: absolute; padding: 0px; width: 1000px; height: 1em; outline: none;"></textarea></div><div class="CodeMirror-vscrollbar" cm-not-content="true" style="min-width: 18px;"><div style="min-width: 1px; height: 0px;"></div></div><div class="CodeMirror-hscrollbar" cm-not-content="true" style="right: 0px; left: 34px;"><div style="height: 100%; min-height: 1px; width: 0px;"></div></div><div class="CodeMirror-scrollbar-filler" cm-not-content="true"></div><div class="CodeMirror-gutter-filler" cm-not-content="true"></div><div class="CodeMirror-scroll" tabindex="-1"><div class="CodeMirror-sizer" style="margin-left: 34px; min-width: 1236px; margin-bottom: 0px; border-right-width: 30px; min-height: 33px; padding-right: 0px; padding-bottom: 0px;"><div style="position: relative; top: 0px;"><div class="CodeMirror-lines"><div style="position: relative; outline: none;"><div class="CodeMirror-measure"><pre>x</pre></div><div class="CodeMirror-measure"></div><div style="position: relative; z-index: 1;"></div><div class="CodeMirror-cursors" style="visibility: hidden;"><div class="CodeMirror-cursor" style="left: 864px; top: 0px; height: 21px;">&nbsp;</div></div><div class="CodeMirror-code"><div style="position: relative;"><div class="CodeMirror-gutter-wrapper" style="left: -34px;"><div class="CodeMirror-linenumber CodeMirror-gutter-elt" style="left: 0px; width: 21px;">1</div></div><pre class=" CodeMirror-line "><span style="padding-right: 0.1px;">(<span class="cm-variable">yocuda_luxury_score</span>.<span class="cm-variable">coalesce</span>(<span class="cm-number">1</span>).<span class="cm-variable">write</span>.<span class="cm-variable">option</span>(<span class="cm-string">"header"</span>, <span class="cm-string">"true"</span>).<span class="cm-variable">csv</span>(<span class="cm-string">"gs://westfield-tom/datalab/yocuda_category_user_segmentation_data"</span>))</span></pre></div><div style="position: relative; display: none;"><div class="CodeMirror-gutter-wrapper" style="left: -34px;"><div class="CodeMirror-linenumber CodeMirror-gutter-elt" style="left: 0px; width: 21px;">1</div></div><pre class=" CodeMirror-line "><span style="padding-right: 0.1px;">(<span class="cm-variable">yocuda_luxury_score</span>.<span class="cm-variable">coalesce</span>(<span class="cm-number">1</span>).<span class="cm-variable">write</span>.<span class="cm-variable">option</span>(<span class="cm-string">"header"</span>, <span class="cm-string">"true"</span>).<span class="cm-variable">csv</span>(<span class="cm-string">"gs://ds-mlengine/praneeth/yocuda_luxury_analysis_files/yocuda_category_user_segmentation_data"</span>))</span></pre></div></div></div></div></div></div><div style="position: absolute; height: 30px; width: 1px; top: 33px;"></div><div class="CodeMirror-gutters" style="height: 63px;"><div class="CodeMirror-gutter CodeMirror-linenumbers" style="width: 33px;"></div></div></div></div></div></div></div><div class="widget-area" style="display: none;"><div class="prompt"><button class="close">�</button></div><div class="widget-subarea jp-Output-result"></div></div><div class="output_wrapper"><div class="out_prompt_overlay prompt" title="click to expand output; double click to hide output" style="display: none;"></div><div class="output" style="display: none;"></div><div class="btn btn-default output_collapsed" title="click to expand output" style="display: none;">. . .</div></div><div class="cellPlaceholder btn btn-default" title="Uncollapse cell"></div></div><div class="cell text_cell unselected rendered" tabindex="2"><div class="prompt input_prompt"></div><div class="inner_cell"><div class="ctb_hideshow"><div class="celltoolbar"></div></div><div class="input_area"><div class="CodeMirror cm-s-default CodeMirror-wrap"><div style="overflow: hidden; position: relative; width: 3px; height: 0px; top: 6px; left: 6px;"><textarea autocorrect="off" autocapitalize="off" spellcheck="false" tabindex="0" style="position: absolute; padding: 0px; width: 1000px; height: 1em; outline: none;"></textarea></div><div class="CodeMirror-vscrollbar" cm-not-content="true" style="bottom: 0px; min-width: 18px;"><div style="min-width: 1px; height: 0px;"></div></div><div class="CodeMirror-hscrollbar" cm-not-content="true" style=""><div style="height: 100%; min-height: 1px; width: 0px;"></div></div><div class="CodeMirror-scrollbar-filler" cm-not-content="true"></div><div class="CodeMirror-gutter-filler" cm-not-content="true"></div><div class="CodeMirror-scroll" tabindex="-1"><div class="CodeMirror-sizer" style="margin-left: 0px; padding-right: 0px; padding-bottom: 0px; margin-bottom: 0px; border-right-width: 30px; min-height: 33px;"><div style="position: relative; top: 0px;"><div class="CodeMirror-lines"><div style="position: relative; outline: none;"><div class="CodeMirror-measure"></div><div class="CodeMirror-measure"></div><div style="position: relative; z-index: 1;"></div><div class="CodeMirror-cursors"><div class="CodeMirror-cursor" style="left: 0px; top: 0px; height: 21px;">&nbsp;</div></div><div class="CodeMirror-code"><pre class=" CodeMirror-line "><span style="padding-right: 0.1px;"><span class="cm-header cm-header-4">#### Generic metrics on a category cross luxury indicator level</span></span></pre></div></div></div></div></div><div style="position: absolute; height: 30px; width: 1px; top: 33px;"></div><div class="CodeMirror-gutters" style="display: none; height: 63px;"></div></div></div></div><div class="text_cell_render rendered_html" tabindex="-1"><h4 id="Generic-metrics-on-a-category-cross-luxury-indicator-level">Generic metrics on a category cross luxury indicator level<a class="anchor-link" href="http://localhost:8084/notebooks/UK_Shopper_Attributes/Luxury_Indicator.ipynb#Generic-metrics-on-a-category-cross-luxury-indicator-level">�</a></h4>
</div></div></div><div class="cell code_cell rendered session completed unselected" tabindex="2"><div class="dropdown minitoolbar"><button class="btn btn-default dropdown-toggle minitoolbar-toggle" data-toggle="dropdown"><i class="material-icons">menu</i></button><ul class="dropdown-menu"><li><a href="http://localhost:8084/notebooks/UK_Shopper_Attributes/Luxury_Indicator.ipynb#"><i class="material-icons glyph-run-cell" style="padding-right: 10px;">play_arrow</i><span class="title-run-cell">Run</span></a></li><li><a href="http://localhost:8084/notebooks/UK_Shopper_Attributes/Luxury_Indicator.ipynb#"><i class="material-icons glyph-clear-cell" style="padding-right: 10px;">check_box_outline_blank</i><span class="title-clear-cell">Clear</span></a></li><li><a href="http://localhost:8084/notebooks/UK_Shopper_Attributes/Luxury_Indicator.ipynb#"><i class="material-icons glyph-collapse-cell" style="padding-right: 10px;">vertical_align_top</i><span class="title-collapse-cell">Collapse</span></a></li><li><a href="http://localhost:8084/notebooks/UK_Shopper_Attributes/Luxury_Indicator.ipynb#"><i class="material-icons glyph-collapse-code" style="padding-right: 10px;">code</i><span class="title-collapse-code">Hide Code</span></a></li></ul></div><div class="input"><div class="prompt input_prompt"></div><div class="inner_cell"><div class="ctb_hideshow"><div class="celltoolbar"></div></div><div class="input_area"><div class="CodeMirror cm-s-ipython"><div style="overflow: hidden; position: relative; width: 3px; height: 0px; top: 69px; left: 697px;"><textarea autocorrect="off" autocapitalize="off" spellcheck="false" tabindex="0" style="position: absolute; padding: 0px; width: 1000px; height: 1em; outline: none;"></textarea></div><div class="CodeMirror-vscrollbar" cm-not-content="true" style="min-width: 18px;"><div style="min-width: 1px; height: 0px;"></div></div><div class="CodeMirror-hscrollbar" cm-not-content="true" style=""><div style="height: 100%; min-height: 1px; width: 0px;"></div></div><div class="CodeMirror-scrollbar-filler" cm-not-content="true"></div><div class="CodeMirror-gutter-filler" cm-not-content="true"></div><div class="CodeMirror-scroll" tabindex="-1" draggable="false"><div class="CodeMirror-sizer" style="margin-left: 34px; min-width: 1101px; margin-bottom: 0px; border-right-width: 30px; min-height: 138px; padding-right: 0px; padding-bottom: 0px;"><div style="position: relative; top: 0px;"><div class="CodeMirror-lines"><div style="position: relative; outline: none;"><div class="CodeMirror-measure"><div class="CodeMirror-linenumber CodeMirror-gutter-elt"><div>6</div></div></div><div class="CodeMirror-measure"></div><div style="position: relative; z-index: 1;"></div><div class="CodeMirror-cursors" style=""><div class="CodeMirror-cursor" style="left: 657px; top: 63px; height: 21px;">&nbsp;</div></div><div class="CodeMirror-code" style=""><div style="position: relative;"><div class="CodeMirror-gutter-wrapper" style="left: -34px;"><div class="CodeMirror-linenumber CodeMirror-gutter-elt" style="left: 0px; width: 21px;">1</div></div><pre class=" CodeMirror-line "><span style="padding-right: 0.1px;"><span class="cm-variable">df</span> =<span class="cm-variable">yocuda_luxury_score</span>.<span class="cm-variable">groupBy</span>(<span class="cm-string">"category"</span>,<span class="cm-string">"luxury_ind"</span>).<span class="cm-variable">agg</span>(<span class="cm-variable">countDistinct</span>(<span class="cm-string">'identifier'</span>).<span class="cm-variable">alias</span>(<span class="cm-string">'unique_shoppers'</span>),<span class="cm-error">\</span></span></pre></div><div style="position: relative;"><div class="CodeMirror-gutter-wrapper" style="left: -34px;"><div class="CodeMirror-linenumber CodeMirror-gutter-elt" style="left: 0px; width: 21px;">2</div></div><pre class=" CodeMirror-line "><span style="padding-right: 0.1px;">                                                        <span class="cm-builtin">sum</span>(<span class="cm-string">'item_total'</span>).<span class="cm-variable">alias</span>(<span class="cm-string">'spend'</span>),<span class="cm-error">\</span></span></pre></div><div style="position: relative;"><div class="CodeMirror-gutter-wrapper" style="left: -34px;"><div class="CodeMirror-linenumber CodeMirror-gutter-elt" style="left: 0px; width: 21px;">3</div></div><pre class=" CodeMirror-line "><span style="padding-right: 0.1px;">                                                       <span class="cm-variable">countDistinct</span>(<span class="cm-string">'transaction_id'</span>).<span class="cm-variable">alias</span>(<span class="cm-string">'num_of_txns'</span>),<span class="cm-error">\</span></span></pre></div><div style="position: relative;"><div class="CodeMirror-gutter-wrapper" style="left: -34px;"><div class="CodeMirror-linenumber CodeMirror-gutter-elt" style="left: 0px; width: 21px;">4</div></div><pre class=" CodeMirror-line "><span style="padding-right: 0.1px;">                                                     <span class="cm-builtin">sum</span>(<span class="cm-string">'quantity'</span>).<span class="cm-variable">alias</span>(<span class="cm-string">'quantity'</span>))<span class="cm-error">\</span></span></pre></div><div style="position: relative;"><div class="CodeMirror-gutter-wrapper" style="left: -34px;"><div class="CodeMirror-linenumber CodeMirror-gutter-elt" style="left: 0px; width: 21px;">5</div></div><pre class=" CodeMirror-line "><span style="padding-right: 0.1px;">                                                     .<span class="cm-variable">withColumn</span>(<span class="cm-string">'avg_price_purchased_prods'</span>,<span class="cm-variable">col</span>(<span class="cm-string">'spend'</span>)<span class="cm-operator">/</span><span class="cm-variable">col</span>(<span class="cm-string">'quantity'</span>))</span></pre></div><div style="position: relative;"><div class="CodeMirror-gutter-wrapper" style="left: -34px;"><div class="CodeMirror-linenumber CodeMirror-gutter-elt" style="left: 0px; width: 21px;">6</div></div><pre class=" CodeMirror-line "><span style="padding-right: 0.1px;"><span class="cm-variable">df</span>.<span class="cm-variable">show</span>(<span class="cm-number">5</span>)  </span></pre></div></div></div></div></div></div><div style="position: absolute; height: 30px; width: 1px; top: 138px;"></div><div class="CodeMirror-gutters" style="height: 168px;"><div class="CodeMirror-gutter CodeMirror-linenumbers" style="width: 33px;"></div></div></div></div></div></div></div><div class="widget-area" style="display: none;"><div class="prompt"><button class="close">�</button></div><div class="widget-subarea jp-Output-result"></div></div><div class="output_wrapper"><div class="out_prompt_overlay prompt" title="click to scroll output; double click to hide" style="display: block;"></div><div class="output" style=""><div class="output_area"><div class="prompt"></div><div class="output_subarea output_text output_stream output_stdout"><pre>+--------------------+---------------+---------------+--------------------+-----------+---------+-------------------------+
|            category|     luxury_ind|unique_shoppers|               spend|num_of_txns| quantity|avg_price_purchased_prods|
+--------------------+---------------+---------------+--------------------+-----------+---------+-------------------------+
|              Shoes |non_lux_shopper|         115670|  3193716.5399999795|     119279| 126097.0|        25.32745854381928|
|         Automotive |    lux_shopper|           4393|           342101.34|       4612|   4699.0|        72.80300915088317|
|              Media |non_lux_shopper|           4405|   42147.39000000003|       4458|   5431.0|        7.760521082673546|
|Industrial &amp; Scie...|    lux_shopper|            639|   37435.25000000002|        665|    675.0|        55.45962962962966|
|                null|           null|        3205143|2.8235315817995405E8|    4011795|4879417.0|        57.86616683508584|
+--------------------+---------------+---------------+--------------------+-----------+---------+-------------------------+
only showing top 5 rows

</pre></div></div></div><div class="btn btn-default output_collapsed" title="click to expand output" style="display: none;">. . .</div></div><div class="cellPlaceholder btn btn-default" title="Uncollapse cell"></div></div><div class="cell text_cell rendered unselected" tabindex="2"><div class="prompt input_prompt"></div><div class="inner_cell"><div class="ctb_hideshow"><div class="celltoolbar"></div></div><div class="input_area"><div class="CodeMirror cm-s-default CodeMirror-wrap"><div style="overflow: hidden; position: relative; width: 3px; height: 0px; top: 6px; left: 6px;"><textarea autocorrect="off" autocapitalize="off" spellcheck="false" tabindex="0" style="position: absolute; padding: 0px; width: 1000px; height: 1em; outline: none;"></textarea></div><div class="CodeMirror-vscrollbar" cm-not-content="true" style="bottom: 0px; min-width: 18px;"><div style="min-width: 1px; height: 0px;"></div></div><div class="CodeMirror-hscrollbar" cm-not-content="true" style=""><div style="height: 100%; min-height: 1px; width: 0px;"></div></div><div class="CodeMirror-scrollbar-filler" cm-not-content="true"></div><div class="CodeMirror-gutter-filler" cm-not-content="true"></div><div class="CodeMirror-scroll" tabindex="-1"><div class="CodeMirror-sizer" style="margin-left: 0px; padding-right: 0px; padding-bottom: 0px; margin-bottom: 0px; border-right-width: 30px; min-height: 33px;"><div style="position: relative; top: 0px;"><div class="CodeMirror-lines"><div style="position: relative; outline: none;"><div class="CodeMirror-measure"></div><div class="CodeMirror-measure"></div><div style="position: relative; z-index: 1;"></div><div class="CodeMirror-cursors"><div class="CodeMirror-cursor" style="left: 0px; top: 0px; height: 21px;">&nbsp;</div></div><div class="CodeMirror-code"><pre class=" CodeMirror-line "><span style="padding-right: 0.1px;"><span class="cm-header cm-header-4">#### Exporting category cross luxury indicator level data file (csv format) into GCS</span></span></pre></div></div></div></div></div><div style="position: absolute; height: 30px; width: 1px; top: 33px;"></div><div class="CodeMirror-gutters" style="display: none; height: 63px;"></div></div></div></div><div class="text_cell_render rendered_html" tabindex="-1"><h4 id="Exporting-category-cross-luxury-indicator-level-data-file-(csv-format)-into-GCS">Exporting category cross luxury indicator level data file (csv format) into GCS<a class="anchor-link" href="http://localhost:8084/notebooks/UK_Shopper_Attributes/Luxury_Indicator.ipynb#Exporting-category-cross-luxury-indicator-level-data-file-(csv-format)-into-GCS">�</a></h4>
</div></div></div><div class="cell code_cell rendered completed unselected" tabindex="2"><div class="dropdown minitoolbar"><button class="btn btn-default dropdown-toggle minitoolbar-toggle" data-toggle="dropdown"><i class="material-icons">menu</i></button><ul class="dropdown-menu"><li><a href="http://localhost:8084/notebooks/UK_Shopper_Attributes/Luxury_Indicator.ipynb#"><i class="material-icons glyph-run-cell" style="padding-right: 10px;">play_arrow</i><span class="title-run-cell">Run</span></a></li><li><a href="http://localhost:8084/notebooks/UK_Shopper_Attributes/Luxury_Indicator.ipynb#"><i class="material-icons glyph-clear-cell" style="padding-right: 10px;">check_box_outline_blank</i><span class="title-clear-cell">Clear</span></a></li><li><a href="http://localhost:8084/notebooks/UK_Shopper_Attributes/Luxury_Indicator.ipynb#"><i class="material-icons glyph-collapse-cell" style="padding-right: 10px;">vertical_align_top</i><span class="title-collapse-cell">Collapse</span></a></li><li><a href="http://localhost:8084/notebooks/UK_Shopper_Attributes/Luxury_Indicator.ipynb#"><i class="material-icons glyph-collapse-code" style="padding-right: 10px;">code</i><span class="title-collapse-code">Hide Code</span></a></li></ul></div><div class="input"><div class="prompt input_prompt"></div><div class="inner_cell"><div class="ctb_hideshow"><div class="celltoolbar"></div></div><div class="input_area"><div class="CodeMirror cm-s-ipython"><div style="overflow: hidden; position: relative; width: 3px; height: 0px; top: 6px; left: 742px;"><textarea autocorrect="off" autocapitalize="off" spellcheck="false" tabindex="0" style="position: absolute; padding: 0px; width: 1000px; height: 1em; outline: none;"></textarea></div><div class="CodeMirror-vscrollbar" cm-not-content="true" style="min-width: 18px;"><div style="min-width: 1px; height: 0px;"></div></div><div class="CodeMirror-hscrollbar" cm-not-content="true" style=""><div style="height: 100%; min-height: 1px; width: 0px;"></div></div><div class="CodeMirror-scrollbar-filler" cm-not-content="true"></div><div class="CodeMirror-gutter-filler" cm-not-content="true"></div><div class="CodeMirror-scroll" tabindex="-1" draggable="false"><div class="CodeMirror-sizer" style="margin-left: 34px; min-width: 1020px; margin-bottom: 0px; border-right-width: 30px; min-height: 33px; padding-right: 0px; padding-bottom: 0px;"><div style="position: relative; top: 0px;"><div class="CodeMirror-lines"><div style="position: relative; outline: none;"><div class="CodeMirror-measure"><pre>x</pre></div><div class="CodeMirror-measure"></div><div style="position: relative; z-index: 1;"></div><div class="CodeMirror-cursors" style="visibility: hidden;"><div class="CodeMirror-cursor" style="left: 702px; top: 0px; height: 21px;">&nbsp;</div></div><div class="CodeMirror-code"><div style="position: relative;"><div class="CodeMirror-gutter-wrapper" style="left: -34px;"><div class="CodeMirror-linenumber CodeMirror-gutter-elt" style="left: 0px; width: 21px;">1</div></div><pre class=" CodeMirror-line "><span style="padding-right: 0.1px;">(<span class="cm-variable">df</span>.<span class="cm-variable">coalesce</span>(<span class="cm-number">1</span>).<span class="cm-variable">write</span>.<span class="cm-variable">option</span>(<span class="cm-string">"header"</span>, <span class="cm-string">"true"</span>).<span class="cm-variable">csv</span>(<span class="cm-string">"gs://westfield-tom/datalab/yocuda_category_luxury_ind_data"</span>))</span></pre></div></div></div></div></div></div><div style="position: absolute; height: 30px; width: 1px; top: 33px;"></div><div class="CodeMirror-gutters" style="height: 63px;"><div class="CodeMirror-gutter CodeMirror-linenumbers" style="width: 33px;"></div></div></div></div></div></div></div><div class="widget-area" style="display: none;"><div class="prompt"><button class="close">�</button></div><div class="widget-subarea jp-Output-result"></div></div><div class="output_wrapper"><div class="out_prompt_overlay prompt" title="click to expand output; double click to hide output" style="display: none;"></div><div class="output" style="display: none;"></div><div class="btn btn-default output_collapsed" title="click to expand output" style="display: none;">. . .</div></div><div class="cellPlaceholder btn btn-default" title="Uncollapse cell"></div></div><div class="cell text_cell unselected rendered" tabindex="2"><div class="prompt input_prompt"></div><div class="inner_cell"><div class="ctb_hideshow"><div class="celltoolbar"></div></div><div class="input_area"><div class="CodeMirror cm-s-default CodeMirror-wrap"><div style="overflow: hidden; position: relative; width: 3px; height: 0px; top: 6px; left: 6px;"><textarea autocorrect="off" autocapitalize="off" spellcheck="false" tabindex="0" style="position: absolute; padding: 0px; width: 1000px; height: 1em; outline: none;"></textarea></div><div class="CodeMirror-vscrollbar" cm-not-content="true" style="bottom: 0px; min-width: 18px;"><div style="min-width: 1px; height: 0px;"></div></div><div class="CodeMirror-hscrollbar" cm-not-content="true" style=""><div style="height: 100%; min-height: 1px; width: 0px;"></div></div><div class="CodeMirror-scrollbar-filler" cm-not-content="true"></div><div class="CodeMirror-gutter-filler" cm-not-content="true"></div><div class="CodeMirror-scroll" tabindex="-1"><div class="CodeMirror-sizer" style="margin-left: 0px; padding-right: 0px; padding-bottom: 0px; margin-bottom: 0px; border-right-width: 30px; min-height: 33px;"><div style="position: relative; top: 0px;"><div class="CodeMirror-lines"><div style="position: relative; outline: none;"><div class="CodeMirror-measure"></div><div class="CodeMirror-measure"></div><div style="position: relative; z-index: 1;"></div><div class="CodeMirror-cursors"><div class="CodeMirror-cursor" style="left: 0px; top: 0px; height: 21px;">&nbsp;</div></div><div class="CodeMirror-code"><pre class=" CodeMirror-line "><span style="padding-right: 0.1px;"><span class="cm-header cm-header-4">#### Top 5 categories by total spend</span></span></pre></div></div></div></div></div><div style="position: absolute; height: 30px; width: 1px; top: 33px;"></div><div class="CodeMirror-gutters" style="display: none; height: 63px;"></div></div></div></div><div class="text_cell_render rendered_html" tabindex="-1"><h4 id="Top-5-categories-by-total-spend">Top 5 categories by total spend<a class="anchor-link" href="http://localhost:8084/notebooks/UK_Shopper_Attributes/Luxury_Indicator.ipynb#Top-5-categories-by-total-spend">�</a></h4>
</div></div></div><div class="cell code_cell rendered session unselected completed" tabindex="2"><div class="dropdown minitoolbar"><button class="btn btn-default dropdown-toggle minitoolbar-toggle" data-toggle="dropdown"><i class="material-icons">menu</i></button><ul class="dropdown-menu"><li><a href="http://localhost:8084/notebooks/UK_Shopper_Attributes/Luxury_Indicator.ipynb#"><i class="material-icons glyph-run-cell" style="padding-right: 10px;">play_arrow</i><span class="title-run-cell">Run</span></a></li><li><a href="http://localhost:8084/notebooks/UK_Shopper_Attributes/Luxury_Indicator.ipynb#"><i class="material-icons glyph-clear-cell" style="padding-right: 10px;">check_box_outline_blank</i><span class="title-clear-cell">Clear</span></a></li><li><a href="http://localhost:8084/notebooks/UK_Shopper_Attributes/Luxury_Indicator.ipynb#"><i class="material-icons glyph-collapse-cell" style="padding-right: 10px;">vertical_align_top</i><span class="title-collapse-cell">Collapse</span></a></li><li><a href="http://localhost:8084/notebooks/UK_Shopper_Attributes/Luxury_Indicator.ipynb#"><i class="material-icons glyph-collapse-code" style="padding-right: 10px;">code</i><span class="title-collapse-code">Hide Code</span></a></li></ul></div><div class="input"><div class="prompt input_prompt"></div><div class="inner_cell"><div class="ctb_hideshow"><div class="celltoolbar"></div></div><div class="input_area"><div class="CodeMirror cm-s-ipython"><div style="overflow: hidden; position: relative; width: 3px; height: 0px; top: 27px; left: 157px;"><textarea autocorrect="off" autocapitalize="off" spellcheck="false" tabindex="0" style="position: absolute; padding: 0px; width: 1000px; height: 1em; outline: none;"></textarea></div><div class="CodeMirror-vscrollbar" cm-not-content="true" style="min-width: 18px;"><div style="min-width: 1px; height: 0px;"></div></div><div class="CodeMirror-hscrollbar" cm-not-content="true" style=""><div style="height: 100%; min-height: 1px; width: 0px;"></div></div><div class="CodeMirror-scrollbar-filler" cm-not-content="true"></div><div class="CodeMirror-gutter-filler" cm-not-content="true"></div><div class="CodeMirror-scroll" tabindex="-1"><div class="CodeMirror-sizer" style="margin-left: 34px; min-width: 858px; margin-bottom: 0px; border-right-width: 30px; min-height: 54px; padding-right: 0px; padding-bottom: 0px;"><div style="position: relative; top: 0px;"><div class="CodeMirror-lines"><div style="position: relative; outline: none;"><div class="CodeMirror-measure"><div class="CodeMirror-linenumber CodeMirror-gutter-elt"><div>2</div></div></div><div class="CodeMirror-measure"></div><div style="position: relative; z-index: 1;"></div><div class="CodeMirror-cursors" style=""><div class="CodeMirror-cursor" style="left: 117px; top: 21px; height: 21px;">&nbsp;</div></div><div class="CodeMirror-code"><div style="position: relative;"><div class="CodeMirror-gutter-wrapper" style="left: -34px;"><div class="CodeMirror-linenumber CodeMirror-gutter-elt" style="left: 0px; width: 21px;">1</div></div><pre class=" CodeMirror-line "><span style="padding-right: 0.1px;"><span class="cm-variable">xx1</span> =<span class="cm-variable">base_data</span>.<span class="cm-variable">groupBy</span>(<span class="cm-string">"category"</span>).<span class="cm-variable">agg</span>(<span class="cm-builtin">sum</span>(<span class="cm-string">'item_total'</span>).<span class="cm-variable">alias</span>(<span class="cm-string">'spend'</span>)).<span class="cm-variable">orderBy</span>(<span class="cm-variable">desc</span>(<span class="cm-string">"spend"</span>))</span></pre></div><div style="position: relative;"><div class="CodeMirror-gutter-wrapper" style="left: -34px;"><div class="CodeMirror-linenumber CodeMirror-gutter-elt" style="left: 0px; width: 21px;">2</div></div><pre class=" CodeMirror-line "><span style="padding-right: 0.1px;"><span class="cm-variable">xx1</span>.<span class="cm-variable">show</span>(<span class="cm-number">5</span>)  </span></pre></div></div></div></div></div></div><div style="position: absolute; height: 30px; width: 1px; top: 54px;"></div><div class="CodeMirror-gutters" style="height: 84px;"><div class="CodeMirror-gutter CodeMirror-linenumbers" style="width: 33px;"></div></div></div></div></div></div></div><div class="widget-area" style="display: none;"><div class="prompt"><button class="close">�</button></div><div class="widget-subarea jp-Output-result"></div></div><div class="output_wrapper"><div class="out_prompt_overlay prompt" title="click to scroll output; double click to hide" style="display: block;"></div><div class="output" style=""><div class="output_area"><div class="prompt"></div><div class="output_subarea output_text output_stream output_stdout"><pre>+--------------------+--------------------+
|            category|               spend|
+--------------------+--------------------+
|        Electronics | 2.840659656999931E8|
|                null|2.8235315817999303E8|
|     Home &amp; Kitchen | 2.141566713099843E8|
|       Toys &amp; Games | 8.614666659000352E7|
|Computers &amp; Acces...| 8.348656677000155E7|
+--------------------+--------------------+
only showing top 5 rows

</pre></div></div></div><div class="btn btn-default output_collapsed" title="click to expand output" style="display: none;">. . .</div></div><div class="cellPlaceholder btn btn-default" title="Uncollapse cell"></div></div><div class="cell text_cell rendered unselected" tabindex="2"><div class="prompt input_prompt"></div><div class="inner_cell"><div class="ctb_hideshow"><div class="celltoolbar"></div></div><div class="input_area"><div class="CodeMirror cm-s-default CodeMirror-wrap"><div style="overflow: hidden; position: relative; width: 3px; height: 0px; top: 6px; left: 6px;"><textarea autocorrect="off" autocapitalize="off" spellcheck="false" tabindex="0" style="position: absolute; padding: 0px; width: 1000px; height: 1em; outline: none;"></textarea></div><div class="CodeMirror-vscrollbar" cm-not-content="true" style="bottom: 0px; min-width: 18px;"><div style="min-width: 1px; height: 0px;"></div></div><div class="CodeMirror-hscrollbar" cm-not-content="true" style=""><div style="height: 100%; min-height: 1px; width: 0px;"></div></div><div class="CodeMirror-scrollbar-filler" cm-not-content="true"></div><div class="CodeMirror-gutter-filler" cm-not-content="true"></div><div class="CodeMirror-scroll" tabindex="-1"><div class="CodeMirror-sizer" style="margin-left: 0px; padding-right: 0px; padding-bottom: 0px; margin-bottom: 0px; border-right-width: 30px; min-height: 33px;"><div style="position: relative; top: 0px;"><div class="CodeMirror-lines"><div style="position: relative; outline: none;"><div class="CodeMirror-measure"></div><div class="CodeMirror-measure"></div><div style="position: relative; z-index: 1;"></div><div class="CodeMirror-cursors"><div class="CodeMirror-cursor" style="left: 0px; top: 0px; height: 21px;">&nbsp;</div></div><div class="CodeMirror-code"><pre class=" CodeMirror-line "><span style="padding-right: 0.1px;"><span class="cm-header cm-header-4">#### User level scores on an overall level</span></span></pre></div></div></div></div></div><div style="position: absolute; height: 30px; width: 1px; top: 33px;"></div><div class="CodeMirror-gutters" style="display: none; height: 63px;"></div></div></div></div><div class="text_cell_render rendered_html" tabindex="-1"><h4 id="User-level-scores-on-an-overall-level">User level scores on an overall level<a class="anchor-link" href="http://localhost:8084/notebooks/UK_Shopper_Attributes/Luxury_Indicator.ipynb#User-level-scores-on-an-overall-level">�</a></h4>
</div></div></div><div class="cell code_cell rendered session completed unselected" tabindex="2"><div class="dropdown minitoolbar"><button class="btn btn-default dropdown-toggle minitoolbar-toggle" data-toggle="dropdown"><i class="material-icons">menu</i></button><ul class="dropdown-menu"><li><a href="http://localhost:8084/notebooks/UK_Shopper_Attributes/Luxury_Indicator.ipynb#"><i class="material-icons glyph-run-cell" style="padding-right: 10px;">play_arrow</i><span class="title-run-cell">Run</span></a></li><li><a href="http://localhost:8084/notebooks/UK_Shopper_Attributes/Luxury_Indicator.ipynb#"><i class="material-icons glyph-clear-cell" style="padding-right: 10px;">check_box_outline_blank</i><span class="title-clear-cell">Clear</span></a></li><li><a href="http://localhost:8084/notebooks/UK_Shopper_Attributes/Luxury_Indicator.ipynb#"><i class="material-icons glyph-collapse-cell" style="padding-right: 10px;">vertical_align_top</i><span class="title-collapse-cell">Collapse</span></a></li><li><a href="http://localhost:8084/notebooks/UK_Shopper_Attributes/Luxury_Indicator.ipynb#"><i class="material-icons glyph-collapse-code" style="padding-right: 10px;">code</i><span class="title-collapse-code">Hide Code</span></a></li></ul></div><div class="input"><div class="prompt input_prompt"></div><div class="inner_cell"><div class="ctb_hideshow"><div class="celltoolbar"></div></div><div class="input_area"><div class="CodeMirror cm-s-ipython"><div style="overflow: hidden; position: relative; width: 3px; height: 0px; top: 6px; left: 517px;"><textarea autocorrect="off" autocapitalize="off" spellcheck="false" tabindex="0" style="position: absolute; padding: 0px; width: 1000px; height: 1em; outline: none;"></textarea></div><div class="CodeMirror-vscrollbar" cm-not-content="true" style="min-width: 18px;"><div style="min-width: 1px; height: 0px;"></div></div><div class="CodeMirror-hscrollbar" cm-not-content="true" style=""><div style="height: 100%; min-height: 1px; width: 0px;"></div></div><div class="CodeMirror-scrollbar-filler" cm-not-content="true"></div><div class="CodeMirror-gutter-filler" cm-not-content="true"></div><div class="CodeMirror-scroll" tabindex="-1" draggable="false"><div class="CodeMirror-sizer" style="margin-left: 34px; min-width: 1236px; margin-bottom: 0px; border-right-width: 30px; min-height: 138px; padding-right: 0px; padding-bottom: 0px;"><div style="position: relative; top: 0px;"><div class="CodeMirror-lines"><div style="position: relative; outline: none;"><div class="CodeMirror-measure"><div class="CodeMirror-linenumber CodeMirror-gutter-elt"><div>6</div></div></div><div class="CodeMirror-measure"></div><div style="position: relative; z-index: 1;"></div><div class="CodeMirror-cursors" style="visibility: hidden;"><div class="CodeMirror-cursor" style="left: 477px; top: 0px; height: 21px;">&nbsp;</div></div><div class="CodeMirror-code" style=""><div style="position: relative;"><div class="CodeMirror-gutter-wrapper" style="left: -34px;"><div class="CodeMirror-linenumber CodeMirror-gutter-elt" style="left: 0px; width: 21px;">1</div></div><pre class=" CodeMirror-line "><span style="padding-right: 0.1px;"><span class="cm-variable">user_level_luxury_score_overall</span> = <span class="cm-variable">user_level_luxury_score</span> <span class="cm-error">\</span></span></pre></div><div style="position: relative;"><div class="CodeMirror-gutter-wrapper" style="left: -34px;"><div class="CodeMirror-linenumber CodeMirror-gutter-elt" style="left: 0px; width: 21px;">2</div></div><pre class=" CodeMirror-line "><span style="padding-right: 0.1px;">          .<span class="cm-variable">select</span>(<span class="cm-string">'identifier'</span>,<span class="cm-string">'net_quantity'</span>,<span class="cm-string">'luxury_score'</span>) <span class="cm-error">\</span></span></pre></div><div style="position: relative;"><div class="CodeMirror-gutter-wrapper" style="left: -34px;"><div class="CodeMirror-linenumber CodeMirror-gutter-elt" style="left: 0px; width: 21px;">3</div></div><pre class=" CodeMirror-line "><span style="padding-right: 0.1px;">          .<span class="cm-variable">withColumn</span>(<span class="cm-string">'total_luxury_value'</span>, <span class="cm-variable">col</span>(<span class="cm-string">'net_quantity'</span>) <span class="cm-operator">*</span> <span class="cm-variable">col</span>(<span class="cm-string">'luxury_score'</span>)) <span class="cm-error">\</span></span></pre></div><div style="position: relative;"><div class="CodeMirror-gutter-wrapper" style="left: -34px;"><div class="CodeMirror-linenumber CodeMirror-gutter-elt" style="left: 0px; width: 21px;">4</div></div><pre class=" CodeMirror-line "><span style="padding-right: 0.1px;">          .<span class="cm-variable">groupBy</span>(<span class="cm-string">'identifier'</span>).<span class="cm-variable">agg</span>(<span class="cm-builtin">sum</span>(<span class="cm-variable">col</span>(<span class="cm-string">'net_quantity'</span>)).<span class="cm-variable">alias</span>(<span class="cm-string">'net_quantity'</span>), <span class="cm-builtin">sum</span>(<span class="cm-variable">col</span>(<span class="cm-string">'total_luxury_value'</span>)).<span class="cm-variable">alias</span>(<span class="cm-string">'sum_score'</span>)) <span class="cm-error">\</span></span></pre></div><div style="position: relative;"><div class="CodeMirror-gutter-wrapper" style="left: -34px;"><div class="CodeMirror-linenumber CodeMirror-gutter-elt" style="left: 0px; width: 21px;">5</div></div><pre class=" CodeMirror-line "><span style="padding-right: 0.1px;">          .<span class="cm-variable">withColumn</span>(<span class="cm-string">'overall_luxury_score'</span>, <span class="cm-variable">col</span>(<span class="cm-string">'sum_score'</span>) <span class="cm-operator">/</span> <span class="cm-variable">col</span>(<span class="cm-string">'net_quantity'</span>)) </span></pre></div><div style="position: relative;"><div class="CodeMirror-gutter-wrapper" style="left: -34px;"><div class="CodeMirror-linenumber CodeMirror-gutter-elt" style="left: 0px; width: 21px;">6</div></div><pre class=" CodeMirror-line "><span style="padding-right: 0.1px;"><span class="cm-variable">user_level_luxury_score_overall</span>.<span class="cm-variable">show</span>(<span class="cm-number">5</span>)        </span></pre></div></div></div></div></div></div><div style="position: absolute; height: 30px; width: 1px; top: 138px;"></div><div class="CodeMirror-gutters" style="height: 168px;"><div class="CodeMirror-gutter CodeMirror-linenumbers" style="width: 33px;"></div></div></div></div></div></div></div><div class="widget-area" style="display: none;"><div class="prompt"><button class="close">�</button></div><div class="widget-subarea jp-Output-result"></div></div><div class="output_wrapper"><div class="out_prompt_overlay prompt" title="click to scroll output; double click to hide" style="display: block;"></div><div class="output" style=""><div class="output_area"><div class="prompt"></div><div class="output_subarea output_text output_stream output_stdout"><pre>+--------------------+------------+---------+--------------------+
|          identifier|net_quantity|sum_score|overall_luxury_score|
+--------------------+------------+---------+--------------------+
|dianebatty77@gmai...|         1.0|      2.0|                 2.0|
|karen_terry2000@y...|        55.0|    160.0|   2.909090909090909|
|awhetstone@hotmai...|         1.0|      4.0|                 4.0|
|evangelis77@gmail...|         1.0|      4.0|                 4.0|
|giles.burden@mpsa...|         3.0|     12.0|                 4.0|
+--------------------+------------+---------+--------------------+
only showing top 5 rows

</pre></div></div></div><div class="btn btn-default output_collapsed" title="click to expand output" style="display: none;">. . .</div></div><div class="cellPlaceholder btn btn-default" title="Uncollapse cell"></div></div><div class="cell text_cell rendered unselected" tabindex="2"><div class="prompt input_prompt"></div><div class="inner_cell"><div class="ctb_hideshow"><div class="celltoolbar"></div></div><div class="input_area"><div class="CodeMirror cm-s-default CodeMirror-wrap"><div style="overflow: hidden; position: relative; width: 3px; height: 0px; top: 6px; left: 6px;"><textarea autocorrect="off" autocapitalize="off" spellcheck="false" tabindex="0" style="position: absolute; padding: 0px; width: 1000px; height: 1em; outline: none;"></textarea></div><div class="CodeMirror-vscrollbar" cm-not-content="true" style="bottom: 0px; min-width: 18px;"><div style="min-width: 1px; height: 0px;"></div></div><div class="CodeMirror-hscrollbar" cm-not-content="true" style=""><div style="height: 100%; min-height: 1px; width: 0px;"></div></div><div class="CodeMirror-scrollbar-filler" cm-not-content="true"></div><div class="CodeMirror-gutter-filler" cm-not-content="true"></div><div class="CodeMirror-scroll" tabindex="-1"><div class="CodeMirror-sizer" style="margin-left: 0px; padding-right: 0px; padding-bottom: 0px; margin-bottom: 0px; border-right-width: 30px; min-height: 33px;"><div style="position: relative; top: 0px;"><div class="CodeMirror-lines"><div style="position: relative; outline: none;"><div class="CodeMirror-measure"><pre><span>xxxxxxxxxx</span></pre></div><div class="CodeMirror-measure"></div><div style="position: relative; z-index: 1;"></div><div class="CodeMirror-cursors" style=""><div class="CodeMirror-cursor" style="left: 0px; top: 0px; height: 21px;">&nbsp;</div></div><div class="CodeMirror-code"><pre class=" CodeMirror-line "><span style="padding-right: 0.1px;"><span class="cm-header cm-header-2">## Exporting overall luxury score on a user-level data file (csv format) into GCS</span></span></pre></div></div></div></div></div><div style="position: absolute; height: 30px; width: 1px; top: 33px;"></div><div class="CodeMirror-gutters" style="display: none; height: 63px;"></div></div></div></div><div class="text_cell_render rendered_html" tabindex="-1"><h2 id="Exporting-overall-luxury-score-on-a-user-level-data-file-(csv-format)-into-GCS">Exporting overall luxury score on a user-level data file (csv format) into GCS<a class="anchor-link" href="http://localhost:8084/notebooks/UK_Shopper_Attributes/Luxury_Indicator.ipynb#Exporting-overall-luxury-score-on-a-user-level-data-file-(csv-format)-into-GCS">�</a></h2>
</div></div></div><div class="cell code_cell rendered session completed unselected" tabindex="2"><div class="dropdown minitoolbar"><button class="btn btn-default dropdown-toggle minitoolbar-toggle" data-toggle="dropdown"><i class="material-icons">menu</i></button><ul class="dropdown-menu"><li><a href="http://localhost:8084/notebooks/UK_Shopper_Attributes/Luxury_Indicator.ipynb#"><i class="material-icons glyph-run-cell" style="padding-right: 10px;">play_arrow</i><span class="title-run-cell">Run</span></a></li><li><a href="http://localhost:8084/notebooks/UK_Shopper_Attributes/Luxury_Indicator.ipynb#"><i class="material-icons glyph-clear-cell" style="padding-right: 10px;">check_box_outline_blank</i><span class="title-clear-cell">Clear</span></a></li><li><a href="http://localhost:8084/notebooks/UK_Shopper_Attributes/Luxury_Indicator.ipynb#"><i class="material-icons glyph-collapse-cell" style="padding-right: 10px;">vertical_align_top</i><span class="title-collapse-cell">Collapse</span></a></li><li><a href="http://localhost:8084/notebooks/UK_Shopper_Attributes/Luxury_Indicator.ipynb#"><i class="material-icons glyph-collapse-code" style="padding-right: 10px;">code</i><span class="title-collapse-code">Hide Code</span></a></li></ul></div><div class="input"><div class="prompt input_prompt"></div><div class="inner_cell"><div class="ctb_hideshow"><div class="celltoolbar"></div></div><div class="input_area"><div class="CodeMirror cm-s-ipython"><div style="overflow: hidden; position: relative; width: 3px; height: 0px; top: 6px; left: 1334px;"><textarea autocorrect="off" autocapitalize="off" spellcheck="false" tabindex="0" style="position: absolute; padding: 0px; width: 1000px; height: 1em; outline: none;"></textarea></div><div class="CodeMirror-vscrollbar" cm-not-content="true" style="min-width: 18px;"><div style="min-width: 1px; height: 0px;"></div></div><div class="CodeMirror-hscrollbar" cm-not-content="true" style="display: block; right: 0px; left: 34px;"><div style="height: 100%; min-height: 1px; width: 1335px;"></div></div><div class="CodeMirror-scrollbar-filler" cm-not-content="true"></div><div class="CodeMirror-gutter-filler" cm-not-content="true"></div><div class="CodeMirror-scroll" tabindex="-1" draggable="false"><div class="CodeMirror-sizer" style="margin-left: 34px; min-width: 1335px; margin-bottom: 0px; border-right-width: 30px; min-height: 33px; padding-right: 0px; padding-bottom: 0px;"><div style="position: relative; top: 0px;"><div class="CodeMirror-lines"><div style="position: relative; outline: none;"><div class="CodeMirror-measure"><pre>x</pre></div><div class="CodeMirror-measure"></div><div style="position: relative; z-index: 1;"><div class="CodeMirror-selected" style="position: absolute; left: 0px; top: 0px; width: 1332px; height: 21px;"></div></div><div class="CodeMirror-cursors" style=""></div><div class="CodeMirror-code"><div style="position: relative;"><div class="CodeMirror-gutter-wrapper" style="left: -9px;"><div class="CodeMirror-linenumber CodeMirror-gutter-elt" style="left: 0px; width: 21px;">1</div></div><pre class=" CodeMirror-line "><span style="padding-right: 0.1px;">(<span class="cm-variable">user_level_luxury_score_overall</span>.<span class="cm-variable">coalesce</span>(<span class="cm-number">1</span>).<span class="cm-variable">write</span>.<span class="cm-variable">option</span>(<span class="cm-string">"header"</span>, <span class="cm-string">"true"</span>).<span class="cm-variable">csv</span>(<span class="cm-string">"gs://westfield-tom/datalab/yocuda_overall_luxury_score_user_data"</span>))</span></pre></div></div></div></div></div></div><div style="position: absolute; height: 30px; width: 1px; top: 33px;"></div><div class="CodeMirror-gutters" style="height: 63px; left: 25px;"><div class="CodeMirror-gutter CodeMirror-linenumbers" style="width: 33px;"></div></div></div></div></div></div></div><div class="widget-area" style="display: none;"><div class="prompt"><button class="close">�</button></div><div class="widget-subarea jp-Output-result"></div></div><div class="output_wrapper"><div class="out_prompt_overlay prompt" title="click to scroll output; double click to hide" style="display: none;"></div><div class="output" style=""></div><div class="btn btn-default output_collapsed" title="click to expand output" style="display: none;">. . .</div></div><div class="cellPlaceholder btn btn-default" title="Uncollapse cell"></div></div><div class="cell text_cell rendered unselected" tabindex="2"><div class="dropdown minitoolbar"><button class="btn btn-default dropdown-toggle minitoolbar-toggle" data-toggle="dropdown"><i class="material-icons">menu</i></button><ul class="dropdown-menu"><li><a href="http://localhost:8084/notebooks/UK_Shopper_Attributes/Luxury_Indicator.ipynb#"><i class="material-icons glyph-run-cell" style="padding-right: 10px;">play_arrow</i><span class="title-run-cell">Run</span></a></li><li><a href="http://localhost:8084/notebooks/UK_Shopper_Attributes/Luxury_Indicator.ipynb#"><i class="material-icons glyph-clear-cell" style="padding-right: 10px;">check_box_outline_blank</i><span class="title-clear-cell">Clear</span></a></li><li><a href="http://localhost:8084/notebooks/UK_Shopper_Attributes/Luxury_Indicator.ipynb#"><i class="material-icons glyph-collapse-cell" style="padding-right: 10px;">vertical_align_top</i><span class="title-collapse-cell">Collapse</span></a></li><li><a href="http://localhost:8084/notebooks/UK_Shopper_Attributes/Luxury_Indicator.ipynb#"><i class="material-icons glyph-collapse-code" style="padding-right: 10px;">code</i><span class="title-collapse-code">Hide Code</span></a></li></ul></div><div class="prompt input_prompt"></div><div class="inner_cell"><div class="ctb_hideshow"><div class="celltoolbar"></div></div><div class="input_area"><div class="CodeMirror cm-s-default CodeMirror-wrap"><div style="overflow: hidden; position: relative; width: 3px; height: 0px; top: 6px; left: 384px;"><textarea autocorrect="off" autocapitalize="off" spellcheck="false" tabindex="0" style="position: absolute; padding: 0px; width: 1000px; height: 1em; outline: none;"></textarea></div><div class="CodeMirror-vscrollbar" cm-not-content="true" style="min-width: 18px;"><div style="min-width: 1px; height: 0px;"></div></div><div class="CodeMirror-hscrollbar" cm-not-content="true" style=""><div style="height: 100%; min-height: 1px; width: 0px;"></div></div><div class="CodeMirror-scrollbar-filler" cm-not-content="true"></div><div class="CodeMirror-gutter-filler" cm-not-content="true"></div><div class="CodeMirror-scroll" tabindex="-1"><div class="CodeMirror-sizer" style="margin-left: 0px; margin-bottom: 0px; border-right-width: 30px; min-height: 33px; padding-right: 0px; padding-bottom: 0px;"><div style="position: relative; top: 0px;"><div class="CodeMirror-lines"><div style="position: relative; outline: none;"><div class="CodeMirror-measure"><pre><span>xxxxxxxxxx</span></pre></div><div class="CodeMirror-measure"></div><div style="position: relative; z-index: 1;"></div><div class="CodeMirror-cursors" style="visibility: hidden;"><div class="CodeMirror-cursor" style="left: 378px; top: 0px; height: 21px;">&nbsp;</div></div><div class="CodeMirror-code"><pre class=" CodeMirror-line "><span style="padding-right: 0.1px;"><span class="cm-header cm-header-4">#### Overall distribution of Luxury Scores</span></span></pre></div></div></div></div></div><div style="position: absolute; height: 30px; width: 1px; top: 33px;"></div><div class="CodeMirror-gutters" style="display: none; height: 63px;"></div></div></div></div><div class="text_cell_render rendered_html" tabindex="-1"><h4 id="Overall-distribution-of-Luxury-Scores">Overall distribution of Luxury Scores<a class="anchor-link" href="http://localhost:8084/notebooks/UK_Shopper_Attributes/Luxury_Indicator.ipynb#Overall-distribution-of-Luxury-Scores">�</a></h4>
</div></div><div class="cellPlaceholder btn btn-default" title="Uncollapse cell"></div></div><div class="cell code_cell rendered session completed unselected" tabindex="2"><div class="dropdown minitoolbar"><button class="btn btn-default dropdown-toggle minitoolbar-toggle" data-toggle="dropdown"><i class="material-icons">menu</i></button><ul class="dropdown-menu"><li><a href="http://localhost:8084/notebooks/UK_Shopper_Attributes/Luxury_Indicator.ipynb#"><i class="material-icons glyph-run-cell" style="padding-right: 10px;">play_arrow</i><span class="title-run-cell">Run</span></a></li><li><a href="http://localhost:8084/notebooks/UK_Shopper_Attributes/Luxury_Indicator.ipynb#"><i class="material-icons glyph-clear-cell" style="padding-right: 10px;">check_box_outline_blank</i><span class="title-clear-cell">Clear</span></a></li><li><a href="http://localhost:8084/notebooks/UK_Shopper_Attributes/Luxury_Indicator.ipynb#"><i class="material-icons glyph-collapse-cell" style="padding-right: 10px;">vertical_align_top</i><span class="title-collapse-cell">Collapse</span></a></li><li><a href="http://localhost:8084/notebooks/UK_Shopper_Attributes/Luxury_Indicator.ipynb#"><i class="material-icons glyph-collapse-code" style="padding-right: 10px;">code</i><span class="title-collapse-code">Hide Code</span></a></li></ul></div><div class="input"><div class="prompt input_prompt"></div><div class="inner_cell"><div class="ctb_hideshow"><div class="celltoolbar"></div></div><div class="input_area"><div class="CodeMirror cm-s-ipython"><div style="overflow: hidden; position: relative; width: 3px; height: 0px; top: 132px; left: 319px;"><textarea autocorrect="off" autocapitalize="off" spellcheck="false" tabindex="0" style="position: absolute; padding: 0px; width: 1000px; height: 1em; outline: none;"></textarea></div><div class="CodeMirror-vscrollbar" cm-not-content="true" style="min-width: 18px;"><div style="min-width: 1px; height: 0px;"></div></div><div class="CodeMirror-hscrollbar" cm-not-content="true" style="right: 0px; left: 34px; display: block;"><div style="height: 100%; min-height: 1px; width: 1506px;"></div></div><div class="CodeMirror-scrollbar-filler" cm-not-content="true"></div><div class="CodeMirror-gutter-filler" cm-not-content="true"></div><div class="CodeMirror-scroll" tabindex="-1" draggable="false"><div class="CodeMirror-sizer" style="margin-left: 34px; min-width: 1506px; margin-bottom: 0px; border-right-width: 30px; min-height: 159px; padding-right: 0px; padding-bottom: 0px;"><div style="position: relative; top: 0px;"><div class="CodeMirror-lines"><div style="position: relative; outline: none;"><div class="CodeMirror-measure"><div class="CodeMirror-linenumber CodeMirror-gutter-elt"><div>7</div></div></div><div class="CodeMirror-measure"></div><div style="position: relative; z-index: 1;"></div><div class="CodeMirror-cursors" style="visibility: hidden;"><div class="CodeMirror-cursor" style="left: 279px; top: 126px; height: 21px;">&nbsp;</div></div><div class="CodeMirror-code" style=""><div style="position: relative;"><div class="CodeMirror-gutter-wrapper" style="left: -34px;"><div class="CodeMirror-linenumber CodeMirror-gutter-elt" style="left: 0px; width: 21px;">1</div></div><pre class=" CodeMirror-line "><span style="padding-right: 0.1px;"><span class="cm-variable">yocuda_luxury_score_tot</span> = <span class="cm-variable">base_data</span>.<span class="cm-variable">join</span>(<span class="cm-variable">user_level_luxury_score_overall</span>.<span class="cm-variable">withColumn</span>(<span class="cm-string">'overall_luxury_ind'</span>, <span class="cm-variable">when</span>(<span class="cm-variable">col</span>(<span class="cm-string">'overall_luxury_score'</span>) <span class="cm-operator">&gt;</span> <span class="cm-number">4</span>,<span class="cm-string">"overall_lux_shopper"</span>) <span class="cm-error">\</span></span></pre></div><div style="position: relative;"><div class="CodeMirror-gutter-wrapper" style="left: -34px;"><div class="CodeMirror-linenumber CodeMirror-gutter-elt" style="left: 0px; width: 21px;">2</div></div><pre class=" CodeMirror-line "><span style="padding-right: 0.1px;">                    .<span class="cm-variable">otherwise</span>(<span class="cm-string">"overall_non_lux_shopper"</span>)).<span class="cm-variable">select</span>(<span class="cm-string">'identifier'</span>,<span class="cm-string">'overall_luxury_score'</span>,<span class="cm-string">'overall_luxury_ind'</span>), <span class="cm-error">\</span></span></pre></div><div style="position: relative;"><div class="CodeMirror-gutter-wrapper" style="left: -34px;"><div class="CodeMirror-linenumber CodeMirror-gutter-elt" style="left: 0px; width: 21px;">3</div></div><pre class=" CodeMirror-line "><span style="padding-right: 0.1px;">                                     [<span class="cm-string">'identifier'</span>], <span class="cm-string">'left'</span>)<span class="cm-error">\</span></span></pre></div><div style="position: relative;"><div class="CodeMirror-gutter-wrapper" style="left: -34px;"><div class="CodeMirror-linenumber CodeMirror-gutter-elt" style="left: 0px; width: 21px;">4</div></div><pre class=" CodeMirror-line "><span style="padding-right: 0.1px;">                    .<span class="cm-variable">select</span>(<span class="cm-string">'identifier'</span>,<span class="cm-string">'brand'</span>, <span class="cm-string">'category'</span>,<span class="cm-string">'transaction_amount'</span>, <span class="cm-error">\</span></span></pre></div><div style="position: relative;"><div class="CodeMirror-gutter-wrapper" style="left: -34px;"><div class="CodeMirror-linenumber CodeMirror-gutter-elt" style="left: 0px; width: 21px;">5</div></div><pre class=" CodeMirror-line "><span style="padding-right: 0.1px;">                            <span class="cm-string">'product_id'</span>, <span class="cm-string">'item_total'</span>,<span class="cm-string">'item_discounts_amount'</span>, <span class="cm-string">'timestamp'</span>,<span class="cm-error">\</span></span></pre></div><div style="position: relative;"><div class="CodeMirror-gutter-wrapper" style="left: -34px;"><div class="CodeMirror-linenumber CodeMirror-gutter-elt" style="left: 0px; width: 21px;">6</div></div><pre class=" CodeMirror-line "><span style="padding-right: 0.1px;">                            <span class="cm-string">'quantity'</span>, <span class="cm-string">'transaction_id'</span>,<span class="cm-string">'item_unit_price'</span>,<span class="cm-string">'overall_luxury_score'</span>, <span class="cm-string">'overall_luxury_ind'</span>) </span></pre></div><div style="position: relative;"><div class="CodeMirror-gutter-wrapper" style="left: -34px;"><div class="CodeMirror-linenumber CodeMirror-gutter-elt" style="left: 0px; width: 21px;">7</div></div><pre class=" CodeMirror-line "><span style="padding-right: 0.1px;"><span class="cm-variable">yocuda_luxury_score_tot</span>.<span class="cm-variable">show</span>(<span class="cm-number">5</span>)</span></pre></div><div style="position: relative; display: none;"><div class="CodeMirror-gutter-wrapper" style="left: -34px;"><div class="CodeMirror-linenumber CodeMirror-gutter-elt" style="left: 0px; width: 21px;">7</div></div><pre class=" CodeMirror-line "><span style="padding-right: 0.1px;"><span class="cm-variable">yocuda_luxury_score_tot</span>.<span class="cm-variable">show</span>(<span class="cm-number">5</span>)</span></pre></div></div></div></div></div></div><div style="position: absolute; height: 30px; width: 1px; top: 159px;"></div><div class="CodeMirror-gutters" style="height: 189px; left: 0px;"><div class="CodeMirror-gutter CodeMirror-linenumbers" style="width: 33px;"></div></div></div></div></div></div></div><div class="widget-area" style="display: none;"><div class="prompt"><button class="close">�</button></div><div class="widget-subarea jp-Output-result"></div></div><div class="output_wrapper"><div class="out_prompt_overlay prompt" title="click to scroll output; double click to hide" style="display: block;"></div><div class="output" style=""><div class="output_area"><div class="prompt"></div><div class="output_subarea output_text output_stream output_stdout"><pre>+--------------------+------------+------------------+-------------------+----------+----------+---------------------+--------------------+--------+--------------------+-------------------+--------------------+--------------------+
|          identifier|       brand|          category| transaction_amount|product_id|item_total|item_discounts_amount|           timestamp|quantity|      transaction_id|    item_unit_price|overall_luxury_score|  overall_luxury_ind|
+--------------------+------------+------------------+-------------------+----------+----------+---------------------+--------------------+--------+--------------------+-------------------+--------------------+--------------------+
|   -.tmh24@gmail.com|Other Brands|      Electronics |              13.99|  631/5706|     13.99|                 null|2017-05-31 08:09:...|       1|20170531 / 461 / ...|              13.99|                 4.0|overall_non_lux_s...|
|-indiaismial78672...|Other Brands|   Home &amp; Kitchen |              73.97|  832/2292|     17.99|                 null|2017-01-13 15:49:...|       1|20170113 / 763 / ...|              73.97|                 3.0|overall_non_lux_s...|
|-indiaismial78672...|Other Brands|   Home &amp; Kitchen |              73.97|  900/0104|     39.99|                 null|2017-01-13 15:49:...|       1|20170113 / 763 / ...|              73.97|                 3.0|overall_non_lux_s...|
|-indiaismial78672...|Other Brands|   Home &amp; Kitchen |              73.97|  830/0056|     15.99|                 null|2017-01-13 15:49:...|       1|20170113 / 763 / ...|              73.97|                 3.0|overall_non_lux_s...|
|.j.douglas@hotmai...|Other Brands|Sports &amp; Outdoors |-2.9999999999999982|  616/9567|     14.99|                 null|2017-07-20 10:55:...|       1|20170720 / 127 / ...|-2.9999999999999982|                 4.0|overall_non_lux_s...|
+--------------------+------------+------------------+-------------------+----------+----------+---------------------+--------------------+--------+--------------------+-------------------+--------------------+--------------------+
only showing top 5 rows

</pre></div></div></div><div class="btn btn-default output_collapsed" title="click to expand output" style="display: none;">. . .</div></div><div class="cellPlaceholder btn btn-default" title="Uncollapse cell"></div></div><div class="cell code_cell rendered session completed unselected" tabindex="2"><div class="dropdown minitoolbar"><button class="btn btn-default dropdown-toggle minitoolbar-toggle" data-toggle="dropdown"><i class="material-icons">menu</i></button><ul class="dropdown-menu"><li><a href="http://localhost:8084/notebooks/UK_Shopper_Attributes/Luxury_Indicator.ipynb#"><i class="material-icons glyph-run-cell" style="padding-right: 10px;">play_arrow</i><span class="title-run-cell">Run</span></a></li><li><a href="http://localhost:8084/notebooks/UK_Shopper_Attributes/Luxury_Indicator.ipynb#"><i class="material-icons glyph-clear-cell" style="padding-right: 10px;">check_box_outline_blank</i><span class="title-clear-cell">Clear</span></a></li><li><a href="http://localhost:8084/notebooks/UK_Shopper_Attributes/Luxury_Indicator.ipynb#"><i class="material-icons glyph-collapse-cell" style="padding-right: 10px;">vertical_align_top</i><span class="title-collapse-cell">Collapse</span></a></li><li><a href="http://localhost:8084/notebooks/UK_Shopper_Attributes/Luxury_Indicator.ipynb#"><i class="material-icons glyph-collapse-code" style="padding-right: 10px;">code</i><span class="title-collapse-code">Hide Code</span></a></li></ul></div><div class="input"><div class="prompt input_prompt"></div><div class="inner_cell"><div class="ctb_hideshow"><div class="celltoolbar"></div></div><div class="input_area"><div class="CodeMirror cm-s-ipython"><div style="overflow: hidden; position: relative; width: 3px; height: 0px; top: 90px; left: 805px;"><textarea autocorrect="off" autocapitalize="off" spellcheck="false" tabindex="0" style="position: absolute; padding: 0px; width: 1000px; height: 1em; outline: none;"></textarea></div><div class="CodeMirror-vscrollbar" cm-not-content="true" style="min-width: 18px;"><div style="min-width: 1px; height: 0px;"></div></div><div class="CodeMirror-hscrollbar" cm-not-content="true" style="right: 0px; left: 34px; display: block;"><div style="height: 100%; min-height: 1px; width: 1677px;"></div></div><div class="CodeMirror-scrollbar-filler" cm-not-content="true"></div><div class="CodeMirror-gutter-filler" cm-not-content="true"></div><div class="CodeMirror-scroll" tabindex="-1" draggable="false"><div class="CodeMirror-sizer" style="margin-left: 34px; min-width: 1677px; margin-bottom: 0px; border-right-width: 30px; min-height: 138px; padding-right: 0px; padding-bottom: 0px;"><div style="position: relative; top: 0px;"><div class="CodeMirror-lines"><div style="position: relative; outline: none;"><div class="CodeMirror-measure"><div class="CodeMirror-linenumber CodeMirror-gutter-elt"><div>6</div></div></div><div class="CodeMirror-measure"></div><div style="position: relative; z-index: 1;"></div><div class="CodeMirror-cursors" style="visibility: hidden;"><div class="CodeMirror-cursor" style="left: 765px; top: 84px; height: 21px;">&nbsp;</div></div><div class="CodeMirror-code" style=""><div style="position: relative;"><div class="CodeMirror-gutter-wrapper" style="left: -30px;"><div class="CodeMirror-linenumber CodeMirror-gutter-elt" style="left: 0px; width: 21px;">1</div></div><pre class=" CodeMirror-line "><span style="padding-right: 0.1px;"><span class="cm-variable">sum2</span> =<span class="cm-variable">yocuda_luxury_score_tot</span>.<span class="cm-variable">withColumn</span>(<span class="cm-string">'overall_luxury_score'</span>, <span class="cm-variable">floor</span>(<span class="cm-string">'overall_luxury_score'</span>)).<span class="cm-variable">groupBy</span>(<span class="cm-string">"overall_luxury_score"</span>).<span class="cm-variable">agg</span>(<span class="cm-variable">countDistinct</span>(<span class="cm-string">'identifier'</span>).<span class="cm-variable">alias</span>(<span class="cm-string">'unique_shoppers'</span>),<span class="cm-error">\</span></span></pre></div><div style="position: relative;"><div class="CodeMirror-gutter-wrapper" style="left: -30px;"><div class="CodeMirror-linenumber CodeMirror-gutter-elt" style="left: 0px; width: 21px;">2</div></div><pre class=" CodeMirror-line "><span style="padding-right: 0.1px;">                  <span class="cm-builtin">sum</span>(<span class="cm-string">'item_total'</span>).<span class="cm-variable">alias</span>(<span class="cm-string">'spend'</span>),<span class="cm-error">\</span></span></pre></div><div style="position: relative;"><div class="CodeMirror-gutter-wrapper" style="left: -30px;"><div class="CodeMirror-linenumber CodeMirror-gutter-elt" style="left: 0px; width: 21px;">3</div></div><pre class=" CodeMirror-line "><span style="padding-right: 0.1px;">                 <span class="cm-variable">countDistinct</span>(<span class="cm-string">'transaction_id'</span>).<span class="cm-variable">alias</span>(<span class="cm-string">'num_of_txns'</span>),<span class="cm-error">\</span></span></pre></div><div style="position: relative;"><div class="CodeMirror-gutter-wrapper" style="left: -30px;"><div class="CodeMirror-linenumber CodeMirror-gutter-elt" style="left: 0px; width: 21px;">4</div></div><pre class=" CodeMirror-line "><span style="padding-right: 0.1px;">                 <span class="cm-builtin">sum</span>(<span class="cm-string">'quantity'</span>).<span class="cm-variable">alias</span>(<span class="cm-string">'quantity'</span>))<span class="cm-error">\</span></span></pre></div><div style="position: relative;"><div class="CodeMirror-gutter-wrapper" style="left: -30px;"><div class="CodeMirror-linenumber CodeMirror-gutter-elt" style="left: 0px; width: 21px;">5</div></div><pre class=" CodeMirror-line "><span style="padding-right: 0.1px;">                .<span class="cm-variable">withColumn</span>(<span class="cm-string">'avg_price_purchased_prods'</span>,<span class="cm-variable">col</span>(<span class="cm-string">'spend'</span>)<span class="cm-operator">/</span><span class="cm-variable">col</span>(<span class="cm-string">'quantity'</span>))</span></pre></div><div style="position: relative;"><div class="CodeMirror-gutter-wrapper" style="left: -30px;"><div class="CodeMirror-linenumber CodeMirror-gutter-elt" style="left: 0px; width: 21px;">6</div></div><pre class=" CodeMirror-line "><span style="padding-right: 0.1px;"><span class="cm-variable">sum2</span>.<span class="cm-variable">show</span>(<span class="cm-number">6</span>)</span></pre></div><div style="position: relative; display: none;"><div class="CodeMirror-gutter-wrapper" style="left: -34px;"><div class="CodeMirror-linenumber CodeMirror-gutter-elt" style="left: 0px; width: 21px;">2</div></div><pre class=" CodeMirror-line "><span style="padding-right: 0.1px;">                  <span class="cm-builtin">sum</span>(<span class="cm-string">'item_total'</span>).<span class="cm-variable">alias</span>(<span class="cm-string">'spend'</span>),<span class="cm-error">\</span></span></pre></div></div></div></div></div></div><div style="position: absolute; height: 30px; width: 1px; top: 138px;"></div><div class="CodeMirror-gutters" style="height: 168px; left: 4px;"><div class="CodeMirror-gutter CodeMirror-linenumbers" style="width: 33px;"></div></div></div></div></div></div></div><div class="widget-area" style="display: none;"><div class="prompt"><button class="close">�</button></div><div class="widget-subarea jp-Output-result"></div></div><div class="output_wrapper"><div class="out_prompt_overlay prompt" title="click to scroll output; double click to hide" style="display: block;"></div><div class="output" style=""><div class="output_area"><div class="prompt"></div><div class="output_subarea output_text output_stream output_stdout"><pre>+--------------------+---------------+--------------------+-----------+-----------+-------------------------+
|overall_luxury_score|unique_shoppers|               spend|num_of_txns|   quantity|avg_price_purchased_prods|
+--------------------+---------------+--------------------+-----------+-----------+-------------------------+
|                null|         879369| 9.221364122999571E7|     916617|  1078129.0|        85.53117598171991|
|                   5|        1202310|1.8932506316998821E8|    1344884|  1577653.0|       120.00424882403685|
|                   1|          24674|   638062.8799999978|      27649|    41454.0|       15.392070246538278|
|                   3|        4874789| 5.704587440808098E8|   10150848|1.9197759E7|       29.714861202331473|
|                   2|         516608|2.5633598500002168E7|     756059|  1386273.0|       18.491017642269718|
|                   4|        4606224| 5.485284309703792E8|    6910098|1.0189338E7|        53.83356906703647|
+--------------------+---------------+--------------------+-----------+-----------+-------------------------+

</pre></div></div></div><div class="btn btn-default output_collapsed" title="click to expand output" style="display: none;">. . .</div></div><div class="cellPlaceholder btn btn-default" title="Uncollapse cell"></div></div><div class="cell text_cell rendered unselected" tabindex="2"><div class="dropdown minitoolbar"><button class="btn btn-default dropdown-toggle minitoolbar-toggle" data-toggle="dropdown"><i class="material-icons">menu</i></button><ul class="dropdown-menu"><li><a href="http://localhost:8084/notebooks/UK_Shopper_Attributes/Luxury_Indicator.ipynb#"><i class="material-icons glyph-run-cell" style="padding-right: 10px;">play_arrow</i><span class="title-run-cell">Run</span></a></li><li><a href="http://localhost:8084/notebooks/UK_Shopper_Attributes/Luxury_Indicator.ipynb#"><i class="material-icons glyph-clear-cell" style="padding-right: 10px;">check_box_outline_blank</i><span class="title-clear-cell">Clear</span></a></li><li><a href="http://localhost:8084/notebooks/UK_Shopper_Attributes/Luxury_Indicator.ipynb#"><i class="material-icons glyph-collapse-cell" style="padding-right: 10px;">vertical_align_top</i><span class="title-collapse-cell">Collapse</span></a></li><li><a href="http://localhost:8084/notebooks/UK_Shopper_Attributes/Luxury_Indicator.ipynb#"><i class="material-icons glyph-collapse-code" style="padding-right: 10px;">code</i><span class="title-collapse-code">Hide Code</span></a></li></ul></div><div class="prompt input_prompt"></div><div class="inner_cell"><div class="ctb_hideshow"><div class="celltoolbar"></div></div><div class="input_area"><div class="CodeMirror cm-s-default CodeMirror-wrap"><div style="overflow: hidden; position: relative; width: 3px; height: 0px; top: 6px; left: 429px;"><textarea autocorrect="off" autocapitalize="off" spellcheck="false" tabindex="0" style="position: absolute; padding: 0px; width: 1000px; height: 1em; outline: none;"></textarea></div><div class="CodeMirror-vscrollbar" cm-not-content="true" style="min-width: 18px;"><div style="min-width: 1px; height: 0px;"></div></div><div class="CodeMirror-hscrollbar" cm-not-content="true" style=""><div style="height: 100%; min-height: 1px; width: 0px;"></div></div><div class="CodeMirror-scrollbar-filler" cm-not-content="true"></div><div class="CodeMirror-gutter-filler" cm-not-content="true"></div><div class="CodeMirror-scroll" tabindex="-1"><div class="CodeMirror-sizer" style="margin-left: 0px; margin-bottom: 0px; border-right-width: 30px; min-height: 33px; padding-right: 0px; padding-bottom: 0px;"><div style="position: relative; top: 0px;"><div class="CodeMirror-lines"><div style="position: relative; outline: none;"><div class="CodeMirror-measure"><pre><span>xxxxxxxxxx</span></pre></div><div class="CodeMirror-measure"></div><div style="position: relative; z-index: 1;"></div><div class="CodeMirror-cursors" style="visibility: hidden;"><div class="CodeMirror-cursor" style="left: 423px; top: 0px; height: 21px;">&nbsp;</div></div><div class="CodeMirror-code"><pre class=" CodeMirror-line "><span style="padding-right: 0.1px;"><span class="cm-header cm-header-3">### Investigating brands in an example category</span></span></pre></div></div></div></div></div><div style="position: absolute; height: 30px; width: 1px; top: 33px;"></div><div class="CodeMirror-gutters" style="display: none; height: 63px;"></div></div></div></div><div class="text_cell_render rendered_html" tabindex="-1"><h3 id="Investigating-brands-in-an-example-category">Investigating brands in an example category<a class="anchor-link" href="http://localhost:8084/notebooks/UK_Shopper_Attributes/Luxury_Indicator.ipynb#Investigating-brands-in-an-example-category">�</a></h3>
</div></div><div class="cellPlaceholder btn btn-default" title="Uncollapse cell"></div></div><div class="cell code_cell session rendered completed unselected" tabindex="2"><div class="dropdown minitoolbar"><button class="btn btn-default dropdown-toggle minitoolbar-toggle" data-toggle="dropdown"><i class="material-icons">menu</i></button><ul class="dropdown-menu"><li><a href="http://localhost:8084/notebooks/UK_Shopper_Attributes/Luxury_Indicator.ipynb#"><i class="material-icons glyph-run-cell" style="padding-right: 10px;">play_arrow</i><span class="title-run-cell">Run</span></a></li><li><a href="http://localhost:8084/notebooks/UK_Shopper_Attributes/Luxury_Indicator.ipynb#"><i class="material-icons glyph-clear-cell" style="padding-right: 10px;">check_box_outline_blank</i><span class="title-clear-cell">Clear</span></a></li><li><a href="http://localhost:8084/notebooks/UK_Shopper_Attributes/Luxury_Indicator.ipynb#"><i class="material-icons glyph-collapse-cell" style="padding-right: 10px;">vertical_align_top</i><span class="title-collapse-cell">Collapse</span></a></li><li><a href="http://localhost:8084/notebooks/UK_Shopper_Attributes/Luxury_Indicator.ipynb#"><i class="material-icons glyph-collapse-code" style="padding-right: 10px;">code</i><span class="title-collapse-code">Hide Code</span></a></li></ul></div><div class="input"><div class="prompt input_prompt"></div><div class="inner_cell"><div class="ctb_hideshow"><div class="celltoolbar"></div></div><div class="input_area"><div class="CodeMirror cm-s-ipython"><div style="overflow: hidden; position: relative; width: 3px; height: 0px; top: 174px; left: 706px;"><textarea autocorrect="off" autocapitalize="off" spellcheck="false" tabindex="0" style="position: absolute; padding: 0px; width: 1000px; height: 1em; outline: none;"></textarea></div><div class="CodeMirror-vscrollbar" cm-not-content="true" style="min-width: 18px;"><div style="min-width: 1px; height: 0px;"></div></div><div class="CodeMirror-hscrollbar" cm-not-content="true" style="display: block; right: 0px; left: 34px;"><div style="height: 100%; min-height: 1px; width: 1605px;"></div></div><div class="CodeMirror-scrollbar-filler" cm-not-content="true"></div><div class="CodeMirror-gutter-filler" cm-not-content="true"></div><div class="CodeMirror-scroll" tabindex="-1"><div class="CodeMirror-sizer" style="margin-left: 34px; min-width: 1605px; margin-bottom: 0px; border-right-width: 30px; min-height: 201px; padding-right: 0px; padding-bottom: 0px;"><div style="position: relative; top: 0px;"><div class="CodeMirror-lines"><div style="position: relative; outline: none;"><div class="CodeMirror-measure"><div class="CodeMirror-linenumber CodeMirror-gutter-elt"><div>9</div></div></div><div class="CodeMirror-measure"></div><div style="position: relative; z-index: 1;"></div><div class="CodeMirror-cursors" style="visibility: hidden;"><div class="CodeMirror-cursor" style="left: 666px; top: 168px; height: 21px;">&nbsp;</div></div><div class="CodeMirror-code" style=""><div style="position: relative;"><div class="CodeMirror-gutter-wrapper" style="left: -34px;"><div class="CodeMirror-linenumber CodeMirror-gutter-elt" style="left: 0px; width: 21px;">1</div></div><pre class=" CodeMirror-line "><span style="padding-right: 0.1px;"><span class="cm-variable">brand_level_luxury_score</span> = <span class="cm-variable">base_data</span>.<span class="cm-variable">join</span>(<span class="cm-variable">luxury_scores</span> <span class="cm-error">\</span></span></pre></div><div style="position: relative;"><div class="CodeMirror-gutter-wrapper" style="left: -34px;"><div class="CodeMirror-linenumber CodeMirror-gutter-elt" style="left: 0px; width: 21px;">2</div></div><pre class=" CodeMirror-line "><span style="padding-right: 0.1px;">                          .<span class="cm-variable">withColumn</span>(<span class="cm-string">'bucket_value'</span>, <span class="cm-variable">when</span>(<span class="cm-variable">col</span>(<span class="cm-string">'percentile_rank'</span>) <span class="cm-operator">&gt;=</span> <span class="cm-number">0.8</span>,<span class="cm-number">5</span>).<span class="cm-variable">when</span>(<span class="cm-variable">col</span>(<span class="cm-string">'percentile_rank'</span>) <span class="cm-operator">&gt;=</span> <span class="cm-number">0.6</span>,<span class="cm-number">4</span>) <span class="cm-error">\</span></span></pre></div><div style="position: relative;"><div class="CodeMirror-gutter-wrapper" style="left: -34px;"><div class="CodeMirror-linenumber CodeMirror-gutter-elt" style="left: 0px; width: 21px;">3</div></div><pre class=" CodeMirror-line "><span style="padding-right: 0.1px;">                          .<span class="cm-variable">when</span>(<span class="cm-variable">col</span>(<span class="cm-string">'percentile_rank'</span>) <span class="cm-operator">&gt;=</span> <span class="cm-number">0.4</span>,<span class="cm-number">3</span>).<span class="cm-variable">when</span>(<span class="cm-variable">col</span>(<span class="cm-string">'percentile_rank'</span>) <span class="cm-operator">&gt;=</span> <span class="cm-number">0.2</span>,<span class="cm-number">2</span>) <span class="cm-error">\</span></span></pre></div><div style="position: relative;"><div class="CodeMirror-gutter-wrapper" style="left: -34px;"><div class="CodeMirror-linenumber CodeMirror-gutter-elt" style="left: 0px; width: 21px;">4</div></div><pre class=" CodeMirror-line "><span style="padding-right: 0.1px;">                          .<span class="cm-variable">otherwise</span>(<span class="cm-number">1</span>)).<span class="cm-variable">select</span>(<span class="cm-string">'brand'</span>, <span class="cm-string">'category'</span>,<span class="cm-string">'bucket_value'</span>), [<span class="cm-string">'brand'</span>,<span class="cm-string">'category'</span>], <span class="cm-string">'inner'</span>) <span class="cm-error">\</span></span></pre></div><div style="position: relative;"><div class="CodeMirror-gutter-wrapper" style="left: -34px;"><div class="CodeMirror-linenumber CodeMirror-gutter-elt" style="left: 0px; width: 21px;">5</div></div><pre class=" CodeMirror-line "><span style="padding-right: 0.1px;">        .<span class="cm-variable">select</span>(<span class="cm-string">'brand'</span>,<span class="cm-string">'category'</span>, <span class="cm-string">'quantity'</span>, <span class="cm-string">'bucket_value'</span>, <span class="cm-string">'item_total'</span>) <span class="cm-error">\</span></span></pre></div><div style="position: relative;"><div class="CodeMirror-gutter-wrapper" style="left: -34px;"><div class="CodeMirror-linenumber CodeMirror-gutter-elt" style="left: 0px; width: 21px;">6</div></div><pre class=" CodeMirror-line "><span style="padding-right: 0.1px;">        .<span class="cm-variable">withColumn</span>(<span class="cm-string">'total_bucket_value'</span>, <span class="cm-variable">col</span>(<span class="cm-string">'quantity'</span>) <span class="cm-operator">*</span> <span class="cm-variable">col</span>(<span class="cm-string">'bucket_value'</span>)) <span class="cm-error">\</span></span></pre></div><div style="position: relative;"><div class="CodeMirror-gutter-wrapper" style="left: -34px;"><div class="CodeMirror-linenumber CodeMirror-gutter-elt" style="left: 0px; width: 21px;">7</div></div><pre class=" CodeMirror-line "><span style="padding-right: 0.1px;">        .<span class="cm-variable">groupBy</span>(<span class="cm-string">'brand'</span>,<span class="cm-string">'category'</span>).<span class="cm-variable">agg</span>(<span class="cm-builtin">sum</span>(<span class="cm-variable">col</span>(<span class="cm-string">'quantity'</span>)).<span class="cm-variable">alias</span>(<span class="cm-string">'net_quantity'</span>), <span class="cm-builtin">sum</span>(<span class="cm-variable">col</span>(<span class="cm-string">'total_bucket_value'</span>)).<span class="cm-variable">alias</span>(<span class="cm-string">'sum_buckets'</span>), <span class="cm-builtin">sum</span>(<span class="cm-variable">col</span>(<span class="cm-string">'item_total'</span>)).<span class="cm-variable">alias</span>(<span class="cm-string">'spend'</span>)) <span class="cm-error">\</span></span></pre></div><div style="position: relative;"><div class="CodeMirror-gutter-wrapper" style="left: -34px;"><div class="CodeMirror-linenumber CodeMirror-gutter-elt" style="left: 0px; width: 21px;">8</div></div><pre class=" CodeMirror-line "><span style="padding-right: 0.1px;">        .<span class="cm-variable">withColumn</span>(<span class="cm-string">'luxury_score'</span>, <span class="cm-variable">col</span>(<span class="cm-string">'sum_buckets'</span>) <span class="cm-operator">/</span> <span class="cm-variable">col</span>(<span class="cm-string">'net_quantity'</span>)) <span class="cm-error">\</span></span></pre></div><div style="position: relative;"><div class="CodeMirror-gutter-wrapper" style="left: -34px;"><div class="CodeMirror-linenumber CodeMirror-gutter-elt" style="left: 0px; width: 21px;">9</div></div><pre class=" CodeMirror-line "><span style="padding-right: 0.1px;">        .<span class="cm-variable">select</span>(<span class="cm-string">'brand'</span>,<span class="cm-string">'category'</span>, <span class="cm-string">'luxury_score'</span>,<span class="cm-string">'net_quantity'</span>,<span class="cm-string">'spend'</span>)</span></pre></div></div></div></div></div></div><div style="position: absolute; height: 30px; width: 1px; top: 201px;"></div><div class="CodeMirror-gutters" style="height: 231px; left: 0px;"><div class="CodeMirror-gutter CodeMirror-linenumbers" style="width: 33px;"></div></div></div></div></div></div></div><div class="widget-area" style="display: none;"><div class="prompt"><button class="close">�</button></div><div class="widget-subarea jp-Output-result"></div></div><div class="output_wrapper"><div class="out_prompt_overlay prompt" title="click to scroll output; double click to hide" style="display: block;"></div><div class="output" style=""></div><div class="btn btn-default output_collapsed" title="click to expand output" style="display: none;">. . .</div></div><div class="cellPlaceholder btn btn-default" title="Uncollapse cell"></div></div><div class="cell code_cell session rendered completed unselected" tabindex="2"><div class="dropdown minitoolbar"><button class="btn btn-default dropdown-toggle minitoolbar-toggle" data-toggle="dropdown"><i class="material-icons">menu</i></button><ul class="dropdown-menu"><li><a href="http://localhost:8084/notebooks/UK_Shopper_Attributes/Luxury_Indicator.ipynb#"><i class="material-icons glyph-run-cell" style="padding-right: 10px;">play_arrow</i><span class="title-run-cell">Run</span></a></li><li><a href="http://localhost:8084/notebooks/UK_Shopper_Attributes/Luxury_Indicator.ipynb#"><i class="material-icons glyph-clear-cell" style="padding-right: 10px;">check_box_outline_blank</i><span class="title-clear-cell">Clear</span></a></li><li><a href="http://localhost:8084/notebooks/UK_Shopper_Attributes/Luxury_Indicator.ipynb#"><i class="material-icons glyph-collapse-cell" style="padding-right: 10px;">vertical_align_top</i><span class="title-collapse-cell">Collapse</span></a></li><li><a href="http://localhost:8084/notebooks/UK_Shopper_Attributes/Luxury_Indicator.ipynb#"><i class="material-icons glyph-collapse-code" style="padding-right: 10px;">code</i><span class="title-collapse-code">Hide Code</span></a></li></ul></div><div class="input"><div class="prompt input_prompt"></div><div class="inner_cell"><div class="ctb_hideshow"><div class="celltoolbar"></div></div><div class="input_area"><div class="CodeMirror cm-s-ipython"><div style="overflow: hidden; position: relative; width: 3px; height: 0px; top: 6px; left: 337px;"><textarea autocorrect="off" autocapitalize="off" spellcheck="false" tabindex="0" style="position: absolute; padding: 0px; width: 1000px; height: 1em; outline: none;"></textarea></div><div class="CodeMirror-vscrollbar" cm-not-content="true" style="min-width: 18px;"><div style="min-width: 1px; height: 0px;"></div></div><div class="CodeMirror-hscrollbar" cm-not-content="true" style=""><div style="height: 100%; min-height: 1px; width: 0px;"></div></div><div class="CodeMirror-scrollbar-filler" cm-not-content="true"></div><div class="CodeMirror-gutter-filler" cm-not-content="true"></div><div class="CodeMirror-scroll" tabindex="-1"><div class="CodeMirror-sizer" style="margin-left: 34px; min-width: 300px; margin-bottom: 0px; border-right-width: 30px; min-height: 33px; padding-right: 0px; padding-bottom: 0px;"><div style="position: relative; top: 0px;"><div class="CodeMirror-lines"><div style="position: relative; outline: none;"><div class="CodeMirror-measure"><div class="CodeMirror-linenumber CodeMirror-gutter-elt"><div>1</div></div></div><div class="CodeMirror-measure"></div><div style="position: relative; z-index: 1;"></div><div class="CodeMirror-cursors" style="visibility: hidden;"><div class="CodeMirror-cursor" style="left: 297px; top: 0px; height: 21px;">&nbsp;</div></div><div class="CodeMirror-code"><div style="position: relative;"><div class="CodeMirror-gutter-wrapper" style="left: -34px;"><div class="CodeMirror-linenumber CodeMirror-gutter-elt" style="left: 0px; width: 21px;">1</div></div><pre class=" CodeMirror-line "><span style="padding-right: 0.1px;"><span class="cm-variable">brand_level_luxury_score</span>.<span class="cm-variable">show</span>(<span class="cm-number">10</span>)</span></pre></div></div></div></div></div></div><div style="position: absolute; height: 30px; width: 1px; top: 33px;"></div><div class="CodeMirror-gutters" style="height: 63px;"><div class="CodeMirror-gutter CodeMirror-linenumbers" style="width: 33px;"></div></div></div></div></div></div></div><div class="widget-area" style="display: none;"><div class="prompt"><button class="close">�</button></div><div class="widget-subarea jp-Output-result"></div></div><div class="output_wrapper"><div class="out_prompt_overlay prompt" title="click to scroll output; double click to hide" style="display: block;"></div><div class="output" style=""><div class="output_area"><div class="prompt"></div><div class="output_subarea output_text output_stream output_stdout"><pre>+---------------+--------------------+------------+------------+------------------+
|          brand|            category|luxury_score|net_quantity|             spend|
+---------------+--------------------+------------+------------+------------------+
|       2k Games|        Video Games |         5.0|      7575.0| 297116.3099999689|
|        Muskoka|          Furniture |         5.0|         3.0|           5099.97|
|    donna karan|            Jewelry |         4.0|       177.0|15995.229999999967|
|         garmin|Computers &amp; Acces...|         5.0|       262.0| 23251.38000000008|
|rubie's costume|    Office Products |         1.0|         7.0|148.92999999999998|
|           swan|Tools &amp; Home Impr...|         4.0|        95.0|26141.160000000033|
|         Abacus|    Office Products |         1.0|       227.0|  2669.72999999999|
|       Kingsley|     Home &amp; Kitchen |         3.0|      4223.0|41443.320000000625|
|       Sabatier|     Home &amp; Kitchen |         4.0|      1489.0|  47218.1099999998|
|         adidas|            Jewelry |         3.0|      8111.0|186381.70999999085|
+---------------+--------------------+------------+------------+------------------+
only showing top 10 rows

</pre></div></div></div><div class="btn btn-default output_collapsed" title="click to expand output" style="display: none;">. . .</div></div><div class="cellPlaceholder btn btn-default" title="Uncollapse cell"></div></div><div class="cell code_cell session rendered completed unselected" tabindex="2"><div class="dropdown minitoolbar"><button class="btn btn-default dropdown-toggle minitoolbar-toggle" data-toggle="dropdown"><i class="material-icons">menu</i></button><ul class="dropdown-menu"><li><a href="http://localhost:8084/notebooks/UK_Shopper_Attributes/Luxury_Indicator.ipynb#"><i class="material-icons glyph-run-cell" style="padding-right: 10px;">play_arrow</i><span class="title-run-cell">Run</span></a></li><li><a href="http://localhost:8084/notebooks/UK_Shopper_Attributes/Luxury_Indicator.ipynb#"><i class="material-icons glyph-clear-cell" style="padding-right: 10px;">check_box_outline_blank</i><span class="title-clear-cell">Clear</span></a></li><li><a href="http://localhost:8084/notebooks/UK_Shopper_Attributes/Luxury_Indicator.ipynb#"><i class="material-icons glyph-collapse-cell" style="padding-right: 10px;">vertical_align_top</i><span class="title-collapse-cell">Collapse</span></a></li><li><a href="http://localhost:8084/notebooks/UK_Shopper_Attributes/Luxury_Indicator.ipynb#"><i class="material-icons glyph-collapse-code" style="padding-right: 10px;">code</i><span class="title-collapse-code">Hide Code</span></a></li></ul></div><div class="input"><div class="prompt input_prompt"></div><div class="inner_cell"><div class="ctb_hideshow"><div class="celltoolbar"></div></div><div class="input_area"><div class="CodeMirror cm-s-ipython"><div style="overflow: hidden; position: relative; width: 3px; height: 0px; top: 6px; left: 1075px;"><textarea autocorrect="off" autocapitalize="off" spellcheck="false" tabindex="0" style="position: absolute; padding: 0px; width: 1000px; height: 1em; outline: none;"></textarea></div><div class="CodeMirror-vscrollbar" cm-not-content="true" style="min-width: 18px;"><div style="min-width: 1px; height: 0px;"></div></div><div class="CodeMirror-hscrollbar" cm-not-content="true" style="right: 0px; left: 34px;"><div style="height: 100%; min-height: 1px; width: 0px;"></div></div><div class="CodeMirror-scrollbar-filler" cm-not-content="true"></div><div class="CodeMirror-gutter-filler" cm-not-content="true"></div><div class="CodeMirror-scroll" tabindex="-1"><div class="CodeMirror-sizer" style="margin-left: 34px; min-width: 1155px; margin-bottom: 0px; border-right-width: 30px; min-height: 33px; padding-right: 0px; padding-bottom: 0px;"><div style="position: relative; top: 0px;"><div class="CodeMirror-lines"><div style="position: relative; outline: none;"><div class="CodeMirror-measure"><div class="CodeMirror-linenumber CodeMirror-gutter-elt"><div>1</div></div></div><div class="CodeMirror-measure"></div><div style="position: relative; z-index: 1;"></div><div class="CodeMirror-cursors" style="visibility: hidden;"><div class="CodeMirror-cursor" style="left: 1035px; top: 0px; height: 21px;">&nbsp;</div></div><div class="CodeMirror-code"><div style="position: relative;"><div class="CodeMirror-gutter-wrapper" style="left: -34px;"><div class="CodeMirror-linenumber CodeMirror-gutter-elt" style="left: 0px; width: 21px;">1</div></div><pre class=" CodeMirror-line "><span style="padding-right: 0.1px;">(<span class="cm-variable">brand_level_luxury_score</span>.<span class="cm-variable">coalesce</span>(<span class="cm-number">1</span>).<span class="cm-variable">write</span>.<span class="cm-variable">option</span>(<span class="cm-string">"header"</span>, <span class="cm-string">"true"</span>).<span class="cm-variable">csv</span>(<span class="cm-string">"gs://westfield-tom/datalab/brand_level_luxury_score"</span>))</span></pre></div></div></div></div></div></div><div style="position: absolute; height: 30px; width: 1px; top: 33px;"></div><div class="CodeMirror-gutters" style="height: 63px; left: 0px;"><div class="CodeMirror-gutter CodeMirror-linenumbers" style="width: 33px;"></div></div></div></div></div></div></div><div class="widget-area" style="display: none;"><div class="prompt"><button class="close">�</button></div><div class="widget-subarea jp-Output-result"></div></div><div class="output_wrapper"><div class="out_prompt_overlay prompt" title="click to scroll output; double click to hide" style="display: none;"></div><div class="output" style=""></div><div class="btn btn-default output_collapsed" title="click to expand output" style="display: none;">. . .</div></div><div class="cellPlaceholder btn btn-default" title="Uncollapse cell"></div></div><div class="cell code_cell unrendered unselected" tabindex="2"><div class="dropdown minitoolbar"><button class="btn btn-default dropdown-toggle minitoolbar-toggle" data-toggle="dropdown"><i class="material-icons">menu</i></button><ul class="dropdown-menu"><li><a href="http://localhost:8084/notebooks/UK_Shopper_Attributes/Luxury_Indicator.ipynb#"><i class="material-icons glyph-run-cell" style="padding-right: 10px;">play_arrow</i><span class="title-run-cell">Run</span></a></li><li><a href="http://localhost:8084/notebooks/UK_Shopper_Attributes/Luxury_Indicator.ipynb#"><i class="material-icons glyph-clear-cell" style="padding-right: 10px;">check_box_outline_blank</i><span class="title-clear-cell">Clear</span></a></li><li><a href="http://localhost:8084/notebooks/UK_Shopper_Attributes/Luxury_Indicator.ipynb#"><i class="material-icons glyph-collapse-cell" style="padding-right: 10px;">vertical_align_top</i><span class="title-collapse-cell">Collapse</span></a></li><li><a href="http://localhost:8084/notebooks/UK_Shopper_Attributes/Luxury_Indicator.ipynb#"><i class="material-icons glyph-collapse-code" style="padding-right: 10px;">code</i><span class="title-collapse-code">Hide Code</span></a></li></ul></div><div class="input"><div class="prompt input_prompt"></div><div class="inner_cell"><div class="ctb_hideshow"><div class="celltoolbar"></div></div><div class="input_area"><div class="CodeMirror cm-s-ipython"><div style="overflow: hidden; position: relative; width: 3px; height: 0px; top: 6px; left: 40px;"><textarea autocorrect="off" autocapitalize="off" spellcheck="false" tabindex="0" style="position: absolute; padding: 0px; width: 1000px; height: 1em; outline: none;"></textarea></div><div class="CodeMirror-vscrollbar" cm-not-content="true" style="min-width: 18px;"><div style="min-width: 1px; height: 0px;"></div></div><div class="CodeMirror-hscrollbar" cm-not-content="true" style=""><div style="height: 100%; min-height: 1px; width: 0px;"></div></div><div class="CodeMirror-scrollbar-filler" cm-not-content="true"></div><div class="CodeMirror-gutter-filler" cm-not-content="true"></div><div class="CodeMirror-scroll" tabindex="-1"><div class="CodeMirror-sizer" style="margin-left: 34px; min-width: 3px; margin-bottom: 0px; border-right-width: 30px; min-height: 33px; padding-right: 0px; padding-bottom: 0px;"><div style="position: relative; top: 0px;"><div class="CodeMirror-lines"><div style="position: relative; outline: none;"><div class="CodeMirror-measure"><div class="CodeMirror-linenumber CodeMirror-gutter-elt"><div>1</div></div></div><div class="CodeMirror-measure"></div><div style="position: relative; z-index: 1;"></div><div class="CodeMirror-cursors" style=""><div class="CodeMirror-cursor" style="left: 0px; top: 0px; height: 21px;">&nbsp;</div></div><div class="CodeMirror-code"><div style="position: relative;"><div class="CodeMirror-gutter-wrapper" style="left: -34px;"><div class="CodeMirror-linenumber CodeMirror-gutter-elt" style="left: 0px; width: 21px;">1</div></div><pre class=" CodeMirror-line "><span style="padding-right: 0.1px;"><span cm-text="">&#8203;</span></span></pre></div></div></div></div></div></div><div style="position: absolute; height: 30px; width: 1px; top: 33px;"></div><div class="CodeMirror-gutters" style="height: 63px;"><div class="CodeMirror-gutter CodeMirror-linenumbers" style="width: 33px;"></div></div></div></div></div></div></div><div class="widget-area" style="display: none;"><div class="prompt"><button class="close">�</button></div><div class="widget-subarea jp-Output-result"></div></div><div class="output_wrapper"><div class="out_prompt_overlay prompt" title="click to expand output; double click to hide output" style="display: none;"></div><div class="output" style="display: none;"></div><div class="btn btn-default output_collapsed" title="click to expand output" style="display: none;">. . .</div></div><div class="cellPlaceholder btn btn-default" title="Uncollapse cell"></div></div></div><div class="end_space"></div></div>
                <div id="tooltip" class="ipython_tooltip" style="display:none"><div class="tooltipbuttons"><a href="http://localhost:8084/notebooks/UK_Shopper_Attributes/Luxury_Indicator.ipynb#" role="button" class="ui-button"><span class="ui-icon ui-icon-close">Close</span></a><a href="http://localhost:8084/notebooks/UK_Shopper_Attributes/Luxury_Indicator.ipynb#" class="ui-corner-all" role="button" id="expanbutton" title="Grow the tooltip vertically (press shift-tab twice)"><span class="ui-icon ui-icon-plus">Expand</span></a><a href="http://localhost:8084/notebooks/UK_Shopper_Attributes/Luxury_Indicator.ipynb#" role="button" class="ui-button" title="show the current docstring in pager (press shift-tab 4 times)"><span class="ui-icon ui-icon-arrowstop-l-n">Open in Pager</span></a><a href="http://localhost:8084/notebooks/UK_Shopper_Attributes/Luxury_Indicator.ipynb#" role="button" class="ui-button" title="Tooltip will linger for 10 seconds while you type" style="display: none;"><span class="ui-icon ui-icon-clock">Close</span></a></div><div class="pretooltiparrow"></div><div class="tooltiptext smalltooltip"></div></div>
              </div>
            </div>
          </div>
        </div>
        <div id="sidebarArea" style="display:none">
          <div id="sidebarContent">
            <div style="overflow: auto">
              <div class="btn-group">
               <button id="toggleSidebarButton" type="button" class="toolbar-btn" title="Toggle the size of the sidebar">
                 <i class="material-icons">chevron_left</i>
               </button>
  </div>
            </div>
            <div>
              <div id="navigation" style="display: none"><div><b>Notebook Outline</b></div><br><div><a href="http://localhost:8084/notebooks/UK_Shopper_Attributes/Luxury_Indicator.ipynb#" cellindex="0">UK Yocuda Luxury Analysis - 31st Jan,2018</a></div><div>&nbsp;&nbsp;&nbsp;<a href="http://localhost:8084/notebooks/UK_Shopper_Attributes/Luxury_Indicator.ipynb#" cellindex="29">Exporting Shopper-Category level luxury scores data file (csv format) into GCS</a></div><div>&nbsp;&nbsp;&nbsp;<a href="http://localhost:8084/notebooks/UK_Shopper_Attributes/Luxury_Indicator.ipynb#" cellindex="50">Exporting overall luxury score on a user-level data file (csv format) into GCS</a></div><div>&nbsp;&nbsp;&nbsp;&nbsp;&nbsp;&nbsp;<a href="http://localhost:8084/notebooks/UK_Shopper_Attributes/Luxury_Indicator.ipynb#" cellindex="55">Investigating brands in an example category</a></div></div>
              <div id="help">
    <p><b>Help for Python APIs</b></p>
    <p>
      You can enter <code>class?</code> or <code>member?</code> within a code cell in the
      notebook to get help on a Python API.
    </p>
    <br>
    <p>
      For example, try <code>str?</code> to get help information on the built-in Python
      method to convert a value to its string representation.
    </p>
    <br>
    <p>
      Additional help topics and links are also available from the menu off the Help
      icon on the top of the page.
    </p>
    <br>
    <p><b>Docs and Samples</b></p>
    <p>
      The <a href="http://localhost:8084/notebooks/datalab/docs/Readme.ipynb" target="_blank">Cloud Datalab Guide</a> featuring
      documentation and sample notebooks is also a great way to check out how you can use Cloud Datalab.
    </p>
  </div>
            </div>
          </div>
        </div>
      </div>
    </div>
    </div>
  </div>
  <script src="./Luxury_Indicator_files/promise.min.js"></script>
  <script src="./Luxury_Indicator_files/socket.io.js"></script>
  <script src="./Luxury_Indicator_files/require.js"></script>
  <script>
    window.sys_info = {};
    require.config({
      baseUrl: '/static/',
      paths: {
        'auth/js/main': 'auth/js/main.min',
        custom : '/custom',
        nbextensions : '/nbextensions',
        widgets : '/deprecatedwidgets',
        kernelspecs : '/kernelspecs',
        underscore : 'components/underscore/underscore-min',
        backbone : 'components/backbone/backbone-min',
        jquery: 'components/jquery/jquery.min',
        bootstrap: 'components/bootstrap/js/bootstrap.min',
        bootstraptour: 'components/bootstrap-tour/build/js/bootstrap-tour.min',
        jqueryui: 'components/jquery-ui/ui/minified/jquery-ui.min',
        moment: 'components/moment/moment',
        codemirror: 'components/codemirror',
        termjs: 'components/term.js/src/term',
      },
      shim: {
        underscore: {
          exports: '_'
        },
        backbone: {
          deps: ["underscore", "jquery"],
          exports: "Backbone"
        },
        bootstrap: {
          deps: ["jquery"],
          exports: "bootstrap"
        },
        bootstraptour: {
          deps: ["bootstrap"],
          exports: "Tour"
        },
        jqueryui: {
          deps: ["jquery"],
          exports: "$"
        }
      }
    });
    require.config({
       map: {
         '*': {
           'contents': 'services/contents',
         }
       }
    });
    window.datalab = {};

    $("#appBar").load("/static/appbar.html", function() {
      require(['notebook/js/main.min']);
    });
  </script>
  <script src="./Luxury_Indicator_files/api.js" async="true" defer="true"></script>
  <script type="text/fragment" id="cellStatus">
    <div class="status" style="display: none;">
      Running...
      <div class="progress progress-striped active">
        <div class="progress-bar" style="width: 100%"></div>
      </div>
    </div>
  </script>
  <script type="text/fragment" id="datalabHelp">
    <p><b>Help for Python APIs</b></p>
    <p>
      You can enter <code>class?</code> or <code>member?</code> within a code cell in the
      notebook to get help on a Python API.
    </p>
    <br />
    <p>
      For example, try <code>str?</code> to get help information on the built-in Python
      method to convert a value to its string representation.
    </p>
    <br />
    <p>
      Additional help topics and links are also available from the menu off the Help
      icon on the top of the page.
    </p>
    <br />
    <p><b>Docs and Samples</b></p>
    <p>
      The <a href="/notebooks/datalab/docs/Readme.ipynb" target="_blank">Cloud Datalab Guide</a> featuring
      documentation and sample notebooks is also a great way to check out how you can use Cloud Datalab.
    </p>
  </script>
  <script type="text/fragment" id="shortcutsHelp">
    <p>The notebook has two keyboard modes: Edit mode allows you to type code/text into a cell indicated by a raised cell with a shadow. Command mode allows notebook level actions.</p>
    <br>
    <p><b>Command Mode</b> (<code>Esc</code> to enable)</p>
    <div>
      <div><code>Enter</code>: edit mode</div>
      <div><code>Ctrl/Cmd+S</code>: save notebook</div>
      <div><code>Shift+Enter</code>: run cell, select next</div>
      <div><code>Ctrl+Enter</code>: run cell</div>
      <div><code>y</code>: to code</div>
      <div><code>m</code>: to markdown</div>
      <div><code>Up</code>: select previous cell</div>
      <div><code>Down</code>: select next cell</div>
      <div><code>a</code>: insert cell above</div>
      <div><code>b</code>: insert cell below</div>
      <div><code>x</code>: cut cell</div>
      <div><code>c</code>: copy cell</div>
      <div><code>v</code>: paste below</div>
      <div><code>dd</code>: delete cell</div>
      <div><code>l</code>: toggle line numbers</div>
      <div><code>z</code>: undo delete cell</div>
    </div>
    <br>
    <p><b>Edit Mode</b> (<code>Enter</code> to enable)</p>
    <div>
      <div><code>Esc</code>: command mode</div>
      <div><code>Ctrl/Cmd+S</code>: save notebook</div>
      <div><code>Shift+Enter</code>: run cell, select next</div>
      <div><code>Tab</code>: code completion or indent</div>
      <div><code>Shift+Tab</code>: quick help</div>
      <div><code>Ctrl/Cmd+]</code>: indent</div>
      <div><code>Ctrl/Cmd+[</code>: dedent</div>
      <div><code>Ctrl/Cmd+a</code>: select all</div>
      <div><code>Ctrl/Cmd+z</code>: undo</div>
      <div><code>Ctrl/Cmd+Shift+z</code>: redo</div>
      <div><code>Ctrl/Cmd+x</code>: cut selected</div>
      <div><code>Ctrl/Cmd+c</code>: copy selected</div>
      <div><code>Ctrl/Cmd+v</code>: paste</div>
    </div>
  </script>
  <script type="text/fragment" id="markdownHelp">
  <b>Markdown Syntax</b><br /><br />
      <b>Headers</b>
<pre># This is a level 1 header.
## This is a level 2 header.
### This is a level 3 header.</pre>
      <b>Emphasis</b>
<pre>*Italic text*
_Also italic_

**Bold text</pre>
      <b>Unordered Lists</b>
<pre>* Item 1
* Item 2
  * Item 2a</pre>
      <b>Ordered Lists</b>
<pre>1. Item 1
2. Item 2
   * Item 2a</pre>
      <b>Links</b>
<pre>http://cloud.google.com - automatic
[Text](url)</pre>
      <b>Images</b>
      <pre>![Alt Text](url)</pre>
      <b>Quoted Text</b>
<pre>&gt; Quoted Line 1
&gt; Quoted Line 2</pre>
      <b>Inline Code</b>
      <pre>Some `code` inline</pre>
      <b>Code Block</b>
<pre>Normal text

    Indented code text</pre>
    </div>
  </script>


<div style="position: absolute; width: 0px; height: 0px; overflow: hidden; padding: 0px; border: 0px; margin: 0px;"><div id="MathJax_Font_Test" style="position: absolute; visibility: hidden; top: 0px; left: 0px; width: auto; padding: 0px; border: 0px; margin: 0px; white-space: nowrap; text-align: left; text-indent: 0px; text-transform: none; line-height: normal; letter-spacing: normal; word-spacing: normal; font-size: 40px; font-weight: normal; font-style: normal;"></div></div></body></html>