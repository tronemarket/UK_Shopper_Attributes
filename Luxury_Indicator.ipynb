{
 "cells": [
  {
   "cell_type": "markdown",
   "metadata": {},
   "source": [
    "# UK Yocuda Luxury Analysis - 31st Jan,2018"
   ]
  },
  {
   "cell_type": "markdown",
   "metadata": {},
   "source": [
    "#### Importing youcuda data from GCS"
   ]
  },
  {
   "cell_type": "code",
   "execution_count": 34,
   "metadata": {
    "collapsed": true
   },
   "outputs": [],
   "source": [
    "data = (spark.read.format(\"csv\").option(\"header\", \"true\").load(\"gs://ds-mlengine/praneeth/2017_Yocuda_Dummy_Data_V01_20180129.csv\"))"
   ]
  },
  {
   "cell_type": "code",
   "execution_count": 44,
   "metadata": {
    "collapsed": true
   },
   "outputs": [],
   "source": [
    "from pyspark.sql.functions import *"
   ]
  },
  {
   "cell_type": "markdown",
   "metadata": {},
   "source": [
    " #### Creating the data on a brand cross category level"
   ]
  },
  {
   "cell_type": "code",
   "execution_count": 50,
   "metadata": {
    "collapsed": false
   },
   "outputs": [
    {
     "name": "stdout",
     "output_type": "stream",
     "text": [
      "+----------+-----+--------+------------------+----------+----------+---------------------+--------------------+--------+--------------------+---------------+\n",
      "|identifier|brand|category|transaction_amount|product_id|item_total|item_discounts_amount|           timestamp|quantity|      transaction_id|item_unit_price|\n",
      "+----------+-----+--------+------------------+----------+----------+---------------------+--------------------+--------+--------------------+---------------+\n",
      "| xsa@c.com|   CG|  Media |            115.97|   5004040|         2|                    0|2017-07-05 13:40:...|       2|2017-07-05 - G123...|         57.985|\n",
      "| inn@e.com|   PP|  Media |            144.75|   5036515|    138.75|               -27.75|2017-08-22 00:28:...|       5|2017-08-22 - D188...|          28.95|\n",
      "| amd@c.com|   VL|  Media |             48.45|   5035216|     28.45|                -5.69|2017-09-05 02:55:...|       1|2017-09-05 - D112...|          48.45|\n",
      "| uls@a.com|   SR|  Media |            166.05|   5032618|        56|                    0|2017-07-13 20:43:...|       1|2017-07-13 - A101...|         166.05|\n",
      "| ioq@a.com|   JD|  Media |             43.99|   5014432|        10|                    0|2017-01-29 14:27:...|       1|2017-01-29 - F196...|          43.99|\n",
      "+----------+-----+--------+------------------+----------+----------+---------------------+--------------------+--------+--------------------+---------------+\n",
      "only showing top 5 rows\n",
      "\n"
     ]
    }
   ],
   "source": [
    "data.registerTempTable(\"data\")\n",
    "base_data =data.selectExpr('identifier','brandName as brand', 'cat1 AS category','item_total_txn AS transaction_amount', 'item_product_code as product_id', 'item_total','item_discounts_amount', 'timestamp','item_quantity as quantity', 'transaction_id')  \\\n",
    "    .withColumn('item_unit_price', col('transaction_amount') / col('quantity')) \\\n",
    "  .filter((to_date(col(\"timestamp\"))>'2016-11-30') & \\\n",
    "                  (to_date(col(\"timestamp\"))<'2017-12-01') & \\\n",
    "                  (col(\"identifier\").isNotNull()) & \\\n",
    "                  (col(\"item_total\")>0)) \n",
    "base_data.show(5)  "
   ]
  },
  {
   "cell_type": "markdown",
   "metadata": {},
   "source": [
    "#### Exporting brand cross category level data file (csv format) into GCS"
   ]
  },
  {
   "cell_type": "code",
   "execution_count": 91,
   "metadata": {
    "collapsed": false
   },
   "outputs": [],
   "source": [
    "(base_data.coalesce(1).write.option(\"header\", \"true\").csv(\"gs://ds-mlengine/praneeth/yocuda_luxury_analysis_files/yocuda_brand_category_base_data\"))"
   ]
  },
  {
   "cell_type": "markdown",
   "metadata": {},
   "source": [
    "#### Calculating the brand's average price per product, min price, max price, 25th, 75th percentile"
   ]
  },
  {
   "cell_type": "code",
   "execution_count": 61,
   "metadata": {
    "collapsed": true
   },
   "outputs": [],
   "source": [
    "from pyspark.sql.window import Window \n",
    "# Creating brand level information that would be used for bucketing brands into luxury buckets\n",
    "brand_prices_percentile = base_data.select('brand','category', 'product_id', 'item_unit_price').distinct() \\\n",
    "                                    .withColumn('in_brand_percentile', percent_rank().over(Window.partitionBy(col('brand')) \\\n",
    "                                    .orderBy(col('item_unit_price')))) \n",
    "min_mean_max = brand_prices_percentile.groupBy('brand','category').agg(min('item_unit_price').alias('value_min'), \\\n",
    "                                                            max('item_unit_price').alias('value_max'), \\\n",
    "                                                            avg('item_unit_price').alias('value_mean')) \n",
    "quartile_25 = brand_prices_percentile.filter(col('in_brand_percentile') <= 0.25) \\\n",
    "                                     .groupBy('brand','category').agg(max('item_unit_price').alias('value_25')) \n",
    "quartile_50 = brand_prices_percentile.filter(col('in_brand_percentile') <= 0.5) \\\n",
    "                                     .groupBy('brand','category').agg(max('item_unit_price').alias('value_50')) \n",
    "quartile_75 = brand_prices_percentile.filter(col('in_brand_percentile') <= 0.75) \\\n",
    "                                     .groupBy('brand','category').agg(max('item_unit_price').alias('value_75')) \n",
    "brand_metrics = min_mean_max.join(quartile_25, ['brand','category'], 'left').join(quartile_50, ['brand','category'], 'left') \\\n",
    "                            .join(quartile_75, ['brand','category'], 'left')"
   ]
  },
  {
   "cell_type": "markdown",
   "metadata": {},
   "source": [
    "#### Seeing the data"
   ]
  },
  {
   "cell_type": "code",
   "execution_count": 62,
   "metadata": {
    "collapsed": false
   },
   "outputs": [
    {
     "name": "stdout",
     "output_type": "stream",
     "text": [
      "+-----+--------------------+---------+---------+------------------+--------+--------+--------+\n",
      "|brand|            category|value_min|value_max|        value_mean|value_25|value_50|value_75|\n",
      "+-----+--------------------+---------+---------+------------------+--------+--------+--------+\n",
      "|   VK|       Toys & Games |    34.67|   399.99|            145.55|    null|   53.99|   53.99|\n",
      "|   WG|Clothing & Access...|    -0.01|    -0.01|             -0.01|   -0.01|   -0.01|   -0.01|\n",
      "|   UD|     Home & Kitchen |     3.99|   263.98| 72.71928571428572|    10.5|  33.035|  33.035|\n",
      "|   IL|        Electronics |      7.0|   211.43|104.61250000000001|     7.0|   34.05|   34.05|\n",
      "|   BO|Clothing & Access...|   103.45|   103.45|            103.45|    null|    null|  103.45|\n",
      "+-----+--------------------+---------+---------+------------------+--------+--------+--------+\n",
      "only showing top 5 rows\n",
      "\n"
     ]
    }
   ],
   "source": [
    "brand_metrics.show(5)"
   ]
  },
  {
   "cell_type": "markdown",
   "metadata": {},
   "source": [
    "#### Exporting brand metrics data file (csv format) into GCS"
   ]
  },
  {
   "cell_type": "code",
   "execution_count": 92,
   "metadata": {
    "collapsed": true
   },
   "outputs": [],
   "source": [
    "(brand_metrics.coalesce(1).write.option(\"header\", \"true\").csv(\"gs://ds-mlengine/praneeth/yocuda_luxury_analysis_files/yocuda_brand_metrics_data\"))"
   ]
  },
  {
   "cell_type": "markdown",
   "metadata": {},
   "source": [
    "#### Calcualting scores"
   ]
  },
  {
   "cell_type": "code",
   "execution_count": 58,
   "metadata": {
    "collapsed": true
   },
   "outputs": [],
   "source": [
    "luxury_scores = brand_metrics \\\n",
    ".withColumn('rank1', percent_rank().over(Window.orderBy('value_min'))) \\\n",
    ".withColumn('rank2', percent_rank().over(Window.orderBy('value_25'))) \\\n",
    ".withColumn('rank3', percent_rank().over(Window.orderBy('value_50'))) \\\n",
    ".withColumn('rank4', percent_rank().over(Window.orderBy('value_mean'))) \\\n",
    ".withColumn('rank5', percent_rank().over(Window.orderBy('value_75'))) \\\n",
    ".withColumn('rank6', percent_rank().over(Window.orderBy('value_max'))) \\\n",
    ".withColumn('final_score', (col('rank1') + col('rank2') + col('rank3') + col('rank4') + col('rank5') + col('rank6'))/6) \\\n",
    ".withColumn('percentile_rank', percent_rank().over(Window.orderBy('final_score')))"
   ]
  },
  {
   "cell_type": "markdown",
   "metadata": {},
   "source": [
    "#### Seeing the data"
   ]
  },
  {
   "cell_type": "code",
   "execution_count": 59,
   "metadata": {
    "collapsed": false
   },
   "outputs": [
    {
     "name": "stdout",
     "output_type": "stream",
     "text": [
      "+-----+--------------------+---------+---------+----------+--------+--------+--------+--------------------+------------------+------------------+--------------------+-------------------+--------------------+-------------------+--------------------+\n",
      "|brand|            category|value_min|value_max|value_mean|value_25|value_50|value_75|               rank1|             rank2|             rank3|               rank4|              rank5|               rank6|        final_score|     percentile_rank|\n",
      "+-----+--------------------+---------+---------+----------+--------+--------+--------+--------------------+------------------+------------------+--------------------+-------------------+--------------------+-------------------+--------------------+\n",
      "|   PI|Health & Personal...|    26.45|    26.45|     26.45|    null|    null|   26.45| 0.41552393272962485|               0.0|               0.0| 0.12095730918499353| 0.2575679172056921| 0.09598965071151358|0.14833980163863733|                 0.0|\n",
      "|   ES|  Sports & Outdoors |   -50.19|   -50.19|    -50.19|  -50.19|  -50.19|  -50.19| 0.00129366106080207|0.5128072445019405|0.2681759379042691|                 0.0|0.11371280724450195|                 0.0|0.14933160845191892| 1.29366106080207E-4|\n",
      "|   QX|Tools & Home Impr...|   -49.99|   -49.99|    -49.99|  -49.99|  -49.99|  -49.99|0.001552393272962...|0.5129366106080206|0.2683053040103493| 1.29366106080207E-4|0.11384217335058215| 1.29366106080207E-4|0.14948253557567914| 2.58732212160414E-4|\n",
      "|   QA|Computers & Acces...|   -46.24|   -46.24|    -46.24|  -46.24|  -46.24|  -46.24|0.002846054333764...|0.5134540750323415|0.2685640362225097| 2.58732212160414E-4|0.11410090556274256| 2.58732212160414E-4|0.14991375592927986|3.880983182406209...|\n",
      "|   DJ|Industrial & Scie...|   -44.99|   -44.99|    -44.99|  -44.99|  -44.99|  -44.99|0.003234152652005175|0.5138421733505821|0.2688227684346701|3.880983182406209...|0.11423027166882277|3.880983182406209...|0.15015092712376024| 5.17464424320828E-4|\n",
      "+-----+--------------------+---------+---------+----------+--------+--------+--------+--------------------+------------------+------------------+--------------------+-------------------+--------------------+-------------------+--------------------+\n",
      "only showing top 5 rows\n",
      "\n"
     ]
    }
   ],
   "source": [
    "luxury_scores.show(5)"
   ]
  },
  {
   "cell_type": "markdown",
   "metadata": {},
   "source": [
    "#### Exporting luxury scores data file (csv format) into GCS"
   ]
  },
  {
   "cell_type": "code",
   "execution_count": 93,
   "metadata": {
    "collapsed": true
   },
   "outputs": [],
   "source": [
    "(luxury_scores.coalesce(1).write.option(\"header\", \"true\").csv(\"gs://ds-mlengine/praneeth/yocuda_luxury_analysis_files/yocuda_luxury_scores_data\"))"
   ]
  },
  {
   "cell_type": "code",
   "execution_count": 66,
   "metadata": {
    "collapsed": false
   },
   "outputs": [
    {
     "name": "stdout",
     "output_type": "stream",
     "text": [
      "+-----+--------------------+--------------------+\n",
      "|brand|            category|     percentile_rank|\n",
      "+-----+--------------------+--------------------+\n",
      "|   PI|Health & Personal...|                 0.0|\n",
      "|   ES|  Sports & Outdoors | 1.29366106080207E-4|\n",
      "|   QX|Tools & Home Impr...| 2.58732212160414E-4|\n",
      "|   QA|Computers & Acces...|3.880983182406209...|\n",
      "|   DJ|Industrial & Scie...| 5.17464424320828E-4|\n",
      "+-----+--------------------+--------------------+\n",
      "only showing top 5 rows\n",
      "\n"
     ]
    }
   ],
   "source": [
    "df =luxury_scores.selectExpr('brand', 'category','percentile_rank')  \n",
    "df.show(5)  "
   ]
  },
  {
   "cell_type": "markdown",
   "metadata": {},
   "source": [
    "#### Caculating user's respective luxury score"
   ]
  },
  {
   "cell_type": "code",
   "execution_count": 114,
   "metadata": {
    "collapsed": false
   },
   "outputs": [],
   "source": [
    "user_level_luxury_score = base_data.join(luxury_scores \\\n",
    "                          .withColumn('bucket_value', when(col('percentile_rank') >= 0.8,5).when(col('percentile_rank') >= 0.6,4) \\\n",
    "                          .when(col('percentile_rank') >= 0.4,3).when(col('percentile_rank') >= 0.2,2) \\\n",
    "                          .otherwise(1)).select('brand', 'category','bucket_value'), ['brand','category'], 'inner') \\\n",
    "        .select('identifier','category', 'quantity', 'bucket_value') \\\n",
    "        .withColumn('total_bucket_value', col('quantity') * col('bucket_value')) \\\n",
    "        .groupBy('identifier','category').agg(sum(col('quantity')).alias('net_quantity'), sum(col('total_bucket_value')).alias('sum_buckets')) \\\n",
    "        .withColumn('luxury_score', col('sum_buckets') / col('net_quantity')) \\\n",
    "        .select('identifier','category', 'luxury_score','net_quantity')"
   ]
  },
  {
   "cell_type": "markdown",
   "metadata": {},
   "source": [
    "#### Seeing the data"
   ]
  },
  {
   "cell_type": "code",
   "execution_count": 115,
   "metadata": {
    "collapsed": false
   },
   "outputs": [
    {
     "name": "stdout",
     "output_type": "stream",
     "text": [
      "+----------+--------------------+------------+------------+\n",
      "|identifier|            category|luxury_score|net_quantity|\n",
      "+----------+--------------------+------------+------------+\n",
      "| ssu@e.com|Health & Personal...|         1.0|         1.0|\n",
      "| czj@e.com|  Sports & Outdoors |         1.0|         1.0|\n",
      "| qgo@e.com|Tools & Home Impr...|         1.0|         1.0|\n",
      "| sdb@a.com|Computers & Acces...|         1.0|         1.0|\n",
      "| aod@e.com|Industrial & Scie...|         1.0|         1.0|\n",
      "+----------+--------------------+------------+------------+\n",
      "only showing top 5 rows\n",
      "\n"
     ]
    }
   ],
   "source": [
    "user_level_luxury_score.show(5)"
   ]
  },
  {
   "cell_type": "markdown",
   "metadata": {},
   "source": [
    "#### Exporting user level luxury scores data file (csv format) into GCS"
   ]
  },
  {
   "cell_type": "code",
   "execution_count": 94,
   "metadata": {
    "collapsed": true
   },
   "outputs": [],
   "source": [
    "(user_level_luxury_score.coalesce(1).write.option(\"header\", \"true\").csv(\"gs://ds-mlengine/praneeth/yocuda_luxury_analysis_files/yocuda_user_level_luxury_score_data\"))"
   ]
  },
  {
   "cell_type": "markdown",
   "metadata": {},
   "source": [
    "#### Number of shoppers with different luxury scores for every category"
   ]
  },
  {
   "cell_type": "code",
   "execution_count": 95,
   "metadata": {
    "collapsed": false
   },
   "outputs": [
    {
     "name": "stdout",
     "output_type": "stream",
     "text": [
      "+--------------------+------------+---------+\n",
      "|            category|luxury_score|frequency|\n",
      "+--------------------+------------+---------+\n",
      "|Arts, Crafts & Se...|           5|       57|\n",
      "|Arts, Crafts & Se...|           4|       24|\n",
      "|Arts, Crafts & Se...|           3|       34|\n",
      "|Arts, Crafts & Se...|           2|       42|\n",
      "|Arts, Crafts & Se...|           1|       68|\n",
      "|         Automotive |           5|       89|\n",
      "|         Automotive |           4|       60|\n",
      "|         Automotive |           3|       43|\n",
      "|         Automotive |           2|       67|\n",
      "|         Automotive |           1|       77|\n",
      "+--------------------+------------+---------+\n",
      "only showing top 10 rows\n",
      "\n"
     ]
    }
   ],
   "source": [
    "frequency = user_level_luxury_score.withColumn('luxury_score', floor('luxury_score')) \\\n",
    "                       .groupBy('category','luxury_score').agg(countDistinct('identifier').alias('frequency')) \\\n",
    "                       .orderBy('category',desc('luxury_score'))\n",
    "frequency.show(10)    "
   ]
  },
  {
   "cell_type": "markdown",
   "metadata": {},
   "source": [
    "#### Exporting category cross luxury scores frequency data file (csv format) into GCS"
   ]
  },
  {
   "cell_type": "code",
   "execution_count": 96,
   "metadata": {
    "collapsed": true
   },
   "outputs": [],
   "source": [
    "(frequency.coalesce(1).write.option(\"header\", \"true\").csv(\"gs://ds-mlengine/praneeth/yocuda_luxury_analysis_files/yocuda_category_luxury_score_frequency_data\"))"
   ]
  },
  {
   "cell_type": "markdown",
   "metadata": {},
   "source": [
    "#### Categorizing a shopper as Luxury / Non-luxury shopper based on the score"
   ]
  },
  {
   "cell_type": "code",
   "execution_count": 87,
   "metadata": {
    "collapsed": false
   },
   "outputs": [
    {
     "name": "stdout",
     "output_type": "stream",
     "text": [
      "+----------+-----+---------------+------------------+----------+----------+---------------------+--------------------+--------+--------------------+---------------+------------+---------------+\n",
      "|identifier|brand|       category|transaction_amount|product_id|item_total|item_discounts_amount|           timestamp|quantity|      transaction_id|item_unit_price|luxury_score|     luxury_ind|\n",
      "+----------+-----+---------------+------------------+----------+----------+---------------------+--------------------+--------+--------------------+---------------+------------+---------------+\n",
      "| abe@d.com|Other|   Electronics |             65.42|   5047710|     39.45|               -3.945|2017-08-07 21:37:...|       1|2017-08-07 - G130...|          65.42|         5.0|    lux_shopper|\n",
      "| afh@e.com|   XI|   Electronics |             57.99|   5042937|     57.99|                    0|2017-10-16 18:49:...|       1|2017-10-16 - B180...|          57.99|         5.0|    lux_shopper|\n",
      "| akv@a.com|   SZ|       Jewelry |             11.98|   5009379|     11.98|                    0|2017-08-10 17:29:...|       2|2017-08-10 - D171...|           5.99|         1.0|non_lux_shopper|\n",
      "| avp@b.com|   ZZ|   Electronics |              42.1|   5029361|      42.1|                    0|2017-07-27 18:33:...|       2|2017-07-27 - D124...|          21.05|         2.0|non_lux_shopper|\n",
      "| awv@e.com|   IU|Home & Kitchen |            125.98|   5019489|    101.98|                    0|2017-01-09 03:11:...|       2|2017-01-09 - A135...|          62.99|         5.0|    lux_shopper|\n",
      "+----------+-----+---------------+------------------+----------+----------+---------------------+--------------------+--------+--------------------+---------------+------------+---------------+\n",
      "only showing top 5 rows\n",
      "\n"
     ]
    }
   ],
   "source": [
    "yocuda_luxury_score = base_data.join(user_level_luxury_score.withColumn('luxury_ind', when(col('luxury_score') > 4,\"lux_shopper\") \\\n",
    "                    .otherwise(\"non_lux_shopper\")).select('identifier','category','luxury_score','luxury_ind'), \\\n",
    "                                     ['identifier','category'], 'left')\\\n",
    "                    .select('identifier','brand', 'category','transaction_amount', \\\n",
    "                            'product_id', 'item_total','item_discounts_amount', 'timestamp',\\\n",
    "                            'quantity', 'transaction_id','item_unit_price','luxury_score', 'luxury_ind') \n",
    "yocuda_luxury_score.show(5)"
   ]
  },
  {
   "cell_type": "markdown",
   "metadata": {},
   "source": [
    "#### Exporting category wise user segmentation data file (csv format) into GCS"
   ]
  },
  {
   "cell_type": "code",
   "execution_count": 97,
   "metadata": {
    "collapsed": true
   },
   "outputs": [],
   "source": [
    "(yocuda_luxury_score.coalesce(1).write.option(\"header\", \"true\").csv(\"gs://ds-mlengine/praneeth/yocuda_luxury_analysis_files/yocuda_category_user_segmentation_data\"))"
   ]
  },
  {
   "cell_type": "markdown",
   "metadata": {},
   "source": [
    "#### Generic metrics on a category cross luxury indicator level"
   ]
  },
  {
   "cell_type": "code",
   "execution_count": 103,
   "metadata": {
    "collapsed": false
   },
   "outputs": [
    {
     "name": "stdout",
     "output_type": "stream",
     "text": [
      "+--------------------+---------------+---------------+------------------+-----------+--------+-------------------------+\n",
      "|            category|     luxury_ind|unique_shoppers|             spend|num_of_txns|quantity|avg_price_purchased_prods|\n",
      "+--------------------+---------------+---------------+------------------+-----------+--------+-------------------------+\n",
      "|              Shoes |non_lux_shopper|            335| 16909.94999999999|        336|   542.0|         31.1991697416974|\n",
      "|         Automotive |    lux_shopper|             89| 4894.769999999997|         89|   141.0|       34.714680851063804|\n",
      "|              Media |non_lux_shopper|             39|1523.0600000000002|         39|    65.0|        23.43169230769231|\n",
      "|Industrial & Scie...|    lux_shopper|             19|1025.0800000000002|         19|    27.0|        37.96592592592593|\n",
      "|       Pet Supplies |non_lux_shopper|            216| 10196.60999999999|        216|   349.0|       29.216647564469884|\n",
      "+--------------------+---------------+---------------+------------------+-----------+--------+-------------------------+\n",
      "only showing top 5 rows\n",
      "\n"
     ]
    }
   ],
   "source": [
    "df =yocuda_luxury_score.groupBy(\"category\",\"luxury_ind\").agg(countDistinct('identifier').alias('unique_shoppers'),\\\n",
    "                                                        sum('item_total').alias('spend'),\\\n",
    "                                                       countDistinct('transaction_id').alias('num_of_txns'),\\\n",
    "                                                     sum('quantity').alias('quantity'))\\\n",
    "                                                     .withColumn('avg_price_purchased_prods',col('spend')/col('quantity'))\n",
    "df.show(5)  "
   ]
  },
  {
   "cell_type": "markdown",
   "metadata": {},
   "source": [
    "#### Exporting category cross luxury indicator level data file (csv format) into GCS"
   ]
  },
  {
   "cell_type": "code",
   "execution_count": 104,
   "metadata": {
    "collapsed": true
   },
   "outputs": [],
   "source": [
    "(df.coalesce(1).write.option(\"header\", \"true\").csv(\"gs://ds-mlengine/praneeth/yocuda_luxury_analysis_files/yocuda_category_luxury_ind_data\"))"
   ]
  },
  {
   "cell_type": "markdown",
   "metadata": {},
   "source": [
    "#### Top 5 categories by total spend"
   ]
  },
  {
   "cell_type": "code",
   "execution_count": 110,
   "metadata": {
    "collapsed": false
   },
   "outputs": [
    {
     "name": "stdout",
     "output_type": "stream",
     "text": [
      "+--------------------+------------------+\n",
      "|            category|             spend|\n",
      "+--------------------+------------------+\n",
      "|     Home & Kitchen | 256787.0400000004|\n",
      "|       Toys & Games |127602.55000000003|\n",
      "|Tools & Home Impr...| 113431.2100000001|\n",
      "|  Sports & Outdoors | 96857.21999999987|\n",
      "|        Electronics | 91625.14999999992|\n",
      "+--------------------+------------------+\n",
      "only showing top 5 rows\n",
      "\n"
     ]
    }
   ],
   "source": [
    "xx1 =base_data.groupBy(\"category\").agg(sum('item_total').alias('spend')).orderBy(desc(\"spend\"))\n",
    "xx1.show(5)  "
   ]
  },
  {
   "cell_type": "markdown",
   "metadata": {},
   "source": [
    "#### User level scores on an overall level"
   ]
  },
  {
   "cell_type": "code",
   "execution_count": 116,
   "metadata": {
    "collapsed": false
   },
   "outputs": [
    {
     "name": "stdout",
     "output_type": "stream",
     "text": [
      "+----------+------------+---------+--------------------+\n",
      "|identifier|net_quantity|sum_score|overall_luxury_score|\n",
      "+----------+------------+---------+--------------------+\n",
      "| ssu@e.com|         1.0|      1.0|                 1.0|\n",
      "| czj@e.com|         2.0|      4.0|                 2.0|\n",
      "| qgo@e.com|         1.0|      1.0|                 1.0|\n",
      "| sdb@a.com|         2.0|      2.0|                 1.0|\n",
      "| aod@e.com|         1.0|      1.0|                 1.0|\n",
      "+----------+------------+---------+--------------------+\n",
      "only showing top 5 rows\n",
      "\n"
     ]
    }
   ],
   "source": [
    "user_level_luxury_score_overall = user_level_luxury_score \\\n",
    "          .select('identifier','net_quantity','luxury_score') \\\n",
    "          .withColumn('total_luxury_value', col('net_quantity') * col('luxury_score')) \\\n",
    "          .groupBy('identifier').agg(sum(col('net_quantity')).alias('net_quantity'), sum(col('total_luxury_value')).alias('sum_score')) \\\n",
    "          .withColumn('overall_luxury_score', col('sum_score') / col('net_quantity')) \n",
    "user_level_luxury_score_overall.show(5)        "
   ]
  },
  {
   "cell_type": "markdown",
   "metadata": {},
   "source": [
    "#### Exporting overall luxury score on a user-level data file (csv format) into GCS"
   ]
  },
  {
   "cell_type": "code",
   "execution_count": 117,
   "metadata": {
    "collapsed": true
   },
   "outputs": [],
   "source": [
    "(user_level_luxury_score_overall.coalesce(1).write.option(\"header\", \"true\").csv(\"gs://ds-mlengine/praneeth/yocuda_luxury_analysis_files/yocuda_overall_luxury_score_user_data\"))"
   ]
  }
 ],
 "metadata": {
  "kernelspec": {
   "display_name": "Python 2",
   "language": "python",
   "name": "python2"
  },
  "language_info": {
   "codemirror_mode": {
    "name": "ipython",
    "version": 2
   },
   "file_extension": ".py",
   "mimetype": "text/x-python",
   "name": "python",
   "nbconvert_exporter": "python",
   "pygments_lexer": "ipython2",
   "version": "2.7.12"
  }
 },
 "nbformat": 4,
 "nbformat_minor": 2
}
