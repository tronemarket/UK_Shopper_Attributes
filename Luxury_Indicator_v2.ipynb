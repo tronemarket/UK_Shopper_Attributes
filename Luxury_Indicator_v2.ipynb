<!DOCTYPE html>
<!-- saved from url=(0071)http://localhost:8084/edit/UK_Shopper_Attributes/Luxury_Indicator.ipynb -->
<html><head><meta http-equiv="Content-Type" content="text/html; charset=UTF-8">
  

  <title>Luxury_Indicator.ipynb</title>
  <link rel="shortcut icon" type="image/x-icon" href="http://localhost:8084/static/favicon.ico">
  <meta name="viewport" content="width=device-width, initial-scale=1.0">

  <link rel="stylesheet" href="./Luxury_Indicator.ipynb_files/codemirror.css">
  <link rel="stylesheet" href="./Luxury_Indicator.ipynb_files/style.min.css" type="text/css">
  <link rel="stylesheet" href="./Luxury_Indicator.ipynb_files/fonts.css" type="text/css">
  <link rel="stylesheet" href="./Luxury_Indicator.ipynb_files/datalab.css" type="text/css">
  <link rel="stylesheet" id="themeStylesheet" href="./Luxury_Indicator.ipynb_files/custom.css" type="text/css">

  <script src="./Luxury_Indicator.ipynb_files/jquery.min.js"></script>
<script type="text/javascript" charset="utf-8" async="" data-requirecontext="_" data-requiremodule="edit/js/main.min" src="./Luxury_Indicator.ipynb_files/main.min.js"></script><script type="text/javascript" charset="utf-8" async="" data-requirecontext="_" data-requiremodule="services/contents" src="./Luxury_Indicator.ipynb_files/contents.js"></script><script type="text/javascript" charset="utf-8" async="" data-requirecontext="_" data-requiremodule="custom" src="./Luxury_Indicator.ipynb_files/custom.js"></script><script type="text/javascript" charset="utf-8" async="" data-requirecontext="_" data-requiremodule="base/js/security" src="./Luxury_Indicator.ipynb_files/security.js"></script><script type="text/javascript" charset="utf-8" async="" data-requirecontext="_" data-requiremodule="appbar" src="./Luxury_Indicator.ipynb_files/appbar.js"></script><script type="text/javascript" charset="utf-8" async="" data-requirecontext="_" data-requiremodule="edit-app" src="./Luxury_Indicator.ipynb_files/edit-app.js"></script><script type="text/javascript" charset="utf-8" async="" data-requirecontext="_" data-requiremodule="notebook-app" src="./Luxury_Indicator.ipynb_files/notebook-app.js"></script><script type="text/javascript" charset="utf-8" async="" data-requirecontext="_" data-requiremodule="notebook-list" src="./Luxury_Indicator.ipynb_files/notebook-list.js"></script><script type="text/javascript" charset="utf-8" async="" data-requirecontext="_" data-requiremodule="minitoolbar" src="./Luxury_Indicator.ipynb_files/minitoolbar.js"></script><script type="text/javascript" charset="utf-8" async="" data-requirecontext="_" data-requiremodule="websocket" src="./Luxury_Indicator.ipynb_files/websocket.js"></script><script type="text/javascript" charset="utf-8" async="" data-requirecontext="_" data-requiremodule="idle-timeout" src="./Luxury_Indicator.ipynb_files/idle-timeout.js"></script><script type="text/javascript" charset="utf-8" async="" data-requirecontext="_" data-requiremodule="util" src="./Luxury_Indicator.ipynb_files/util.js"></script><script type="text/javascript" charset="utf-8" async="" data-requirecontext="_" data-requiremodule="components/google-caja/html-css-sanitizer-minified" src="./Luxury_Indicator.ipynb_files/html-css-sanitizer-minified.js"></script></head>
<body class="edit_app" data-project="" data-base-url="/" data-ws-url="" data-file-name="Luxury_Indicator.ipynb" data-file-path="UK_Shopper_Attributes/Luxury_Indicator.ipynb" data-feedback-id="" data-version-id="1.2.20180205" data-signed-in="true" data-user-id="anonymous" data-account="704525661406-7e3lf4b5t0qmq4i4svqbormum1btpqfg@developer.gserviceaccount.com" style="">
  <div id="app">
    <div id="appBar">


  


  <span id="logo" class="nav navbar-brand pull-left">
    <a id="homeLink"><img id="logoImg" alt="Google Cloud DataLab" style="" src="./Luxury_Indicator.ipynb_files/logo.png"></a>
  </span>
  <span id="save_widget" class="pull-left save_widget">
    <button class="toolbar-btn" title="Rename notebook"><span id="notebook_name" class="filename">Luxury_Indicator.ipynb</span></button>
    <span class="autosave_status"></span>
  </span>
  <div class="btn-toolbar pull-right right-toolbar">
    <div id="ungitButton" class="btn-group">
      <button title="Open ungit on the notebooks repository" class="toolbar-btn">
        <span class="fa fa-code-fork"></span>
      </button>
    </div>
    <div id="sessionsButton" class="btn-group">
      <button title="Running Sessions" class="toolbar-btn">
        <i class="material-icons">playlist_play</i>
      </button>
    </div>
    <div id="navigationButton" class="btn-group" style="display:none;">
      <button title="Navigation" class="toolbar-btn">
        <i class="material-icons">bookmark</i>
      </button>
    </div>
    <div id="helpButton" class="btn-group">
      <button class="toolbar-btn" data-toggle="dropdown" title="Help Links">
        <i class="material-icons">help_outline</i>
      </button>
      <ul class="dropdown-menu dropdown-menu-right" style="width: 200px">
        <li><a id="showHelpLink" style="display:none" href="http://localhost:8084/edit/UK_Shopper_Attributes/Luxury_Indicator.ipynb#">Show Help</a></li>
        <li><a id="keyboardHelpLink" style="display:none" href="http://localhost:8084/edit/UK_Shopper_Attributes/Luxury_Indicator.ipynb#">Keyboard Shortcuts</a></li>
        <li><a id="markdownHelpLink" style="display:none" href="http://localhost:8084/edit/UK_Shopper_Attributes/Luxury_Indicator.ipynb#">Markdown Syntax</a></li>
        <li id="notebookHelpDivider" class="divider" style="display:none"></li>
        <li><a id="samplesLink" target="_blank"><span>Samples and Tutorials</span></a></li>
        <li class="divider"></li>
        <li><a href="https://cloud.google.com/bigquery/what-is-bigquery" target="_blank"><span>BigQuery</span></a></li>
        <li><a href="https://cloud.google.com/storage/docs/overview" target="_blank"><span>Cloud Storage</span></a></li>
        <li class="divider"></li>
        <li><a href="http://googledatalab.github.io/pydatalab/" target="_blank"><span>Datalab API</span></a></li>
        <li><a href="https://developers.google.com/chart/" target="_blank"><span>Google Charts</span></a></li>
        <li><a href="http://matplotlib.org/contents.html" target="_blank"><span>Matplotlib</span></a></li>
        <li><a href="http://docs.scipy.org/doc/numpy/reference/" target="_blank"><span>Numpy</span></a></li>
        <li><a href="http://pandas.pydata.org/pandas-docs/stable/" target="_blank"><span>Pandas</span></a></li>
        <li><a href="http://scikit-learn.org/stable/" target="_blank"><span>SciKit-Learn</span></a></li>
        <li><a href="http://tensorflow.org/" target="_blank"><span>TensorFlow</span></a></li>
      </ul>
    </div>
    <div id="accountDropdown" class="btn-group">
      <button id="accountDropdownButton" title="Account" class="toolbar-btn">
        <i class="material-icons">account_circle</i>
      </button>
      <div class="dropdown-menu dropdown-menu-right" style="min-width: 250px;">
        <div id="signInButton" style="display:none">
          <button title="Sign In" class="btn btn-success" style="width: 100%; float: none">Sign In</button>
        </div>
        <div id="signOutGroup" style="">
          <label id="usernameLabel" style="padding:0 0 10px 0">Signed in as 704525661406-7e3lf4b5t0qmq4i4svqbormum1btpqfg@developer.gserviceaccount.com</label>
          <label id="projectLabel" style="display:none; padding:0 0 10px 0"></label>
          <button id="signOutButton" title="Sign Out" class="btn btn-danger" style="display:none; width: 100%; float: none">Sign Out</button>
        </div>
        <div id="stopVmGroup" style="">
          <hr>
          <div>
            This Datalab instance is hosted in a Google Cloud VM: <span id="vmName" style="font-weight: bold">datascience-offshore-m</span>
          </div>
          <div>
            <a href="javascript:manageVm()">Click here to manage the VM</a>
          </div>
          <button id="stopVmButton" title="Stop VM" class="btn btn-danger" style="width: 100%; float: none">Stop VM</button>
        </div>
        <li><a id="idleTimeoutEnabledButton" title="Disable idle timeout" href="http://localhost:8084/edit/UK_Shopper_Attributes/Luxury_Indicator.ipynb#" style="display:none;">
          <i class="material-icons">timer</i>
          <span id="idleTimeoutDetails">(Idle timout enabled)</span>
        </a></li>
        <li><a id="idleTimeoutDisabledButton" title="Enable idle timeout" href="http://localhost:8084/edit/UK_Shopper_Attributes/Luxury_Indicator.ipynb#" style="display:none;">
          <i class="material-icons">timer_off</i>
          Idle timeout is disabled
        </a></li>
        <hr>
        <li><a id="settingsButton" href="http://localhost:8084/edit/UK_Shopper_Attributes/Luxury_Indicator.ipynb#">Settings</a></li>
        <li><a id="aboutButton" href="http://localhost:8084/edit/UK_Shopper_Attributes/Luxury_Indicator.ipynb#">About Datalab</a></li>
        <li><a id="feedbackButton" href="http://localhost:8084/edit/UK_Shopper_Attributes/Luxury_Indicator.ipynb#">Feedback</a></li>
      </div>
    </div>
  </div>


</div>
    <div id="site" style="height: 849px; display: block;">
    <div id="appContent">
      <div id="toolbarArea">
        <div id="mainToolbar">
          <div class="btn-toolbar pull-left">
            <div class="btn-group">
              <button type="button" class="toolbar-btn" data-toggle="dropdown" title="File commands">
                <i class="material-icons">insert_drive_file</i> File
                <span class="caret"></span>
              </button>
              <ul class="dropdown-menu">
                <li id="saveButton"><a href="http://localhost:8084/edit/UK_Shopper_Attributes/Luxury_Indicator.ipynb#">Save</a></li>
                <li id="renameButton"><a href="http://localhost:8084/edit/UK_Shopper_Attributes/Luxury_Indicator.ipynb#">Rename</a></li>
                <li class="divider"></li>
                <li id="downloadButton"><a href="http://localhost:8084/edit/UK_Shopper_Attributes/Luxury_Indicator.ipynb#">Download</a></li>
              </ul>
            </div>
          </div>
        </div>
      </div>
      <div id="contentArea">
        <div id="mainArea">
          <div id="mainContent" class="container fileMainContent">
            <div id="ipython-main-app" style="padding:0px">
              <div id="site" style="height: 849px; display: block;">
                <div id="texteditor-backdrop">
                  <div id="texteditor-container" style="height:100%;width:100%"><div class="CodeMirror cm-s-ipython CodeMirror-wrap" style="height: 801px;"><div style="overflow: hidden; position: relative; width: 3px; height: 0px; top: 6px; left: 56px;"><textarea autocorrect="off" autocapitalize="off" spellcheck="false" style="position: absolute; padding: 0px; width: 1000px; height: 1em; outline: none;" tabindex="0"></textarea></div><div class="CodeMirror-vscrollbar" cm-not-content="true" style="min-width: 18px; display: block; bottom: 0px;"><div style="min-width: 1px; height: 22272px;"></div></div><div class="CodeMirror-hscrollbar" cm-not-content="true" style="min-height: 18px;"><div style="height: 100%; min-height: 1px; width: 0px;"></div></div><div class="CodeMirror-scrollbar-filler" cm-not-content="true"></div><div class="CodeMirror-gutter-filler" cm-not-content="true"></div><div class="CodeMirror-scroll" tabindex="-1"><div class="CodeMirror-sizer" style="margin-left: 50px; margin-bottom: 0px; border-right-width: 30px; min-height: 22272px; padding-right: 0px; padding-bottom: 0px;"><div style="position: relative; top: 0px;"><div class="CodeMirror-lines"><div style="position: relative; outline: none;"><div class="CodeMirror-measure"><pre><span>xxxxxxxxxx</span></pre><div class="CodeMirror-linenumber CodeMirror-gutter-elt"><div>1009</div></div></div><div class="CodeMirror-measure"></div><div style="position: relative; z-index: 1;"></div><div class="CodeMirror-cursors"><div class="CodeMirror-cursor" style="left: 0px; top: 0px; height: 21px;">&nbsp;</div></div><div class="CodeMirror-code" style=""><div style="position: relative;"><div class="CodeMirror-gutter-wrapper" style="left: -50px;"><div class="CodeMirror-linenumber CodeMirror-gutter-elt" style="left: 0px; width: 37px;">1</div></div><pre class=" CodeMirror-line "><span style="padding-right: 0.1px;">{</span></pre></div><div style="position: relative;"><div class="CodeMirror-gutter-wrapper" style="left: -50px;"><div class="CodeMirror-linenumber CodeMirror-gutter-elt" style="left: 0px; width: 37px;">2</div></div><pre class=" CodeMirror-line "><span style="padding-right: 0.1px;"> "cells": [</span></pre></div><div style="position: relative;"><div class="CodeMirror-gutter-wrapper" style="left: -50px;"><div class="CodeMirror-linenumber CodeMirror-gutter-elt" style="left: 0px; width: 37px;">3</div></div><pre class=" CodeMirror-line "><span style="padding-right: 0.1px;">  {</span></pre></div><div style="position: relative;"><div class="CodeMirror-gutter-wrapper" style="left: -50px;"><div class="CodeMirror-linenumber CodeMirror-gutter-elt" style="left: 0px; width: 37px;">4</div></div><pre class=" CodeMirror-line "><span style="padding-right: 0.1px;"> &nbsp; "cell_type": "markdown",</span></pre></div><div style="position: relative;"><div class="CodeMirror-gutter-wrapper" style="left: -50px;"><div class="CodeMirror-linenumber CodeMirror-gutter-elt" style="left: 0px; width: 37px;">5</div></div><pre class=" CodeMirror-line "><span style="padding-right: 0.1px;"> &nbsp; "metadata": {},</span></pre></div><div style="position: relative;"><div class="CodeMirror-gutter-wrapper" style="left: -50px;"><div class="CodeMirror-linenumber CodeMirror-gutter-elt" style="left: 0px; width: 37px;">6</div></div><pre class=" CodeMirror-line "><span style="padding-right: 0.1px;"> &nbsp; "source": [</span></pre></div><div style="position: relative;"><div class="CodeMirror-gutter-wrapper" style="left: -50px;"><div class="CodeMirror-linenumber CodeMirror-gutter-elt" style="left: 0px; width: 37px;">7</div></div><pre class=" CodeMirror-line "><span style="padding-right: 0.1px;"> &nbsp;  "# UK Yocuda Luxury Analysis - 31st Jan,2018"</span></pre></div><div style="position: relative;"><div class="CodeMirror-gutter-wrapper" style="left: -50px;"><div class="CodeMirror-linenumber CodeMirror-gutter-elt" style="left: 0px; width: 37px;">8</div></div><pre class=" CodeMirror-line "><span style="padding-right: 0.1px;"> &nbsp; ]</span></pre></div><div style="position: relative;"><div class="CodeMirror-gutter-wrapper" style="left: -50px;"><div class="CodeMirror-linenumber CodeMirror-gutter-elt" style="left: 0px; width: 37px;">9</div></div><pre class=" CodeMirror-line "><span style="padding-right: 0.1px;">  },</span></pre></div><div style="position: relative;"><div class="CodeMirror-gutter-wrapper" style="left: -50px;"><div class="CodeMirror-linenumber CodeMirror-gutter-elt" style="left: 0px; width: 37px;">10</div></div><pre class=" CodeMirror-line "><span style="padding-right: 0.1px;">  {</span></pre></div><div style="position: relative;"><div class="CodeMirror-gutter-wrapper" style="left: -50px;"><div class="CodeMirror-linenumber CodeMirror-gutter-elt" style="left: 0px; width: 37px;">11</div></div><pre class=" CodeMirror-line "><span style="padding-right: 0.1px;"> &nbsp; "cell_type": "markdown",</span></pre></div><div style="position: relative;"><div class="CodeMirror-gutter-wrapper" style="left: -50px;"><div class="CodeMirror-linenumber CodeMirror-gutter-elt" style="left: 0px; width: 37px;">12</div></div><pre class=" CodeMirror-line "><span style="padding-right: 0.1px;"> &nbsp; "metadata": {},</span></pre></div><div style="position: relative;"><div class="CodeMirror-gutter-wrapper" style="left: -50px;"><div class="CodeMirror-linenumber CodeMirror-gutter-elt" style="left: 0px; width: 37px;">13</div></div><pre class=" CodeMirror-line "><span style="padding-right: 0.1px;"> &nbsp; "source": [</span></pre></div><div style="position: relative;"><div class="CodeMirror-gutter-wrapper" style="left: -50px;"><div class="CodeMirror-linenumber CodeMirror-gutter-elt" style="left: 0px; width: 37px;">14</div></div><pre class=" CodeMirror-line "><span style="padding-right: 0.1px;"> &nbsp;  "#### Importing youcuda data from GCS"</span></pre></div><div style="position: relative;"><div class="CodeMirror-gutter-wrapper" style="left: -50px;"><div class="CodeMirror-linenumber CodeMirror-gutter-elt" style="left: 0px; width: 37px;">15</div></div><pre class=" CodeMirror-line "><span style="padding-right: 0.1px;"> &nbsp; ]</span></pre></div><div style="position: relative;"><div class="CodeMirror-gutter-wrapper" style="left: -50px;"><div class="CodeMirror-linenumber CodeMirror-gutter-elt" style="left: 0px; width: 37px;">16</div></div><pre class=" CodeMirror-line "><span style="padding-right: 0.1px;">  },</span></pre></div><div style="position: relative;"><div class="CodeMirror-gutter-wrapper" style="left: -50px;"><div class="CodeMirror-linenumber CodeMirror-gutter-elt" style="left: 0px; width: 37px;">17</div></div><pre class=" CodeMirror-line "><span style="padding-right: 0.1px;">  {</span></pre></div><div style="position: relative;"><div class="CodeMirror-gutter-wrapper" style="left: -50px;"><div class="CodeMirror-linenumber CodeMirror-gutter-elt" style="left: 0px; width: 37px;">18</div></div><pre class=" CodeMirror-line "><span style="padding-right: 0.1px;"> &nbsp; "cell_type": "code",</span></pre></div><div style="position: relative;"><div class="CodeMirror-gutter-wrapper" style="left: -50px;"><div class="CodeMirror-linenumber CodeMirror-gutter-elt" style="left: 0px; width: 37px;">19</div></div><pre class=" CodeMirror-line "><span style="padding-right: 0.1px;"> &nbsp; "execution_count": 1,</span></pre></div><div style="position: relative;"><div class="CodeMirror-gutter-wrapper" style="left: -50px;"><div class="CodeMirror-linenumber CodeMirror-gutter-elt" style="left: 0px; width: 37px;">20</div></div><pre class=" CodeMirror-line "><span style="padding-right: 0.1px;"> &nbsp; "metadata": {</span></pre></div><div style="position: relative;"><div class="CodeMirror-gutter-wrapper" style="left: -50px;"><div class="CodeMirror-linenumber CodeMirror-gutter-elt" style="left: 0px; width: 37px;">21</div></div><pre class=" CodeMirror-line "><span style="padding-right: 0.1px;"> &nbsp;  "collapsed": true</span></pre></div><div style="position: relative;"><div class="CodeMirror-gutter-wrapper" style="left: -50px;"><div class="CodeMirror-linenumber CodeMirror-gutter-elt" style="left: 0px; width: 37px;">22</div></div><pre class=" CodeMirror-line "><span style="padding-right: 0.1px;"> &nbsp; },</span></pre></div><div style="position: relative;"><div class="CodeMirror-gutter-wrapper" style="left: -50px;"><div class="CodeMirror-linenumber CodeMirror-gutter-elt" style="left: 0px; width: 37px;">23</div></div><pre class=" CodeMirror-line "><span style="padding-right: 0.1px;"> &nbsp; "outputs": [],</span></pre></div><div style="position: relative;"><div class="CodeMirror-gutter-wrapper" style="left: -50px;"><div class="CodeMirror-linenumber CodeMirror-gutter-elt" style="left: 0px; width: 37px;">24</div></div><pre class=" CodeMirror-line "><span style="padding-right: 0.1px;"> &nbsp; "source": [</span></pre></div><div style="position: relative;"><div class="CodeMirror-gutter-wrapper" style="left: -50px;"><div class="CodeMirror-linenumber CodeMirror-gutter-elt" style="left: 0px; width: 37px;">25</div></div><pre class=" CodeMirror-line "><span style="padding-right: 0.1px;"> &nbsp;  "data = (spark.read.format(\"csv\").option(\"header\", \"true\").load('gs://westfield-tom/datalab/Yocuda_clean_data_Nov15_Nov17_20171214_v01_*.csv'))"</span></pre></div><div style="position: relative;"><div class="CodeMirror-gutter-wrapper" style="left: -50px;"><div class="CodeMirror-linenumber CodeMirror-gutter-elt" style="left: 0px; width: 37px;">26</div></div><pre class=" CodeMirror-line "><span style="padding-right: 0.1px;"> &nbsp; ]</span></pre></div><div style="position: relative;"><div class="CodeMirror-gutter-wrapper" style="left: -50px;"><div class="CodeMirror-linenumber CodeMirror-gutter-elt" style="left: 0px; width: 37px;">27</div></div><pre class=" CodeMirror-line "><span style="padding-right: 0.1px;">  },</span></pre></div><div style="position: relative;"><div class="CodeMirror-gutter-wrapper" style="left: -50px;"><div class="CodeMirror-linenumber CodeMirror-gutter-elt" style="left: 0px; width: 37px;">28</div></div><pre class=" CodeMirror-line "><span style="padding-right: 0.1px;">  {</span></pre></div><div style="position: relative;"><div class="CodeMirror-gutter-wrapper" style="left: -50px;"><div class="CodeMirror-linenumber CodeMirror-gutter-elt" style="left: 0px; width: 37px;">29</div></div><pre class=" CodeMirror-line "><span style="padding-right: 0.1px;"> &nbsp; "cell_type": "code",</span></pre></div><div style="position: relative;"><div class="CodeMirror-gutter-wrapper" style="left: -50px;"><div class="CodeMirror-linenumber CodeMirror-gutter-elt" style="left: 0px; width: 37px;">30</div></div><pre class=" CodeMirror-line "><span style="padding-right: 0.1px;"> &nbsp; "execution_count": 2,</span></pre></div><div style="position: relative;"><div class="CodeMirror-gutter-wrapper" style="left: -50px;"><div class="CodeMirror-linenumber CodeMirror-gutter-elt" style="left: 0px; width: 37px;">31</div></div><pre class=" CodeMirror-line "><span style="padding-right: 0.1px;"> &nbsp; "metadata": {</span></pre></div><div style="position: relative;"><div class="CodeMirror-gutter-wrapper" style="left: -50px;"><div class="CodeMirror-linenumber CodeMirror-gutter-elt" style="left: 0px; width: 37px;">32</div></div><pre class=" CodeMirror-line "><span style="padding-right: 0.1px;"> &nbsp;  "collapsed": true</span></pre></div><div style="position: relative;"><div class="CodeMirror-gutter-wrapper" style="left: -50px;"><div class="CodeMirror-linenumber CodeMirror-gutter-elt" style="left: 0px; width: 37px;">33</div></div><pre class=" CodeMirror-line "><span style="padding-right: 0.1px;"> &nbsp; },</span></pre></div><div style="position: relative;"><div class="CodeMirror-gutter-wrapper" style="left: -50px;"><div class="CodeMirror-linenumber CodeMirror-gutter-elt" style="left: 0px; width: 37px;">34</div></div><pre class=" CodeMirror-line "><span style="padding-right: 0.1px;"> &nbsp; "outputs": [],</span></pre></div><div style="position: relative;"><div class="CodeMirror-gutter-wrapper" style="left: -50px;"><div class="CodeMirror-linenumber CodeMirror-gutter-elt" style="left: 0px; width: 37px;">35</div></div><pre class=" CodeMirror-line "><span style="padding-right: 0.1px;"> &nbsp; "source": [</span></pre></div><div style="position: relative;"><div class="CodeMirror-gutter-wrapper" style="left: -50px;"><div class="CodeMirror-linenumber CodeMirror-gutter-elt" style="left: 0px; width: 37px;">36</div></div><pre class=" CodeMirror-line "><span style="padding-right: 0.1px;"> &nbsp;  "from pyspark.sql.functions import *"</span></pre></div><div style="position: relative;"><div class="CodeMirror-gutter-wrapper" style="left: -50px;"><div class="CodeMirror-linenumber CodeMirror-gutter-elt" style="left: 0px; width: 37px;">37</div></div><pre class=" CodeMirror-line "><span style="padding-right: 0.1px;"> &nbsp; ]</span></pre></div><div style="position: relative;"><div class="CodeMirror-gutter-wrapper" style="left: -50px;"><div class="CodeMirror-linenumber CodeMirror-gutter-elt" style="left: 0px; width: 37px;">38</div></div><pre class=" CodeMirror-line "><span style="padding-right: 0.1px;">  },</span></pre></div><div style="position: relative;"><div class="CodeMirror-gutter-wrapper" style="left: -50px;"><div class="CodeMirror-linenumber CodeMirror-gutter-elt" style="left: 0px; width: 37px;">39</div></div><pre class=" CodeMirror-line "><span style="padding-right: 0.1px;">  {</span></pre></div><div style="position: relative;"><div class="CodeMirror-gutter-wrapper" style="left: -50px;"><div class="CodeMirror-linenumber CodeMirror-gutter-elt" style="left: 0px; width: 37px;">40</div></div><pre class=" CodeMirror-line "><span style="padding-right: 0.1px;"> &nbsp; "cell_type": "markdown",</span></pre></div><div style="position: relative;"><div class="CodeMirror-gutter-wrapper" style="left: -50px;"><div class="CodeMirror-linenumber CodeMirror-gutter-elt" style="left: 0px; width: 37px;">41</div></div><pre class=" CodeMirror-line "><span style="padding-right: 0.1px;"> &nbsp; "metadata": {},</span></pre></div><div style="position: relative;"><div class="CodeMirror-gutter-wrapper" style="left: -50px;"><div class="CodeMirror-linenumber CodeMirror-gutter-elt" style="left: 0px; width: 37px;">42</div></div><pre class=" CodeMirror-line "><span style="padding-right: 0.1px;"> &nbsp; "source": [</span></pre></div><div style="position: relative;"><div class="CodeMirror-gutter-wrapper" style="left: -50px;"><div class="CodeMirror-linenumber CodeMirror-gutter-elt" style="left: 0px; width: 37px;">43</div></div><pre class=" CodeMirror-line "><span style="padding-right: 0.1px;"> &nbsp;  " #### Creating the data on a brand cross category level"</span></pre></div><div style="position: relative;"><div class="CodeMirror-gutter-wrapper" style="left: -50px;"><div class="CodeMirror-linenumber CodeMirror-gutter-elt" style="left: 0px; width: 37px;">44</div></div><pre class=" CodeMirror-line "><span style="padding-right: 0.1px;"> &nbsp; ]</span></pre></div><div style="position: relative;"><div class="CodeMirror-gutter-wrapper" style="left: -50px;"><div class="CodeMirror-linenumber CodeMirror-gutter-elt" style="left: 0px; width: 37px;">45</div></div><pre class=" CodeMirror-line "><span style="padding-right: 0.1px;">  },</span></pre></div><div style="position: relative;"><div class="CodeMirror-gutter-wrapper" style="left: -50px;"><div class="CodeMirror-linenumber CodeMirror-gutter-elt" style="left: 0px; width: 37px;">46</div></div><pre class=" CodeMirror-line "><span style="padding-right: 0.1px;">  {</span></pre></div><div style="position: relative;"><div class="CodeMirror-gutter-wrapper" style="left: -50px;"><div class="CodeMirror-linenumber CodeMirror-gutter-elt" style="left: 0px; width: 37px;">47</div></div><pre class=" CodeMirror-line "><span style="padding-right: 0.1px;"> &nbsp; "cell_type": "code",</span></pre></div></div></div></div></div></div><div style="position: absolute; height: 30px; width: 1px; top: 22272px;"></div><div class="CodeMirror-gutters" style="height: 22302px; left: 0px;"><div class="CodeMirror-gutter CodeMirror-linenumbers" style="width: 49px;"></div></div></div></div></div>
                  <div id="tooltip" class="ipython_tooltip" style="display:none"></div>
                </div>
              </div>
            </div>
          </div>
        </div>
      </div>
    </div>
    </div>
  </div>
  <script src="./Luxury_Indicator.ipynb_files/promise.min.js"></script>
  <script src="./Luxury_Indicator.ipynb_files/require.js"></script>
  <script>
    require.config({
      baseUrl: '/static/',
      shim: {
        jqueryui: {
          deps: ["jquery"],
          exports: "$"
        }
      }
    });
    require.config({
       map: {
         '*': {
           'contents': 'services/contents',
         }
       }
    });
    window.datalab = {};

    $("#appBar").load("/static/appbar.html", function() {
      require(['edit/js/main.min']);
    });
  </script>
  <script src="./Luxury_Indicator.ipynb_files/api.js" async="true" defer="true"></script>


</body></html>
