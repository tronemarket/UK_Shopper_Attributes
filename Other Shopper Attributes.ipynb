{
 "cells": [
  {
   "cell_type": "markdown",
   "metadata": {},
   "source": [
    "# UK Yocuda Shopper Attributes"
   ]
  },
  {
   "cell_type": "markdown",
   "metadata": {},
   "source": [
    "#### Importing Yocuda data from GCS"
   ]
  },
  {
   "cell_type": "code",
   "execution_count": 1,
   "metadata": {
    "collapsed": false
   },
   "outputs": [],
   "source": [
    "data = (spark.read.format(\"csv\").option(\"header\", \"true\").option(\"inferSchema\", \"true\").load(\"gs://ds-mlengine/praneeth/2017_Yocuda_Dummy_Data_V01_20180129.csv\"))"
   ]
  },
  {
   "cell_type": "code",
   "execution_count": 2,
   "metadata": {
    "collapsed": true
   },
   "outputs": [],
   "source": [
    "from pyspark.sql.functions import *"
   ]
  },
  {
   "cell_type": "markdown",
   "metadata": {},
   "source": [
    "#### Recency"
   ]
  },
  {
   "cell_type": "code",
   "execution_count": 22,
   "metadata": {
    "collapsed": false
   },
   "outputs": [
    {
     "name": "stdout",
     "output_type": "stream",
     "text": [
      "+----------+------+------+--------------------+--------------------+-------+\n",
      "|identifier|  cat1|  cat2|   timestamp_mx_data|   timestamp_mx_user|recency|\n",
      "+----------+------+------+--------------------+--------------------+-------+\n",
      "| xsa@c.com|Media | Books|2017-10-26 15:16:...|2017-07-05 13:40:...|    113|\n",
      "| inn@e.com|Media | Books|2017-10-26 15:16:...|2017-08-22 00:28:...|     65|\n",
      "| amd@c.com|Media | Books|2017-10-26 15:16:...|2017-09-05 02:55:...|     51|\n",
      "| uls@a.com|Media | Books|2017-10-26 15:16:...|2017-07-13 20:43:...|    105|\n",
      "| ioq@a.com|Media | Books|2017-10-26 15:16:...|2017-01-29 14:27:...|    270|\n",
      "+----------+------+------+--------------------+--------------------+-------+\n",
      "only showing top 5 rows\n",
      "\n"
     ]
    }
   ],
   "source": [
    "data.registerTempTable(\"data\")\n",
    "df1 =data.selectExpr(\"identifier\",\"cat1\",\"cat2\",\"timestamp\", \"1 as ind\",\"item_total\",\"transaction_id\",\"brandName as brand\",\"item_quantity\")  \\\n",
    "    .filter((to_date(col(\"timestamp\"))>'2016-11-30') & \\\n",
    "                  (to_date(col(\"timestamp\"))<'2017-12-01') & \\\n",
    "                  (col(\"identifier\").isNotNull()) & \\\n",
    "                  (col(\"item_total\")>0))  \\\n",
    "\n",
    "df2 =data.selectExpr(\"cat1\",\"cat2\",\"timestamp \", \"1 as ind\").filter((to_date(col(\"timestamp\"))>'2016-11-30') & \\\n",
    "                  (to_date(col(\"timestamp\"))<'2017-12-01') & \\\n",
    "                  (col(\"identifier\").isNotNull()) & \\\n",
    "                  (col(\"item_total\")>0))\\\n",
    ".groupBy(col(\"cat1\"),col(\"cat2\"),col(\"ind\")).agg(max(\"timestamp\").alias(\"timestamp_mx_data\"))\n",
    "\n",
    "df3 = df1.join(df2,[\"cat1\",\"cat2\",\"ind\"],\"left\")\n",
    "\n",
    "df4 =data.selectExpr(\"identifier\",\"cat1\",\"cat2\",\"timestamp\").filter((to_date(col(\"timestamp\"))>'2016-11-30') & \\\n",
    "                  (to_date(col(\"timestamp\"))<'2017-12-01') & \\\n",
    "                  (col(\"identifier\").isNotNull()) & \\\n",
    "                  (col(\"item_total\")>0))\\\n",
    ".groupBy(\"identifier\",\"cat1\",\"cat2\").agg(max(\"timestamp\").alias(\"timestamp_mx_user\"))\n",
    "\n",
    "df5 = df3.join(df4,[\"identifier\",\"cat1\",\"cat2\"],\"left\")\n",
    "\n",
    "df6 = df5.selectExpr(\"identifier\",\"cat1\",\"cat2\",\"timestamp_mx_data\",\"timestamp_mx_user\") \\\n",
    "         .withColumn('recency',datediff('timestamp_mx_data','timestamp_mx_user'))\n",
    "\n",
    "df6.show(5)"
   ]
  },
  {
   "cell_type": "markdown",
   "metadata": {},
   "source": [
    "#### Calculating metrics"
   ]
  },
  {
   "cell_type": "code",
   "execution_count": 16,
   "metadata": {
    "collapsed": false
   },
   "outputs": [
    {
     "name": "stdout",
     "output_type": "stream",
     "text": [
      "+----------+--------------------+--------------------+-----------+\n",
      "|identifier|                cat1|                cat2|total_spend|\n",
      "+----------+--------------------+--------------------+-----------+\n",
      "| ilu@c.com|          Furniture |     Kids Furniture |       7.05|\n",
      "| ajg@c.com|       Toys & Games |            Hobbies |        9.0|\n",
      "| zjs@e.com|          Furniture | Kitchen & Dining...|      36.45|\n",
      "| cok@b.com|     Home & Kitchen |   Small Appliances |       22.0|\n",
      "| xdu@a.com|Arts, Crafts & Se...|     Craft Supplies |       18.0|\n",
      "+----------+--------------------+--------------------+-----------+\n",
      "only showing top 5 rows\n",
      "\n",
      "+----------+--------------------+----------------+---------+\n",
      "|identifier|                cat1|            cat2|frequency|\n",
      "+----------+--------------------+----------------+---------+\n",
      "| gsc@e.com|            Jewelry |          Women |        1|\n",
      "| gem@a.com|Patio, Lawn & Gar...|   Farm & Ranch |        1|\n",
      "| eck@d.com|     Home & Kitchen |     Home D̩cor |        1|\n",
      "| ijn@d.com|Patio, Lawn & Gar...|   Farm & Ranch |        1|\n",
      "| fne@a.com|       Toys & Games | Party Supplies |        1|\n",
      "+----------+--------------------+----------------+---------+\n",
      "only showing top 5 rows\n",
      "\n"
     ]
    }
   ],
   "source": [
    "total_spend = df5.selectExpr(\"identifier\",\"cat1\",\"cat2\", \"item_total\")\\\n",
    ".groupBy(col(\"identifier\"),col(\"cat1\"),col(\"cat2\")).agg(sum(\"item_total\").alias(\"total_spend\"))\n",
    "\n",
    "frequency = df5.selectExpr(\"identifier\",\"cat1\",\"cat2\", \"transaction_id\",\"timestamp\")\\\n",
    ".groupBy(col(\"identifier\"),col(\"cat1\"),col(\"cat2\")).agg(countDistinct(to_date(\"timestamp\")).alias(\"frequency\"))\n",
    "\n",
    "total_spend.show(5)\n",
    "frequency.show(5)"
   ]
  },
  {
   "cell_type": "markdown",
   "metadata": {},
   "source": [
    "#### Combining data"
   ]
  },
  {
   "cell_type": "code",
   "execution_count": 19,
   "metadata": {
    "collapsed": false
   },
   "outputs": [
    {
     "name": "stdout",
     "output_type": "stream",
     "text": [
      "+----------+--------------------+-------------+-----------+---------+\n",
      "|identifier|                cat1|         cat2|total_spend|frequency|\n",
      "+----------+--------------------+-------------+-----------+---------+\n",
      "|      null|Health & Personal...| Bath & Body |       null|     null|\n",
      "| ajg@c.com|       Toys & Games |     Hobbies |        9.0|        1|\n",
      "| als@b.com|  Sports & Outdoors |     Cycling |       25.0|        1|\n",
      "| anx@f.com|     Home & Kitchen |  Home D̩cor |        2.0|        1|\n",
      "| awv@e.com|Health & Personal...| Health Care |       24.0|        1|\n",
      "+----------+--------------------+-------------+-----------+---------+\n",
      "only showing top 5 rows\n",
      "\n"
     ]
    }
   ],
   "source": [
    "overall = data.filter((to_date(col(\"timestamp\"))>'2016-11-30') & (to_date(col(\"timestamp\"))<'2017-12-01')).select(\"identifier\",\"cat1\",\"cat2\").distinct()\n",
    "\n",
    "combined = overall.join(total_spend,[\"identifier\",\"cat1\",\"cat2\"],\"left\") \\\n",
    "                        .join(frequency,[\"identifier\",\"cat1\",\"cat2\"],\"left\") \n",
    "  \n",
    "final_combined = combined.selectExpr(\"identifier\",\"cat1\",\"cat2\",\"total_spend\",\"frequency\") \n",
    "                         \n",
    "final_combined.show(5)"
   ]
  },
  {
   "cell_type": "markdown",
   "metadata": {},
   "source": [
    "#### Percentile bins - Spend & Frequency Decile Buckets"
   ]
  },
  {
   "cell_type": "code",
   "execution_count": 20,
   "metadata": {
    "collapsed": false
   },
   "outputs": [
    {
     "name": "stdout",
     "output_type": "stream",
     "text": [
      "+--------------------+-------------+----------+-----------+---------+-----+---------+\n",
      "|                cat1|         cat2|identifier|total_spend|frequency|count|spend_bin|\n",
      "+--------------------+-------------+----------+-----------+---------+-----+---------+\n",
      "|Health & Personal...| Bath & Body | mqm@e.com|      554.5|       10|   63|       10|\n",
      "|Health & Personal...| Bath & Body | ndh@f.com|      118.0|       10|   63|       10|\n",
      "|Health & Personal...| Bath & Body | fgd@c.com|     109.98|       10|   63|       10|\n",
      "|Health & Personal...| Bath & Body | qel@a.com|     109.95|       10|   63|       10|\n",
      "|Health & Personal...| Bath & Body | rzg@c.com|     101.97|       10|   63|       10|\n",
      "+--------------------+-------------+----------+-----------+---------+-----+---------+\n",
      "only showing top 5 rows\n",
      "\n"
     ]
    }
   ],
   "source": [
    "from pyspark.sql.window import Window\n",
    "xx1=final_combined.groupBy(\"cat1\",\"cat2\") \\\n",
    "             .agg(count(\"*\").alias(\"count\"))  \n",
    "\n",
    "xx=final_combined.join(xx1,[\"cat1\",\"cat2\"],\"left\")\\\n",
    "                 .withColumn(\"spend_bin\", 11-ceil(10*((row_number().over(Window.partitionBy(\"cat1\",\"cat2\")\\\n",
    "                                                                   .orderBy(desc(\"total_spend\"))))/col('count')))) \\\n",
    "                 .withColumn(\"frequency\", 11-ceil(10*((row_number().over(Window.partitionBy(\"cat1\",\"cat2\")\\\n",
    "                                                                   .orderBy(desc(\"frequency\"))))/col('count')))) \n",
    "                 \n",
    "xx.show(5)"
   ]
  },
  {
   "cell_type": "markdown",
   "metadata": {},
   "source": [
    "#### Top preferred brand"
   ]
  },
  {
   "cell_type": "code",
   "execution_count": 43,
   "metadata": {
    "collapsed": false
   },
   "outputs": [
    {
     "name": "stdout",
     "output_type": "stream",
     "text": [
      "+----------+--------------------+--------------------+-----------+-------------------+\n",
      "|identifier|                cat1|                cat2|total_spend|top_preferred_brand|\n",
      "+----------+--------------------+--------------------+-----------+-------------------+\n",
      "| ajg@c.com|       Toys & Games |            Hobbies |        9.0|                 GS|\n",
      "| als@b.com|  Sports & Outdoors |            Cycling |       25.0|                 IZ|\n",
      "| anx@f.com|     Home & Kitchen |         Home D̩cor |        2.0|                 PX|\n",
      "| awv@e.com|Health & Personal...|        Health Care |       24.0|                 OZ|\n",
      "| ayt@a.com|        Electronics | Cell Phones & Ac...|       27.0|                 LZ|\n",
      "+----------+--------------------+--------------------+-----------+-------------------+\n",
      "only showing top 5 rows\n",
      "\n"
     ]
    }
   ],
   "source": [
    "total_spend_by_brand = df5.selectExpr(\"identifier\",\"cat1\",\"cat2\",\"brand\", \"item_total\")\\\n",
    ".groupBy(col(\"identifier\"),col(\"cat1\"),col(\"cat2\"),col(\"brand\")).agg(sum(\"item_total\").alias(\"total_spend\")).orderBy(\"identifier\",\"brand\")\n",
    "\n",
    "row_num = total_spend_by_brand.withColumn(\"rownum\",row_number().over(Window.partitionBy(\"identifier\",\"cat1\",\"cat2\")\\\n",
    "                                                                   .orderBy(desc(\"total_spend\"))))\n",
    "top_preferred_brand = row_num.filter(col(\"rownum\")==1).selectExpr(\"identifier\",\"cat1\",\"cat2\",\"total_spend\",\n",
    "                                                                  \"brand as top_preferred_brand\")\n",
    "top_preferred_brand.show(5)"
   ]
  },
  {
   "cell_type": "markdown",
   "metadata": {},
   "source": [
    "#### Category source of volume - Sub category level spend"
   ]
  },
  {
   "cell_type": "code",
   "execution_count": 44,
   "metadata": {
    "collapsed": false
   },
   "outputs": [
    {
     "name": "stdout",
     "output_type": "stream",
     "text": [
      "+----------+--------------------+--------------------+-----------+\n",
      "|identifier|                cat1|                cat2|total_spend|\n",
      "+----------+--------------------+--------------------+-----------+\n",
      "| ilu@c.com|          Furniture |     Kids Furniture |       7.05|\n",
      "| ajg@c.com|       Toys & Games |            Hobbies |        9.0|\n",
      "| zjs@e.com|          Furniture | Kitchen & Dining...|      36.45|\n",
      "| cok@b.com|     Home & Kitchen |   Small Appliances |       22.0|\n",
      "| xdu@a.com|Arts, Crafts & Se...|     Craft Supplies |       18.0|\n",
      "+----------+--------------------+--------------------+-----------+\n",
      "only showing top 5 rows\n",
      "\n"
     ]
    }
   ],
   "source": [
    "total_spend = df5.selectExpr(\"identifier\",\"cat1\",\"cat2\", \"item_total\")\\\n",
    ".groupBy(col(\"identifier\"),col(\"cat1\"),col(\"cat2\")).agg(sum(\"item_total\").alias(\"total_spend\"))\n",
    "\n",
    "total_spend.show(5)"
   ]
  },
  {
   "cell_type": "markdown",
   "metadata": {},
   "source": [
    "#### Shopper - day of week spend"
   ]
  },
  {
   "cell_type": "code",
   "execution_count": 80,
   "metadata": {
    "codeCollapsed": false,
    "collapsed": false
   },
   "outputs": [
    {
     "name": "stdout",
     "output_type": "stream",
     "text": [
      "+----------+------+-----------------+\n",
      "|identifier| spend|top_preferred_day|\n",
      "+----------+------+-----------------+\n",
      "| aco@a.com|  12.0|              Wed|\n",
      "| acp@c.com|  9.99|              Thu|\n",
      "| afl@d.com|  47.0|              Sun|\n",
      "| auw@f.com|105.99|              Mon|\n",
      "| bsh@c.com| 11.99|              Sun|\n",
      "+----------+------+-----------------+\n",
      "only showing top 5 rows\n",
      "\n"
     ]
    }
   ],
   "source": [
    "xx=df5.selectExpr(\"identifier\",\"to_date(timestamp) as date\",\"item_total\")\\\n",
    ".groupBy(\"identifier\",\"date\").agg(sum(\"item_total\").alias(\"spend\"))\n",
    "yy=xx.withColumn(\"Day_of_week\",date_format(\"date\",\"E\")).groupBy(\"identifier\",\"Day_of_week\").agg(sum(\"spend\").alias(\"spend\"))\n",
    "abc=yy.withColumn(\"rownum\",row_number().over(Window.partitionBy(\"identifier\",\"Day_of_week\")\\\n",
    "                                                                   .orderBy(desc(\"spend\"))))\n",
    "top_preferred_day = abc.filter(col(\"rownum\")==1).selectExpr(\"identifier\",\"spend\",\n",
    "                                                                  \"Day_of_week as top_preferred_day\")\n",
    "top_preferred_day.show(5)"
   ]
  },
  {
   "cell_type": "markdown",
   "metadata": {},
   "source": [
    "#### Time of day - Shopper spends"
   ]
  },
  {
   "cell_type": "code",
   "execution_count": 79,
   "metadata": {
    "collapsed": false
   },
   "outputs": [
    {
     "name": "stdout",
     "output_type": "stream",
     "text": [
      "+----------+-----------------+-------------------------+\n",
      "|identifier|            spend|top_preferred_hour_bucket|\n",
      "+----------+-----------------+-------------------------+\n",
      "| are@e.com|             33.0|              12 noon-4PM|\n",
      "| aru@e.com|86.99000000000001|                 5PM-10PM|\n",
      "| bak@f.com|           153.99|              12 noon-4PM|\n",
      "| cia@a.com|             50.5|                     null|\n",
      "| dcy@a.com|            30.45|                     null|\n",
      "+----------+-----------------+-------------------------+\n",
      "only showing top 5 rows\n",
      "\n"
     ]
    }
   ],
   "source": [
    "xx=df5.selectExpr(\"identifier\",\"timestamp\",\"item_total\").withColumn(\"Timestamp\",to_timestamp(\"timestamp\", 'yyyy-MM-dd HH:mm:ss'))\\\n",
    ".groupBy(\"identifier\",\"Timestamp\").agg(sum(\"item_total\").alias(\"spend\"))\n",
    "\n",
    "yy=xx.withColumn(\"Hour_of_day\",hour(\"Timestamp\")).groupBy(\"identifier\",\"Hour_of_day\").agg(sum(\"spend\").alias(\"spend\"))\n",
    "\n",
    "zz=yy.withColumn(\"Hour_bucket\", when(((col(\"Hour_of_day\")>=8) & (col(\"Hour_of_day\")<12)),\"8AM-12 noon\")\\\n",
    "                                .when(((col(\"Hour_of_day\")>=12) & (col(\"Hour_of_day\")<17)),\"12 noon-4PM\")\\\n",
    "                                .when(((col(\"Hour_of_day\")>=17) & (col(\"Hour_of_day\")<22)),\"5PM-10PM\"))\\\n",
    ".groupBy(\"identifier\",\"Hour_bucket\").agg(sum(\"spend\").alias(\"spend\"))\n",
    "abc=zz.withColumn(\"rownum\",row_number().over(Window.partitionBy(\"identifier\",\"Hour_bucket\")\\\n",
    "                                                                   .orderBy(desc(\"spend\"))))\n",
    "top_preferred_hour_bucket = abc.filter(col(\"rownum\")==1).selectExpr(\"identifier\",\"spend\",\n",
    "                                                                  \"Hour_bucket as top_preferred_hour_bucket\")\n",
    "top_preferred_hour_bucket.show(5)"
   ]
  }
 ],
 "metadata": {
  "kernelspec": {
   "display_name": "Python 2",
   "language": "python",
   "name": "python2"
  },
  "language_info": {
   "codemirror_mode": {
    "name": "ipython",
    "version": 2
   },
   "file_extension": ".py",
   "mimetype": "text/x-python",
   "name": "python",
   "nbconvert_exporter": "python",
   "pygments_lexer": "ipython2",
   "version": "2.7.12"
  }
 },
 "nbformat": 4,
 "nbformat_minor": 2
}
