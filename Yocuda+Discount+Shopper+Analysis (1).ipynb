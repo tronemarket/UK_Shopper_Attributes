{
 "cells": [
  {
   "cell_type": "markdown",
   "metadata": {},
   "source": [
    "# Yocuda Discount Shopper Analysis"
   ]
  },
  {
   "cell_type": "markdown",
   "metadata": {},
   "source": [
    "#### Importing youcuda data from GCS"
   ]
  },
  {
   "cell_type": "code",
   "execution_count": 3,
   "metadata": {
    "collapsed": true
   },
   "outputs": [],
   "source": [
    "data = (spark.read.format(\"csv\").option(\"header\", \"true\").option(\"inferSchema\", \"true\").load(\"gs://ds-mlengine/praneeth/2017_Yocuda_Dummy_Data_V01_20180129.csv\"))"
   ]
  },
  {
   "cell_type": "code",
   "execution_count": 4,
   "metadata": {
    "collapsed": true
   },
   "outputs": [],
   "source": [
    "from pyspark.sql.functions import *"
   ]
  },
  {
   "cell_type": "markdown",
   "metadata": {},
   "source": [
    "#### Creating base data"
   ]
  },
  {
   "cell_type": "code",
   "execution_count": 7,
   "metadata": {
    "collapsed": false
   },
   "outputs": [
    {
     "name": "stdout",
     "output_type": "stream",
     "text": [
      "+----------+-----+----------+----------+------------------+----------+----------+---------------------+--------------------+--------+--------------------+-------------+---------------+\n",
      "|identifier|brand|categoryL1|categoryL2|transaction_amount|product_id|item_total|item_discounts_amount|           timestamp|quantity|      transaction_id|item_discount|item_unit_price|\n",
      "+----------+-----+----------+----------+------------------+----------+----------+---------------------+--------------------+--------+--------------------+-------------+---------------+\n",
      "| xsa@c.com|   CG|    Media |     Books|            115.97|   5004040|       2.0|                  0.0|2017-07-05 13:40:...|       2|2017-07-05 - G123...|         -0.0|         57.985|\n",
      "| inn@e.com|   PP|    Media |     Books|            144.75|   5036515|    138.75|               -27.75|2017-08-22 00:28:...|       5|2017-08-22 - D188...|        27.75|          28.95|\n",
      "| amd@c.com|   VL|    Media |     Books|             48.45|   5035216|     28.45|                -5.69|2017-09-05 02:55:...|       1|2017-09-05 - D112...|         5.69|          48.45|\n",
      "| uls@a.com|   SR|    Media |     Books|            166.05|   5032618|      56.0|                  0.0|2017-07-13 20:43:...|       1|2017-07-13 - A101...|         -0.0|         166.05|\n",
      "| ioq@a.com|   JD|    Media |     Books|             43.99|   5014432|      10.0|                  0.0|2017-01-29 14:27:...|       1|2017-01-29 - F196...|         -0.0|          43.99|\n",
      "+----------+-----+----------+----------+------------------+----------+----------+---------------------+--------------------+--------+--------------------+-------------+---------------+\n",
      "only showing top 5 rows\n",
      "\n"
     ]
    }
   ],
   "source": [
    "data.registerTempTable(\"data\")\n",
    "base_data =data.selectExpr('identifier',\n",
    "                           'brandName as brand', \n",
    "                           'cat1 AS categoryL1',\n",
    "                           'cat2 AS categoryL2',\n",
    "                           'item_total_txn AS transaction_amount',\n",
    "                           'item_product_code as product_id', \n",
    "                           'item_total', \n",
    "                           'item_discounts_amount',\n",
    "                           'timestamp',\n",
    "                           'item_quantity as quantity', \n",
    "                           'transaction_id')  \\\n",
    "    .withColumn('item_discount', (col('item_discounts_amount')* -1) ) \\\n",
    "    .withColumn('item_unit_price', col('transaction_amount') / col('quantity')) \\\n",
    "  .filter((to_date(col(\"timestamp\"))>'2016-11-30') & \\\n",
    "                  (to_date(col(\"timestamp\"))<'2017-12-01') & \\\n",
    "                  (col(\"identifier\").isNotNull()) & \\\n",
    "                  (col(\"item_total\")>0) & \\\n",
    "                  (col(\"item_discount\")>=0)) \n",
    "base_data.show(5)"
   ]
  },
  {
   "cell_type": "code",
   "execution_count": 8,
   "metadata": {
    "collapsed": false
   },
   "outputs": [
    {
     "data": {
      "text/plain": [
       "[('identifier', 'string'),\n",
       " ('brand', 'string'),\n",
       " ('categoryL1', 'string'),\n",
       " ('categoryL2', 'string'),\n",
       " ('transaction_amount', 'double'),\n",
       " ('product_id', 'int'),\n",
       " ('item_total', 'double'),\n",
       " ('item_discounts_amount', 'double'),\n",
       " ('timestamp', 'string'),\n",
       " ('quantity', 'int'),\n",
       " ('transaction_id', 'string'),\n",
       " ('item_discount', 'double'),\n",
       " ('item_unit_price', 'double')]"
      ]
     },
     "execution_count": 8,
     "metadata": {},
     "output_type": "execute_result"
    }
   ],
   "source": [
    "base_data.dtypes"
   ]
  },
  {
   "cell_type": "markdown",
   "metadata": {},
   "source": [
    "#### Calculating general discount metrics on user cross category L1/L2 level"
   ]
  },
  {
   "cell_type": "code",
   "execution_count": 10,
   "metadata": {
    "collapsed": false
   },
   "outputs": [
    {
     "name": "stdout",
     "output_type": "stream",
     "text": [
      "+----------+--------------------+--------------------+-----------+--------------+------------------------+----------+--------------+-----------------+-----------------------+-------------------------+\n",
      "|identifier|          categoryL1|          categoryL2|total_spend|total_discount|total_transaction_amount|total_txns|total_products|discount_products|percent_discount_amount|percent_discount_products|\n",
      "+----------+--------------------+--------------------+-----------+--------------+------------------------+----------+--------------+-----------------+-----------------------+-------------------------+\n",
      "| nsb@d.com|     Home & Kitchen | Kitchen & Table ...|      33.99|           0.0|                  209.28|         1|             1|             null|                    0.0|                     null|\n",
      "| tzu@f.com|Computers & Acces...| Touch Screen Tab...|      10.45|         3.135|                    95.7|         1|             1|                1|                    0.3|                      1.0|\n",
      "| ded@e.com|     Home & Kitchen | Storage & Organi...|      54.05|         10.81|                    5.05|         1|             1|                1|                    0.2|                      1.0|\n",
      "| rpr@f.com|Tools & Home Impr...| Lighting & Ceili...|       37.0|           0.0|                    37.0|         1|             1|             null|                    0.0|                     null|\n",
      "| dup@a.com|     Home & Kitchen |   Small Appliances |      24.99|           0.0|                   24.99|         1|             1|             null|                    0.0|                     null|\n",
      "+----------+--------------------+--------------------+-----------+--------------+------------------------+----------+--------------+-----------------+-----------------------+-------------------------+\n",
      "only showing top 5 rows\n",
      "\n"
     ]
    }
   ],
   "source": [
    "df1=base_data.groupBy(\"identifier\",\"categoryL1\",\"categoryL2\").agg(sum(\"item_total\").alias(\"total_spend\"),\n",
    "                                                sum(\"item_discount\").alias(\"total_discount\"),\n",
    "                                                sum(\"transaction_amount\").alias(\"total_transaction_amount\"),\n",
    "                                                countDistinct(concat(\"transaction_id\",to_date(col(\"timestamp\")))).alias(\"total_txns\"),\n",
    "                                                sum(\"quantity\").alias(\"total_products\"))\n",
    "\n",
    "df2=base_data.filter(col(\"item_discount\")>0) \\\n",
    "             .groupBy(\"identifier\",\"categoryL1\",\"categoryL2\") \\\n",
    "             .agg(sum(\"quantity\").alias(\"discount_products\"))                                                     \n",
    "\n",
    "df=df1.join(df2,[\"identifier\",\"categoryL1\",\"categoryL2\"],\"left\")\\\n",
    "      .withColumn(\"percent_discount_amount\",col(\"total_discount\")/col(\"total_spend\"))\\\n",
    "      .withColumn(\"percent_discount_products\",col(\"discount_products\")/col(\"total_products\"))\n",
    "df.show(5)"
   ]
  },
  {
   "cell_type": "markdown",
   "metadata": {},
   "source": [
    "#### Assigning percentile ranks for percent_discount_amount & percent_discount_products"
   ]
  },
  {
   "cell_type": "code",
   "execution_count": 11,
   "metadata": {
    "collapsed": false
   },
   "outputs": [
    {
     "name": "stdout",
     "output_type": "stream",
     "text": [
      "+----------+--------------------+-------------+-----------+--------------+------------------------+----------+--------------+-----------------+-----------------------+-------------------------+-----------------+-------------------+\n",
      "|identifier|          categoryL1|   categoryL2|total_spend|total_discount|total_transaction_amount|total_txns|total_products|discount_products|percent_discount_amount|percent_discount_products|percentile_amount|percentile_products|\n",
      "+----------+--------------------+-------------+-----------+--------------+------------------------+----------+--------------+-----------------+-----------------------+-------------------------+-----------------+-------------------+\n",
      "| zba@a.com|Health & Personal...| Bath & Body |      15.98|           0.0|                   15.98|         1|             2|             null|                    0.0|                     null|              0.0|                0.0|\n",
      "| bzn@f.com|Health & Personal...| Bath & Body |      44.99|           0.0|                   44.99|         1|             1|             null|                    0.0|                     null|              0.0|                0.0|\n",
      "| bbn@a.com|Health & Personal...| Bath & Body |        3.0|           0.0|                    14.0|         1|             3|             null|                    0.0|                     null|              0.0|                0.0|\n",
      "| upo@c.com|Health & Personal...| Bath & Body |       23.0|           0.0|                  104.99|         1|             1|             null|                    0.0|                     null|              0.0|                0.0|\n",
      "| vjq@b.com|Health & Personal...| Bath & Body |       33.0|           0.0|                    33.0|         1|             1|             null|                    0.0|                     null|              0.0|                0.0|\n",
      "+----------+--------------------+-------------+-----------+--------------+------------------------+----------+--------------+-----------------+-----------------------+-------------------------+-----------------+-------------------+\n",
      "only showing top 5 rows\n",
      "\n"
     ]
    }
   ],
   "source": [
    "from pyspark.sql.window import Window\n",
    "percentile_df = df.withColumn(\"percentile_amount\", percent_rank().over(Window.partitionBy(\"categoryL1\",\"categoryL2\") \\\n",
    "                                                                       .orderBy('percent_discount_amount'))) \\\n",
    "                  .withColumn(\"percentile_products\", percent_rank().over(Window.partitionBy(\"categoryL1\",\"categoryL2\") \\\n",
    "                                                                       .orderBy('percent_discount_products'))) \n",
    "percentile_df.show(5)"
   ]
  },
  {
   "cell_type": "markdown",
   "metadata": {},
   "source": [
    "#### Generating quantile buckets by usinf overall_rank(calculated using score)"
   ]
  },
  {
   "cell_type": "code",
   "execution_count": 12,
   "metadata": {
    "collapsed": false
   },
   "outputs": [
    {
     "name": "stdout",
     "output_type": "stream",
     "text": [
      "+----------+--------------------+-------------+-----------+--------------+------------------------+----------+--------------+-----------------+-----------------------+-------------------------+-----------------+-------------------+-----+------------+----------------+\n",
      "|identifier|          categoryL1|   categoryL2|total_spend|total_discount|total_transaction_amount|total_txns|total_products|discount_products|percent_discount_amount|percent_discount_products|percentile_amount|percentile_products|score|overall_rank|       quantiles|\n",
      "+----------+--------------------+-------------+-----------+--------------+------------------------+----------+--------------+-----------------+-----------------------+-------------------------+-----------------+-------------------+-----+------------+----------------+\n",
      "| ndh@f.com|Health & Personal...| Bath & Body |      118.0|           0.0|                   118.0|         1|             2|             null|                    0.0|                     null|              0.0|                0.0|  0.0|         0.0|First percentile|\n",
      "| owf@a.com|Health & Personal...| Bath & Body |       38.0|           0.0|                   128.5|         1|             1|             null|                    0.0|                     null|              0.0|                0.0|  0.0|         0.0|First percentile|\n",
      "| dhu@f.com|Health & Personal...| Bath & Body |      55.99|           0.0|                  164.96|         1|             1|             null|                    0.0|                     null|              0.0|                0.0|  0.0|         0.0|First percentile|\n",
      "| ule@c.com|Health & Personal...| Bath & Body |      35.98|           0.0|                   81.98|         1|             2|             null|                    0.0|                     null|              0.0|                0.0|  0.0|         0.0|First percentile|\n",
      "| wlp@f.com|Health & Personal...| Bath & Body |      45.75|           0.0|                   165.2|         1|             1|             null|                    0.0|                     null|              0.0|                0.0|  0.0|         0.0|First percentile|\n",
      "+----------+--------------------+-------------+-----------+--------------+------------------------+----------+--------------+-----------------+-----------------------+-------------------------+-----------------+-------------------+-----+------------+----------------+\n",
      "only showing top 5 rows\n",
      "\n"
     ]
    }
   ],
   "source": [
    "score=percentile_df.withColumn(\"score\",(col(\"percentile_amount\")*0.7)+(col(\"percentile_products\")*0.3))\n",
    "overall_rank = score.withColumn(\"overall_rank\", percent_rank().over(Window.partitionBy(\"categoryL1\",\"categoryL2\") \\\n",
    "                                                                       .orderBy('score'))) \n",
    "quantiles = overall_rank.withColumn('quantiles',  when(col('overall_rank') <= 0.01,\"First percentile\") \\\n",
    "                                                 .when(col('overall_rank') <= 0.02,\"Second percentile\") \\\n",
    "                                                 .when(col('overall_rank') <= 0.03,\"Third percentile\")\\\n",
    "                                                 .when(col('overall_rank') <= 0.10,\"4 to 10 percentile\") \\\n",
    "                                                 .when(col('overall_rank') <= 0.20,\"10 to 20 percentile\") \\\n",
    "                                                 .when(col('overall_rank') <= 0.40,\"20 to 40 percentile\") \\\n",
    "                                                 .when(col('overall_rank') <= 0.60,\"40 to 60 percentile\") \\\n",
    "                                                 .when(col('overall_rank') <= 0.80,\"60 to 80 percentile\") \\\n",
    "                                                 .when(col('overall_rank') <= 0.90,\"80 to 90 percentile\") \\\n",
    "                                                 .when(col('overall_rank') >= 1,\"90 to 100 percentile\") )      \n",
    "quantiles.show(5)"
   ]
  },
  {
   "cell_type": "markdown",
   "metadata": {},
   "source": [
    "#### Percentile bins"
   ]
  },
  {
   "cell_type": "code",
   "execution_count": 13,
   "metadata": {
    "collapsed": false
   },
   "outputs": [
    {
     "name": "stdout",
     "output_type": "stream",
     "text": [
      "+--------------------+-------------+----------+-----------+--------------+------------------------+----------+--------------+-----------------+-----------------------+-------------------------+------------------+-------------------+------------------+------------------+---------+-----+--------------+\n",
      "|          categoryL1|   categoryL2|identifier|total_spend|total_discount|total_transaction_amount|total_txns|total_products|discount_products|percent_discount_amount|percent_discount_products| percentile_amount|percentile_products|             score|      overall_rank|quantiles|count|percentile_bin|\n",
      "+--------------------+-------------+----------+-----------+--------------+------------------------+----------+--------------+-----------------+-----------------------+-------------------------+------------------+-------------------+------------------+------------------+---------+-----+--------------+\n",
      "|Health & Personal...| Bath & Body | dqu@a.com|       7.45|         2.235|                    9.45|         1|             1|                1|                    0.3|                      1.0|0.9122807017543859| 0.8245614035087719|0.8859649122807016|0.9122807017543859|     null|   58|            10|\n",
      "|Health & Personal...| Bath & Body | qzr@d.com|        8.5|          2.55|                     8.5|         1|             1|                1|                    0.3|                      1.0|0.9122807017543859| 0.8245614035087719|0.8859649122807016|0.9122807017543859|     null|   58|            10|\n",
      "|Health & Personal...| Bath & Body | qel@a.com|     109.95|        32.985|                  205.95|         1|             5|                5|                    0.3|                      1.0|0.9122807017543859| 0.8245614035087719|0.8859649122807016|0.9122807017543859|     null|   58|            10|\n",
      "|Health & Personal...| Bath & Body | sme@c.com|      41.75|        12.525|                   87.75|         1|             1|                1|                    0.3|                      1.0|0.9122807017543859| 0.8245614035087719|0.8859649122807016|0.9122807017543859|     null|   58|            10|\n",
      "|Health & Personal...| Bath & Body | kpg@e.com|       48.5|         14.55|                    48.5|         1|             1|                1|                    0.3|                      1.0|0.9122807017543859| 0.8245614035087719|0.8859649122807016|0.9122807017543859|     null|   58|            10|\n",
      "+--------------------+-------------+----------+-----------+--------------+------------------------+----------+--------------+-----------------+-----------------------+-------------------------+------------------+-------------------+------------------+------------------+---------+-----+--------------+\n",
      "only showing top 5 rows\n",
      "\n"
     ]
    }
   ],
   "source": [
    "xx1=quantiles.groupBy(\"categoryL1\",\"categoryL2\") \\\n",
    "             .agg(count(\"*\").alias(\"count\"))        \n",
    "  \n",
    "xx=quantiles.join(xx1,[\"categoryL1\",\"categoryL2\"],\"left\")\\\n",
    "      .withColumn(\"percentile_bin\", 11-ceil(10*((row_number().over(Window.partitionBy(\"categoryL1\",\"categoryL2\")\\\n",
    "                                                                   .orderBy(desc(\"score\"))))/col('count'))))\n",
    "xx.show(5)"
   ]
  },
  {
   "cell_type": "markdown",
   "metadata": {},
   "source": [
    "#### Stats on a category(L1,L2) cross percentile bin"
   ]
  },
  {
   "cell_type": "code",
   "execution_count": 14,
   "metadata": {
    "collapsed": false
   },
   "outputs": [
    {
     "name": "stdout",
     "output_type": "stream",
     "text": [
      "+--------------------+-------------+--------------+--------+----------+------------------+--------------+-------------------------------+----------------------+-----------------------+-------------------------+\n",
      "|          categoryL1|   categoryL2|percentile_bin|shoppers|total_txns|       total_spend|total_products|transaction_amount_pre_discount|total_discount_availed|percent_discount_amount|percent_discount_products|\n",
      "+--------------------+-------------+--------------+--------+----------+------------------+--------------+-------------------------------+----------------------+-----------------------+-------------------------+\n",
      "|Health & Personal...| Bath & Body |            10|       5|         5|             224.7|             9|                          376.7|                 67.41|                    0.3|                      1.0|\n",
      "|Health & Personal...| Bath & Body |             9|       6|         6|             713.2|            16|                         964.14|                 88.74|    0.16666666666666666|                      1.0|\n",
      "|Health & Personal...| Bath & Body |             8|       6|         6|            113.48|             9|             201.47000000000003|                   0.0|                    0.0|                     null|\n",
      "|Health & Personal...| Bath & Body |             7|       6|         6|            302.98|             8|                         433.47|                   0.0|                    0.0|                     null|\n",
      "|Health & Personal...| Bath & Body |             6|       6|         6|235.95000000000002|             7|                         434.67|                   0.0|                    0.0|                     null|\n",
      "+--------------------+-------------+--------------+--------+----------+------------------+--------------+-------------------------------+----------------------+-----------------------+-------------------------+\n",
      "only showing top 5 rows\n",
      "\n"
     ]
    }
   ],
   "source": [
    "a=xx.groupBy(\"categoryL1\",\"categoryL2\",\"percentile_bin\").agg(countDistinct(\"identifier\").alias(\"shoppers\"),\n",
    "                                                             sum(\"total_txns\").alias(\"total_txns\"),\n",
    "                                                             sum(\"total_spend\").alias(\"total_spend\"),\n",
    "                                                             sum(\"total_products\").alias(\"total_products\"),\n",
    "                                                             sum(\"total_transaction_amount\").alias(\"transaction_amount_pre_discount\"),\n",
    "                                                             sum(\"total_discount\").alias(\"total_discount_availed\"),\n",
    "                                                             avg(\"percent_discount_amount\").alias(\"percent_discount_amount\"),\n",
    "                                                             avg(\"percent_discount_products\").alias(\"percent_discount_products\"))\n",
    "a.show(5)"
   ]
  },
  {
   "cell_type": "markdown",
   "metadata": {},
   "source": [
    "#### Stats on a category(L1,L2) cross overall rank"
   ]
  },
  {
   "cell_type": "code",
   "execution_count": 15,
   "metadata": {
    "collapsed": false
   },
   "outputs": [
    {
     "name": "stdout",
     "output_type": "stream",
     "text": [
      "+--------------------+-------------+------------------+--------+----------+-----------+--------------+-------------------------------+----------------------+-----------------------+-------------------------+\n",
      "|          categoryL1|   categoryL2|      overall_rank|shoppers|total_txns|total_spend|total_products|transaction_amount_pre_discount|total_discount_availed|percent_discount_amount|percent_discount_products|\n",
      "+--------------------+-------------+------------------+--------+----------+-----------+--------------+-------------------------------+----------------------+-----------------------+-------------------------+\n",
      "|Health & Personal...| Bath & Body |               0.0|      47|        47|    1654.72|            62|              4083.119999999998|                   0.0|                    0.0|                     null|\n",
      "|Health & Personal...| Bath & Body |0.8245614035087719|       1|         1|       19.5|             2|                           19.5|                  1.95|    0.09999999999999999|                      1.0|\n",
      "|Health & Personal...| Bath & Body |0.8421052631578947|       2|         2|      568.0|            11|                         794.49|    56.800000000000004|                    0.1|                      1.0|\n",
      "|Health & Personal...| Bath & Body |0.8771929824561403|       2|         2|       77.2|             2|                         101.65|    15.440000000000001|                    0.2|                      1.0|\n",
      "|Health & Personal...| Bath & Body |0.9122807017543859|       6|         6|      273.2|            10|                          425.2|                 81.96|                    0.3|                      1.0|\n",
      "+--------------------+-------------+------------------+--------+----------+-----------+--------------+-------------------------------+----------------------+-----------------------+-------------------------+\n",
      "only showing top 5 rows\n",
      "\n"
     ]
    }
   ],
   "source": [
    "b=xx.groupBy(\"categoryL1\",\"categoryL2\",\"overall_rank\").agg(countDistinct(\"identifier\").alias(\"shoppers\"),\n",
    "                                                             sum(\"total_txns\").alias(\"total_txns\"),\n",
    "                                                             sum(\"total_spend\").alias(\"total_spend\"),\n",
    "                                                             sum(\"total_products\").alias(\"total_products\"),\n",
    "                                                             sum(\"total_transaction_amount\").alias(\"transaction_amount_pre_discount\"),\n",
    "                                                             sum(\"total_discount\").alias(\"total_discount_availed\"),\n",
    "                                                             avg(\"percent_discount_amount\").alias(\"percent_discount_amount\"),\n",
    "                                                             avg(\"percent_discount_products\").alias(\"percent_discount_products\")) \n",
    "b.show(5)"
   ]
  }
 ],
 "metadata": {
  "kernelspec": {
   "display_name": "Python 2",
   "language": "python",
   "name": "python2"
  },
  "language_info": {
   "codemirror_mode": {
    "name": "ipython",
    "version": 2
   },
   "file_extension": ".py",
   "mimetype": "text/x-python",
   "name": "python",
   "nbconvert_exporter": "python",
   "pygments_lexer": "ipython2",
   "version": "2.7.12"
  }
 },
 "nbformat": 4,
 "nbformat_minor": 2
}
